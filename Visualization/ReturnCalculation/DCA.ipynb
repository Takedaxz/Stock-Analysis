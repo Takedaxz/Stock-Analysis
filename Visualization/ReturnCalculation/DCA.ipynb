{
 "cells": [
  {
   "cell_type": "code",
   "execution_count": 10,
   "id": "c097ec08",
   "metadata": {},
   "outputs": [],
   "source": [
    "import pandas as pd\n",
    "import numpy as np\n",
    "import matplotlib.pyplot as plt\n",
    "import yfinance as yf\n",
    "from datetime import datetime, timedelta"
   ]
  },
  {
   "cell_type": "code",
   "execution_count": 64,
   "id": "c331f8ad",
   "metadata": {},
   "outputs": [],
   "source": [
    "##Parameters\n",
    "ticker1 = 'NVDA'\n",
    "ticker2 = 'GOOGL'\n",
    "ticker3 = 'AMZN'\n",
    "start_date = '2020-01-01'\n",
    "end_date = '2025-05-25'\n",
    "interval = 'monthly' # 'daily', 'weekly', 'monthly'\n",
    "invest_amount = 7.5\n",
    "initial_capital = 300"
   ]
  },
  {
   "cell_type": "code",
   "execution_count": 65,
   "id": "5369633c",
   "metadata": {},
   "outputs": [],
   "source": [
    "stock = yf.download('NVDA', start=start_date, end=end_date, multi_level_index=False, progress=False)\n",
    "stock = stock[['Close']].dropna()\n",
    "\n",
    "if interval == 'daily':\n",
    "    invest_dates = stock.index\n",
    "elif interval == 'weekly':\n",
    "    invest_dates = stock.resample('W').first().index\n",
    "elif interval == 'monthly':\n",
    "    invest_dates = stock.resample('MS').first().index\n",
    "else:\n",
    "    raise ValueError(\"Interval must be 'daily', 'weekly', or 'monthly'.\")\n",
    "\n",
    "dca_log = []\n",
    "\n",
    "total_units = 0\n",
    "total_invested = 0\n",
    "\n",
    "first_date = invest_dates[0]\n",
    "if first_date in stock.index:\n",
    "    price = stock.loc[first_date, 'Close']\n",
    "    units = initial_capital / price\n",
    "    total_units += units\n",
    "    total_invested += initial_capital\n",
    "    dca_log.append({\n",
    "        'Date': first_date,\n",
    "        'Price': price,\n",
    "        'Units Bought': units,\n",
    "        'Total Units': total_units,\n",
    "        'Total Invested': total_invested,\n",
    "        'Value': total_units * price\n",
    "    })\n",
    "    \n",
    "for date in invest_dates[1:]:\n",
    "    if date in stock.index:\n",
    "        price = stock.loc[date, 'Close']\n",
    "        units = invest_amount / price\n",
    "        total_units += units\n",
    "        total_invested += invest_amount\n",
    "        dca_log.append({\n",
    "            'Date': date,\n",
    "            'Price': price,\n",
    "            'Units Bought': units,\n",
    "            'Total Units': total_units,\n",
    "            'Total Invested': total_invested,\n",
    "            'Value': total_units * price\n",
    "        })\n"
   ]
  },
  {
   "cell_type": "code",
   "execution_count": 67,
   "id": "50f374f8",
   "metadata": {},
   "outputs": [],
   "source": [
    "def fetch_data(ticker):\n",
    "    stock = yf.download(ticker, start=start_date, end=end_date, multi_level_index=False, progress=False)\n",
    "    stock = stock[['Close']].dropna()\n",
    "\n",
    "    if interval == 'daily':\n",
    "        invest_dates = stock.index\n",
    "    elif interval == 'weekly':\n",
    "        invest_dates = stock.resample('W').first().index\n",
    "    elif interval == 'monthly':\n",
    "        invest_dates = stock.resample('MS').first().index #ME = Month End\n",
    "    else:\n",
    "        raise ValueError(\"Interval must be 'daily', 'weekly', or 'monthly'.\")\n",
    "    \n",
    "    dca_log = []\n",
    "\n",
    "    total_units = 0\n",
    "    total_invested = 0\n",
    "\n",
    "    first_date = invest_dates[0]\n",
    "    if first_date in stock.index:\n",
    "        price = stock.loc[first_date, 'Close']\n",
    "        units = initial_capital / price\n",
    "        total_units += units\n",
    "        total_invested += initial_capital\n",
    "        dca_log.append({\n",
    "            'Date': first_date,\n",
    "            'Price': price,\n",
    "            'Units Bought': units,\n",
    "            'Total Units': total_units,\n",
    "            'Total Invested': total_invested,\n",
    "            'Value': total_units * price\n",
    "        })\n",
    "\n",
    "    for date in invest_dates[1:]:\n",
    "        if date in stock.index:\n",
    "            price = stock.loc[date, 'Close']\n",
    "            units = invest_amount / price\n",
    "            total_units += units\n",
    "            total_invested += invest_amount\n",
    "            dca_log.append({\n",
    "                'Date': date,\n",
    "                'Price': price,\n",
    "                'Units Bought': units,\n",
    "                'Total Units': total_units,\n",
    "                'Total Invested': total_invested,\n",
    "                'Value': total_units * price\n",
    "            })\n",
    "\n",
    "    dca_df = pd.DataFrame(dca_log).set_index('Date')\n",
    "    final_value = dca_df['Value'].iloc[-1]\n",
    "    gain = final_value - total_invested\n",
    "    roi = (gain / total_invested) * 100\n",
    "    print(f\"Ticker : {ticker}, Final Value: ${final_value:.2f}, Total Invested: ${total_invested:.2f}, Gain: ${gain:.2f}, ROI: {roi:.2f}%\")\n",
    "    return dca_df\n"
   ]
  },
  {
   "cell_type": "code",
   "execution_count": 68,
   "id": "c5d13adf",
   "metadata": {},
   "outputs": [
    {
     "name": "stdout",
     "output_type": "stream",
     "text": [
      "Ticker : NVDA, Final Value: $1747.10, Total Invested: $322.50, Gain: $1424.60, ROI: 441.74%\n",
      "Ticker : GOOGL, Final Value: $464.69, Total Invested: $322.50, Gain: $142.19, ROI: 44.09%\n",
      "Ticker : AMZN, Final Value: $429.59, Total Invested: $322.50, Gain: $107.09, ROI: 33.21%\n"
     ]
    }
   ],
   "source": [
    "stock1=fetch_data(ticker1)\n",
    "stock2=fetch_data(ticker2)\n",
    "stock3=fetch_data(ticker3)"
   ]
  },
  {
   "cell_type": "code",
   "execution_count": 69,
   "id": "e7c882b5",
   "metadata": {},
   "outputs": [
    {
     "data": {
      "application/vnd.plotly.v1+json": {
       "config": {
        "plotlyServerURL": "https://plot.ly"
       },
       "data": [
        {
         "line": {
          "color": "blue"
         },
         "mode": "lines",
         "name": "NVDA Value",
         "type": "scatter",
         "x": [
          "2020-04-01T00:00:00",
          "2020-05-01T00:00:00",
          "2020-06-01T00:00:00",
          "2020-07-01T00:00:00",
          "2020-09-01T00:00:00",
          "2020-10-01T00:00:00",
          "2020-12-01T00:00:00",
          "2021-02-01T00:00:00",
          "2021-03-01T00:00:00",
          "2021-04-01T00:00:00",
          "2021-06-01T00:00:00",
          "2021-07-01T00:00:00",
          "2021-09-01T00:00:00",
          "2021-10-01T00:00:00",
          "2021-11-01T00:00:00",
          "2021-12-01T00:00:00",
          "2022-02-01T00:00:00",
          "2022-03-01T00:00:00",
          "2022-04-01T00:00:00",
          "2022-06-01T00:00:00",
          "2022-07-01T00:00:00",
          "2022-08-01T00:00:00",
          "2022-09-01T00:00:00",
          "2022-11-01T00:00:00",
          "2022-12-01T00:00:00",
          "2023-02-01T00:00:00",
          "2023-03-01T00:00:00",
          "2023-05-01T00:00:00",
          "2023-06-01T00:00:00",
          "2023-08-01T00:00:00",
          "2023-09-01T00:00:00",
          "2023-11-01T00:00:00",
          "2023-12-01T00:00:00",
          "2024-02-01T00:00:00",
          "2024-03-01T00:00:00",
          "2024-04-01T00:00:00",
          "2024-05-01T00:00:00",
          "2024-07-01T00:00:00",
          "2024-08-01T00:00:00",
          "2024-10-01T00:00:00",
          "2024-11-01T00:00:00",
          "2025-04-01T00:00:00",
          "2025-05-01T00:00:00"
         ],
         "y": [
          7.5,
          16.22526302881417,
          27.71129195252755,
          37.50245152595568,
          61.90468537765649,
          68.47975757774549,
          74.85055361087066,
          81.51713575802914,
          92.74134968778252,
          100.07229401324079,
          125.34353828624232,
          163.3009599727147,
          188.84190790596847,
          182.0447812105509,
          234.1738993284645,
          292.5566734846732,
          236.79887346534065,
          233.14037255317893,
          272.8110383009648,
          194.6030732674317,
          161.80230055786916,
          212.9531589036796,
          168.44182453437784,
          171.22862834176203,
          224.19887340865688,
          281.5237481251056,
          312.6150948522222,
          405.73941561070717,
          565.654753710553,
          669.0446640447036,
          705.3452226265913,
          622.9775369517688,
          695.8293905734936,
          945.378655058827,
          1241.6505001207197,
          1371.208006170568,
          1267.600736926415,
          1905.0653714369366,
          1681.2907687261022,
          1808.8719985528646,
          2100.8441964710137,
          1716.8443252760676,
          1747.1004860419505
         ]
        },
        {
         "line": {
          "color": "green"
         },
         "mode": "lines",
         "name": "GOOGL Value",
         "type": "scatter",
         "x": [
          "2020-04-01T00:00:00",
          "2020-05-01T00:00:00",
          "2020-06-01T00:00:00",
          "2020-07-01T00:00:00",
          "2020-09-01T00:00:00",
          "2020-10-01T00:00:00",
          "2020-12-01T00:00:00",
          "2021-02-01T00:00:00",
          "2021-03-01T00:00:00",
          "2021-04-01T00:00:00",
          "2021-06-01T00:00:00",
          "2021-07-01T00:00:00",
          "2021-09-01T00:00:00",
          "2021-10-01T00:00:00",
          "2021-11-01T00:00:00",
          "2021-12-01T00:00:00",
          "2022-02-01T00:00:00",
          "2022-03-01T00:00:00",
          "2022-04-01T00:00:00",
          "2022-06-01T00:00:00",
          "2022-07-01T00:00:00",
          "2022-08-01T00:00:00",
          "2022-09-01T00:00:00",
          "2022-11-01T00:00:00",
          "2022-12-01T00:00:00",
          "2023-02-01T00:00:00",
          "2023-03-01T00:00:00",
          "2023-05-01T00:00:00",
          "2023-06-01T00:00:00",
          "2023-08-01T00:00:00",
          "2023-09-01T00:00:00",
          "2023-11-01T00:00:00",
          "2023-12-01T00:00:00",
          "2024-02-01T00:00:00",
          "2024-03-01T00:00:00",
          "2024-04-01T00:00:00",
          "2024-05-01T00:00:00",
          "2024-07-01T00:00:00",
          "2024-08-01T00:00:00",
          "2024-10-01T00:00:00",
          "2024-11-01T00:00:00",
          "2025-04-01T00:00:00",
          "2025-05-01T00:00:00"
         ],
         "y": [
          7.5,
          16.464612557393174,
          25.433819139139157,
          33.06020529885491,
          45.44541033786498,
          48.35495753517809,
          65.84704176555259,
          76.93068586914661,
          91.60694336803,
          101.7679669890888,
          121.28069101046658,
          132.2293830384031,
          164.3200675642597,
          162.00662266836832,
          177.75742548679347,
          182.2280664394423,
          185.32583604052206,
          188.00229833585615,
          204.04126155347825,
          173.31223687212798,
          172.96851897527407,
          190.20755573813713,
          189.22886827721996,
          163.50087701506098,
          190.01300641285707,
          196.45939434422624,
          184.26063506547516,
          226.10045584554888,
          268.4435604267899,
          292.9328452162444,
          309.58493220156134,
          296.06708288094785,
          316.23399448776036,
          346.0377411841421,
          343.6831731190581,
          397.1695956807087,
          426.04919663155295,
          483.83477854549983,
          458.9980439156621,
          456.9600472569081,
          476.22673015924386,
          445.19581216399087,
          464.68522004301883
         ]
        },
        {
         "line": {
          "color": "red"
         },
         "mode": "lines",
         "name": "AMZN Value",
         "type": "scatter",
         "x": [
          "2020-04-01T00:00:00",
          "2020-05-01T00:00:00",
          "2020-06-01T00:00:00",
          "2020-07-01T00:00:00",
          "2020-09-01T00:00:00",
          "2020-10-01T00:00:00",
          "2020-12-01T00:00:00",
          "2021-02-01T00:00:00",
          "2021-03-01T00:00:00",
          "2021-04-01T00:00:00",
          "2021-06-01T00:00:00",
          "2021-07-01T00:00:00",
          "2021-09-01T00:00:00",
          "2021-10-01T00:00:00",
          "2021-11-01T00:00:00",
          "2021-12-01T00:00:00",
          "2022-02-01T00:00:00",
          "2022-03-01T00:00:00",
          "2022-04-01T00:00:00",
          "2022-06-01T00:00:00",
          "2022-07-01T00:00:00",
          "2022-08-01T00:00:00",
          "2022-09-01T00:00:00",
          "2022-11-01T00:00:00",
          "2022-12-01T00:00:00",
          "2023-02-01T00:00:00",
          "2023-03-01T00:00:00",
          "2023-05-01T00:00:00",
          "2023-06-01T00:00:00",
          "2023-08-01T00:00:00",
          "2023-09-01T00:00:00",
          "2023-11-01T00:00:00",
          "2023-12-01T00:00:00",
          "2024-02-01T00:00:00",
          "2024-03-01T00:00:00",
          "2024-04-01T00:00:00",
          "2024-05-01T00:00:00",
          "2024-07-01T00:00:00",
          "2024-08-01T00:00:00",
          "2024-10-01T00:00:00",
          "2024-11-01T00:00:00",
          "2025-04-01T00:00:00",
          "2025-05-01T00:00:00"
         ],
         "y": [
          7.499999999999999,
          16.487419357857508,
          25.32167970723201,
          36.99912465378508,
          52.473208238911795,
          55.80639035513739,
          63.2859455780201,
          73.19939911038803,
          76.39136654420686,
          84.25218007314828,
          93.28875859808811,
          107.00057216170201,
          115.93525786609813,
          116.91235653905511,
          125.65332262694905,
          137.91004240512632,
          128.59637821957423,
          136.05257667022673,
          154.73081181695247,
          122.61533439357264,
          117.8985400355834,
          153.1944470532805,
          152.12895534288785,
          122.69763544102537,
          128.56234191323523,
          149.05319841201307,
          138.1536645301856,
          160.46280966692237,
          200.54280269500424,
          222.61348781162545,
          240.98297729163176,
          246.52888108953633,
          272.07767215807263,
          302.2461854656147,
          345.686313130712,
          358.52037975958723,
          362.1176026086274,
          406.4362577057325,
          386.87487875498215,
          396.6027616834552,
          431.5240892603618,
          426.46623307037777,
          429.5943799833069
         ]
        },
        {
         "line": {
          "color": "orange",
          "dash": "dash"
         },
         "mode": "lines",
         "name": "Total Invested",
         "type": "scatter",
         "x": [
          "2020-04-01T00:00:00",
          "2020-05-01T00:00:00",
          "2020-06-01T00:00:00",
          "2020-07-01T00:00:00",
          "2020-09-01T00:00:00",
          "2020-10-01T00:00:00",
          "2020-12-01T00:00:00",
          "2021-02-01T00:00:00",
          "2021-03-01T00:00:00",
          "2021-04-01T00:00:00",
          "2021-06-01T00:00:00",
          "2021-07-01T00:00:00",
          "2021-09-01T00:00:00",
          "2021-10-01T00:00:00",
          "2021-11-01T00:00:00",
          "2021-12-01T00:00:00",
          "2022-02-01T00:00:00",
          "2022-03-01T00:00:00",
          "2022-04-01T00:00:00",
          "2022-06-01T00:00:00",
          "2022-07-01T00:00:00",
          "2022-08-01T00:00:00",
          "2022-09-01T00:00:00",
          "2022-11-01T00:00:00",
          "2022-12-01T00:00:00",
          "2023-02-01T00:00:00",
          "2023-03-01T00:00:00",
          "2023-05-01T00:00:00",
          "2023-06-01T00:00:00",
          "2023-08-01T00:00:00",
          "2023-09-01T00:00:00",
          "2023-11-01T00:00:00",
          "2023-12-01T00:00:00",
          "2024-02-01T00:00:00",
          "2024-03-01T00:00:00",
          "2024-04-01T00:00:00",
          "2024-05-01T00:00:00",
          "2024-07-01T00:00:00",
          "2024-08-01T00:00:00",
          "2024-10-01T00:00:00",
          "2024-11-01T00:00:00",
          "2025-04-01T00:00:00",
          "2025-05-01T00:00:00"
         ],
         "y": [
          7.5,
          15,
          22.5,
          30,
          37.5,
          45,
          52.5,
          60,
          67.5,
          75,
          82.5,
          90,
          97.5,
          105,
          112.5,
          120,
          127.5,
          135,
          142.5,
          150,
          157.5,
          165,
          172.5,
          180,
          187.5,
          195,
          202.5,
          210,
          217.5,
          225,
          232.5,
          240,
          247.5,
          255,
          262.5,
          270,
          277.5,
          285,
          292.5,
          300,
          307.5,
          315,
          322.5
         ]
        }
       ],
       "layout": {
        "hovermode": "x unified",
        "template": {
         "data": {
          "bar": [
           {
            "error_x": {
             "color": "#2a3f5f"
            },
            "error_y": {
             "color": "#2a3f5f"
            },
            "marker": {
             "line": {
              "color": "white",
              "width": 0.5
             },
             "pattern": {
              "fillmode": "overlay",
              "size": 10,
              "solidity": 0.2
             }
            },
            "type": "bar"
           }
          ],
          "barpolar": [
           {
            "marker": {
             "line": {
              "color": "white",
              "width": 0.5
             },
             "pattern": {
              "fillmode": "overlay",
              "size": 10,
              "solidity": 0.2
             }
            },
            "type": "barpolar"
           }
          ],
          "carpet": [
           {
            "aaxis": {
             "endlinecolor": "#2a3f5f",
             "gridcolor": "#C8D4E3",
             "linecolor": "#C8D4E3",
             "minorgridcolor": "#C8D4E3",
             "startlinecolor": "#2a3f5f"
            },
            "baxis": {
             "endlinecolor": "#2a3f5f",
             "gridcolor": "#C8D4E3",
             "linecolor": "#C8D4E3",
             "minorgridcolor": "#C8D4E3",
             "startlinecolor": "#2a3f5f"
            },
            "type": "carpet"
           }
          ],
          "choropleth": [
           {
            "colorbar": {
             "outlinewidth": 0,
             "ticks": ""
            },
            "type": "choropleth"
           }
          ],
          "contour": [
           {
            "colorbar": {
             "outlinewidth": 0,
             "ticks": ""
            },
            "colorscale": [
             [
              0,
              "#0d0887"
             ],
             [
              0.1111111111111111,
              "#46039f"
             ],
             [
              0.2222222222222222,
              "#7201a8"
             ],
             [
              0.3333333333333333,
              "#9c179e"
             ],
             [
              0.4444444444444444,
              "#bd3786"
             ],
             [
              0.5555555555555556,
              "#d8576b"
             ],
             [
              0.6666666666666666,
              "#ed7953"
             ],
             [
              0.7777777777777778,
              "#fb9f3a"
             ],
             [
              0.8888888888888888,
              "#fdca26"
             ],
             [
              1,
              "#f0f921"
             ]
            ],
            "type": "contour"
           }
          ],
          "contourcarpet": [
           {
            "colorbar": {
             "outlinewidth": 0,
             "ticks": ""
            },
            "type": "contourcarpet"
           }
          ],
          "heatmap": [
           {
            "colorbar": {
             "outlinewidth": 0,
             "ticks": ""
            },
            "colorscale": [
             [
              0,
              "#0d0887"
             ],
             [
              0.1111111111111111,
              "#46039f"
             ],
             [
              0.2222222222222222,
              "#7201a8"
             ],
             [
              0.3333333333333333,
              "#9c179e"
             ],
             [
              0.4444444444444444,
              "#bd3786"
             ],
             [
              0.5555555555555556,
              "#d8576b"
             ],
             [
              0.6666666666666666,
              "#ed7953"
             ],
             [
              0.7777777777777778,
              "#fb9f3a"
             ],
             [
              0.8888888888888888,
              "#fdca26"
             ],
             [
              1,
              "#f0f921"
             ]
            ],
            "type": "heatmap"
           }
          ],
          "heatmapgl": [
           {
            "colorbar": {
             "outlinewidth": 0,
             "ticks": ""
            },
            "colorscale": [
             [
              0,
              "#0d0887"
             ],
             [
              0.1111111111111111,
              "#46039f"
             ],
             [
              0.2222222222222222,
              "#7201a8"
             ],
             [
              0.3333333333333333,
              "#9c179e"
             ],
             [
              0.4444444444444444,
              "#bd3786"
             ],
             [
              0.5555555555555556,
              "#d8576b"
             ],
             [
              0.6666666666666666,
              "#ed7953"
             ],
             [
              0.7777777777777778,
              "#fb9f3a"
             ],
             [
              0.8888888888888888,
              "#fdca26"
             ],
             [
              1,
              "#f0f921"
             ]
            ],
            "type": "heatmapgl"
           }
          ],
          "histogram": [
           {
            "marker": {
             "pattern": {
              "fillmode": "overlay",
              "size": 10,
              "solidity": 0.2
             }
            },
            "type": "histogram"
           }
          ],
          "histogram2d": [
           {
            "colorbar": {
             "outlinewidth": 0,
             "ticks": ""
            },
            "colorscale": [
             [
              0,
              "#0d0887"
             ],
             [
              0.1111111111111111,
              "#46039f"
             ],
             [
              0.2222222222222222,
              "#7201a8"
             ],
             [
              0.3333333333333333,
              "#9c179e"
             ],
             [
              0.4444444444444444,
              "#bd3786"
             ],
             [
              0.5555555555555556,
              "#d8576b"
             ],
             [
              0.6666666666666666,
              "#ed7953"
             ],
             [
              0.7777777777777778,
              "#fb9f3a"
             ],
             [
              0.8888888888888888,
              "#fdca26"
             ],
             [
              1,
              "#f0f921"
             ]
            ],
            "type": "histogram2d"
           }
          ],
          "histogram2dcontour": [
           {
            "colorbar": {
             "outlinewidth": 0,
             "ticks": ""
            },
            "colorscale": [
             [
              0,
              "#0d0887"
             ],
             [
              0.1111111111111111,
              "#46039f"
             ],
             [
              0.2222222222222222,
              "#7201a8"
             ],
             [
              0.3333333333333333,
              "#9c179e"
             ],
             [
              0.4444444444444444,
              "#bd3786"
             ],
             [
              0.5555555555555556,
              "#d8576b"
             ],
             [
              0.6666666666666666,
              "#ed7953"
             ],
             [
              0.7777777777777778,
              "#fb9f3a"
             ],
             [
              0.8888888888888888,
              "#fdca26"
             ],
             [
              1,
              "#f0f921"
             ]
            ],
            "type": "histogram2dcontour"
           }
          ],
          "mesh3d": [
           {
            "colorbar": {
             "outlinewidth": 0,
             "ticks": ""
            },
            "type": "mesh3d"
           }
          ],
          "parcoords": [
           {
            "line": {
             "colorbar": {
              "outlinewidth": 0,
              "ticks": ""
             }
            },
            "type": "parcoords"
           }
          ],
          "pie": [
           {
            "automargin": true,
            "type": "pie"
           }
          ],
          "scatter": [
           {
            "fillpattern": {
             "fillmode": "overlay",
             "size": 10,
             "solidity": 0.2
            },
            "type": "scatter"
           }
          ],
          "scatter3d": [
           {
            "line": {
             "colorbar": {
              "outlinewidth": 0,
              "ticks": ""
             }
            },
            "marker": {
             "colorbar": {
              "outlinewidth": 0,
              "ticks": ""
             }
            },
            "type": "scatter3d"
           }
          ],
          "scattercarpet": [
           {
            "marker": {
             "colorbar": {
              "outlinewidth": 0,
              "ticks": ""
             }
            },
            "type": "scattercarpet"
           }
          ],
          "scattergeo": [
           {
            "marker": {
             "colorbar": {
              "outlinewidth": 0,
              "ticks": ""
             }
            },
            "type": "scattergeo"
           }
          ],
          "scattergl": [
           {
            "marker": {
             "colorbar": {
              "outlinewidth": 0,
              "ticks": ""
             }
            },
            "type": "scattergl"
           }
          ],
          "scattermapbox": [
           {
            "marker": {
             "colorbar": {
              "outlinewidth": 0,
              "ticks": ""
             }
            },
            "type": "scattermapbox"
           }
          ],
          "scatterpolar": [
           {
            "marker": {
             "colorbar": {
              "outlinewidth": 0,
              "ticks": ""
             }
            },
            "type": "scatterpolar"
           }
          ],
          "scatterpolargl": [
           {
            "marker": {
             "colorbar": {
              "outlinewidth": 0,
              "ticks": ""
             }
            },
            "type": "scatterpolargl"
           }
          ],
          "scatterternary": [
           {
            "marker": {
             "colorbar": {
              "outlinewidth": 0,
              "ticks": ""
             }
            },
            "type": "scatterternary"
           }
          ],
          "surface": [
           {
            "colorbar": {
             "outlinewidth": 0,
             "ticks": ""
            },
            "colorscale": [
             [
              0,
              "#0d0887"
             ],
             [
              0.1111111111111111,
              "#46039f"
             ],
             [
              0.2222222222222222,
              "#7201a8"
             ],
             [
              0.3333333333333333,
              "#9c179e"
             ],
             [
              0.4444444444444444,
              "#bd3786"
             ],
             [
              0.5555555555555556,
              "#d8576b"
             ],
             [
              0.6666666666666666,
              "#ed7953"
             ],
             [
              0.7777777777777778,
              "#fb9f3a"
             ],
             [
              0.8888888888888888,
              "#fdca26"
             ],
             [
              1,
              "#f0f921"
             ]
            ],
            "type": "surface"
           }
          ],
          "table": [
           {
            "cells": {
             "fill": {
              "color": "#EBF0F8"
             },
             "line": {
              "color": "white"
             }
            },
            "header": {
             "fill": {
              "color": "#C8D4E3"
             },
             "line": {
              "color": "white"
             }
            },
            "type": "table"
           }
          ]
         },
         "layout": {
          "annotationdefaults": {
           "arrowcolor": "#2a3f5f",
           "arrowhead": 0,
           "arrowwidth": 1
          },
          "autotypenumbers": "strict",
          "coloraxis": {
           "colorbar": {
            "outlinewidth": 0,
            "ticks": ""
           }
          },
          "colorscale": {
           "diverging": [
            [
             0,
             "#8e0152"
            ],
            [
             0.1,
             "#c51b7d"
            ],
            [
             0.2,
             "#de77ae"
            ],
            [
             0.3,
             "#f1b6da"
            ],
            [
             0.4,
             "#fde0ef"
            ],
            [
             0.5,
             "#f7f7f7"
            ],
            [
             0.6,
             "#e6f5d0"
            ],
            [
             0.7,
             "#b8e186"
            ],
            [
             0.8,
             "#7fbc41"
            ],
            [
             0.9,
             "#4d9221"
            ],
            [
             1,
             "#276419"
            ]
           ],
           "sequential": [
            [
             0,
             "#0d0887"
            ],
            [
             0.1111111111111111,
             "#46039f"
            ],
            [
             0.2222222222222222,
             "#7201a8"
            ],
            [
             0.3333333333333333,
             "#9c179e"
            ],
            [
             0.4444444444444444,
             "#bd3786"
            ],
            [
             0.5555555555555556,
             "#d8576b"
            ],
            [
             0.6666666666666666,
             "#ed7953"
            ],
            [
             0.7777777777777778,
             "#fb9f3a"
            ],
            [
             0.8888888888888888,
             "#fdca26"
            ],
            [
             1,
             "#f0f921"
            ]
           ],
           "sequentialminus": [
            [
             0,
             "#0d0887"
            ],
            [
             0.1111111111111111,
             "#46039f"
            ],
            [
             0.2222222222222222,
             "#7201a8"
            ],
            [
             0.3333333333333333,
             "#9c179e"
            ],
            [
             0.4444444444444444,
             "#bd3786"
            ],
            [
             0.5555555555555556,
             "#d8576b"
            ],
            [
             0.6666666666666666,
             "#ed7953"
            ],
            [
             0.7777777777777778,
             "#fb9f3a"
            ],
            [
             0.8888888888888888,
             "#fdca26"
            ],
            [
             1,
             "#f0f921"
            ]
           ]
          },
          "colorway": [
           "#636efa",
           "#EF553B",
           "#00cc96",
           "#ab63fa",
           "#FFA15A",
           "#19d3f3",
           "#FF6692",
           "#B6E880",
           "#FF97FF",
           "#FECB52"
          ],
          "font": {
           "color": "#2a3f5f"
          },
          "geo": {
           "bgcolor": "white",
           "lakecolor": "white",
           "landcolor": "white",
           "showlakes": true,
           "showland": true,
           "subunitcolor": "#C8D4E3"
          },
          "hoverlabel": {
           "align": "left"
          },
          "hovermode": "closest",
          "mapbox": {
           "style": "light"
          },
          "paper_bgcolor": "white",
          "plot_bgcolor": "white",
          "polar": {
           "angularaxis": {
            "gridcolor": "#EBF0F8",
            "linecolor": "#EBF0F8",
            "ticks": ""
           },
           "bgcolor": "white",
           "radialaxis": {
            "gridcolor": "#EBF0F8",
            "linecolor": "#EBF0F8",
            "ticks": ""
           }
          },
          "scene": {
           "xaxis": {
            "backgroundcolor": "white",
            "gridcolor": "#DFE8F3",
            "gridwidth": 2,
            "linecolor": "#EBF0F8",
            "showbackground": true,
            "ticks": "",
            "zerolinecolor": "#EBF0F8"
           },
           "yaxis": {
            "backgroundcolor": "white",
            "gridcolor": "#DFE8F3",
            "gridwidth": 2,
            "linecolor": "#EBF0F8",
            "showbackground": true,
            "ticks": "",
            "zerolinecolor": "#EBF0F8"
           },
           "zaxis": {
            "backgroundcolor": "white",
            "gridcolor": "#DFE8F3",
            "gridwidth": 2,
            "linecolor": "#EBF0F8",
            "showbackground": true,
            "ticks": "",
            "zerolinecolor": "#EBF0F8"
           }
          },
          "shapedefaults": {
           "line": {
            "color": "#2a3f5f"
           }
          },
          "ternary": {
           "aaxis": {
            "gridcolor": "#DFE8F3",
            "linecolor": "#A2B1C6",
            "ticks": ""
           },
           "baxis": {
            "gridcolor": "#DFE8F3",
            "linecolor": "#A2B1C6",
            "ticks": ""
           },
           "bgcolor": "white",
           "caxis": {
            "gridcolor": "#DFE8F3",
            "linecolor": "#A2B1C6",
            "ticks": ""
           }
          },
          "title": {
           "x": 0.05
          },
          "xaxis": {
           "automargin": true,
           "gridcolor": "#EBF0F8",
           "linecolor": "#EBF0F8",
           "ticks": "",
           "title": {
            "standoff": 15
           },
           "zerolinecolor": "#EBF0F8",
           "zerolinewidth": 2
          },
          "yaxis": {
           "automargin": true,
           "gridcolor": "#EBF0F8",
           "linecolor": "#EBF0F8",
           "ticks": "",
           "title": {
            "standoff": 15
           },
           "zerolinecolor": "#EBF0F8",
           "zerolinewidth": 2
          }
         }
        },
        "title": {
         "text": "DCA Simulation (monthly)"
        },
        "xaxis": {
         "gridcolor": "LightGrey",
         "gridwidth": 1,
         "showgrid": true,
         "title": {
          "text": "Date"
         }
        },
        "yaxis": {
         "gridcolor": "LightGrey",
         "gridwidth": 1,
         "showgrid": true,
         "title": {
          "text": "USD"
         }
        }
       }
      }
     },
     "metadata": {},
     "output_type": "display_data"
    }
   ],
   "source": [
    "import plotly.graph_objects as go\n",
    "fig = go.Figure()\n",
    "\n",
    "fig.add_trace(go.Scatter(x=stock1.index, y=stock1['Value'], mode='lines', name=f'{ticker1} Value', line=dict(color='blue')))\n",
    "fig.add_trace(go.Scatter(x=stock2.index, y=stock2['Value'], mode='lines', name=f'{ticker2} Value', line=dict(color='green')))\n",
    "fig.add_trace(go.Scatter(x=stock3.index, y=stock3['Value'], mode='lines', name=f'{ticker3} Value', line=dict(color='red')))\n",
    "fig.add_trace(go.Scatter(x=stock1.index, y=stock1['Total Invested'], mode='lines', name='Total Invested', line=dict(color='orange', dash='dash')))\n",
    "\n",
    "fig.update_layout(\n",
    "    title=f'DCA Simulation ({interval})',\n",
    "    xaxis_title='Date',\n",
    "    yaxis_title='USD',\n",
    "    hovermode='x unified',\n",
    "    template='plotly_white'\n",
    ")\n",
    "\n",
    "fig.update_xaxes(showgrid=True, gridwidth=1, gridcolor='LightGrey')\n",
    "fig.update_yaxes(showgrid=True, gridwidth=1, gridcolor='LightGrey')\n",
    "\n",
    "fig.show()"
   ]
  }
 ],
 "metadata": {
  "kernelspec": {
   "display_name": "Python 3",
   "language": "python",
   "name": "python3"
  },
  "language_info": {
   "codemirror_mode": {
    "name": "ipython",
    "version": 3
   },
   "file_extension": ".py",
   "mimetype": "text/x-python",
   "name": "python",
   "nbconvert_exporter": "python",
   "pygments_lexer": "ipython3",
   "version": "3.11.9"
  }
 },
 "nbformat": 4,
 "nbformat_minor": 5
}
