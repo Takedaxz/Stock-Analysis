{
 "cells": [
  {
   "cell_type": "code",
   "execution_count": 1,
   "id": "c097ec08",
   "metadata": {},
   "outputs": [],
   "source": [
    "import pandas as pd\n",
    "import numpy as np\n",
    "import matplotlib.pyplot as plt\n",
    "import yfinance as yf\n",
    "from datetime import datetime, timedelta"
   ]
  },
  {
   "cell_type": "code",
   "execution_count": null,
   "id": "c331f8ad",
   "metadata": {},
   "outputs": [],
   "source": [
    "##Parameters\n",
    "ticker1 = 'NVDA'\n",
    "ticker2 = 'GOOGL'\n",
    "ticker3 = 'AMZN'\n",
    "start_date = '2020-01-01'\n",
    "end_date = '2025-05-25'\n",
    "interval = 'monthly' # 'daily', 'weekly', 'monthly'\n",
    "invest_amount = 30\n",
    "initial_capital = 300"
   ]
  },
  {
   "cell_type": "code",
   "execution_count": 3,
   "id": "5369633c",
   "metadata": {},
   "outputs": [
    {
     "name": "stdout",
     "output_type": "stream",
     "text": [
      "YF.download() has changed argument auto_adjust default to True\n"
     ]
    }
   ],
   "source": [
    "stock = yf.download('NVDA', start=start_date, end=end_date, multi_level_index=False, progress=False)\n",
    "stock = stock[['Close']].dropna()\n",
    "\n",
    "if interval == 'daily':\n",
    "    invest_dates = stock.index\n",
    "elif interval == 'weekly':\n",
    "    invest_dates = stock.resample('W').first().index\n",
    "elif interval == 'monthly':\n",
    "    invest_dates = stock.resample('MS').first().index\n",
    "else:\n",
    "    raise ValueError(\"Interval must be 'daily', 'weekly', or 'monthly'.\")\n",
    "\n",
    "dca_log = []\n",
    "\n",
    "total_units = 0\n",
    "total_invested = 0\n",
    "\n",
    "first_date = invest_dates[0]\n",
    "if first_date in stock.index:\n",
    "    price = stock.loc[first_date, 'Close']\n",
    "    units = initial_capital / price\n",
    "    total_units += units\n",
    "    total_invested += initial_capital\n",
    "    dca_log.append({\n",
    "        'Date': first_date,\n",
    "        'Price': price,\n",
    "        'Units Bought': units,\n",
    "        'Total Units': total_units,\n",
    "        'Total Invested': total_invested,\n",
    "        'Value': total_units * price\n",
    "    })\n",
    "    \n",
    "for date in invest_dates[1:]:\n",
    "    if date in stock.index:\n",
    "        price = stock.loc[date, 'Close']\n",
    "        units = invest_amount / price\n",
    "        total_units += units\n",
    "        total_invested += invest_amount\n",
    "        dca_log.append({\n",
    "            'Date': date,\n",
    "            'Price': price,\n",
    "            'Units Bought': units,\n",
    "            'Total Units': total_units,\n",
    "            'Total Invested': total_invested,\n",
    "            'Value': total_units * price\n",
    "        })\n"
   ]
  },
  {
   "cell_type": "code",
   "execution_count": 4,
   "id": "50f374f8",
   "metadata": {},
   "outputs": [],
   "source": [
    "def fetch_data(ticker):\n",
    "    stock = yf.download(ticker, start=start_date, end=end_date, multi_level_index=False, progress=False)\n",
    "    stock = stock[['Close']].dropna()\n",
    "\n",
    "    if interval == 'daily':\n",
    "        invest_dates = stock.index\n",
    "    elif interval == 'weekly':\n",
    "        invest_dates = stock.resample('W').first().index\n",
    "    elif interval == 'monthly':\n",
    "        invest_dates = stock.resample('MS').first().index #ME = Month End\n",
    "    else:\n",
    "        raise ValueError(\"Interval must be 'daily', 'weekly', or 'monthly'.\")\n",
    "    \n",
    "    dca_log = []\n",
    "\n",
    "    total_units = 0\n",
    "    total_invested = 0\n",
    "\n",
    "    first_date = invest_dates[0]\n",
    "    if first_date in stock.index:\n",
    "        price = stock.loc[first_date, 'Close']\n",
    "        units = initial_capital / price\n",
    "        total_units += units\n",
    "        total_invested += initial_capital\n",
    "        dca_log.append({\n",
    "            'Date': first_date,\n",
    "            'Price': price,\n",
    "            'Units Bought': units,\n",
    "            'Total Units': total_units,\n",
    "            'Total Invested': total_invested,\n",
    "            'Value': total_units * price\n",
    "        })\n",
    "\n",
    "    for date in invest_dates[1:]:\n",
    "        if date in stock.index:\n",
    "            price = stock.loc[date, 'Close']\n",
    "            units = invest_amount / price\n",
    "            total_units += units\n",
    "            total_invested += invest_amount\n",
    "            dca_log.append({\n",
    "                'Date': date,\n",
    "                'Price': price,\n",
    "                'Units Bought': units,\n",
    "                'Total Units': total_units,\n",
    "                'Total Invested': total_invested,\n",
    "                'Value': total_units * price\n",
    "            })\n",
    "\n",
    "    dca_df = pd.DataFrame(dca_log).set_index('Date')\n",
    "    final_value = dca_df['Value'].iloc[-1]\n",
    "    gain = final_value - total_invested\n",
    "    roi = (gain / total_invested) * 100\n",
    "    print(f\"Ticker : {ticker}, Final Value: ${final_value:.2f}, Total Invested: ${total_invested:.2f}, Gain: ${gain:.2f}, ROI: {roi:.2f}%\")\n",
    "    return dca_df\n"
   ]
  },
  {
   "cell_type": "code",
   "execution_count": 5,
   "id": "c5d13adf",
   "metadata": {},
   "outputs": [
    {
     "name": "stdout",
     "output_type": "stream",
     "text": [
      "Ticker : NVDA, Final Value: $6988.40, Total Invested: $1290.00, Gain: $5698.40, ROI: 441.74%\n",
      "Ticker : GOOGL, Final Value: $1858.74, Total Invested: $1290.00, Gain: $568.74, ROI: 44.09%\n",
      "Ticker : AMZN, Final Value: $1718.38, Total Invested: $1290.00, Gain: $428.38, ROI: 33.21%\n"
     ]
    }
   ],
   "source": [
    "stock1=fetch_data(ticker1)\n",
    "stock2=fetch_data(ticker2)\n",
    "stock3=fetch_data(ticker3)"
   ]
  },
  {
   "cell_type": "code",
   "execution_count": 6,
   "id": "e7c882b5",
   "metadata": {},
   "outputs": [
    {
     "data": {
      "application/vnd.plotly.v1+json": {
       "config": {
        "plotlyServerURL": "https://plot.ly"
       },
       "data": [
        {
         "line": {
          "color": "blue"
         },
         "mode": "lines",
         "name": "NVDA Value",
         "type": "scatter",
         "x": [
          "2020-04-01T00:00:00",
          "2020-05-01T00:00:00",
          "2020-06-01T00:00:00",
          "2020-07-01T00:00:00",
          "2020-09-01T00:00:00",
          "2020-10-01T00:00:00",
          "2020-12-01T00:00:00",
          "2021-02-01T00:00:00",
          "2021-03-01T00:00:00",
          "2021-04-01T00:00:00",
          "2021-06-01T00:00:00",
          "2021-07-01T00:00:00",
          "2021-09-01T00:00:00",
          "2021-10-01T00:00:00",
          "2021-11-01T00:00:00",
          "2021-12-01T00:00:00",
          "2022-02-01T00:00:00",
          "2022-03-01T00:00:00",
          "2022-04-01T00:00:00",
          "2022-06-01T00:00:00",
          "2022-07-01T00:00:00",
          "2022-08-01T00:00:00",
          "2022-09-01T00:00:00",
          "2022-11-01T00:00:00",
          "2022-12-01T00:00:00",
          "2023-02-01T00:00:00",
          "2023-03-01T00:00:00",
          "2023-05-01T00:00:00",
          "2023-06-01T00:00:00",
          "2023-08-01T00:00:00",
          "2023-09-01T00:00:00",
          "2023-11-01T00:00:00",
          "2023-12-01T00:00:00",
          "2024-02-01T00:00:00",
          "2024-03-01T00:00:00",
          "2024-04-01T00:00:00",
          "2024-05-01T00:00:00",
          "2024-07-01T00:00:00",
          "2024-08-01T00:00:00",
          "2024-10-01T00:00:00",
          "2024-11-01T00:00:00",
          "2025-04-01T00:00:00",
          "2025-05-01T00:00:00"
         ],
         "y": [
          30,
          64.90105722674815,
          110.84518627903869,
          150.00982410747002,
          247.6186938133114,
          273.91905135883576,
          299.40221653516113,
          326.068523951947,
          370.96540235301353,
          400.28912844270826,
          501.3741851063293,
          653.203688506512,
          755.3676006980878,
          728.1789032911181,
          936.6955049600541,
          1170.226527271096,
          947.1956169885847,
          932.5613206376319,
          1091.2440570726342,
          778.4124367498491,
          647.2091874340058,
          851.8126168252011,
          673.7672839371153,
          684.9144072289528,
          896.7954815189665,
          1126.0950775990436,
          1250.4604630374592,
          1622.9575298443212,
          2262.6191941164843,
          2676.178611860105,
          2821.380844279855,
          2491.910107470262,
          2783.3177424224214,
          3781.514329718773,
          4966.601920125339,
          5484.831936425377,
          5070.4028666001095,
          7620.261830331368,
          6725.162966612788,
          7235.487878185429,
          8403.376651611195,
          6867.377191853641,
          6988.4018334690945
         ]
        },
        {
         "line": {
          "color": "green"
         },
         "mode": "lines",
         "name": "GOOGL Value",
         "type": "scatter",
         "x": [
          "2020-04-01T00:00:00",
          "2020-05-01T00:00:00",
          "2020-06-01T00:00:00",
          "2020-07-01T00:00:00",
          "2020-09-01T00:00:00",
          "2020-10-01T00:00:00",
          "2020-12-01T00:00:00",
          "2021-02-01T00:00:00",
          "2021-03-01T00:00:00",
          "2021-04-01T00:00:00",
          "2021-06-01T00:00:00",
          "2021-07-01T00:00:00",
          "2021-09-01T00:00:00",
          "2021-10-01T00:00:00",
          "2021-11-01T00:00:00",
          "2021-12-01T00:00:00",
          "2022-02-01T00:00:00",
          "2022-03-01T00:00:00",
          "2022-04-01T00:00:00",
          "2022-06-01T00:00:00",
          "2022-07-01T00:00:00",
          "2022-08-01T00:00:00",
          "2022-09-01T00:00:00",
          "2022-11-01T00:00:00",
          "2022-12-01T00:00:00",
          "2023-02-01T00:00:00",
          "2023-03-01T00:00:00",
          "2023-05-01T00:00:00",
          "2023-06-01T00:00:00",
          "2023-08-01T00:00:00",
          "2023-09-01T00:00:00",
          "2023-11-01T00:00:00",
          "2023-12-01T00:00:00",
          "2024-02-01T00:00:00",
          "2024-03-01T00:00:00",
          "2024-04-01T00:00:00",
          "2024-05-01T00:00:00",
          "2024-07-01T00:00:00",
          "2024-08-01T00:00:00",
          "2024-10-01T00:00:00",
          "2024-11-01T00:00:00",
          "2025-04-01T00:00:00",
          "2025-05-01T00:00:00"
         ],
         "y": [
          30,
          65.85845440298927,
          101.73528041840525,
          132.2408141519163,
          181.78163326715972,
          193.41983971224948,
          263.3881545626386,
          307.72270780432245,
          366.42778664121886,
          407.0718535750568,
          485.1227479629949,
          528.9174843818524,
          657.2802528732376,
          648.026404932717,
          711.029688309206,
          728.9122523522208,
          741.303410310274,
          752.0091773475726,
          816.165029491538,
          693.2489785413505,
          691.8740143376044,
          760.830209445407,
          756.9154602038324,
          654.003497421282,
          760.0520691915764,
          785.8375056086497,
          737.0425296586596,
          904.4018108028765,
          1073.7742271893103,
          1171.7313654283214,
          1238.3397128873025,
          1184.268316685592,
          1264.935818888481,
          1384.150951906436,
          1374.7325296753952,
          1588.6785260828678,
          1704.1966158748407,
          1935.3392611192291,
          1835.9921616385996,
          1827.840175295004,
          1904.906906550733,
          1780.7832357094214,
          1858.7408668768746
         ]
        },
        {
         "line": {
          "color": "red"
         },
         "mode": "lines",
         "name": "AMZN Value",
         "type": "scatter",
         "x": [
          "2020-04-01T00:00:00",
          "2020-05-01T00:00:00",
          "2020-06-01T00:00:00",
          "2020-07-01T00:00:00",
          "2020-09-01T00:00:00",
          "2020-10-01T00:00:00",
          "2020-12-01T00:00:00",
          "2021-02-01T00:00:00",
          "2021-03-01T00:00:00",
          "2021-04-01T00:00:00",
          "2021-06-01T00:00:00",
          "2021-07-01T00:00:00",
          "2021-09-01T00:00:00",
          "2021-10-01T00:00:00",
          "2021-11-01T00:00:00",
          "2021-12-01T00:00:00",
          "2022-02-01T00:00:00",
          "2022-03-01T00:00:00",
          "2022-04-01T00:00:00",
          "2022-06-01T00:00:00",
          "2022-07-01T00:00:00",
          "2022-08-01T00:00:00",
          "2022-09-01T00:00:00",
          "2022-11-01T00:00:00",
          "2022-12-01T00:00:00",
          "2023-02-01T00:00:00",
          "2023-03-01T00:00:00",
          "2023-05-01T00:00:00",
          "2023-06-01T00:00:00",
          "2023-08-01T00:00:00",
          "2023-09-01T00:00:00",
          "2023-11-01T00:00:00",
          "2023-12-01T00:00:00",
          "2024-02-01T00:00:00",
          "2024-03-01T00:00:00",
          "2024-04-01T00:00:00",
          "2024-05-01T00:00:00",
          "2024-07-01T00:00:00",
          "2024-08-01T00:00:00",
          "2024-10-01T00:00:00",
          "2024-11-01T00:00:00",
          "2025-04-01T00:00:00",
          "2025-05-01T00:00:00"
         ],
         "y": [
          29.999999999999996,
          65.94967743143003,
          101.28671882892804,
          147.99649861514033,
          209.89283295564718,
          223.22556142054955,
          253.1437823120804,
          292.7975964415521,
          305.56546617682744,
          337.0087202925931,
          373.15503439235243,
          428.00228864680804,
          463.7410314643925,
          467.64942615622044,
          502.6132905077962,
          551.6401696205053,
          514.3855128782969,
          544.2103066809069,
          618.9232472678099,
          490.46133757429055,
          471.5941601423336,
          612.777788213122,
          608.5158213715514,
          490.7905417641015,
          514.2493676529409,
          596.2127936480523,
          552.6146581207424,
          641.8512386676895,
          802.171210780017,
          890.4539512465018,
          963.931909166527,
          986.1155243581453,
          1088.3106886322905,
          1208.9847418624588,
          1382.745252522848,
          1434.081519038349,
          1448.4704104345096,
          1625.74503082293,
          1547.4995150199286,
          1586.4110467338207,
          1726.0963570414472,
          1705.864932281511,
          1718.3775199332276
         ]
        },
        {
         "line": {
          "color": "orange",
          "dash": "dash"
         },
         "mode": "lines",
         "name": "Total Invested",
         "type": "scatter",
         "x": [
          "2020-04-01T00:00:00",
          "2020-05-01T00:00:00",
          "2020-06-01T00:00:00",
          "2020-07-01T00:00:00",
          "2020-09-01T00:00:00",
          "2020-10-01T00:00:00",
          "2020-12-01T00:00:00",
          "2021-02-01T00:00:00",
          "2021-03-01T00:00:00",
          "2021-04-01T00:00:00",
          "2021-06-01T00:00:00",
          "2021-07-01T00:00:00",
          "2021-09-01T00:00:00",
          "2021-10-01T00:00:00",
          "2021-11-01T00:00:00",
          "2021-12-01T00:00:00",
          "2022-02-01T00:00:00",
          "2022-03-01T00:00:00",
          "2022-04-01T00:00:00",
          "2022-06-01T00:00:00",
          "2022-07-01T00:00:00",
          "2022-08-01T00:00:00",
          "2022-09-01T00:00:00",
          "2022-11-01T00:00:00",
          "2022-12-01T00:00:00",
          "2023-02-01T00:00:00",
          "2023-03-01T00:00:00",
          "2023-05-01T00:00:00",
          "2023-06-01T00:00:00",
          "2023-08-01T00:00:00",
          "2023-09-01T00:00:00",
          "2023-11-01T00:00:00",
          "2023-12-01T00:00:00",
          "2024-02-01T00:00:00",
          "2024-03-01T00:00:00",
          "2024-04-01T00:00:00",
          "2024-05-01T00:00:00",
          "2024-07-01T00:00:00",
          "2024-08-01T00:00:00",
          "2024-10-01T00:00:00",
          "2024-11-01T00:00:00",
          "2025-04-01T00:00:00",
          "2025-05-01T00:00:00"
         ],
         "y": [
          30,
          60,
          90,
          120,
          150,
          180,
          210,
          240,
          270,
          300,
          330,
          360,
          390,
          420,
          450,
          480,
          510,
          540,
          570,
          600,
          630,
          660,
          690,
          720,
          750,
          780,
          810,
          840,
          870,
          900,
          930,
          960,
          990,
          1020,
          1050,
          1080,
          1110,
          1140,
          1170,
          1200,
          1230,
          1260,
          1290
         ]
        }
       ],
       "layout": {
        "hovermode": "x unified",
        "template": {
         "data": {
          "bar": [
           {
            "error_x": {
             "color": "#2a3f5f"
            },
            "error_y": {
             "color": "#2a3f5f"
            },
            "marker": {
             "line": {
              "color": "white",
              "width": 0.5
             },
             "pattern": {
              "fillmode": "overlay",
              "size": 10,
              "solidity": 0.2
             }
            },
            "type": "bar"
           }
          ],
          "barpolar": [
           {
            "marker": {
             "line": {
              "color": "white",
              "width": 0.5
             },
             "pattern": {
              "fillmode": "overlay",
              "size": 10,
              "solidity": 0.2
             }
            },
            "type": "barpolar"
           }
          ],
          "carpet": [
           {
            "aaxis": {
             "endlinecolor": "#2a3f5f",
             "gridcolor": "#C8D4E3",
             "linecolor": "#C8D4E3",
             "minorgridcolor": "#C8D4E3",
             "startlinecolor": "#2a3f5f"
            },
            "baxis": {
             "endlinecolor": "#2a3f5f",
             "gridcolor": "#C8D4E3",
             "linecolor": "#C8D4E3",
             "minorgridcolor": "#C8D4E3",
             "startlinecolor": "#2a3f5f"
            },
            "type": "carpet"
           }
          ],
          "choropleth": [
           {
            "colorbar": {
             "outlinewidth": 0,
             "ticks": ""
            },
            "type": "choropleth"
           }
          ],
          "contour": [
           {
            "colorbar": {
             "outlinewidth": 0,
             "ticks": ""
            },
            "colorscale": [
             [
              0,
              "#0d0887"
             ],
             [
              0.1111111111111111,
              "#46039f"
             ],
             [
              0.2222222222222222,
              "#7201a8"
             ],
             [
              0.3333333333333333,
              "#9c179e"
             ],
             [
              0.4444444444444444,
              "#bd3786"
             ],
             [
              0.5555555555555556,
              "#d8576b"
             ],
             [
              0.6666666666666666,
              "#ed7953"
             ],
             [
              0.7777777777777778,
              "#fb9f3a"
             ],
             [
              0.8888888888888888,
              "#fdca26"
             ],
             [
              1,
              "#f0f921"
             ]
            ],
            "type": "contour"
           }
          ],
          "contourcarpet": [
           {
            "colorbar": {
             "outlinewidth": 0,
             "ticks": ""
            },
            "type": "contourcarpet"
           }
          ],
          "heatmap": [
           {
            "colorbar": {
             "outlinewidth": 0,
             "ticks": ""
            },
            "colorscale": [
             [
              0,
              "#0d0887"
             ],
             [
              0.1111111111111111,
              "#46039f"
             ],
             [
              0.2222222222222222,
              "#7201a8"
             ],
             [
              0.3333333333333333,
              "#9c179e"
             ],
             [
              0.4444444444444444,
              "#bd3786"
             ],
             [
              0.5555555555555556,
              "#d8576b"
             ],
             [
              0.6666666666666666,
              "#ed7953"
             ],
             [
              0.7777777777777778,
              "#fb9f3a"
             ],
             [
              0.8888888888888888,
              "#fdca26"
             ],
             [
              1,
              "#f0f921"
             ]
            ],
            "type": "heatmap"
           }
          ],
          "heatmapgl": [
           {
            "colorbar": {
             "outlinewidth": 0,
             "ticks": ""
            },
            "colorscale": [
             [
              0,
              "#0d0887"
             ],
             [
              0.1111111111111111,
              "#46039f"
             ],
             [
              0.2222222222222222,
              "#7201a8"
             ],
             [
              0.3333333333333333,
              "#9c179e"
             ],
             [
              0.4444444444444444,
              "#bd3786"
             ],
             [
              0.5555555555555556,
              "#d8576b"
             ],
             [
              0.6666666666666666,
              "#ed7953"
             ],
             [
              0.7777777777777778,
              "#fb9f3a"
             ],
             [
              0.8888888888888888,
              "#fdca26"
             ],
             [
              1,
              "#f0f921"
             ]
            ],
            "type": "heatmapgl"
           }
          ],
          "histogram": [
           {
            "marker": {
             "pattern": {
              "fillmode": "overlay",
              "size": 10,
              "solidity": 0.2
             }
            },
            "type": "histogram"
           }
          ],
          "histogram2d": [
           {
            "colorbar": {
             "outlinewidth": 0,
             "ticks": ""
            },
            "colorscale": [
             [
              0,
              "#0d0887"
             ],
             [
              0.1111111111111111,
              "#46039f"
             ],
             [
              0.2222222222222222,
              "#7201a8"
             ],
             [
              0.3333333333333333,
              "#9c179e"
             ],
             [
              0.4444444444444444,
              "#bd3786"
             ],
             [
              0.5555555555555556,
              "#d8576b"
             ],
             [
              0.6666666666666666,
              "#ed7953"
             ],
             [
              0.7777777777777778,
              "#fb9f3a"
             ],
             [
              0.8888888888888888,
              "#fdca26"
             ],
             [
              1,
              "#f0f921"
             ]
            ],
            "type": "histogram2d"
           }
          ],
          "histogram2dcontour": [
           {
            "colorbar": {
             "outlinewidth": 0,
             "ticks": ""
            },
            "colorscale": [
             [
              0,
              "#0d0887"
             ],
             [
              0.1111111111111111,
              "#46039f"
             ],
             [
              0.2222222222222222,
              "#7201a8"
             ],
             [
              0.3333333333333333,
              "#9c179e"
             ],
             [
              0.4444444444444444,
              "#bd3786"
             ],
             [
              0.5555555555555556,
              "#d8576b"
             ],
             [
              0.6666666666666666,
              "#ed7953"
             ],
             [
              0.7777777777777778,
              "#fb9f3a"
             ],
             [
              0.8888888888888888,
              "#fdca26"
             ],
             [
              1,
              "#f0f921"
             ]
            ],
            "type": "histogram2dcontour"
           }
          ],
          "mesh3d": [
           {
            "colorbar": {
             "outlinewidth": 0,
             "ticks": ""
            },
            "type": "mesh3d"
           }
          ],
          "parcoords": [
           {
            "line": {
             "colorbar": {
              "outlinewidth": 0,
              "ticks": ""
             }
            },
            "type": "parcoords"
           }
          ],
          "pie": [
           {
            "automargin": true,
            "type": "pie"
           }
          ],
          "scatter": [
           {
            "fillpattern": {
             "fillmode": "overlay",
             "size": 10,
             "solidity": 0.2
            },
            "type": "scatter"
           }
          ],
          "scatter3d": [
           {
            "line": {
             "colorbar": {
              "outlinewidth": 0,
              "ticks": ""
             }
            },
            "marker": {
             "colorbar": {
              "outlinewidth": 0,
              "ticks": ""
             }
            },
            "type": "scatter3d"
           }
          ],
          "scattercarpet": [
           {
            "marker": {
             "colorbar": {
              "outlinewidth": 0,
              "ticks": ""
             }
            },
            "type": "scattercarpet"
           }
          ],
          "scattergeo": [
           {
            "marker": {
             "colorbar": {
              "outlinewidth": 0,
              "ticks": ""
             }
            },
            "type": "scattergeo"
           }
          ],
          "scattergl": [
           {
            "marker": {
             "colorbar": {
              "outlinewidth": 0,
              "ticks": ""
             }
            },
            "type": "scattergl"
           }
          ],
          "scattermapbox": [
           {
            "marker": {
             "colorbar": {
              "outlinewidth": 0,
              "ticks": ""
             }
            },
            "type": "scattermapbox"
           }
          ],
          "scatterpolar": [
           {
            "marker": {
             "colorbar": {
              "outlinewidth": 0,
              "ticks": ""
             }
            },
            "type": "scatterpolar"
           }
          ],
          "scatterpolargl": [
           {
            "marker": {
             "colorbar": {
              "outlinewidth": 0,
              "ticks": ""
             }
            },
            "type": "scatterpolargl"
           }
          ],
          "scatterternary": [
           {
            "marker": {
             "colorbar": {
              "outlinewidth": 0,
              "ticks": ""
             }
            },
            "type": "scatterternary"
           }
          ],
          "surface": [
           {
            "colorbar": {
             "outlinewidth": 0,
             "ticks": ""
            },
            "colorscale": [
             [
              0,
              "#0d0887"
             ],
             [
              0.1111111111111111,
              "#46039f"
             ],
             [
              0.2222222222222222,
              "#7201a8"
             ],
             [
              0.3333333333333333,
              "#9c179e"
             ],
             [
              0.4444444444444444,
              "#bd3786"
             ],
             [
              0.5555555555555556,
              "#d8576b"
             ],
             [
              0.6666666666666666,
              "#ed7953"
             ],
             [
              0.7777777777777778,
              "#fb9f3a"
             ],
             [
              0.8888888888888888,
              "#fdca26"
             ],
             [
              1,
              "#f0f921"
             ]
            ],
            "type": "surface"
           }
          ],
          "table": [
           {
            "cells": {
             "fill": {
              "color": "#EBF0F8"
             },
             "line": {
              "color": "white"
             }
            },
            "header": {
             "fill": {
              "color": "#C8D4E3"
             },
             "line": {
              "color": "white"
             }
            },
            "type": "table"
           }
          ]
         },
         "layout": {
          "annotationdefaults": {
           "arrowcolor": "#2a3f5f",
           "arrowhead": 0,
           "arrowwidth": 1
          },
          "autotypenumbers": "strict",
          "coloraxis": {
           "colorbar": {
            "outlinewidth": 0,
            "ticks": ""
           }
          },
          "colorscale": {
           "diverging": [
            [
             0,
             "#8e0152"
            ],
            [
             0.1,
             "#c51b7d"
            ],
            [
             0.2,
             "#de77ae"
            ],
            [
             0.3,
             "#f1b6da"
            ],
            [
             0.4,
             "#fde0ef"
            ],
            [
             0.5,
             "#f7f7f7"
            ],
            [
             0.6,
             "#e6f5d0"
            ],
            [
             0.7,
             "#b8e186"
            ],
            [
             0.8,
             "#7fbc41"
            ],
            [
             0.9,
             "#4d9221"
            ],
            [
             1,
             "#276419"
            ]
           ],
           "sequential": [
            [
             0,
             "#0d0887"
            ],
            [
             0.1111111111111111,
             "#46039f"
            ],
            [
             0.2222222222222222,
             "#7201a8"
            ],
            [
             0.3333333333333333,
             "#9c179e"
            ],
            [
             0.4444444444444444,
             "#bd3786"
            ],
            [
             0.5555555555555556,
             "#d8576b"
            ],
            [
             0.6666666666666666,
             "#ed7953"
            ],
            [
             0.7777777777777778,
             "#fb9f3a"
            ],
            [
             0.8888888888888888,
             "#fdca26"
            ],
            [
             1,
             "#f0f921"
            ]
           ],
           "sequentialminus": [
            [
             0,
             "#0d0887"
            ],
            [
             0.1111111111111111,
             "#46039f"
            ],
            [
             0.2222222222222222,
             "#7201a8"
            ],
            [
             0.3333333333333333,
             "#9c179e"
            ],
            [
             0.4444444444444444,
             "#bd3786"
            ],
            [
             0.5555555555555556,
             "#d8576b"
            ],
            [
             0.6666666666666666,
             "#ed7953"
            ],
            [
             0.7777777777777778,
             "#fb9f3a"
            ],
            [
             0.8888888888888888,
             "#fdca26"
            ],
            [
             1,
             "#f0f921"
            ]
           ]
          },
          "colorway": [
           "#636efa",
           "#EF553B",
           "#00cc96",
           "#ab63fa",
           "#FFA15A",
           "#19d3f3",
           "#FF6692",
           "#B6E880",
           "#FF97FF",
           "#FECB52"
          ],
          "font": {
           "color": "#2a3f5f"
          },
          "geo": {
           "bgcolor": "white",
           "lakecolor": "white",
           "landcolor": "white",
           "showlakes": true,
           "showland": true,
           "subunitcolor": "#C8D4E3"
          },
          "hoverlabel": {
           "align": "left"
          },
          "hovermode": "closest",
          "mapbox": {
           "style": "light"
          },
          "paper_bgcolor": "white",
          "plot_bgcolor": "white",
          "polar": {
           "angularaxis": {
            "gridcolor": "#EBF0F8",
            "linecolor": "#EBF0F8",
            "ticks": ""
           },
           "bgcolor": "white",
           "radialaxis": {
            "gridcolor": "#EBF0F8",
            "linecolor": "#EBF0F8",
            "ticks": ""
           }
          },
          "scene": {
           "xaxis": {
            "backgroundcolor": "white",
            "gridcolor": "#DFE8F3",
            "gridwidth": 2,
            "linecolor": "#EBF0F8",
            "showbackground": true,
            "ticks": "",
            "zerolinecolor": "#EBF0F8"
           },
           "yaxis": {
            "backgroundcolor": "white",
            "gridcolor": "#DFE8F3",
            "gridwidth": 2,
            "linecolor": "#EBF0F8",
            "showbackground": true,
            "ticks": "",
            "zerolinecolor": "#EBF0F8"
           },
           "zaxis": {
            "backgroundcolor": "white",
            "gridcolor": "#DFE8F3",
            "gridwidth": 2,
            "linecolor": "#EBF0F8",
            "showbackground": true,
            "ticks": "",
            "zerolinecolor": "#EBF0F8"
           }
          },
          "shapedefaults": {
           "line": {
            "color": "#2a3f5f"
           }
          },
          "ternary": {
           "aaxis": {
            "gridcolor": "#DFE8F3",
            "linecolor": "#A2B1C6",
            "ticks": ""
           },
           "baxis": {
            "gridcolor": "#DFE8F3",
            "linecolor": "#A2B1C6",
            "ticks": ""
           },
           "bgcolor": "white",
           "caxis": {
            "gridcolor": "#DFE8F3",
            "linecolor": "#A2B1C6",
            "ticks": ""
           }
          },
          "title": {
           "x": 0.05
          },
          "xaxis": {
           "automargin": true,
           "gridcolor": "#EBF0F8",
           "linecolor": "#EBF0F8",
           "ticks": "",
           "title": {
            "standoff": 15
           },
           "zerolinecolor": "#EBF0F8",
           "zerolinewidth": 2
          },
          "yaxis": {
           "automargin": true,
           "gridcolor": "#EBF0F8",
           "linecolor": "#EBF0F8",
           "ticks": "",
           "title": {
            "standoff": 15
           },
           "zerolinecolor": "#EBF0F8",
           "zerolinewidth": 2
          }
         }
        },
        "title": {
         "text": "DCA Simulation (monthly)"
        },
        "xaxis": {
         "gridcolor": "LightGrey",
         "gridwidth": 1,
         "showgrid": true,
         "title": {
          "text": "Date"
         }
        },
        "yaxis": {
         "gridcolor": "LightGrey",
         "gridwidth": 1,
         "showgrid": true,
         "title": {
          "text": "USD"
         }
        }
       }
      }
     },
     "metadata": {},
     "output_type": "display_data"
    }
   ],
   "source": [
    "import plotly.graph_objects as go\n",
    "fig = go.Figure()\n",
    "\n",
    "fig.add_trace(go.Scatter(x=stock1.index, y=stock1['Value'], mode='lines', name=f'{ticker1} Value', line=dict(color='blue')))\n",
    "fig.add_trace(go.Scatter(x=stock2.index, y=stock2['Value'], mode='lines', name=f'{ticker2} Value', line=dict(color='green')))\n",
    "fig.add_trace(go.Scatter(x=stock3.index, y=stock3['Value'], mode='lines', name=f'{ticker3} Value', line=dict(color='red')))\n",
    "fig.add_trace(go.Scatter(x=stock1.index, y=stock1['Total Invested'], mode='lines', name='Total Invested', line=dict(color='orange', dash='dash')))\n",
    "\n",
    "fig.update_layout(\n",
    "    title=f'DCA Simulation ({interval})',\n",
    "    xaxis_title='Date',\n",
    "    yaxis_title='USD',\n",
    "    hovermode='x unified',\n",
    "    template='plotly_white'\n",
    ")\n",
    "\n",
    "fig.update_xaxes(showgrid=True, gridwidth=1, gridcolor='LightGrey')\n",
    "fig.update_yaxes(showgrid=True, gridwidth=1, gridcolor='LightGrey')\n",
    "\n",
    "fig.show()"
   ]
  }
 ],
 "metadata": {
  "kernelspec": {
   "display_name": "base",
   "language": "python",
   "name": "python3"
  },
  "language_info": {
   "codemirror_mode": {
    "name": "ipython",
    "version": 3
   },
   "file_extension": ".py",
   "mimetype": "text/x-python",
   "name": "python",
   "nbconvert_exporter": "python",
   "pygments_lexer": "ipython3",
   "version": "3.11.10"
  }
 },
 "nbformat": 4,
 "nbformat_minor": 5
}
