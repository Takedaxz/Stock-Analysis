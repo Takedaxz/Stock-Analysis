{
 "cells": [
  {
   "cell_type": "code",
   "execution_count": 30,
   "id": "e367754a",
   "metadata": {},
   "outputs": [],
   "source": [
    "import pandas as pd\n",
    "import numpy as np\n",
    "from selenium import webdriver\n",
    "from selenium.webdriver.chrome.service import Service\n",
    "from selenium.webdriver.common.by import By\n",
    "from bs4 import BeautifulSoup\n",
    "import time\n",
    "import datetime\n",
    "from urllib.request import urlopen, Request\n",
    "from selenium.webdriver.support.ui import WebDriverWait\n",
    "from selenium.webdriver.support import expected_conditions as EC"
   ]
  },
  {
   "cell_type": "code",
   "execution_count": 33,
   "id": "2673cecc",
   "metadata": {},
   "outputs": [],
   "source": [
    "COMPANY = \"microsoft-corp\"   "
   ]
  },
  {
   "cell_type": "code",
   "execution_count": 34,
   "id": "d3aa83a7",
   "metadata": {},
   "outputs": [],
   "source": [
    "url = f'https://www.investing.com/equities/{COMPANY}-financial-summary'\n",
    "r = Request(url, headers={'User-Agent': 'Mozilla/5.0'})\n",
    "time.sleep(2)\n",
    "response = urlopen(r).read()\n",
    "soup = BeautifulSoup(response, \"html.parser\")\n",
    "sheet = soup.find(class_=\"min-w-0\")"
   ]
  },
  {
   "cell_type": "code",
   "execution_count": 35,
   "id": "a7e1e65a",
   "metadata": {},
   "outputs": [],
   "source": [
    "ticker = sheet.find(\"h1\").text.split('(')[1].strip().replace(')', '')\n",
    "current_price = sheet.find(class_=\"text-5xl/9 font-bold text-[#232526] md:text-[42px] md:leading-[60px]\").text\n",
    "percent_change = sheet.find(\"span\", {'data-test': 'instrument-price-change-percent'}).text\n",
    "p_e_ratio = sheet.find_all(\"span\", class_=\"block text-sm leading-5 rtl:text-right rtl:soft-ltr\")[0].text\n",
    "price_book_ratio = sheet.find_all(\"span\", class_=\"block text-sm leading-5 rtl:text-right rtl:soft-ltr\")[1].text\n",
    "debt_equity_ratio = sheet.find_all(\"span\", class_=\"block text-sm leading-5 rtl:text-right rtl:soft-ltr\")[2].text\n",
    "return_on_equity = sheet.find_all(\"span\", class_=\"block text-sm leading-5 rtl:text-right rtl:soft-ltr\")[3].text\n",
    "dividend_yield = sheet.find_all(\"span\", class_=\"block text-sm leading-5 rtl:text-right rtl:soft-ltr\")[4].text\n",
    "ebitda_margin = sheet.find_all(\"span\", class_=\"block text-sm leading-5 rtl:text-right rtl:soft-ltr\")[5].text"
   ]
  },
  {
   "cell_type": "code",
   "execution_count": null,
   "id": "0c07f02d",
   "metadata": {},
   "outputs": [
    {
     "name": "stdout",
     "output_type": "stream",
     "text": [
      "Ticker : MSFT\n",
      "Current Price : 456.16 (-0.59%)\n",
      "P/E Ratio : 35.21\n",
      "Price/Book Ratio : 10.05\n",
      "Debt/Equity Ratio : 32.63%\n",
      "Return on Equity : 33.61%\n",
      "Dividend Yield : 0.73%\n",
      "EBITDA Margin : 129.43B\n"
     ]
    }
   ],
   "source": [
    "print(f'Ticker : {ticker}')\n",
    "print(f'Current Price : {current_price} {percent_change}')\n",
    "print(f'P/E Ratio : {p_e_ratio}')\n",
    "print(f'Price/Book Ratio : {price_book_ratio}')\n",
    "print(f'Debt/Equity Ratio : {debt_equity_ratio}')\n",
    "print(f'Return on Equity : {return_on_equity}')\n",
    "print(f'Dividend Yield : {dividend_yield}')\n",
    "print(f'EBITDA Margin : {ebitda_margin}')"
   ]
  },
  {
   "cell_type": "code",
   "execution_count": null,
   "id": "87a35237",
   "metadata": {},
   "outputs": [],
   "source": [
    "table = soup.find(class_=\"w-full text-xs leading-4 indicators-table_table__lfa5n indicators-table_table--freeze-column__MonUl\")\n",
    "thead = table.find('thead')\n",
    "years=[]\n",
    "for th in thead.find_all('th',class_=\"indicators-table_cell__m6pYi min-w-[100px] border-b border-[#D9DCDF] py-2.5 pr-3 text-right !text-xs font-normal rtl:text-right\"):\n",
    "    year=th.find('div', class_='font-semibold').text\n",
    "    years.append(year)"
   ]
  },
  {
   "cell_type": "code",
   "execution_count": 87,
   "id": "545bf120",
   "metadata": {},
   "outputs": [],
   "source": [
    "years=years[5:]"
   ]
  },
  {
   "cell_type": "code",
   "execution_count": null,
   "id": "872a3411",
   "metadata": {},
   "outputs": [],
   "source": [
    "statements_df= pd.DataFrame(columns='Total_Revenues, Gross_Profit, Operating_Income, Net_Income, Total_Assets, Total_Liabilities, Total_Equity, Cash and Cash Equivalents, Total Debt'.split(', '), index=years)"
   ]
  },
  {
   "cell_type": "code",
   "execution_count": 89,
   "id": "d1b740c3",
   "metadata": {},
   "outputs": [
    {
     "data": {
      "text/html": [
       "<div>\n",
       "<style scoped>\n",
       "    .dataframe tbody tr th:only-of-type {\n",
       "        vertical-align: middle;\n",
       "    }\n",
       "\n",
       "    .dataframe tbody tr th {\n",
       "        vertical-align: top;\n",
       "    }\n",
       "\n",
       "    .dataframe thead th {\n",
       "        text-align: right;\n",
       "    }\n",
       "</style>\n",
       "<table border=\"1\" class=\"dataframe\">\n",
       "  <thead>\n",
       "    <tr style=\"text-align: right;\">\n",
       "      <th></th>\n",
       "      <th>Total Revenues</th>\n",
       "      <th>Cost of Goods Sold</th>\n",
       "      <th>Gross Profit</th>\n",
       "      <th>Operating Income</th>\n",
       "      <th>Net Income</th>\n",
       "      <th>Total Assets</th>\n",
       "      <th>Total Liabilities</th>\n",
       "      <th>Shareholder Equity</th>\n",
       "      <th>Cash and Cash Equivalents</th>\n",
       "      <th>Total Debt</th>\n",
       "    </tr>\n",
       "  </thead>\n",
       "  <tbody>\n",
       "    <tr>\n",
       "      <th>2020</th>\n",
       "      <td>NaN</td>\n",
       "      <td>NaN</td>\n",
       "      <td>NaN</td>\n",
       "      <td>NaN</td>\n",
       "      <td>NaN</td>\n",
       "      <td>NaN</td>\n",
       "      <td>NaN</td>\n",
       "      <td>NaN</td>\n",
       "      <td>NaN</td>\n",
       "      <td>NaN</td>\n",
       "    </tr>\n",
       "    <tr>\n",
       "      <th>2021</th>\n",
       "      <td>NaN</td>\n",
       "      <td>NaN</td>\n",
       "      <td>NaN</td>\n",
       "      <td>NaN</td>\n",
       "      <td>NaN</td>\n",
       "      <td>NaN</td>\n",
       "      <td>NaN</td>\n",
       "      <td>NaN</td>\n",
       "      <td>NaN</td>\n",
       "      <td>NaN</td>\n",
       "    </tr>\n",
       "    <tr>\n",
       "      <th>2022</th>\n",
       "      <td>NaN</td>\n",
       "      <td>NaN</td>\n",
       "      <td>NaN</td>\n",
       "      <td>NaN</td>\n",
       "      <td>NaN</td>\n",
       "      <td>NaN</td>\n",
       "      <td>NaN</td>\n",
       "      <td>NaN</td>\n",
       "      <td>NaN</td>\n",
       "      <td>NaN</td>\n",
       "    </tr>\n",
       "    <tr>\n",
       "      <th>2023</th>\n",
       "      <td>NaN</td>\n",
       "      <td>NaN</td>\n",
       "      <td>NaN</td>\n",
       "      <td>NaN</td>\n",
       "      <td>NaN</td>\n",
       "      <td>NaN</td>\n",
       "      <td>NaN</td>\n",
       "      <td>NaN</td>\n",
       "      <td>NaN</td>\n",
       "      <td>NaN</td>\n",
       "    </tr>\n",
       "    <tr>\n",
       "      <th>2024</th>\n",
       "      <td>NaN</td>\n",
       "      <td>NaN</td>\n",
       "      <td>NaN</td>\n",
       "      <td>NaN</td>\n",
       "      <td>NaN</td>\n",
       "      <td>NaN</td>\n",
       "      <td>NaN</td>\n",
       "      <td>NaN</td>\n",
       "      <td>NaN</td>\n",
       "      <td>NaN</td>\n",
       "    </tr>\n",
       "  </tbody>\n",
       "</table>\n",
       "</div>"
      ],
      "text/plain": [
       "     Total Revenues Cost of Goods Sold Gross Profit Operating Income  \\\n",
       "2020            NaN                NaN          NaN              NaN   \n",
       "2021            NaN                NaN          NaN              NaN   \n",
       "2022            NaN                NaN          NaN              NaN   \n",
       "2023            NaN                NaN          NaN              NaN   \n",
       "2024            NaN                NaN          NaN              NaN   \n",
       "\n",
       "     Net Income Total Assets Total Liabilities Shareholder Equity  \\\n",
       "2020        NaN          NaN               NaN                NaN   \n",
       "2021        NaN          NaN               NaN                NaN   \n",
       "2022        NaN          NaN               NaN                NaN   \n",
       "2023        NaN          NaN               NaN                NaN   \n",
       "2024        NaN          NaN               NaN                NaN   \n",
       "\n",
       "     Cash and Cash Equivalents Total Debt  \n",
       "2020                       NaN        NaN  \n",
       "2021                       NaN        NaN  \n",
       "2022                       NaN        NaN  \n",
       "2023                       NaN        NaN  \n",
       "2024                       NaN        NaN  "
      ]
     },
     "execution_count": 89,
     "metadata": {},
     "output_type": "execute_result"
    }
   ],
   "source": [
    "statements_df"
   ]
  },
  {
   "cell_type": "code",
   "execution_count": 52,
   "id": "2a67c2a5",
   "metadata": {},
   "outputs": [
    {
     "name": "stdout",
     "output_type": "stream",
     "text": [
      "Year div not found.\n"
     ]
    }
   ],
   "source": [
    "year_div = table.find('div', class_='font-semibold')\n",
    "\n",
    "year = None\n",
    "if year_div:\n",
    "    year = year_div.text.strip()\n",
    "    print(f\"Extracted year: '{year}'\")\n",
    "else:\n",
    "    print(\"Year div not found.\")\n",
    "\n",
    "# If you want to convert it to an integer:\n",
    "if year:\n",
    "    try:\n",
    "        year_int = int(year)\n",
    "        print(f\"Extracted year (integer): {year_int}\")\n",
    "    except ValueError:\n",
    "        print(f\"Could not convert '{year}' to an integer.\")"
   ]
  }
 ],
 "metadata": {
  "kernelspec": {
   "display_name": "Python 3",
   "language": "python",
   "name": "python3"
  },
  "language_info": {
   "codemirror_mode": {
    "name": "ipython",
    "version": 3
   },
   "file_extension": ".py",
   "mimetype": "text/x-python",
   "name": "python",
   "nbconvert_exporter": "python",
   "pygments_lexer": "ipython3",
   "version": "3.11.9"
  }
 },
 "nbformat": 4,
 "nbformat_minor": 5
}
