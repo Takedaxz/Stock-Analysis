{
 "cells": [
  {
   "cell_type": "code",
   "execution_count": 1,
   "id": "e367754a",
   "metadata": {},
   "outputs": [],
   "source": [
    "import pandas as pd\n",
    "import numpy as np\n",
    "from selenium import webdriver\n",
    "from selenium.webdriver.chrome.service import Service\n",
    "from selenium.webdriver.common.by import By\n",
    "from bs4 import BeautifulSoup\n",
    "import time\n",
    "import datetime\n",
    "from urllib.request import urlopen, Request\n",
    "from selenium.webdriver.support.ui import WebDriverWait\n",
    "from selenium.webdriver.support import expected_conditions as EC\n",
    "import requests"
   ]
  },
  {
   "cell_type": "code",
   "execution_count": 54,
   "id": "2673cecc",
   "metadata": {},
   "outputs": [],
   "source": [
    "#CONFIGURATION\n",
    "COMPANY = \"nvidia-corp\""
   ]
  },
  {
   "cell_type": "code",
   "execution_count": 55,
   "id": "d3aa83a7",
   "metadata": {},
   "outputs": [
    {
     "name": "stdout",
     "output_type": "stream",
     "text": [
      "Successfully retrieved: 200\n"
     ]
    }
   ],
   "source": [
    "import cloudscraper\n",
    "from bs4 import BeautifulSoup\n",
    "import time\n",
    "import random\n",
    "\n",
    "scraper = cloudscraper.create_scraper(\n",
    "    browser={\n",
    "        'browser': 'chrome',\n",
    "        'platform': 'windows',\n",
    "        'mobile': False\n",
    "    },\n",
    "    delay=2\n",
    ")\n",
    "\n",
    "url = f'https://www.investing.com/equities/{COMPANY}-financial-summary'\n",
    "\n",
    "time.sleep(random.uniform(1, 3))\n",
    "\n",
    "try:\n",
    "    response = scraper.get(url)\n",
    "    \n",
    "    if response.status_code == 200:\n",
    "        print(f\"Successfully retrieved: {response.status_code}\")\n",
    "        soup = BeautifulSoup(response.content, 'html.parser')\n",
    "        sheet = soup.find(class_=\"min-w-0\")\n",
    "    else:\n",
    "        print(f\"Failed to retrieve: {response.status_code}\")\n",
    "except Exception as e:\n",
    "    print(f\"Error: {e}\")"
   ]
  },
  {
   "cell_type": "code",
   "execution_count": 57,
   "id": "a7e1e65a",
   "metadata": {},
   "outputs": [],
   "source": [
    "ticker = sheet.find(\"h1\").text.split('(')[1].strip().replace(')', '')\n",
    "current_price = sheet.find(class_=\"text-5xl/9 font-bold text-[#232526] md:text-[42px] md:leading-[60px]\").text\n",
    "percent_change = sheet.find(\"span\", {'data-test': 'instrument-price-change-percent'}).text\n",
    "p_e_ratio = sheet.find_all(\"span\", class_=\"block text-sm leading-5 rtl:text-right rtl:soft-ltr\")[0].text\n",
    "price_book_ratio = sheet.find_all(\"span\", class_=\"block text-sm leading-5 rtl:text-right rtl:soft-ltr\")[1].text\n",
    "debt_equity_ratio = sheet.find_all(\"span\", class_=\"block text-sm leading-5 rtl:text-right rtl:soft-ltr\")[2].text\n",
    "return_on_equity = sheet.find_all(\"span\", class_=\"block text-sm leading-5 rtl:text-right rtl:soft-ltr\")[3].text\n",
    "dividend_yield = sheet.find_all(\"span\", class_=\"block text-sm leading-5 rtl:text-right rtl:soft-ltr\")[4].text\n",
    "ebitda_margin = sheet.find_all(\"span\", class_=\"block text-sm leading-5 rtl:text-right rtl:soft-ltr\")[5].text\n",
    "#check if the 5-year element exists before accessing it\n",
    "if len(sheet.find_all(\"div\", class_=\"font-['Inter'] text-sm font-semibold leading-tight text-[#181c21] !text-[#007C32]\")) > 0:\n",
    "    five_years_growth = sheet.find_all(\"div\", class_=\"font-['Inter'] text-sm font-semibold leading-tight text-[#181c21] !text-[#007C32]\")[0].text\n",
    "else:\n",
    "    five_years_growth = \"N/A\""
   ]
  },
  {
   "cell_type": "code",
   "execution_count": 58,
   "id": "0c07f02d",
   "metadata": {},
   "outputs": [
    {
     "name": "stdout",
     "output_type": "stream",
     "text": [
      "Ticker : NVDA\n",
      "Current Price : 134.38 (-0.88%)\n",
      "P/E Ratio : 45.49\n",
      "Price/Book Ratio : 41.76\n",
      "Debt/Equity Ratio : 12.95%\n",
      "Return on Equity : 119.18%\n",
      "Dividend Yield : 0.03%\n",
      "EBITDA Margin : 83.32B\n",
      "5 Years Growth : +16.27%\n"
     ]
    }
   ],
   "source": [
    "print(f'Ticker : {ticker}')\n",
    "print(f'Current Price : {current_price} {percent_change}')\n",
    "print(f'P/E Ratio : {p_e_ratio}')\n",
    "print(f'Price/Book Ratio : {price_book_ratio}')\n",
    "print(f'Debt/Equity Ratio : {debt_equity_ratio}')\n",
    "print(f'Return on Equity : {return_on_equity}')\n",
    "print(f'Dividend Yield : {dividend_yield}')\n",
    "print(f'EBITDA Margin : {ebitda_margin}')\n",
    "print(f'5 Years Growth : {five_years_growth}')"
   ]
  },
  {
   "cell_type": "code",
   "execution_count": 59,
   "id": "87a35237",
   "metadata": {},
   "outputs": [],
   "source": [
    "table = soup.find(class_=\"w-full text-xs leading-4 indicators-table_table__lfa5n indicators-table_table--freeze-column__MonUl\")\n",
    "thead = table.find('thead')\n",
    "years=[]\n",
    "for th in thead.find_all('th',class_=\"indicators-table_cell__m6pYi min-w-[100px] border-b border-[#D9DCDF] py-2.5 pr-3 text-right !text-xs font-normal rtl:text-right\"):\n",
    "    year=th.find('div', class_='font-semibold').text\n",
    "    years.append(year)"
   ]
  },
  {
   "cell_type": "code",
   "execution_count": 60,
   "id": "545bf120",
   "metadata": {},
   "outputs": [],
   "source": [
    "years=years[5:]"
   ]
  },
  {
   "cell_type": "code",
   "execution_count": 61,
   "id": "7d91d3a2",
   "metadata": {},
   "outputs": [
    {
     "name": "stdout",
     "output_type": "stream",
     "text": [
      "['Total Revenues', 'Gross Profit', 'Operating Income', 'Net Income', 'Total Assets', 'Total Current Liabilities', 'Total Equity', 'Levered Free Cash Flow', 'Cash from Operations', 'Cash from Investing', 'Cash from Financing', 'Net Change in Cash']\n"
     ]
    }
   ],
   "source": [
    "columns = [col.text.strip() for col in table.find_all('div', class_=\"overflow-hidden text-ellipsis whitespace-nowrap\")]\n",
    "columns = [col for col in columns if col not in ['Income Statement', 'Balance Sheet', 'Cash Flow']]\n",
    "print(columns)"
   ]
  },
  {
   "cell_type": "code",
   "execution_count": 62,
   "id": "872a3411",
   "metadata": {},
   "outputs": [],
   "source": [
    "statements_df= pd.DataFrame(columns=columns, index=years)"
   ]
  },
  {
   "cell_type": "code",
   "execution_count": 63,
   "id": "d1b740c3",
   "metadata": {},
   "outputs": [
    {
     "data": {
      "application/vnd.microsoft.datawrangler.viewer.v0+json": {
       "columns": [
        {
         "name": "index",
         "rawType": "object",
         "type": "string"
        },
        {
         "name": "Total Revenues",
         "rawType": "object",
         "type": "unknown"
        },
        {
         "name": "Gross Profit",
         "rawType": "object",
         "type": "unknown"
        },
        {
         "name": "Operating Income",
         "rawType": "object",
         "type": "unknown"
        },
        {
         "name": "Net Income",
         "rawType": "object",
         "type": "unknown"
        },
        {
         "name": "Total Assets",
         "rawType": "object",
         "type": "unknown"
        },
        {
         "name": "Total Current Liabilities",
         "rawType": "object",
         "type": "unknown"
        },
        {
         "name": "Total Equity",
         "rawType": "object",
         "type": "unknown"
        },
        {
         "name": "Levered Free Cash Flow",
         "rawType": "object",
         "type": "unknown"
        },
        {
         "name": "Cash from Operations",
         "rawType": "object",
         "type": "unknown"
        },
        {
         "name": "Cash from Investing",
         "rawType": "object",
         "type": "unknown"
        },
        {
         "name": "Cash from Financing",
         "rawType": "object",
         "type": "unknown"
        },
        {
         "name": "Net Change in Cash",
         "rawType": "object",
         "type": "unknown"
        }
       ],
       "ref": "9f21e70a-2080-40b9-bd0a-32aa38eabf9e",
       "rows": [
        [
         "2021",
         null,
         null,
         null,
         null,
         null,
         null,
         null,
         null,
         null,
         null,
         null,
         null
        ],
        [
         "2022",
         null,
         null,
         null,
         null,
         null,
         null,
         null,
         null,
         null,
         null,
         null,
         null
        ],
        [
         "2023",
         null,
         null,
         null,
         null,
         null,
         null,
         null,
         null,
         null,
         null,
         null,
         null
        ],
        [
         "2024",
         null,
         null,
         null,
         null,
         null,
         null,
         null,
         null,
         null,
         null,
         null,
         null
        ],
        [
         "2025",
         null,
         null,
         null,
         null,
         null,
         null,
         null,
         null,
         null,
         null,
         null,
         null
        ]
       ],
       "shape": {
        "columns": 12,
        "rows": 5
       }
      },
      "text/html": [
       "<div>\n",
       "<style scoped>\n",
       "    .dataframe tbody tr th:only-of-type {\n",
       "        vertical-align: middle;\n",
       "    }\n",
       "\n",
       "    .dataframe tbody tr th {\n",
       "        vertical-align: top;\n",
       "    }\n",
       "\n",
       "    .dataframe thead th {\n",
       "        text-align: right;\n",
       "    }\n",
       "</style>\n",
       "<table border=\"1\" class=\"dataframe\">\n",
       "  <thead>\n",
       "    <tr style=\"text-align: right;\">\n",
       "      <th></th>\n",
       "      <th>Total Revenues</th>\n",
       "      <th>Gross Profit</th>\n",
       "      <th>Operating Income</th>\n",
       "      <th>Net Income</th>\n",
       "      <th>Total Assets</th>\n",
       "      <th>Total Current Liabilities</th>\n",
       "      <th>Total Equity</th>\n",
       "      <th>Levered Free Cash Flow</th>\n",
       "      <th>Cash from Operations</th>\n",
       "      <th>Cash from Investing</th>\n",
       "      <th>Cash from Financing</th>\n",
       "      <th>Net Change in Cash</th>\n",
       "    </tr>\n",
       "  </thead>\n",
       "  <tbody>\n",
       "    <tr>\n",
       "      <th>2021</th>\n",
       "      <td>NaN</td>\n",
       "      <td>NaN</td>\n",
       "      <td>NaN</td>\n",
       "      <td>NaN</td>\n",
       "      <td>NaN</td>\n",
       "      <td>NaN</td>\n",
       "      <td>NaN</td>\n",
       "      <td>NaN</td>\n",
       "      <td>NaN</td>\n",
       "      <td>NaN</td>\n",
       "      <td>NaN</td>\n",
       "      <td>NaN</td>\n",
       "    </tr>\n",
       "    <tr>\n",
       "      <th>2022</th>\n",
       "      <td>NaN</td>\n",
       "      <td>NaN</td>\n",
       "      <td>NaN</td>\n",
       "      <td>NaN</td>\n",
       "      <td>NaN</td>\n",
       "      <td>NaN</td>\n",
       "      <td>NaN</td>\n",
       "      <td>NaN</td>\n",
       "      <td>NaN</td>\n",
       "      <td>NaN</td>\n",
       "      <td>NaN</td>\n",
       "      <td>NaN</td>\n",
       "    </tr>\n",
       "    <tr>\n",
       "      <th>2023</th>\n",
       "      <td>NaN</td>\n",
       "      <td>NaN</td>\n",
       "      <td>NaN</td>\n",
       "      <td>NaN</td>\n",
       "      <td>NaN</td>\n",
       "      <td>NaN</td>\n",
       "      <td>NaN</td>\n",
       "      <td>NaN</td>\n",
       "      <td>NaN</td>\n",
       "      <td>NaN</td>\n",
       "      <td>NaN</td>\n",
       "      <td>NaN</td>\n",
       "    </tr>\n",
       "    <tr>\n",
       "      <th>2024</th>\n",
       "      <td>NaN</td>\n",
       "      <td>NaN</td>\n",
       "      <td>NaN</td>\n",
       "      <td>NaN</td>\n",
       "      <td>NaN</td>\n",
       "      <td>NaN</td>\n",
       "      <td>NaN</td>\n",
       "      <td>NaN</td>\n",
       "      <td>NaN</td>\n",
       "      <td>NaN</td>\n",
       "      <td>NaN</td>\n",
       "      <td>NaN</td>\n",
       "    </tr>\n",
       "    <tr>\n",
       "      <th>2025</th>\n",
       "      <td>NaN</td>\n",
       "      <td>NaN</td>\n",
       "      <td>NaN</td>\n",
       "      <td>NaN</td>\n",
       "      <td>NaN</td>\n",
       "      <td>NaN</td>\n",
       "      <td>NaN</td>\n",
       "      <td>NaN</td>\n",
       "      <td>NaN</td>\n",
       "      <td>NaN</td>\n",
       "      <td>NaN</td>\n",
       "      <td>NaN</td>\n",
       "    </tr>\n",
       "  </tbody>\n",
       "</table>\n",
       "</div>"
      ],
      "text/plain": [
       "     Total Revenues Gross Profit Operating Income Net Income Total Assets  \\\n",
       "2021            NaN          NaN              NaN        NaN          NaN   \n",
       "2022            NaN          NaN              NaN        NaN          NaN   \n",
       "2023            NaN          NaN              NaN        NaN          NaN   \n",
       "2024            NaN          NaN              NaN        NaN          NaN   \n",
       "2025            NaN          NaN              NaN        NaN          NaN   \n",
       "\n",
       "     Total Current Liabilities Total Equity Levered Free Cash Flow  \\\n",
       "2021                       NaN          NaN                    NaN   \n",
       "2022                       NaN          NaN                    NaN   \n",
       "2023                       NaN          NaN                    NaN   \n",
       "2024                       NaN          NaN                    NaN   \n",
       "2025                       NaN          NaN                    NaN   \n",
       "\n",
       "     Cash from Operations Cash from Investing Cash from Financing  \\\n",
       "2021                  NaN                 NaN                 NaN   \n",
       "2022                  NaN                 NaN                 NaN   \n",
       "2023                  NaN                 NaN                 NaN   \n",
       "2024                  NaN                 NaN                 NaN   \n",
       "2025                  NaN                 NaN                 NaN   \n",
       "\n",
       "     Net Change in Cash  \n",
       "2021                NaN  \n",
       "2022                NaN  \n",
       "2023                NaN  \n",
       "2024                NaN  \n",
       "2025                NaN  "
      ]
     },
     "execution_count": 63,
     "metadata": {},
     "output_type": "execute_result"
    }
   ],
   "source": [
    "statements_df"
   ]
  },
  {
   "cell_type": "code",
   "execution_count": 64,
   "id": "998f2288",
   "metadata": {},
   "outputs": [],
   "source": [
    "total_value = [\n",
    "\tfloat(col.text.strip().replace(',', '').replace('−', '-').replace('–', '-'))\n",
    "\tfor col in table.find_all('td', class_=\"indicators-table_cell__m6pYi whitespace-nowrap py-2.5 pr-3 text-right min-w-[100px] border-b border-[#D9DCDF] font-normal\")\n",
    "]\n",
    "total_revenue = total_value[0:len(years)]\n",
    "gross_profit = total_value[len(years):len(years)*2]\n",
    "operating_income = total_value[len(years)*2:len(years)*3]\n",
    "net_income = total_value[len(years)*3:len(years)*4]\n",
    "total_assets = total_value[len(years)*4:len(years)*5]\n",
    "total_liabilities = total_value[len(years)*5:len(years)*6]\n",
    "total_equity = total_value[len(years)*6:len(years)*7]\n",
    "levered_free_cash_flow = total_value[len(years)*7:len(years)*8]\n",
    "cash_from_operations = total_value[len(years)*8:len(years)*9]\n",
    "cash_from_investing = total_value[len(years)*9:len(years)*10]\n",
    "cash_from_financing = total_value[len(years)*10:len(years)*11]\n",
    "net_change_cash = total_value[len(years)*11:len(years)*12]"
   ]
  },
  {
   "cell_type": "code",
   "execution_count": 65,
   "id": "00a45881",
   "metadata": {},
   "outputs": [],
   "source": [
    "#fill the dataframe with the values\n",
    "statements_df.loc[:, 'Total Revenues'] = total_revenue\n",
    "statements_df.loc[:, 'Gross Profit'] = gross_profit\n",
    "statements_df.loc[:, 'Operating Income'] = operating_income\n",
    "statements_df.loc[:, 'Net Income'] = net_income\n",
    "statements_df.loc[:, 'Total Assets'] = total_assets\n",
    "statements_df.loc[:, 'Total Current Liabilities'] = total_liabilities\n",
    "statements_df.loc[:, 'Total Equity'] = total_equity\n",
    "statements_df.loc[:, 'Levered Free Cash Flow'] = levered_free_cash_flow\n",
    "statements_df.loc[:, 'Cash from Operations'] = cash_from_operations\n",
    "statements_df.loc[:, 'Cash from Investing'] = cash_from_investing\n",
    "statements_df.loc[:, 'Cash from Financing'] = cash_from_financing\n",
    "statements_df.loc[:, 'Net Change in Cash'] = net_change_cash"
   ]
  },
  {
   "cell_type": "code",
   "execution_count": 67,
   "id": "ac4619a2",
   "metadata": {},
   "outputs": [
    {
     "data": {
      "image/png": "[encoded data removed]",
      "text/plain": [
       "<Figure size 1600x800 with 1 Axes>"
      ]
     },
     "metadata": {},
     "output_type": "display_data"
    }
   ],
   "source": [
    "import matplotlib.pyplot as plt\n",
    "import seaborn as sns\n",
    "\n",
    "plt.figure(figsize=(16, 8))\n",
    "sns.lineplot(data=statements_df, x=statements_df.index, y='Total Revenues', label='Total Revenues')\n",
    "sns.lineplot(data=statements_df, x=statements_df.index, y='Gross Profit', label='Gross Profit')\n",
    "plt.xlabel('Year')\n",
    "plt.ylabel('Value in USD')\n",
    "plt.title(f'Financial Summary of {COMPANY}')\n",
    "plt.legend()\n",
    "plt.grid()\n",
    "plt.show()"
   ]
  },
  {
   "cell_type": "code",
   "execution_count": 68,
   "id": "0581d66f",
   "metadata": {},
   "outputs": [],
   "source": [
    "now = datetime.datetime.now()\n",
    "date_time = now.strftime(\"%Y-%m-%d %H-%M-%S\").strip().replace(' ', '_')\n",
    "statements_df.to_csv(f\"Data/Financials/{ticker}_{date_time}.csv\", index=False)"
   ]
  }
 ],
 "metadata": {
  "kernelspec": {
   "display_name": "base",
   "language": "python",
   "name": "python3"
  },
  "language_info": {
   "codemirror_mode": {
    "name": "ipython",
    "version": 3
   },
   "file_extension": ".py",
   "mimetype": "text/x-python",
   "name": "python",
   "nbconvert_exporter": "python",
   "pygments_lexer": "ipython3",
   "version": "3.11.10"
  }
 },
 "nbformat": 4,
 "nbformat_minor": 5
}
