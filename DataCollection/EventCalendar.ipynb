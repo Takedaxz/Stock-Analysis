{
 "cells": [
  {
   "cell_type": "code",
   "execution_count": 1,
   "id": "228602ff",
   "metadata": {},
   "outputs": [],
   "source": [
    "import pandas as pd\n",
    "import numpy as np\n",
    "from selenium import webdriver\n",
    "from selenium.webdriver.chrome.service import Service\n",
    "from selenium.webdriver.common.by import By\n",
    "from bs4 import BeautifulSoup\n",
    "import time\n",
    "import datetime\n",
    "from urllib.request import urlopen, Request"
   ]
  },
  {
   "cell_type": "code",
   "execution_count": 2,
   "id": "590e7f77",
   "metadata": {},
   "outputs": [],
   "source": [
    "r = Request('https://th.investing.com/economic-calendar/', headers={'User-Agent': 'Mozilla/5.0'})\n",
    "time.sleep(2)\n",
    "response = urlopen(r).read()\n",
    "soup = BeautifulSoup(response, \"html.parser\")\n",
    "table = soup.find_all(class_ = \"js-event-item\")\n",
    "result = []"
   ]
  },
  {
   "cell_type": "code",
   "execution_count": 3,
   "id": "a40e4e80",
   "metadata": {},
   "outputs": [],
   "source": [
    "def event_calendar():\n",
    "    \n",
    "    for bl in table:\n",
    "        event_datetime = bl.get('data-event-datetime', '').strip()\n",
    "        currency = bl.find(class_=\"left flagCur noWrap\").text.strip()\n",
    "        intensity_divs = bl.find_all(class_=\"left textNum sentiment noWrap\")\n",
    "        event = bl.find(class_=\"left event\").text.strip()\n",
    "        intencity_val = 0\n",
    "        true_count = 0\n",
    "\n",
    "        for intence in intensity_divs:\n",
    "            _true = intence.find_all(class_=\"grayFullBullishIcon\")\n",
    "            _false = intence.find_all(class_=\"grayEmptyBullishIcon\")\n",
    "\n",
    "            true_count = len(_true)\n",
    "\n",
    "            if true_count == 3:\n",
    "                intencity_val = 3\n",
    "            elif true_count == 2:\n",
    "                intencity_val = 2\n",
    "            else :\n",
    "                intencity_val = 1\n",
    "                \n",
    "        event_datetime = event_datetime.split(' ')\n",
    "        date=event_datetime[0]\n",
    "        time=event_datetime[1]\n",
    "        \n",
    "        \n",
    "        result.append({'currency' : currency, 'date' : date, 'time' : time, 'intensity' : intencity_val, 'event':event})\n",
    "\n",
    "    return result"
   ]
  },
  {
   "cell_type": "code",
   "execution_count": 4,
   "id": "03458d6e",
   "metadata": {},
   "outputs": [],
   "source": [
    "news = event_calendar()\n",
    "news_df = pd.DataFrame(news)"
   ]
  },
  {
   "cell_type": "code",
   "execution_count": 5,
   "id": "bba97e98",
   "metadata": {},
   "outputs": [
    {
     "data": {
      "text/plain": [
       "(50, 5)"
      ]
     },
     "metadata": {},
     "output_type": "display_data"
    },
    {
     "data": {
      "text/html": [
       "<div>\n",
       "<style scoped>\n",
       "    .dataframe tbody tr th:only-of-type {\n",
       "        vertical-align: middle;\n",
       "    }\n",
       "\n",
       "    .dataframe tbody tr th {\n",
       "        vertical-align: top;\n",
       "    }\n",
       "\n",
       "    .dataframe thead th {\n",
       "        text-align: right;\n",
       "    }\n",
       "</style>\n",
       "<table border=\"1\" class=\"dataframe\">\n",
       "  <thead>\n",
       "    <tr style=\"text-align: right;\">\n",
       "      <th></th>\n",
       "      <th>currency</th>\n",
       "      <th>date</th>\n",
       "      <th>time</th>\n",
       "      <th>intensity</th>\n",
       "      <th>event</th>\n",
       "    </tr>\n",
       "  </thead>\n",
       "  <tbody>\n",
       "    <tr>\n",
       "      <th>0</th>\n",
       "      <td>NZD</td>\n",
       "      <td>2025/06/16</td>\n",
       "      <td>05:30:00</td>\n",
       "      <td>1</td>\n",
       "      <td>ดัชนีชี้วัดผลสำเร็จภาคการบริการ  ( พ.ค.)</td>\n",
       "    </tr>\n",
       "    <tr>\n",
       "      <th>1</th>\n",
       "      <td>GBP</td>\n",
       "      <td>2025/06/16</td>\n",
       "      <td>06:01:00</td>\n",
       "      <td>1</td>\n",
       "      <td>ดัชนีราคาบ้านจากสถาบัน Rightmove (เดือนต่อเดือน)</td>\n",
       "    </tr>\n",
       "    <tr>\n",
       "      <th>2</th>\n",
       "      <td>GBP</td>\n",
       "      <td>2025/06/16</td>\n",
       "      <td>06:01:00</td>\n",
       "      <td>1</td>\n",
       "      <td>ดัชนีราคาบ้านจากสถาบัน Rightmove (ปีต่อปี)  (ม...</td>\n",
       "    </tr>\n",
       "    <tr>\n",
       "      <th>3</th>\n",
       "      <td>KRW</td>\n",
       "      <td>2025/06/16</td>\n",
       "      <td>06:55:00</td>\n",
       "      <td>1</td>\n",
       "      <td>ปริมาณการส่งออก (ปีต่อปี)  ( พ.ค.)</td>\n",
       "    </tr>\n",
       "    <tr>\n",
       "      <th>4</th>\n",
       "      <td>KRW</td>\n",
       "      <td>2025/06/16</td>\n",
       "      <td>06:55:00</td>\n",
       "      <td>1</td>\n",
       "      <td>ปริมาณการนำเข้า (ปีต่อปี)  ( พ.ค.)</td>\n",
       "    </tr>\n",
       "    <tr>\n",
       "      <th>5</th>\n",
       "      <td>KRW</td>\n",
       "      <td>2025/06/16</td>\n",
       "      <td>06:55:00</td>\n",
       "      <td>1</td>\n",
       "      <td>ดุลการค้าของเกาหลีใต้  ( พ.ค.)</td>\n",
       "    </tr>\n",
       "    <tr>\n",
       "      <th>6</th>\n",
       "      <td>CNY</td>\n",
       "      <td>2025/06/16</td>\n",
       "      <td>08:30:00</td>\n",
       "      <td>1</td>\n",
       "      <td>ดัชนีราคาบ้านในจีน (ปีต่อปี)  ( พ.ค.)</td>\n",
       "    </tr>\n",
       "    <tr>\n",
       "      <th>7</th>\n",
       "      <td>CNY</td>\n",
       "      <td>2025/06/16</td>\n",
       "      <td>09:00:00</td>\n",
       "      <td>2</td>\n",
       "      <td>การลงทุนในสินทรัพย์คงที่ของจีน (Fixed Asset In...</td>\n",
       "    </tr>\n",
       "    <tr>\n",
       "      <th>8</th>\n",
       "      <td>CNY</td>\n",
       "      <td>2025/06/16</td>\n",
       "      <td>09:00:00</td>\n",
       "      <td>2</td>\n",
       "      <td>ดัชนีการผลิตภาคอุตสาหกรรมของจีน (ปีต่อปี)  ( พ...</td>\n",
       "    </tr>\n",
       "    <tr>\n",
       "      <th>9</th>\n",
       "      <td>CNY</td>\n",
       "      <td>2025/06/16</td>\n",
       "      <td>09:00:00</td>\n",
       "      <td>2</td>\n",
       "      <td>ผลผลิตอุตสาหกรรมของจีนตั้งแต่ต้นปี (ปีต่อปี)  ...</td>\n",
       "    </tr>\n",
       "  </tbody>\n",
       "</table>\n",
       "</div>"
      ],
      "text/plain": [
       "  currency        date      time  intensity  \\\n",
       "0      NZD  2025/06/16  05:30:00          1   \n",
       "1      GBP  2025/06/16  06:01:00          1   \n",
       "2      GBP  2025/06/16  06:01:00          1   \n",
       "3      KRW  2025/06/16  06:55:00          1   \n",
       "4      KRW  2025/06/16  06:55:00          1   \n",
       "5      KRW  2025/06/16  06:55:00          1   \n",
       "6      CNY  2025/06/16  08:30:00          1   \n",
       "7      CNY  2025/06/16  09:00:00          2   \n",
       "8      CNY  2025/06/16  09:00:00          2   \n",
       "9      CNY  2025/06/16  09:00:00          2   \n",
       "\n",
       "                                               event  \n",
       "0           ดัชนีชี้วัดผลสำเร็จภาคการบริการ  ( พ.ค.)  \n",
       "1   ดัชนีราคาบ้านจากสถาบัน Rightmove (เดือนต่อเดือน)  \n",
       "2  ดัชนีราคาบ้านจากสถาบัน Rightmove (ปีต่อปี)  (ม...  \n",
       "3                 ปริมาณการส่งออก (ปีต่อปี)  ( พ.ค.)  \n",
       "4                 ปริมาณการนำเข้า (ปีต่อปี)  ( พ.ค.)  \n",
       "5                     ดุลการค้าของเกาหลีใต้  ( พ.ค.)  \n",
       "6              ดัชนีราคาบ้านในจีน (ปีต่อปี)  ( พ.ค.)  \n",
       "7  การลงทุนในสินทรัพย์คงที่ของจีน (Fixed Asset In...  \n",
       "8  ดัชนีการผลิตภาคอุตสาหกรรมของจีน (ปีต่อปี)  ( พ...  \n",
       "9  ผลผลิตอุตสาหกรรมของจีนตั้งแต่ต้นปี (ปีต่อปี)  ...  "
      ]
     },
     "metadata": {},
     "output_type": "display_data"
    }
   ],
   "source": [
    "display(news_df.shape)\n",
    "display(news_df.head(10))"
   ]
  },
  {
   "cell_type": "code",
   "execution_count": 6,
   "id": "ffddb27c",
   "metadata": {},
   "outputs": [],
   "source": [
    "now = datetime.datetime.now()\n",
    "date_time = now.strftime(\"%Y-%m-%d %H-%M-%S\").strip().replace(' ', '_')\n",
    "news_df.to_csv(f'Data/Event_Calendar/{date_time}.csv', index=False)"
   ]
  },
  {
   "cell_type": "code",
   "execution_count": 7,
   "id": "a65ac295",
   "metadata": {},
   "outputs": [
    {
     "name": "stdout",
     "output_type": "stream",
     "text": [
      "Empty DataFrame\n",
      "Columns: [currency, event]\n",
      "Index: []\n"
     ]
    }
   ],
   "source": [
    "print(news_df[news_df['intensity'] == 3][['currency', 'event']])"
   ]
  }
 ],
 "metadata": {
  "kernelspec": {
   "display_name": "Python 3",
   "language": "python",
   "name": "python3"
  },
  "language_info": {
   "codemirror_mode": {
    "name": "ipython",
    "version": 3
   },
   "file_extension": ".py",
   "mimetype": "text/x-python",
   "name": "python",
   "nbconvert_exporter": "python",
   "pygments_lexer": "ipython3",
   "version": "3.11.9"
  }
 },
 "nbformat": 4,
 "nbformat_minor": 5
}
