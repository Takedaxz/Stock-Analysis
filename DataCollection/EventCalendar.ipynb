{
 "cells": [
  {
   "cell_type": "code",
   "execution_count": 1,
   "id": "228602ff",
   "metadata": {},
   "outputs": [],
   "source": [
    "import pandas as pd\n",
    "import numpy as np\n",
    "from selenium import webdriver\n",
    "from selenium.webdriver.chrome.service import Service\n",
    "from selenium.webdriver.common.by import By\n",
    "from bs4 import BeautifulSoup\n",
    "import time\n",
    "import datetime\n",
    "from urllib.request import urlopen, Request"
   ]
  },
  {
   "cell_type": "code",
   "execution_count": 2,
   "id": "590e7f77",
   "metadata": {},
   "outputs": [],
   "source": [
    "r = Request('https://th.investing.com/economic-calendar/', headers={'User-Agent': 'Mozilla/5.0'})\n",
    "time.sleep(2)\n",
    "response = urlopen(r).read()\n",
    "soup = BeautifulSoup(response, \"html.parser\")\n",
    "table = soup.find_all(class_ = \"js-event-item\")\n",
    "result = []"
   ]
  },
  {
   "cell_type": "code",
   "execution_count": 3,
   "id": "a40e4e80",
   "metadata": {},
   "outputs": [],
   "source": [
    "def event_calendar():\n",
    "    \n",
    "    for bl in table:\n",
    "        event_datetime = bl.get('data-event-datetime', '').strip()\n",
    "        currency = bl.find(class_=\"left flagCur noWrap\").text.strip()\n",
    "        intensity_divs = bl.find_all(class_=\"left textNum sentiment noWrap\")\n",
    "        event = bl.find(class_=\"left event\").text.strip()\n",
    "        intencity_val = 0\n",
    "        true_count = 0\n",
    "\n",
    "        for intence in intensity_divs:\n",
    "            _true = intence.find_all(class_=\"grayFullBullishIcon\")\n",
    "            _false = intence.find_all(class_=\"grayEmptyBullishIcon\")\n",
    "\n",
    "            true_count = len(_true)\n",
    "\n",
    "            if true_count == 3:\n",
    "                intencity_val = 3\n",
    "            elif true_count == 2:\n",
    "                intencity_val = 2\n",
    "            else :\n",
    "                intencity_val = 1\n",
    "                \n",
    "        event_datetime = event_datetime.split(' ')\n",
    "        date=event_datetime[0]\n",
    "        time=event_datetime[1]\n",
    "        \n",
    "        \n",
    "        result.append({'currency' : currency, 'date' : date, 'time' : time, 'intensity' : intencity_val, 'event':event})\n",
    "\n",
    "    return result"
   ]
  },
  {
   "cell_type": "code",
   "execution_count": 4,
   "id": "03458d6e",
   "metadata": {},
   "outputs": [],
   "source": [
    "news = event_calendar()\n",
    "news_df = pd.DataFrame(news)"
   ]
  },
  {
   "cell_type": "code",
   "execution_count": 5,
   "id": "bba97e98",
   "metadata": {},
   "outputs": [
    {
     "data": {
      "text/plain": [
       "(77, 5)"
      ]
     },
     "metadata": {},
     "output_type": "display_data"
    },
    {
     "data": {
      "application/vnd.microsoft.datawrangler.viewer.v0+json": {
       "columns": [
        {
         "name": "index",
         "rawType": "int64",
         "type": "integer"
        },
        {
         "name": "currency",
         "rawType": "object",
         "type": "string"
        },
        {
         "name": "date",
         "rawType": "object",
         "type": "string"
        },
        {
         "name": "time",
         "rawType": "object",
         "type": "string"
        },
        {
         "name": "intensity",
         "rawType": "int64",
         "type": "integer"
        },
        {
         "name": "event",
         "rawType": "object",
         "type": "string"
        }
       ],
       "ref": "83736c60-d8b1-4821-b6f4-8019bb48e4cb",
       "rows": [
        [
         "0",
         "USD",
         "2025/05/22",
         "00:30:00",
         "2",
         "การประมูลพันธบัตรอายุ 20 ปี"
        ],
        [
         "1",
         "BRL",
         "2025/05/22",
         "00:30:00",
         "1",
         "ดัชนีกระแสการแลกเปลี่ยนเงินตราต่างประเทศของบราซิล"
        ],
        [
         "2",
         "AUD",
         "2025/05/22",
         "06:00:00",
         "1",
         "ดัชนี PMI ภาคการผลิต  ( พ.ค.)"
        ],
        [
         "3",
         "AUD",
         "2025/05/22",
         "06:00:00",
         "1",
         "ดัชนี PMI ภาคบริการ  ( พ.ค.)"
        ],
        [
         "4",
         "JPY",
         "2025/05/22",
         "06:50:00",
         "1",
         "ยอดคำสั่งซื้อเครื่องจักรกล (ปีต่อปี)  (มี.ค.)"
        ],
        [
         "5",
         "JPY",
         "2025/05/22",
         "06:50:00",
         "1",
         "ยอดคำสั่งซื้อสินค้าประเภทเครื่องจักร (เดือนต่อเดือน)  (มี.ค.)"
        ],
        [
         "6",
         "JPY",
         "2025/05/22",
         "06:50:00",
         "1",
         "ยอดการซื้อตราสารหนี้ต่างประเทศ"
        ],
        [
         "7",
         "JPY",
         "2025/05/22",
         "06:50:00",
         "1",
         "การลงทุนจากต่างประเทศในหุ้นญี่ปุ่น"
        ],
        [
         "8",
         "SGD",
         "2025/05/22",
         "07:00:00",
         "1",
         "ดัชนีจีดีพีของสิงคโปร์ (ปีต่อปี)  (ไตรมาส 1)"
        ],
        [
         "9",
         "SGD",
         "2025/05/22",
         "07:00:00",
         "1",
         "ดัชนีจีดีพีของสิงคโปร์ (ไตรมาสต่อไตรมาส)  (ไตรมาส 1)"
        ]
       ],
       "shape": {
        "columns": 5,
        "rows": 10
       }
      },
      "text/html": [
       "<div>\n",
       "<style scoped>\n",
       "    .dataframe tbody tr th:only-of-type {\n",
       "        vertical-align: middle;\n",
       "    }\n",
       "\n",
       "    .dataframe tbody tr th {\n",
       "        vertical-align: top;\n",
       "    }\n",
       "\n",
       "    .dataframe thead th {\n",
       "        text-align: right;\n",
       "    }\n",
       "</style>\n",
       "<table border=\"1\" class=\"dataframe\">\n",
       "  <thead>\n",
       "    <tr style=\"text-align: right;\">\n",
       "      <th></th>\n",
       "      <th>currency</th>\n",
       "      <th>date</th>\n",
       "      <th>time</th>\n",
       "      <th>intensity</th>\n",
       "      <th>event</th>\n",
       "    </tr>\n",
       "  </thead>\n",
       "  <tbody>\n",
       "    <tr>\n",
       "      <th>0</th>\n",
       "      <td>USD</td>\n",
       "      <td>2025/05/22</td>\n",
       "      <td>00:30:00</td>\n",
       "      <td>2</td>\n",
       "      <td>การประมูลพันธบัตรอายุ 20 ปี</td>\n",
       "    </tr>\n",
       "    <tr>\n",
       "      <th>1</th>\n",
       "      <td>BRL</td>\n",
       "      <td>2025/05/22</td>\n",
       "      <td>00:30:00</td>\n",
       "      <td>1</td>\n",
       "      <td>ดัชนีกระแสการแลกเปลี่ยนเงินตราต่างประเทศของบราซิล</td>\n",
       "    </tr>\n",
       "    <tr>\n",
       "      <th>2</th>\n",
       "      <td>AUD</td>\n",
       "      <td>2025/05/22</td>\n",
       "      <td>06:00:00</td>\n",
       "      <td>1</td>\n",
       "      <td>ดัชนี PMI ภาคการผลิต  ( พ.ค.)</td>\n",
       "    </tr>\n",
       "    <tr>\n",
       "      <th>3</th>\n",
       "      <td>AUD</td>\n",
       "      <td>2025/05/22</td>\n",
       "      <td>06:00:00</td>\n",
       "      <td>1</td>\n",
       "      <td>ดัชนี PMI ภาคบริการ  ( พ.ค.)</td>\n",
       "    </tr>\n",
       "    <tr>\n",
       "      <th>4</th>\n",
       "      <td>JPY</td>\n",
       "      <td>2025/05/22</td>\n",
       "      <td>06:50:00</td>\n",
       "      <td>1</td>\n",
       "      <td>ยอดคำสั่งซื้อเครื่องจักรกล (ปีต่อปี)  (มี.ค.)</td>\n",
       "    </tr>\n",
       "    <tr>\n",
       "      <th>5</th>\n",
       "      <td>JPY</td>\n",
       "      <td>2025/05/22</td>\n",
       "      <td>06:50:00</td>\n",
       "      <td>1</td>\n",
       "      <td>ยอดคำสั่งซื้อสินค้าประเภทเครื่องจักร (เดือนต่อ...</td>\n",
       "    </tr>\n",
       "    <tr>\n",
       "      <th>6</th>\n",
       "      <td>JPY</td>\n",
       "      <td>2025/05/22</td>\n",
       "      <td>06:50:00</td>\n",
       "      <td>1</td>\n",
       "      <td>ยอดการซื้อตราสารหนี้ต่างประเทศ</td>\n",
       "    </tr>\n",
       "    <tr>\n",
       "      <th>7</th>\n",
       "      <td>JPY</td>\n",
       "      <td>2025/05/22</td>\n",
       "      <td>06:50:00</td>\n",
       "      <td>1</td>\n",
       "      <td>การลงทุนจากต่างประเทศในหุ้นญี่ปุ่น</td>\n",
       "    </tr>\n",
       "    <tr>\n",
       "      <th>8</th>\n",
       "      <td>SGD</td>\n",
       "      <td>2025/05/22</td>\n",
       "      <td>07:00:00</td>\n",
       "      <td>1</td>\n",
       "      <td>ดัชนีจีดีพีของสิงคโปร์ (ปีต่อปี)  (ไตรมาส 1)</td>\n",
       "    </tr>\n",
       "    <tr>\n",
       "      <th>9</th>\n",
       "      <td>SGD</td>\n",
       "      <td>2025/05/22</td>\n",
       "      <td>07:00:00</td>\n",
       "      <td>1</td>\n",
       "      <td>ดัชนีจีดีพีของสิงคโปร์ (ไตรมาสต่อไตรมาส)  (ไตร...</td>\n",
       "    </tr>\n",
       "  </tbody>\n",
       "</table>\n",
       "</div>"
      ],
      "text/plain": [
       "  currency        date      time  intensity  \\\n",
       "0      USD  2025/05/22  00:30:00          2   \n",
       "1      BRL  2025/05/22  00:30:00          1   \n",
       "2      AUD  2025/05/22  06:00:00          1   \n",
       "3      AUD  2025/05/22  06:00:00          1   \n",
       "4      JPY  2025/05/22  06:50:00          1   \n",
       "5      JPY  2025/05/22  06:50:00          1   \n",
       "6      JPY  2025/05/22  06:50:00          1   \n",
       "7      JPY  2025/05/22  06:50:00          1   \n",
       "8      SGD  2025/05/22  07:00:00          1   \n",
       "9      SGD  2025/05/22  07:00:00          1   \n",
       "\n",
       "                                               event  \n",
       "0                        การประมูลพันธบัตรอายุ 20 ปี  \n",
       "1  ดัชนีกระแสการแลกเปลี่ยนเงินตราต่างประเทศของบราซิล  \n",
       "2                      ดัชนี PMI ภาคการผลิต  ( พ.ค.)  \n",
       "3                       ดัชนี PMI ภาคบริการ  ( พ.ค.)  \n",
       "4      ยอดคำสั่งซื้อเครื่องจักรกล (ปีต่อปี)  (มี.ค.)  \n",
       "5  ยอดคำสั่งซื้อสินค้าประเภทเครื่องจักร (เดือนต่อ...  \n",
       "6                     ยอดการซื้อตราสารหนี้ต่างประเทศ  \n",
       "7                 การลงทุนจากต่างประเทศในหุ้นญี่ปุ่น  \n",
       "8       ดัชนีจีดีพีของสิงคโปร์ (ปีต่อปี)  (ไตรมาส 1)  \n",
       "9  ดัชนีจีดีพีของสิงคโปร์ (ไตรมาสต่อไตรมาส)  (ไตร...  "
      ]
     },
     "metadata": {},
     "output_type": "display_data"
    }
   ],
   "source": [
    "display(news_df.shape)\n",
    "display(news_df.head(10))"
   ]
  },
  {
   "cell_type": "code",
   "execution_count": 6,
   "id": "ffddb27c",
   "metadata": {},
   "outputs": [],
   "source": [
    "now = datetime.datetime.now()\n",
    "date_time = now.strftime(\"%Y-%m-%d %H-%M-%S\").strip().replace(' ', '_')\n",
    "news_df.to_csv(f'Data/Event_Calendar/{date_time}.csv', index=False)"
   ]
  },
  {
   "cell_type": "code",
   "execution_count": 10,
   "id": "a65ac295",
   "metadata": {},
   "outputs": [
    {
     "name": "stdout",
     "output_type": "stream",
     "text": [
      "   currency                                              event\n",
      "56      USD        จำนวนคนที่ยื่นขอรับสวัสดิการว่างงานครั้งแรก\n",
      "64      USD  ดัชนีผู้จัดการฝ่ายจัดซื้อ (PMI) ภาคการผลิต  ( ...\n",
      "66      USD  ดัชนีผู้จัดการฝ่ายจัดซื้อ (PMI) ภาคการบริการ  ...\n",
      "67      USD    ยอดขายบ้านมือสอง (Existing Home Sales)  (เม.ย.)\n"
     ]
    }
   ],
   "source": [
    "print(news_df[news_df['intensity'] == 3][['currency', 'event']])"
   ]
  }
 ],
 "metadata": {
  "kernelspec": {
   "display_name": "base",
   "language": "python",
   "name": "python3"
  },
  "language_info": {
   "codemirror_mode": {
    "name": "ipython",
    "version": 3
   },
   "file_extension": ".py",
   "mimetype": "text/x-python",
   "name": "python",
   "nbconvert_exporter": "python",
   "pygments_lexer": "ipython3",
   "version": "3.11.10"
  }
 },
 "nbformat": 4,
 "nbformat_minor": 5
}
