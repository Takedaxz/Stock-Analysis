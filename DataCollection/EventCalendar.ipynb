{
 "cells": [
  {
   "cell_type": "code",
   "execution_count": 1,
   "id": "228602ff",
   "metadata": {},
   "outputs": [],
   "source": [
    "import pandas as pd\n",
    "import numpy as np\n",
    "from selenium import webdriver\n",
    "from selenium.webdriver.chrome.service import Service\n",
    "from selenium.webdriver.common.by import By\n",
    "from bs4 import BeautifulSoup\n",
    "import time\n",
    "import datetime\n",
    "from urllib.request import urlopen, Request"
   ]
  },
  {
   "cell_type": "code",
   "execution_count": 2,
   "id": "590e7f77",
   "metadata": {},
   "outputs": [],
   "source": [
    "r = Request('https://th.investing.com/economic-calendar/', headers={'User-Agent': 'Mozilla/5.0'})\n",
    "time.sleep(2)\n",
    "response = urlopen(r).read()\n",
    "soup = BeautifulSoup(response, \"html.parser\")\n",
    "table = soup.find_all(class_ = \"js-event-item\")\n",
    "result = []"
   ]
  },
  {
   "cell_type": "code",
   "execution_count": 3,
   "id": "a40e4e80",
   "metadata": {},
   "outputs": [],
   "source": [
    "def event_calendar():\n",
    "    \n",
    "    for bl in table:\n",
    "        event_datetime = bl.get('data-event-datetime', '').strip()\n",
    "        currency = bl.find(class_=\"left flagCur noWrap\").text.strip()\n",
    "        intensity_divs = bl.find_all(class_=\"left textNum sentiment noWrap\")\n",
    "        event = bl.find(class_=\"left event\").text.strip()\n",
    "        intencity_val = 0\n",
    "        true_count = 0\n",
    "\n",
    "        for intence in intensity_divs:\n",
    "            _true = intence.find_all(class_=\"grayFullBullishIcon\")\n",
    "            _false = intence.find_all(class_=\"grayEmptyBullishIcon\")\n",
    "\n",
    "            true_count = len(_true)\n",
    "\n",
    "            if true_count == 3:\n",
    "                intencity_val = 3\n",
    "            elif true_count == 2:\n",
    "                intencity_val = 2\n",
    "            else :\n",
    "                intencity_val = 1\n",
    "                \n",
    "        event_datetime = event_datetime.split(' ')\n",
    "        date=event_datetime[0]\n",
    "        time=event_datetime[1]\n",
    "        \n",
    "        \n",
    "        result.append({'currency' : currency, 'date' : date, 'time' : time, 'intensity' : intencity_val, 'event':event})\n",
    "\n",
    "    return result"
   ]
  },
  {
   "cell_type": "code",
   "execution_count": 4,
   "id": "03458d6e",
   "metadata": {},
   "outputs": [],
   "source": [
    "news = event_calendar()\n",
    "news_df = pd.DataFrame(news)"
   ]
  },
  {
   "cell_type": "code",
   "execution_count": 5,
   "id": "bba97e98",
   "metadata": {},
   "outputs": [
    {
     "data": {
      "text/plain": [
       "(77, 5)"
      ]
     },
     "metadata": {},
     "output_type": "display_data"
    },
    {
     "data": {
      "text/html": [
       "<div>\n",
       "<style scoped>\n",
       "    .dataframe tbody tr th:only-of-type {\n",
       "        vertical-align: middle;\n",
       "    }\n",
       "\n",
       "    .dataframe tbody tr th {\n",
       "        vertical-align: top;\n",
       "    }\n",
       "\n",
       "    .dataframe thead th {\n",
       "        text-align: right;\n",
       "    }\n",
       "</style>\n",
       "<table border=\"1\" class=\"dataframe\">\n",
       "  <thead>\n",
       "    <tr style=\"text-align: right;\">\n",
       "      <th></th>\n",
       "      <th>currency</th>\n",
       "      <th>date</th>\n",
       "      <th>time</th>\n",
       "      <th>intensity</th>\n",
       "      <th>event</th>\n",
       "    </tr>\n",
       "  </thead>\n",
       "  <tbody>\n",
       "    <tr>\n",
       "      <th>0</th>\n",
       "      <td>USD</td>\n",
       "      <td>2025/06/18</td>\n",
       "      <td>00:00:00</td>\n",
       "      <td>2</td>\n",
       "      <td>การประมูลพันธบัตร TIPS อายุ 5 ปี</td>\n",
       "    </tr>\n",
       "    <tr>\n",
       "      <th>1</th>\n",
       "      <td>USD</td>\n",
       "      <td>2025/06/18</td>\n",
       "      <td>03:30:00</td>\n",
       "      <td>2</td>\n",
       "      <td>รายงานสินค้าคงเหลือของน้ำมันดิบประจำไตรมาสจาก API</td>\n",
       "    </tr>\n",
       "    <tr>\n",
       "      <th>2</th>\n",
       "      <td>NZD</td>\n",
       "      <td>2025/06/18</td>\n",
       "      <td>04:00:00</td>\n",
       "      <td>2</td>\n",
       "      <td>ดัชนีความเชื่อมั่นผู้บริโภคจาก Westpac  (ไตรมา...</td>\n",
       "    </tr>\n",
       "    <tr>\n",
       "      <th>3</th>\n",
       "      <td>NZD</td>\n",
       "      <td>2025/06/18</td>\n",
       "      <td>05:45:00</td>\n",
       "      <td>2</td>\n",
       "      <td>บัญชีเดินสะพัด (Current Account) (ไตรมาสต่อไตร...</td>\n",
       "    </tr>\n",
       "    <tr>\n",
       "      <th>4</th>\n",
       "      <td>NZD</td>\n",
       "      <td>2025/06/18</td>\n",
       "      <td>05:45:00</td>\n",
       "      <td>2</td>\n",
       "      <td>Current Account (ปีต่อปี)  (ไตรมาส 1)</td>\n",
       "    </tr>\n",
       "    <tr>\n",
       "      <th>5</th>\n",
       "      <td>NZD</td>\n",
       "      <td>2025/06/18</td>\n",
       "      <td>05:45:00</td>\n",
       "      <td>1</td>\n",
       "      <td>% ของดุลบัญชีเดินสะพัดต่อค่าจีดีพี  (ไตรมาส 1)</td>\n",
       "    </tr>\n",
       "    <tr>\n",
       "      <th>6</th>\n",
       "      <td>JPY</td>\n",
       "      <td>2025/06/18</td>\n",
       "      <td>06:00:00</td>\n",
       "      <td>1</td>\n",
       "      <td>ดัชนีจากการสำรวจ Reuters Tankan  (มิ.ย.)</td>\n",
       "    </tr>\n",
       "    <tr>\n",
       "      <th>7</th>\n",
       "      <td>JPY</td>\n",
       "      <td>2025/06/18</td>\n",
       "      <td>06:50:00</td>\n",
       "      <td>2</td>\n",
       "      <td>ดุลการค้าที่ได้ปรับรายการ</td>\n",
       "    </tr>\n",
       "    <tr>\n",
       "      <th>8</th>\n",
       "      <td>JPY</td>\n",
       "      <td>2025/06/18</td>\n",
       "      <td>06:50:00</td>\n",
       "      <td>1</td>\n",
       "      <td>ยอดคำสั่งซื้อสินค้าประเภทเครื่องจักร (เดือนต่อ...</td>\n",
       "    </tr>\n",
       "    <tr>\n",
       "      <th>9</th>\n",
       "      <td>JPY</td>\n",
       "      <td>2025/06/18</td>\n",
       "      <td>06:50:00</td>\n",
       "      <td>1</td>\n",
       "      <td>ยอดคำสั่งซื้อเครื่องจักรกล (ปีต่อปี)  (เม.ย.)</td>\n",
       "    </tr>\n",
       "  </tbody>\n",
       "</table>\n",
       "</div>"
      ],
      "text/plain": [
       "  currency        date      time  intensity  \\\n",
       "0      USD  2025/06/18  00:00:00          2   \n",
       "1      USD  2025/06/18  03:30:00          2   \n",
       "2      NZD  2025/06/18  04:00:00          2   \n",
       "3      NZD  2025/06/18  05:45:00          2   \n",
       "4      NZD  2025/06/18  05:45:00          2   \n",
       "5      NZD  2025/06/18  05:45:00          1   \n",
       "6      JPY  2025/06/18  06:00:00          1   \n",
       "7      JPY  2025/06/18  06:50:00          2   \n",
       "8      JPY  2025/06/18  06:50:00          1   \n",
       "9      JPY  2025/06/18  06:50:00          1   \n",
       "\n",
       "                                               event  \n",
       "0                   การประมูลพันธบัตร TIPS อายุ 5 ปี  \n",
       "1  รายงานสินค้าคงเหลือของน้ำมันดิบประจำไตรมาสจาก API  \n",
       "2  ดัชนีความเชื่อมั่นผู้บริโภคจาก Westpac  (ไตรมา...  \n",
       "3  บัญชีเดินสะพัด (Current Account) (ไตรมาสต่อไตร...  \n",
       "4              Current Account (ปีต่อปี)  (ไตรมาส 1)  \n",
       "5     % ของดุลบัญชีเดินสะพัดต่อค่าจีดีพี  (ไตรมาส 1)  \n",
       "6           ดัชนีจากการสำรวจ Reuters Tankan  (มิ.ย.)  \n",
       "7                          ดุลการค้าที่ได้ปรับรายการ  \n",
       "8  ยอดคำสั่งซื้อสินค้าประเภทเครื่องจักร (เดือนต่อ...  \n",
       "9      ยอดคำสั่งซื้อเครื่องจักรกล (ปีต่อปี)  (เม.ย.)  "
      ]
     },
     "metadata": {},
     "output_type": "display_data"
    }
   ],
   "source": [
    "display(news_df.shape)\n",
    "display(news_df.head(10))"
   ]
  },
  {
   "cell_type": "code",
   "execution_count": 6,
   "id": "ffddb27c",
   "metadata": {},
   "outputs": [],
   "source": [
    "now = datetime.datetime.now()\n",
    "date_time = now.strftime(\"%Y-%m-%d %H-%M-%S\").strip().replace(' ', '_')\n",
    "news_df.to_csv(f'Data/Event_Calendar/{date_time}.csv', index=False)"
   ]
  },
  {
   "cell_type": "code",
   "execution_count": 7,
   "id": "a65ac295",
   "metadata": {},
   "outputs": [
    {
     "name": "stdout",
     "output_type": "stream",
     "text": [
      "   currency                                        event\n",
      "19      GBP  ดัชนีราคาผู้บริโภค (CPI) (ปีต่อปี)  ( พ.ค.)\n",
      "37      EUR  ดัชนีราคาผู้บริโภค (CPI) (ปีต่อปี)  ( พ.ค.)\n",
      "56      USD  จำนวนคนที่ยื่นขอรับสวัสดิการว่างงานครั้งแรก\n",
      "58      USD                        สินค้าคงคลังน้ำมันดิบ\n"
     ]
    }
   ],
   "source": [
    "print(news_df[news_df['intensity'] == 3][['currency', 'event']])"
   ]
  },
  {
   "cell_type": "code",
   "execution_count": 8,
   "id": "aa97e67b",
   "metadata": {},
   "outputs": [
    {
     "name": "stdout",
     "output_type": "stream",
     "text": [
      "Pinged your deployment. You successfully connected to MongoDB!\n"
     ]
    }
   ],
   "source": [
    "import os\n",
    "from dotenv import load_dotenv\n",
    "from pymongo.mongo_client import MongoClient\n",
    "from pymongo.server_api import ServerApi\n",
    "\n",
    "load_dotenv(\"../SentimentAnalysis/GPT/secret.env\")\n",
    "\n",
    "mongo_connection_string = os.getenv(\"MONGO_CONNECTION_STRING\")\n",
    "\n",
    "try:\n",
    "    client = MongoClient(mongo_connection_string)\n",
    "    db = client['stock_news_db']\n",
    "    collection = db['event_calendar']\n",
    "\n",
    "    client.admin.command('ping')\n",
    "    print(\"Pinged your deployment. You successfully connected to MongoDB!\")\n",
    "\n",
    "except Exception as e:\n",
    "    print(f\"An error occurred: {e}\")"
   ]
  },
  {
   "cell_type": "code",
   "execution_count": 9,
   "id": "b969dbe1",
   "metadata": {},
   "outputs": [
    {
     "name": "stdout",
     "output_type": "stream",
     "text": [
      "Successfully inserted document with id: [ObjectId('6852637ab070ecb53f98d0ce'), ObjectId('6852637ab070ecb53f98d0cf'), ObjectId('6852637ab070ecb53f98d0d0'), ObjectId('6852637ab070ecb53f98d0d1'), ObjectId('6852637ab070ecb53f98d0d2'), ObjectId('6852637ab070ecb53f98d0d3'), ObjectId('6852637ab070ecb53f98d0d4'), ObjectId('6852637ab070ecb53f98d0d5'), ObjectId('6852637ab070ecb53f98d0d6'), ObjectId('6852637ab070ecb53f98d0d7'), ObjectId('6852637ab070ecb53f98d0d8'), ObjectId('6852637ab070ecb53f98d0d9'), ObjectId('6852637ab070ecb53f98d0da'), ObjectId('6852637ab070ecb53f98d0db'), ObjectId('6852637ab070ecb53f98d0dc'), ObjectId('6852637ab070ecb53f98d0dd'), ObjectId('6852637ab070ecb53f98d0de'), ObjectId('6852637ab070ecb53f98d0df'), ObjectId('6852637ab070ecb53f98d0e0'), ObjectId('6852637ab070ecb53f98d0e1'), ObjectId('6852637ab070ecb53f98d0e2'), ObjectId('6852637ab070ecb53f98d0e3'), ObjectId('6852637ab070ecb53f98d0e4'), ObjectId('6852637ab070ecb53f98d0e5'), ObjectId('6852637ab070ecb53f98d0e6'), ObjectId('6852637ab070ecb53f98d0e7'), ObjectId('6852637ab070ecb53f98d0e8'), ObjectId('6852637ab070ecb53f98d0e9'), ObjectId('6852637ab070ecb53f98d0ea'), ObjectId('6852637ab070ecb53f98d0eb'), ObjectId('6852637ab070ecb53f98d0ec'), ObjectId('6852637ab070ecb53f98d0ed'), ObjectId('6852637ab070ecb53f98d0ee'), ObjectId('6852637ab070ecb53f98d0ef'), ObjectId('6852637ab070ecb53f98d0f0'), ObjectId('6852637ab070ecb53f98d0f1'), ObjectId('6852637ab070ecb53f98d0f2'), ObjectId('6852637ab070ecb53f98d0f3'), ObjectId('6852637ab070ecb53f98d0f4'), ObjectId('6852637ab070ecb53f98d0f5'), ObjectId('6852637ab070ecb53f98d0f6'), ObjectId('6852637ab070ecb53f98d0f7'), ObjectId('6852637ab070ecb53f98d0f8'), ObjectId('6852637ab070ecb53f98d0f9'), ObjectId('6852637ab070ecb53f98d0fa'), ObjectId('6852637ab070ecb53f98d0fb'), ObjectId('6852637ab070ecb53f98d0fc'), ObjectId('6852637ab070ecb53f98d0fd'), ObjectId('6852637ab070ecb53f98d0fe'), ObjectId('6852637ab070ecb53f98d0ff'), ObjectId('6852637ab070ecb53f98d100'), ObjectId('6852637ab070ecb53f98d101'), ObjectId('6852637ab070ecb53f98d102'), ObjectId('6852637ab070ecb53f98d103'), ObjectId('6852637ab070ecb53f98d104'), ObjectId('6852637ab070ecb53f98d105'), ObjectId('6852637ab070ecb53f98d106'), ObjectId('6852637ab070ecb53f98d107'), ObjectId('6852637ab070ecb53f98d108'), ObjectId('6852637ab070ecb53f98d109'), ObjectId('6852637ab070ecb53f98d10a'), ObjectId('6852637ab070ecb53f98d10b'), ObjectId('6852637ab070ecb53f98d10c'), ObjectId('6852637ab070ecb53f98d10d'), ObjectId('6852637ab070ecb53f98d10e'), ObjectId('6852637ab070ecb53f98d10f'), ObjectId('6852637ab070ecb53f98d110'), ObjectId('6852637ab070ecb53f98d111'), ObjectId('6852637ab070ecb53f98d112'), ObjectId('6852637ab070ecb53f98d113'), ObjectId('6852637ab070ecb53f98d114'), ObjectId('6852637ab070ecb53f98d115'), ObjectId('6852637ab070ecb53f98d116'), ObjectId('6852637ab070ecb53f98d117'), ObjectId('6852637ab070ecb53f98d118'), ObjectId('6852637ab070ecb53f98d119'), ObjectId('6852637ab070ecb53f98d11a')]\n"
     ]
    }
   ],
   "source": [
    "complete_dict=news_df.to_dict(orient='records')\n",
    "\n",
    "result = collection.insert_many(complete_dict,ordered=True)\n",
    "print(f\"Successfully inserted document with id: {result.inserted_ids}\")"
   ]
  }
 ],
 "metadata": {
  "kernelspec": {
   "display_name": "base",
   "language": "python",
   "name": "python3"
  },
  "language_info": {
   "codemirror_mode": {
    "name": "ipython",
    "version": 3
   },
   "file_extension": ".py",
   "mimetype": "text/x-python",
   "name": "python",
   "nbconvert_exporter": "python",
   "pygments_lexer": "ipython3",
   "version": "3.11.10"
  }
 },
 "nbformat": 4,
 "nbformat_minor": 5
}
