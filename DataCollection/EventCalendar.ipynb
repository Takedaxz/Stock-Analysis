{
 "cells": [
  {
   "cell_type": "code",
   "execution_count": 1,
   "id": "228602ff",
   "metadata": {},
   "outputs": [],
   "source": [
    "import pandas as pd\n",
    "import numpy as np\n",
    "from selenium import webdriver\n",
    "from selenium.webdriver.chrome.service import Service\n",
    "from selenium.webdriver.common.by import By\n",
    "from bs4 import BeautifulSoup\n",
    "import time\n",
    "import datetime\n",
    "from urllib.request import urlopen, Request"
   ]
  },
  {
   "cell_type": "code",
   "execution_count": 2,
   "id": "590e7f77",
   "metadata": {},
   "outputs": [],
   "source": [
    "r = Request('https://th.investing.com/economic-calendar/', headers={'User-Agent': 'Mozilla/5.0'})\n",
    "time.sleep(2)\n",
    "response = urlopen(r).read()\n",
    "soup = BeautifulSoup(response, \"html.parser\")\n",
    "table = soup.find_all(class_ = \"js-event-item\")\n",
    "result = []"
   ]
  },
  {
   "cell_type": "code",
   "execution_count": 3,
   "id": "a40e4e80",
   "metadata": {},
   "outputs": [],
   "source": [
    "def event_calendar():\n",
    "    \n",
    "    for bl in table:\n",
    "        event_datetime = bl.get('data-event-datetime', '').strip()\n",
    "        currency = bl.find(class_=\"left flagCur noWrap\").text.strip()\n",
    "        intensity_divs = bl.find_all(class_=\"left textNum sentiment noWrap\")\n",
    "        event = bl.find(class_=\"left event\").text.strip()\n",
    "        intencity_val = 0\n",
    "        true_count = 0\n",
    "\n",
    "        for intence in intensity_divs:\n",
    "            _true = intence.find_all(class_=\"grayFullBullishIcon\")\n",
    "            _false = intence.find_all(class_=\"grayEmptyBullishIcon\")\n",
    "\n",
    "            true_count = len(_true)\n",
    "\n",
    "            if true_count == 3:\n",
    "                intencity_val = 3\n",
    "            elif true_count == 2:\n",
    "                intencity_val = 2\n",
    "            else :\n",
    "                intencity_val = 1\n",
    "                \n",
    "        event_datetime = event_datetime.split(' ')\n",
    "        date=event_datetime[0]\n",
    "        time=event_datetime[1]\n",
    "        \n",
    "        \n",
    "        result.append({'currency' : currency, 'date' : date, 'time' : time, 'intensity' : intencity_val, 'event':event})\n",
    "\n",
    "    return result"
   ]
  },
  {
   "cell_type": "code",
   "execution_count": 4,
   "id": "03458d6e",
   "metadata": {},
   "outputs": [],
   "source": [
    "news = event_calendar()\n",
    "news_df = pd.DataFrame(news)"
   ]
  },
  {
   "cell_type": "code",
   "execution_count": 5,
   "id": "bba97e98",
   "metadata": {},
   "outputs": [
    {
     "data": {
      "text/plain": [
       "(53, 5)"
      ]
     },
     "metadata": {},
     "output_type": "display_data"
    },
    {
     "data": {
      "text/html": [
       "<div>\n",
       "<style scoped>\n",
       "    .dataframe tbody tr th:only-of-type {\n",
       "        vertical-align: middle;\n",
       "    }\n",
       "\n",
       "    .dataframe tbody tr th {\n",
       "        vertical-align: top;\n",
       "    }\n",
       "\n",
       "    .dataframe thead th {\n",
       "        text-align: right;\n",
       "    }\n",
       "</style>\n",
       "<table border=\"1\" class=\"dataframe\">\n",
       "  <thead>\n",
       "    <tr style=\"text-align: right;\">\n",
       "      <th></th>\n",
       "      <th>currency</th>\n",
       "      <th>date</th>\n",
       "      <th>time</th>\n",
       "      <th>intensity</th>\n",
       "      <th>event</th>\n",
       "    </tr>\n",
       "  </thead>\n",
       "  <tbody>\n",
       "    <tr>\n",
       "      <th>0</th>\n",
       "      <td>CAD</td>\n",
       "      <td>2025/06/19</td>\n",
       "      <td>00:30:00</td>\n",
       "      <td>1</td>\n",
       "      <td>BOC Summary of Deliberations</td>\n",
       "    </tr>\n",
       "    <tr>\n",
       "      <th>1</th>\n",
       "      <td>EUR</td>\n",
       "      <td>2025/06/19</td>\n",
       "      <td>00:30:00</td>\n",
       "      <td>2</td>\n",
       "      <td>คำกล่าวของนายเบิร์คฮาร์ด บัลซ์ (Balz) แห่งธนาค...</td>\n",
       "    </tr>\n",
       "    <tr>\n",
       "      <th>2</th>\n",
       "      <td>BRL</td>\n",
       "      <td>2025/06/19</td>\n",
       "      <td>00:30:00</td>\n",
       "      <td>1</td>\n",
       "      <td>ดัชนีกระแสการแลกเปลี่ยนเงินตราต่างประเทศของบราซิล</td>\n",
       "    </tr>\n",
       "    <tr>\n",
       "      <th>3</th>\n",
       "      <td>USD</td>\n",
       "      <td>2025/06/19</td>\n",
       "      <td>01:00:00</td>\n",
       "      <td>2</td>\n",
       "      <td>การคาดการณ์อัตราดอกเบี้ย - ปีที่ 1  (ไตรมาส 2)</td>\n",
       "    </tr>\n",
       "    <tr>\n",
       "      <th>4</th>\n",
       "      <td>USD</td>\n",
       "      <td>2025/06/19</td>\n",
       "      <td>01:00:00</td>\n",
       "      <td>2</td>\n",
       "      <td>การคาดการณ์อัตราดอกเบี้ย - ปีที่ 2  (ไตรมาส 2)</td>\n",
       "    </tr>\n",
       "    <tr>\n",
       "      <th>5</th>\n",
       "      <td>USD</td>\n",
       "      <td>2025/06/19</td>\n",
       "      <td>01:00:00</td>\n",
       "      <td>2</td>\n",
       "      <td>การคาดการณ์อัตราดอกเบี้ย - ปัจจุบัน  (ไตรมาส 2)</td>\n",
       "    </tr>\n",
       "    <tr>\n",
       "      <th>6</th>\n",
       "      <td>USD</td>\n",
       "      <td>2025/06/19</td>\n",
       "      <td>01:00:00</td>\n",
       "      <td>2</td>\n",
       "      <td>การคาดการณ์อัตราดอกเบี้ย - ระยะยาว  (ไตรมาส 2)</td>\n",
       "    </tr>\n",
       "    <tr>\n",
       "      <th>7</th>\n",
       "      <td>USD</td>\n",
       "      <td>2025/06/19</td>\n",
       "      <td>01:00:00</td>\n",
       "      <td>3</td>\n",
       "      <td>การคาดการณ์เศรษฐกิจของคณะกรรมการนโยบายธนาคารกล...</td>\n",
       "    </tr>\n",
       "    <tr>\n",
       "      <th>8</th>\n",
       "      <td>USD</td>\n",
       "      <td>2025/06/19</td>\n",
       "      <td>01:00:00</td>\n",
       "      <td>3</td>\n",
       "      <td>แถลงการณ์ของคณะกรรมการนโยบายการเงินธนาคารกลางส...</td>\n",
       "    </tr>\n",
       "    <tr>\n",
       "      <th>9</th>\n",
       "      <td>USD</td>\n",
       "      <td>2025/06/19</td>\n",
       "      <td>01:00:00</td>\n",
       "      <td>3</td>\n",
       "      <td>การตัดสินใจเกี่ยวกับอัตราดอกเบี้ย</td>\n",
       "    </tr>\n",
       "  </tbody>\n",
       "</table>\n",
       "</div>"
      ],
      "text/plain": [
       "  currency        date      time  intensity  \\\n",
       "0      CAD  2025/06/19  00:30:00          1   \n",
       "1      EUR  2025/06/19  00:30:00          2   \n",
       "2      BRL  2025/06/19  00:30:00          1   \n",
       "3      USD  2025/06/19  01:00:00          2   \n",
       "4      USD  2025/06/19  01:00:00          2   \n",
       "5      USD  2025/06/19  01:00:00          2   \n",
       "6      USD  2025/06/19  01:00:00          2   \n",
       "7      USD  2025/06/19  01:00:00          3   \n",
       "8      USD  2025/06/19  01:00:00          3   \n",
       "9      USD  2025/06/19  01:00:00          3   \n",
       "\n",
       "                                               event  \n",
       "0                       BOC Summary of Deliberations  \n",
       "1  คำกล่าวของนายเบิร์คฮาร์ด บัลซ์ (Balz) แห่งธนาค...  \n",
       "2  ดัชนีกระแสการแลกเปลี่ยนเงินตราต่างประเทศของบราซิล  \n",
       "3     การคาดการณ์อัตราดอกเบี้ย - ปีที่ 1  (ไตรมาส 2)  \n",
       "4     การคาดการณ์อัตราดอกเบี้ย - ปีที่ 2  (ไตรมาส 2)  \n",
       "5    การคาดการณ์อัตราดอกเบี้ย - ปัจจุบัน  (ไตรมาส 2)  \n",
       "6     การคาดการณ์อัตราดอกเบี้ย - ระยะยาว  (ไตรมาส 2)  \n",
       "7  การคาดการณ์เศรษฐกิจของคณะกรรมการนโยบายธนาคารกล...  \n",
       "8  แถลงการณ์ของคณะกรรมการนโยบายการเงินธนาคารกลางส...  \n",
       "9                  การตัดสินใจเกี่ยวกับอัตราดอกเบี้ย  "
      ]
     },
     "metadata": {},
     "output_type": "display_data"
    }
   ],
   "source": [
    "display(news_df.shape)\n",
    "display(news_df.head(10))"
   ]
  },
  {
   "cell_type": "code",
   "execution_count": 6,
   "id": "ffddb27c",
   "metadata": {},
   "outputs": [],
   "source": [
    "now = datetime.datetime.now()\n",
    "date_time = now.strftime(\"%Y-%m-%d %H-%M-%S\").strip().replace(' ', '_')\n",
    "news_df.to_csv(f'Data/Event_Calendar/{date_time}.csv', index=False)"
   ]
  },
  {
   "cell_type": "code",
   "execution_count": 7,
   "id": "a65ac295",
   "metadata": {},
   "outputs": [
    {
     "name": "stdout",
     "output_type": "stream",
     "text": [
      "   currency                                              event\n",
      "7       USD  การคาดการณ์เศรษฐกิจของคณะกรรมการนโยบายธนาคารกล...\n",
      "8       USD  แถลงการณ์ของคณะกรรมการนโยบายการเงินธนาคารกลางส...\n",
      "9       USD                  การตัดสินใจเกี่ยวกับอัตราดอกเบี้ย\n",
      "11      USD  การแถลงข่าวต่อสื่อมวลชนของคณะกรรมการกำหนดนโยบา...\n",
      "30      CHF      การตัดสินใจเกี่ยวกับอัตราดอกเบี้ย  (ไตรมาส 2)\n",
      "33      CHF  การแถลงข่าวต่อสื่อมวลชนของธนาคารกกลางสวิตเซอร์...\n",
      "50      GBP         การตัดสินใจเกี่ยวกับอัตราดอกเบี้ย  (มิ.ย.)\n"
     ]
    }
   ],
   "source": [
    "print(news_df[news_df['intensity'] == 3][['currency', 'event']])"
   ]
  },
  {
   "cell_type": "code",
   "execution_count": 9,
   "id": "aa97e67b",
   "metadata": {},
   "outputs": [
    {
     "name": "stdout",
     "output_type": "stream",
     "text": [
      "Pinged your deployment. You successfully connected to MongoDB!\n"
     ]
    }
   ],
   "source": [
    "import os\n",
    "from dotenv import load_dotenv\n",
    "from pymongo.mongo_client import MongoClient\n",
    "from pymongo.server_api import ServerApi\n",
    "\n",
    "load_dotenv(\"../SentimentAnalysis/GPT/secret.env\")\n",
    "\n",
    "mongo_connection_string = os.getenv(\"MONGO_CONNECTION_STRING\")\n",
    "\n",
    "try:\n",
    "    client = MongoClient(mongo_connection_string)\n",
    "    db = client['stock_news_db']\n",
    "    collection = db['event_calendar']\n",
    "\n",
    "    client.admin.command('ping')\n",
    "    print(\"Pinged your deployment. You successfully connected to MongoDB!\")\n",
    "\n",
    "except Exception as e:\n",
    "    print(f\"An error occurred: {e}\")"
   ]
  },
  {
   "cell_type": "code",
   "execution_count": 10,
   "id": "b969dbe1",
   "metadata": {},
   "outputs": [
    {
     "name": "stdout",
     "output_type": "stream",
     "text": [
      "Successfully inserted document with id: [ObjectId('68537768c3123f3610cb024d'), ObjectId('68537768c3123f3610cb024e'), ObjectId('68537768c3123f3610cb024f'), ObjectId('68537768c3123f3610cb0250'), ObjectId('68537768c3123f3610cb0251'), ObjectId('68537768c3123f3610cb0252'), ObjectId('68537768c3123f3610cb0253'), ObjectId('68537768c3123f3610cb0254'), ObjectId('68537768c3123f3610cb0255'), ObjectId('68537768c3123f3610cb0256'), ObjectId('68537768c3123f3610cb0257'), ObjectId('68537768c3123f3610cb0258'), ObjectId('68537768c3123f3610cb0259'), ObjectId('68537768c3123f3610cb025a'), ObjectId('68537768c3123f3610cb025b'), ObjectId('68537768c3123f3610cb025c'), ObjectId('68537768c3123f3610cb025d'), ObjectId('68537768c3123f3610cb025e'), ObjectId('68537768c3123f3610cb025f'), ObjectId('68537768c3123f3610cb0260'), ObjectId('68537768c3123f3610cb0261'), ObjectId('68537768c3123f3610cb0262'), ObjectId('68537768c3123f3610cb0263'), ObjectId('68537768c3123f3610cb0264'), ObjectId('68537768c3123f3610cb0265'), ObjectId('68537768c3123f3610cb0266'), ObjectId('68537768c3123f3610cb0267'), ObjectId('68537768c3123f3610cb0268'), ObjectId('68537768c3123f3610cb0269'), ObjectId('68537768c3123f3610cb026a'), ObjectId('68537768c3123f3610cb026b'), ObjectId('68537768c3123f3610cb026c'), ObjectId('68537768c3123f3610cb026d'), ObjectId('68537768c3123f3610cb026e'), ObjectId('68537768c3123f3610cb026f'), ObjectId('68537768c3123f3610cb0270'), ObjectId('68537768c3123f3610cb0271'), ObjectId('68537768c3123f3610cb0272'), ObjectId('68537768c3123f3610cb0273'), ObjectId('68537768c3123f3610cb0274'), ObjectId('68537768c3123f3610cb0275'), ObjectId('68537768c3123f3610cb0276'), ObjectId('68537768c3123f3610cb0277'), ObjectId('68537768c3123f3610cb0278'), ObjectId('68537768c3123f3610cb0279'), ObjectId('68537768c3123f3610cb027a'), ObjectId('68537768c3123f3610cb027b'), ObjectId('68537768c3123f3610cb027c'), ObjectId('68537768c3123f3610cb027d'), ObjectId('68537768c3123f3610cb027e'), ObjectId('68537768c3123f3610cb027f'), ObjectId('68537768c3123f3610cb0280'), ObjectId('68537768c3123f3610cb0281')]\n"
     ]
    }
   ],
   "source": [
    "complete_dict=news_df.to_dict(orient='records')\n",
    "\n",
    "result = collection.insert_many(complete_dict,ordered=True)\n",
    "print(f\"Successfully inserted document with id: {result.inserted_ids}\")"
   ]
  }
 ],
 "metadata": {
  "kernelspec": {
   "display_name": "Python 3",
   "language": "python",
   "name": "python3"
  },
  "language_info": {
   "codemirror_mode": {
    "name": "ipython",
    "version": 3
   },
   "file_extension": ".py",
   "mimetype": "text/x-python",
   "name": "python",
   "nbconvert_exporter": "python",
   "pygments_lexer": "ipython3",
   "version": "3.11.9"
  }
 },
 "nbformat": 4,
 "nbformat_minor": 5
}
