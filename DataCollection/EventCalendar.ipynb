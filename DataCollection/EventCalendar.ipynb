{
 "cells": [
  {
   "cell_type": "code",
   "execution_count": 1,
   "id": "228602ff",
   "metadata": {},
   "outputs": [],
   "source": [
    "import pandas as pd\n",
    "import numpy as np\n",
    "from selenium import webdriver\n",
    "from selenium.webdriver.chrome.service import Service\n",
    "from selenium.webdriver.common.by import By\n",
    "from bs4 import BeautifulSoup\n",
    "import time\n",
    "import datetime\n",
    "from urllib.request import urlopen, Request"
   ]
  },
  {
   "cell_type": "code",
   "execution_count": 2,
   "id": "590e7f77",
   "metadata": {},
   "outputs": [],
   "source": [
    "r = Request('https://th.investing.com/economic-calendar/', headers={'User-Agent': 'Mozilla/5.0'})\n",
    "time.sleep(2)\n",
    "response = urlopen(r).read()\n",
    "soup = BeautifulSoup(response, \"html.parser\")\n",
    "table = soup.find_all(class_ = \"js-event-item\")\n",
    "result = []"
   ]
  },
  {
   "cell_type": "code",
   "execution_count": 3,
   "id": "a40e4e80",
   "metadata": {},
   "outputs": [],
   "source": [
    "def event_calendar():\n",
    "    \n",
    "    for bl in table:\n",
    "        event_datetime = bl.get('data-event-datetime', '').strip()\n",
    "        currency = bl.find(class_=\"left flagCur noWrap\").text.strip()\n",
    "        intensity_divs = bl.find_all(class_=\"left textNum sentiment noWrap\")\n",
    "        event = bl.find(class_=\"left event\").text.strip()\n",
    "        intencity_val = 0\n",
    "        true_count = 0\n",
    "\n",
    "        for intence in intensity_divs:\n",
    "            _true = intence.find_all(class_=\"grayFullBullishIcon\")\n",
    "            _false = intence.find_all(class_=\"grayEmptyBullishIcon\")\n",
    "\n",
    "            true_count = len(_true)\n",
    "\n",
    "            if true_count == 3:\n",
    "                intencity_val = 3\n",
    "            elif true_count == 2:\n",
    "                intencity_val = 2\n",
    "            else :\n",
    "                intencity_val = 1\n",
    "                \n",
    "        event_datetime = event_datetime.split(' ')\n",
    "        date=event_datetime[0]\n",
    "        time=event_datetime[1]\n",
    "        \n",
    "        \n",
    "        result.append({'currency' : currency, 'date' : date, 'time' : time, 'intensity' : intencity_val, 'event':event})\n",
    "\n",
    "    return result"
   ]
  },
  {
   "cell_type": "code",
   "execution_count": 4,
   "id": "03458d6e",
   "metadata": {},
   "outputs": [],
   "source": [
    "news = event_calendar()\n",
    "news_df = pd.DataFrame(news)"
   ]
  },
  {
   "cell_type": "code",
   "execution_count": 5,
   "id": "bba97e98",
   "metadata": {},
   "outputs": [
    {
     "data": {
      "text/plain": [
       "(59, 5)"
      ]
     },
     "metadata": {},
     "output_type": "display_data"
    },
    {
     "data": {
      "application/vnd.microsoft.datawrangler.viewer.v0+json": {
       "columns": [
        {
         "name": "index",
         "rawType": "int64",
         "type": "integer"
        },
        {
         "name": "currency",
         "rawType": "object",
         "type": "string"
        },
        {
         "name": "date",
         "rawType": "object",
         "type": "string"
        },
        {
         "name": "time",
         "rawType": "object",
         "type": "string"
        },
        {
         "name": "intensity",
         "rawType": "int64",
         "type": "integer"
        },
        {
         "name": "event",
         "rawType": "object",
         "type": "string"
        }
       ],
       "ref": "acbf5ac5-82f1-48e7-9d32-c2ac468a446e",
       "rows": [
        [
         "0",
         "USD",
         "2025/05/21",
         "03:30:00",
         "2",
         "รายงานสินค้าคงเหลือของน้ำมันดิบประจำไตรมาสจาก API"
        ],
        [
         "1",
         "USD",
         "2025/05/21",
         "04:00:00",
         "1",
         "สุนทรพจน์ของฟิสเชอร์ (Fisher) สมาชิกคณะกรรมการนโยบายการเงินธนาคารกลาง"
        ],
        [
         "2",
         "NZD",
         "2025/05/21",
         "05:45:00",
         "1",
         "ปริมาณการส่งออกสินค้า  (เม.ย.)"
        ],
        [
         "3",
         "NZD",
         "2025/05/21",
         "05:45:00",
         "1",
         "ปริมาณการนำเข้าสินค้า  (เม.ย.)"
        ],
        [
         "4",
         "NZD",
         "2025/05/21",
         "05:45:00",
         "2",
         "ดุลการค้า (เดือนต่อเดือน)  (เม.ย.)"
        ],
        [
         "5",
         "NZD",
         "2025/05/21",
         "05:45:00",
         "2",
         "ดุลการค้า (ปีต่อปี)  (เม.ย.)"
        ],
        [
         "6",
         "USD",
         "2025/05/21",
         "06:00:00",
         "2",
         "คำกล่าวของนางดาลี (Daly) สมาชิกคณะกรรมการนโยบายการเงินธนาคารกลางสหรัฐ"
        ],
        [
         "7",
         "JPY",
         "2025/05/21",
         "06:00:00",
         "1",
         "ดัชนีจากการสำรวจ Reuters Tankan  ( พ.ค.)"
        ],
        [
         "8",
         "JPY",
         "2025/05/21",
         "06:50:00",
         "2",
         "ดุลการค้าที่ได้ปรับรายการ"
        ],
        [
         "9",
         "JPY",
         "2025/05/21",
         "06:50:00",
         "2",
         "ปริมาณการส่งออก (ปีต่อปี)  (เม.ย.)"
        ]
       ],
       "shape": {
        "columns": 5,
        "rows": 10
       }
      },
      "text/html": [
       "<div>\n",
       "<style scoped>\n",
       "    .dataframe tbody tr th:only-of-type {\n",
       "        vertical-align: middle;\n",
       "    }\n",
       "\n",
       "    .dataframe tbody tr th {\n",
       "        vertical-align: top;\n",
       "    }\n",
       "\n",
       "    .dataframe thead th {\n",
       "        text-align: right;\n",
       "    }\n",
       "</style>\n",
       "<table border=\"1\" class=\"dataframe\">\n",
       "  <thead>\n",
       "    <tr style=\"text-align: right;\">\n",
       "      <th></th>\n",
       "      <th>currency</th>\n",
       "      <th>date</th>\n",
       "      <th>time</th>\n",
       "      <th>intensity</th>\n",
       "      <th>event</th>\n",
       "    </tr>\n",
       "  </thead>\n",
       "  <tbody>\n",
       "    <tr>\n",
       "      <th>0</th>\n",
       "      <td>USD</td>\n",
       "      <td>2025/05/21</td>\n",
       "      <td>03:30:00</td>\n",
       "      <td>2</td>\n",
       "      <td>รายงานสินค้าคงเหลือของน้ำมันดิบประจำไตรมาสจาก API</td>\n",
       "    </tr>\n",
       "    <tr>\n",
       "      <th>1</th>\n",
       "      <td>USD</td>\n",
       "      <td>2025/05/21</td>\n",
       "      <td>04:00:00</td>\n",
       "      <td>1</td>\n",
       "      <td>สุนทรพจน์ของฟิสเชอร์ (Fisher) สมาชิกคณะกรรมการ...</td>\n",
       "    </tr>\n",
       "    <tr>\n",
       "      <th>2</th>\n",
       "      <td>NZD</td>\n",
       "      <td>2025/05/21</td>\n",
       "      <td>05:45:00</td>\n",
       "      <td>1</td>\n",
       "      <td>ปริมาณการส่งออกสินค้า  (เม.ย.)</td>\n",
       "    </tr>\n",
       "    <tr>\n",
       "      <th>3</th>\n",
       "      <td>NZD</td>\n",
       "      <td>2025/05/21</td>\n",
       "      <td>05:45:00</td>\n",
       "      <td>1</td>\n",
       "      <td>ปริมาณการนำเข้าสินค้า  (เม.ย.)</td>\n",
       "    </tr>\n",
       "    <tr>\n",
       "      <th>4</th>\n",
       "      <td>NZD</td>\n",
       "      <td>2025/05/21</td>\n",
       "      <td>05:45:00</td>\n",
       "      <td>2</td>\n",
       "      <td>ดุลการค้า (เดือนต่อเดือน)  (เม.ย.)</td>\n",
       "    </tr>\n",
       "    <tr>\n",
       "      <th>5</th>\n",
       "      <td>NZD</td>\n",
       "      <td>2025/05/21</td>\n",
       "      <td>05:45:00</td>\n",
       "      <td>2</td>\n",
       "      <td>ดุลการค้า (ปีต่อปี)  (เม.ย.)</td>\n",
       "    </tr>\n",
       "    <tr>\n",
       "      <th>6</th>\n",
       "      <td>USD</td>\n",
       "      <td>2025/05/21</td>\n",
       "      <td>06:00:00</td>\n",
       "      <td>2</td>\n",
       "      <td>คำกล่าวของนางดาลี (Daly) สมาชิกคณะกรรมการนโยบา...</td>\n",
       "    </tr>\n",
       "    <tr>\n",
       "      <th>7</th>\n",
       "      <td>JPY</td>\n",
       "      <td>2025/05/21</td>\n",
       "      <td>06:00:00</td>\n",
       "      <td>1</td>\n",
       "      <td>ดัชนีจากการสำรวจ Reuters Tankan  ( พ.ค.)</td>\n",
       "    </tr>\n",
       "    <tr>\n",
       "      <th>8</th>\n",
       "      <td>JPY</td>\n",
       "      <td>2025/05/21</td>\n",
       "      <td>06:50:00</td>\n",
       "      <td>2</td>\n",
       "      <td>ดุลการค้าที่ได้ปรับรายการ</td>\n",
       "    </tr>\n",
       "    <tr>\n",
       "      <th>9</th>\n",
       "      <td>JPY</td>\n",
       "      <td>2025/05/21</td>\n",
       "      <td>06:50:00</td>\n",
       "      <td>2</td>\n",
       "      <td>ปริมาณการส่งออก (ปีต่อปี)  (เม.ย.)</td>\n",
       "    </tr>\n",
       "  </tbody>\n",
       "</table>\n",
       "</div>"
      ],
      "text/plain": [
       "  currency        date      time  intensity  \\\n",
       "0      USD  2025/05/21  03:30:00          2   \n",
       "1      USD  2025/05/21  04:00:00          1   \n",
       "2      NZD  2025/05/21  05:45:00          1   \n",
       "3      NZD  2025/05/21  05:45:00          1   \n",
       "4      NZD  2025/05/21  05:45:00          2   \n",
       "5      NZD  2025/05/21  05:45:00          2   \n",
       "6      USD  2025/05/21  06:00:00          2   \n",
       "7      JPY  2025/05/21  06:00:00          1   \n",
       "8      JPY  2025/05/21  06:50:00          2   \n",
       "9      JPY  2025/05/21  06:50:00          2   \n",
       "\n",
       "                                               event  \n",
       "0  รายงานสินค้าคงเหลือของน้ำมันดิบประจำไตรมาสจาก API  \n",
       "1  สุนทรพจน์ของฟิสเชอร์ (Fisher) สมาชิกคณะกรรมการ...  \n",
       "2                     ปริมาณการส่งออกสินค้า  (เม.ย.)  \n",
       "3                     ปริมาณการนำเข้าสินค้า  (เม.ย.)  \n",
       "4                 ดุลการค้า (เดือนต่อเดือน)  (เม.ย.)  \n",
       "5                       ดุลการค้า (ปีต่อปี)  (เม.ย.)  \n",
       "6  คำกล่าวของนางดาลี (Daly) สมาชิกคณะกรรมการนโยบา...  \n",
       "7           ดัชนีจากการสำรวจ Reuters Tankan  ( พ.ค.)  \n",
       "8                          ดุลการค้าที่ได้ปรับรายการ  \n",
       "9                 ปริมาณการส่งออก (ปีต่อปี)  (เม.ย.)  "
      ]
     },
     "metadata": {},
     "output_type": "display_data"
    }
   ],
   "source": [
    "display(news_df.shape)\n",
    "display(news_df.head(10))"
   ]
  },
  {
   "cell_type": "code",
   "execution_count": 7,
   "id": "ffddb27c",
   "metadata": {},
   "outputs": [],
   "source": [
    "now = datetime.datetime.now()\n",
    "date_time = now.strftime(\"%Y-%m-%d %H-%M-%S\").strip().replace(' ', '_')\n",
    "news_df.to_csv(f'Data/Event_Calendar/{date_time}.csv', index=False)"
   ]
  }
 ],
 "metadata": {
  "kernelspec": {
   "display_name": "base",
   "language": "python",
   "name": "python3"
  },
  "language_info": {
   "codemirror_mode": {
    "name": "ipython",
    "version": 3
   },
   "file_extension": ".py",
   "mimetype": "text/x-python",
   "name": "python",
   "nbconvert_exporter": "python",
   "pygments_lexer": "ipython3",
   "version": "3.11.10"
  }
 },
 "nbformat": 4,
 "nbformat_minor": 5
}
