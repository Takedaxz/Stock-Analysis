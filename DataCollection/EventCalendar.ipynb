{
 "cells": [
  {
   "cell_type": "code",
   "execution_count": 1,
   "id": "228602ff",
   "metadata": {},
   "outputs": [],
   "source": [
    "import pandas as pd\n",
    "import numpy as np\n",
    "from selenium import webdriver\n",
    "from selenium.webdriver.chrome.service import Service\n",
    "from selenium.webdriver.common.by import By\n",
    "from bs4 import BeautifulSoup\n",
    "import time\n",
    "import datetime\n",
    "from urllib.request import urlopen, Request"
   ]
  },
  {
   "cell_type": "code",
   "execution_count": 2,
   "id": "590e7f77",
   "metadata": {},
   "outputs": [],
   "source": [
    "r = Request('https://th.investing.com/economic-calendar/', headers={'User-Agent': 'Mozilla/5.0'})\n",
    "time.sleep(2)\n",
    "response = urlopen(r).read()\n",
    "soup = BeautifulSoup(response, \"html.parser\")\n",
    "table = soup.find_all(class_ = \"js-event-item\")\n",
    "result = []"
   ]
  },
  {
   "cell_type": "code",
   "execution_count": 3,
   "id": "a40e4e80",
   "metadata": {},
   "outputs": [],
   "source": [
    "def event_calendar():\n",
    "    \n",
    "    for bl in table:\n",
    "        event_datetime = bl.get('data-event-datetime', '').strip()\n",
    "        currency = bl.find(class_=\"left flagCur noWrap\").text.strip()\n",
    "        intensity_divs = bl.find_all(class_=\"left textNum sentiment noWrap\")\n",
    "        event = bl.find(class_=\"left event\").text.strip()\n",
    "        intencity_val = 0\n",
    "        true_count = 0\n",
    "\n",
    "        for intence in intensity_divs:\n",
    "            _true = intence.find_all(class_=\"grayFullBullishIcon\")\n",
    "            _false = intence.find_all(class_=\"grayEmptyBullishIcon\")\n",
    "\n",
    "            true_count = len(_true)\n",
    "\n",
    "            if true_count == 3:\n",
    "                intencity_val = 3\n",
    "            elif true_count == 2:\n",
    "                intencity_val = 2\n",
    "            else :\n",
    "                intencity_val = 1\n",
    "                \n",
    "        event_datetime = event_datetime.split(' ')\n",
    "        date=event_datetime[0]\n",
    "        time=event_datetime[1]\n",
    "        \n",
    "        \n",
    "        result.append({'currency' : currency, 'date' : date, 'time' : time, 'intensity' : intencity_val, 'event':event})\n",
    "\n",
    "    return result"
   ]
  },
  {
   "cell_type": "code",
   "execution_count": 4,
   "id": "03458d6e",
   "metadata": {},
   "outputs": [],
   "source": [
    "news = event_calendar()\n",
    "news_df = pd.DataFrame(news)"
   ]
  },
  {
   "cell_type": "code",
   "execution_count": 5,
   "id": "bba97e98",
   "metadata": {},
   "outputs": [
    {
     "data": {
      "text/plain": [
       "(39, 5)"
      ]
     },
     "metadata": {},
     "output_type": "display_data"
    },
    {
     "data": {
      "text/html": [
       "<div>\n",
       "<style scoped>\n",
       "    .dataframe tbody tr th:only-of-type {\n",
       "        vertical-align: middle;\n",
       "    }\n",
       "\n",
       "    .dataframe tbody tr th {\n",
       "        vertical-align: top;\n",
       "    }\n",
       "\n",
       "    .dataframe thead th {\n",
       "        text-align: right;\n",
       "    }\n",
       "</style>\n",
       "<table border=\"1\" class=\"dataframe\">\n",
       "  <thead>\n",
       "    <tr style=\"text-align: right;\">\n",
       "      <th></th>\n",
       "      <th>currency</th>\n",
       "      <th>date</th>\n",
       "      <th>time</th>\n",
       "      <th>intensity</th>\n",
       "      <th>event</th>\n",
       "    </tr>\n",
       "  </thead>\n",
       "  <tbody>\n",
       "    <tr>\n",
       "      <th>0</th>\n",
       "      <td>USD</td>\n",
       "      <td>2025/06/17</td>\n",
       "      <td>00:00:00</td>\n",
       "      <td>2</td>\n",
       "      <td>การประมูลพันธบัตรอายุ 20 ปี</td>\n",
       "    </tr>\n",
       "    <tr>\n",
       "      <th>1</th>\n",
       "      <td>KRW</td>\n",
       "      <td>2025/06/17</td>\n",
       "      <td>04:00:00</td>\n",
       "      <td>1</td>\n",
       "      <td>ราคาส่งออก (ปีต่อปี)  ( พ.ค.)</td>\n",
       "    </tr>\n",
       "    <tr>\n",
       "      <th>2</th>\n",
       "      <td>KRW</td>\n",
       "      <td>2025/06/17</td>\n",
       "      <td>04:00:00</td>\n",
       "      <td>1</td>\n",
       "      <td>ดัชนีราคาสินค้านำเข้า (ปีต่อปี)  ( พ.ค.)</td>\n",
       "    </tr>\n",
       "    <tr>\n",
       "      <th>3</th>\n",
       "      <td>NZD</td>\n",
       "      <td>2025/06/17</td>\n",
       "      <td>05:45:00</td>\n",
       "      <td>1</td>\n",
       "      <td>ดัชนีราคาอาหาร (FPI) (เดือนต่อเดือน)  ( พ.ค.)</td>\n",
       "    </tr>\n",
       "    <tr>\n",
       "      <th>4</th>\n",
       "      <td>SGD</td>\n",
       "      <td>2025/06/17</td>\n",
       "      <td>07:30:00</td>\n",
       "      <td>1</td>\n",
       "      <td>ปริมาณการส่งออกสินค้าในประเทศทั่วไปยกเว้นน้ำมั...</td>\n",
       "    </tr>\n",
       "    <tr>\n",
       "      <th>5</th>\n",
       "      <td>SGD</td>\n",
       "      <td>2025/06/17</td>\n",
       "      <td>07:30:00</td>\n",
       "      <td>1</td>\n",
       "      <td>ปริมาณการส่งออกสินค้าในประเทศทั่วไปยกเว้นน้ำมั...</td>\n",
       "    </tr>\n",
       "    <tr>\n",
       "      <th>6</th>\n",
       "      <td>SGD</td>\n",
       "      <td>2025/06/17</td>\n",
       "      <td>08:00:00</td>\n",
       "      <td>1</td>\n",
       "      <td>ดุลการค้าของสิงคโปร์  ( พ.ค.)</td>\n",
       "    </tr>\n",
       "    <tr>\n",
       "      <th>7</th>\n",
       "      <td>JPY</td>\n",
       "      <td>2025/06/17</td>\n",
       "      <td>09:30:00</td>\n",
       "      <td>2</td>\n",
       "      <td>การแถลงการณ์นโยบายการเงินจากธนาคารกลางญี่ปุ่น</td>\n",
       "    </tr>\n",
       "    <tr>\n",
       "      <th>8</th>\n",
       "      <td>JPY</td>\n",
       "      <td>2025/06/17</td>\n",
       "      <td>10:00:00</td>\n",
       "      <td>3</td>\n",
       "      <td>การตัดสินใจเกี่ยวกับอัตราดอกเบี้ย</td>\n",
       "    </tr>\n",
       "    <tr>\n",
       "      <th>9</th>\n",
       "      <td>SEK</td>\n",
       "      <td>2025/06/17</td>\n",
       "      <td>13:00:00</td>\n",
       "      <td>1</td>\n",
       "      <td>อัตราการว่างงานของสวีเดน  ( พ.ค.)</td>\n",
       "    </tr>\n",
       "  </tbody>\n",
       "</table>\n",
       "</div>"
      ],
      "text/plain": [
       "  currency        date      time  intensity  \\\n",
       "0      USD  2025/06/17  00:00:00          2   \n",
       "1      KRW  2025/06/17  04:00:00          1   \n",
       "2      KRW  2025/06/17  04:00:00          1   \n",
       "3      NZD  2025/06/17  05:45:00          1   \n",
       "4      SGD  2025/06/17  07:30:00          1   \n",
       "5      SGD  2025/06/17  07:30:00          1   \n",
       "6      SGD  2025/06/17  08:00:00          1   \n",
       "7      JPY  2025/06/17  09:30:00          2   \n",
       "8      JPY  2025/06/17  10:00:00          3   \n",
       "9      SEK  2025/06/17  13:00:00          1   \n",
       "\n",
       "                                               event  \n",
       "0                        การประมูลพันธบัตรอายุ 20 ปี  \n",
       "1                      ราคาส่งออก (ปีต่อปี)  ( พ.ค.)  \n",
       "2           ดัชนีราคาสินค้านำเข้า (ปีต่อปี)  ( พ.ค.)  \n",
       "3      ดัชนีราคาอาหาร (FPI) (เดือนต่อเดือน)  ( พ.ค.)  \n",
       "4  ปริมาณการส่งออกสินค้าในประเทศทั่วไปยกเว้นน้ำมั...  \n",
       "5  ปริมาณการส่งออกสินค้าในประเทศทั่วไปยกเว้นน้ำมั...  \n",
       "6                      ดุลการค้าของสิงคโปร์  ( พ.ค.)  \n",
       "7      การแถลงการณ์นโยบายการเงินจากธนาคารกลางญี่ปุ่น  \n",
       "8                  การตัดสินใจเกี่ยวกับอัตราดอกเบี้ย  \n",
       "9                  อัตราการว่างงานของสวีเดน  ( พ.ค.)  "
      ]
     },
     "metadata": {},
     "output_type": "display_data"
    }
   ],
   "source": [
    "display(news_df.shape)\n",
    "display(news_df.head(10))"
   ]
  },
  {
   "cell_type": "code",
   "execution_count": 6,
   "id": "ffddb27c",
   "metadata": {},
   "outputs": [],
   "source": [
    "now = datetime.datetime.now()\n",
    "date_time = now.strftime(\"%Y-%m-%d %H-%M-%S\").strip().replace(' ', '_')\n",
    "news_df.to_csv(f'Data/Event_Calendar/{date_time}.csv', index=False)"
   ]
  },
  {
   "cell_type": "code",
   "execution_count": 7,
   "id": "a65ac295",
   "metadata": {},
   "outputs": [
    {
     "name": "stdout",
     "output_type": "stream",
     "text": [
      "   currency                                              event\n",
      "8       JPY                  การตัดสินใจเกี่ยวกับอัตราดอกเบี้ย\n",
      "18      USD  ดัชนียอดขายปลีกพื้นฐาน (Core Retail Sales) (เด...\n",
      "24      USD           ดัชนียอดขายปลีก (เดือนต่อเดือน)  ( พ.ค.)\n"
     ]
    }
   ],
   "source": [
    "print(news_df[news_df['intensity'] == 3][['currency', 'event']])"
   ]
  },
  {
   "cell_type": "code",
   "execution_count": 8,
   "id": "aa97e67b",
   "metadata": {},
   "outputs": [
    {
     "name": "stdout",
     "output_type": "stream",
     "text": [
      "Pinged your deployment. You successfully connected to MongoDB!\n"
     ]
    }
   ],
   "source": [
    "import os\n",
    "from dotenv import load_dotenv\n",
    "from pymongo.mongo_client import MongoClient\n",
    "from pymongo.server_api import ServerApi\n",
    "\n",
    "load_dotenv(\"../SentimentAnalysis/GPT/secret.env\")\n",
    "\n",
    "mongo_connection_string = os.getenv(\"MONGO_CONNECTION_STRING\")\n",
    "\n",
    "try:\n",
    "    client = MongoClient(mongo_connection_string)\n",
    "    db = client['stock_news_db']\n",
    "    collection = db['event_calendar']\n",
    "\n",
    "    client.admin.command('ping')\n",
    "    print(\"Pinged your deployment. You successfully connected to MongoDB!\")\n",
    "\n",
    "except Exception as e:\n",
    "    print(f\"An error occurred: {e}\")"
   ]
  },
  {
   "cell_type": "code",
   "execution_count": 9,
   "id": "b969dbe1",
   "metadata": {},
   "outputs": [
    {
     "name": "stdout",
     "output_type": "stream",
     "text": [
      "Successfully inserted document with id: [ObjectId('68513fdc193036329a06089e'), ObjectId('68513fdc193036329a06089f'), ObjectId('68513fdc193036329a0608a0'), ObjectId('68513fdc193036329a0608a1'), ObjectId('68513fdc193036329a0608a2'), ObjectId('68513fdc193036329a0608a3'), ObjectId('68513fdc193036329a0608a4'), ObjectId('68513fdc193036329a0608a5'), ObjectId('68513fdc193036329a0608a6'), ObjectId('68513fdc193036329a0608a7'), ObjectId('68513fdc193036329a0608a8'), ObjectId('68513fdc193036329a0608a9'), ObjectId('68513fdc193036329a0608aa'), ObjectId('68513fdc193036329a0608ab'), ObjectId('68513fdc193036329a0608ac'), ObjectId('68513fdc193036329a0608ad'), ObjectId('68513fdc193036329a0608ae'), ObjectId('68513fdc193036329a0608af'), ObjectId('68513fdc193036329a0608b0'), ObjectId('68513fdc193036329a0608b1'), ObjectId('68513fdc193036329a0608b2'), ObjectId('68513fdc193036329a0608b3'), ObjectId('68513fdc193036329a0608b4'), ObjectId('68513fdc193036329a0608b5'), ObjectId('68513fdc193036329a0608b6'), ObjectId('68513fdc193036329a0608b7'), ObjectId('68513fdc193036329a0608b8'), ObjectId('68513fdc193036329a0608b9'), ObjectId('68513fdc193036329a0608ba'), ObjectId('68513fdc193036329a0608bb'), ObjectId('68513fdc193036329a0608bc'), ObjectId('68513fdc193036329a0608bd'), ObjectId('68513fdc193036329a0608be'), ObjectId('68513fdc193036329a0608bf'), ObjectId('68513fdc193036329a0608c0'), ObjectId('68513fdc193036329a0608c1'), ObjectId('68513fdc193036329a0608c2'), ObjectId('68513fdc193036329a0608c3'), ObjectId('68513fdc193036329a0608c4')]\n"
     ]
    }
   ],
   "source": [
    "complete_dict=news_df.to_dict(orient='records')\n",
    "\n",
    "result = collection.insert_many(complete_dict,ordered=True)\n",
    "print(f\"Successfully inserted document with id: {result.inserted_ids}\")"
   ]
  }
 ],
 "metadata": {
  "kernelspec": {
   "display_name": "base",
   "language": "python",
   "name": "python3"
  },
  "language_info": {
   "codemirror_mode": {
    "name": "ipython",
    "version": 3
   },
   "file_extension": ".py",
   "mimetype": "text/x-python",
   "name": "python",
   "nbconvert_exporter": "python",
   "pygments_lexer": "ipython3",
   "version": "3.11.10"
  }
 },
 "nbformat": 4,
 "nbformat_minor": 5
}
