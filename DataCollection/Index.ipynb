{
 "cells": [
  {
   "cell_type": "code",
   "execution_count": 1,
   "id": "c0aa8d93",
   "metadata": {},
   "outputs": [],
   "source": [
    "import pandas as pd\n",
    "import numpy as np\n",
    "from selenium import webdriver\n",
    "from selenium.webdriver.chrome.service import Service\n",
    "from selenium.webdriver.common.by import By\n",
    "from bs4 import BeautifulSoup\n",
    "import time\n",
    "import datetime\n",
    "from urllib.request import urlopen, Request"
   ]
  },
  {
   "cell_type": "code",
   "execution_count": 79,
   "id": "62a428a2",
   "metadata": {},
   "outputs": [],
   "source": [
    "r = Request('https://www.slickcharts.com/nasdaq100/', headers={'User-Agent': 'Mozilla/5.0'})\n",
    "time.sleep(2)\n",
    "response = urlopen(r).read()\n",
    "soup = BeautifulSoup(response, \"html.parser\")\n",
    "table = soup.find_all(class_ = \"table table-hover table-borderless table-sm\")[0].find_all('tr')\n",
    "result = []"
   ]
  },
  {
   "cell_type": "code",
   "execution_count": 80,
   "id": "af29be67",
   "metadata": {},
   "outputs": [],
   "source": [
    "table=table[1:]"
   ]
  },
  {
   "cell_type": "code",
   "execution_count": 81,
   "id": "e88659be",
   "metadata": {},
   "outputs": [],
   "source": [
    "for row in table:\n",
    "    cols = row.find_all('td')\n",
    "    if len(cols) > 1:\n",
    "        symbol = cols[2].find('a').text.strip()\n",
    "        result.append(symbol)"
   ]
  },
  {
   "cell_type": "code",
   "execution_count": 82,
   "id": "80dc98d2",
   "metadata": {},
   "outputs": [
    {
     "data": {
      "text/plain": [
       "['MSFT',\n",
       " 'NVDA',\n",
       " 'AAPL',\n",
       " 'AMZN',\n",
       " 'GOOG',\n",
       " 'GOOGL',\n",
       " 'META',\n",
       " 'AVGO',\n",
       " 'TSLA',\n",
       " 'NFLX',\n",
       " 'COST',\n",
       " 'PLTR',\n",
       " 'ASML',\n",
       " 'TMUS',\n",
       " 'CSCO',\n",
       " 'AZN',\n",
       " 'LIN',\n",
       " 'INTU',\n",
       " 'ISRG',\n",
       " 'AMD',\n",
       " 'BKNG',\n",
       " 'PEP',\n",
       " 'ADBE',\n",
       " 'TXN',\n",
       " 'QCOM',\n",
       " 'AMGN',\n",
       " 'HON',\n",
       " 'PDD',\n",
       " 'APP',\n",
       " 'GILD',\n",
       " 'ARM',\n",
       " 'ADP',\n",
       " 'MELI',\n",
       " 'PANW',\n",
       " 'CMCSA',\n",
       " 'AMAT',\n",
       " 'CRWD',\n",
       " 'VRTX',\n",
       " 'MU',\n",
       " 'ADI',\n",
       " 'LRCX',\n",
       " 'MSTR',\n",
       " 'KLAC',\n",
       " 'CEG',\n",
       " 'SBUX',\n",
       " 'CTAS',\n",
       " 'DASH',\n",
       " 'MDLZ',\n",
       " 'INTC',\n",
       " 'ABNB',\n",
       " 'CDNS',\n",
       " 'FTNT',\n",
       " 'ORLY',\n",
       " 'SNPS',\n",
       " 'MAR',\n",
       " 'PYPL',\n",
       " 'WDAY',\n",
       " 'ADSK',\n",
       " 'MNST',\n",
       " 'ROP',\n",
       " 'AXON',\n",
       " 'CSX',\n",
       " 'PAYX',\n",
       " 'AEP',\n",
       " 'CHTR',\n",
       " 'TEAM',\n",
       " 'REGN',\n",
       " 'MRVL',\n",
       " 'CPRT',\n",
       " 'NXPI',\n",
       " 'PCAR',\n",
       " 'FAST',\n",
       " 'ROST',\n",
       " 'ZS',\n",
       " 'KDP',\n",
       " 'VRSK',\n",
       " 'EXC',\n",
       " 'CCEP',\n",
       " 'IDXX',\n",
       " 'TTWO',\n",
       " 'LULU',\n",
       " 'DDOG',\n",
       " 'FANG',\n",
       " 'XEL',\n",
       " 'CTSH',\n",
       " 'BKR',\n",
       " 'TTD',\n",
       " 'EA',\n",
       " 'ODFL',\n",
       " 'DXCM',\n",
       " 'MCHP',\n",
       " 'GEHC',\n",
       " 'KHC',\n",
       " 'CSGP',\n",
       " 'ANSS',\n",
       " 'WBD',\n",
       " 'CDW',\n",
       " 'GFS',\n",
       " 'BIIB',\n",
       " 'ON',\n",
       " 'MDB']"
      ]
     },
     "execution_count": 82,
     "metadata": {},
     "output_type": "execute_result"
    }
   ],
   "source": [
    "result"
   ]
  },
  {
   "cell_type": "code",
   "execution_count": 83,
   "id": "0682a7b6",
   "metadata": {},
   "outputs": [
    {
     "data": {
      "text/plain": [
       "101"
      ]
     },
     "execution_count": 83,
     "metadata": {},
     "output_type": "execute_result"
    }
   ],
   "source": [
    "len(result)"
   ]
  },
  {
   "cell_type": "code",
   "execution_count": 84,
   "id": "0ce4663e",
   "metadata": {},
   "outputs": [],
   "source": [
    "result = pd.DataFrame(result, columns=['Symbol'])\n",
    "result.to_csv('Data/Index/nasdaq100.csv', index=False)"
   ]
  }
 ],
 "metadata": {
  "kernelspec": {
   "display_name": "base",
   "language": "python",
   "name": "python3"
  },
  "language_info": {
   "codemirror_mode": {
    "name": "ipython",
    "version": 3
   },
   "file_extension": ".py",
   "mimetype": "text/x-python",
   "name": "python",
   "nbconvert_exporter": "python",
   "pygments_lexer": "ipython3",
   "version": "3.11.10"
  }
 },
 "nbformat": 4,
 "nbformat_minor": 5
}
