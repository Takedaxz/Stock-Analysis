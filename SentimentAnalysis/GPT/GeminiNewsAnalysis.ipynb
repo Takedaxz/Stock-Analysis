{
 "cells": [
  {
   "cell_type": "markdown",
   "id": "d92e1317",
   "metadata": {},
   "source": [
    "# News Analysis with LLM (Gemini)"
   ]
  },
  {
   "cell_type": "code",
   "execution_count": 8,
   "id": "9d1767dc",
   "metadata": {},
   "outputs": [
    {
     "name": "stdout",
     "output_type": "stream",
     "text": [
      "GEMINI_API_KEY loaded successfully.\n"
     ]
    }
   ],
   "source": [
    "import os\n",
    "from dotenv import load_dotenv\n",
    "\n",
    "load_dotenv(\"secret.env\")\n",
    "\n",
    "api_key = os.getenv(\"GEMINI_API_KEY\")\n",
    "\n",
    "if api_key is None:\n",
    "    print(\"Error: GEMINI_API_KEY not found in .env file or environment variables.\")\n",
    "else:\n",
    "    print(\"GEMINI_API_KEY loaded successfully.\")"
   ]
  },
  {
   "cell_type": "code",
   "execution_count": 9,
   "id": "f8be51b8",
   "metadata": {},
   "outputs": [],
   "source": [
    "import google.generativeai as genai\n",
    "from tqdm import tqdm\n",
    "\n",
    "genai.configure(api_key=api_key)\n",
    "generation_config = genai.GenerationConfig(\n",
    "        temperature=0,\n",
    ")\n",
    "model = genai.GenerativeModel(\"gemini-2.5-flash-preview-04-17\", generation_config=generation_config)"
   ]
  },
  {
   "cell_type": "code",
   "execution_count": 10,
   "id": "116a4f4d",
   "metadata": {},
   "outputs": [],
   "source": [
    "from google.api_core import retry\n",
    "\n",
    "# Catch transient Gemini errors.\n",
    "def is_retryable(e) -> bool:\n",
    "    if retry.if_transient_error(e):\n",
    "        # Good practice, but probably won't fire with the google-genai SDK\n",
    "        return True\n",
    "    elif (isinstance(e, genai.errors.ClientError) and e.code == 429):\n",
    "        # Catch 429 quota exceeded errors\n",
    "        return True\n",
    "    elif (isinstance(e, genai.errors.ServerError) and e.code == 503):\n",
    "        # Catch 503 model overloaded errors\n",
    "        return True\n",
    "    else:\n",
    "        return False\n",
    "\n",
    "@retry.Retry(predicate=is_retryable)\n",
    "def generate_content_with_rate_limit(prompt):\n",
    "  return model.generate_content(prompt).text"
   ]
  },
  {
   "cell_type": "code",
   "execution_count": 11,
   "id": "53969e87",
   "metadata": {},
   "outputs": [],
   "source": [
    "prompt = \"\"\"You are a financial news analyst specializing in stock market impact. Your task is to analyze the provided news article, summarize its core content concisely, determine its sentiment (positive, negative, or neutral), and assess its importance to the specified stock.\n",
    "\n",
    "Here is the news from stock [STOCK] title and body:\n",
    "---\n",
    "[TITLE]\n",
    "---\n",
    "[BODY]\n",
    "---\n",
    "\n",
    "Please provide your analysis in the following format (Don't forget to make space between the sections as shown):\n",
    "\n",
    "**Sentiment:**\n",
    "[Positive / Negative / Neutral]\n",
    "\n",
    "**Summary:**\n",
    "[Your concise summary of the article, typically 2-3 sentences.]\n",
    "\n",
    "**Reasoning for Sentiment:**\n",
    "[Brief explanation (1-2 sentences) of why you categorized the sentiment as such, referencing key points or tone from the article.]\n",
    "\n",
    "**Importance to Stock [STOCK]:**\n",
    "[1-5, where 1 is minimal importance and 5 is very high importance.Answer in 1-5 only, no explanation.] (Answer only in number 1-5)\n",
    "\n",
    "**Reasoning for Importance:**\n",
    "[Brief explanation (1-2 sentences) of why you assigned this importance score, referencing specific details from the article that would impact the stock.]\"\"\""
   ]
  },
  {
   "cell_type": "code",
   "execution_count": 12,
   "id": "92827cc3",
   "metadata": {},
   "outputs": [],
   "source": [
    "import pandas as pd\n",
    "import numpy as np"
   ]
  },
  {
   "cell_type": "code",
   "execution_count": 13,
   "id": "0849d1b0",
   "metadata": {},
   "outputs": [
    {
     "data": {
      "application/vnd.microsoft.datawrangler.viewer.v0+json": {
       "columns": [
        {
         "name": "index",
         "rawType": "int64",
         "type": "integer"
        },
        {
         "name": "publish_date",
         "rawType": "object",
         "type": "string"
        },
        {
         "name": "publish_time",
         "rawType": "object",
         "type": "string"
        },
        {
         "name": "title",
         "rawType": "object",
         "type": "string"
        },
        {
         "name": "body_text",
         "rawType": "object",
         "type": "string"
        },
        {
         "name": "url",
         "rawType": "object",
         "type": "string"
        }
       ],
       "ref": "bcc8cfa9-d0ef-4ec2-8439-86ca28868320",
       "rows": [
        [
         "0",
         "2025-05-28",
         "03:10",
         "sell Nvidia ahead of earnings? Here’s what our AI model says By Investing.com",
         "Investing.com -- The moment the market has been holding its breath for is finally upon us. Today, after the market closes, AI powerhouse (NASDAQ: ) is set to report its fiscal Q126 earnings amid conflicting signals.\n\nOn the one hand, rising US export curbs due to high commercial tensions with China, as well as dwindling sales in the country, could weigh on the stock. On the other hand, however, a fairly low expectation in comparison to past quarters will likely leave the giant’s top and bottom lines within reach.\n\nAgainst the volatile backdrop, we turned to our proprietary AI model for stock picking - available exclusively for InvestingPro members for less than $10 a month - for clues on whether it might be time to buy the stock ahead of its bombastic earnings report.\n\nIn fact, those who followed our AI’s picks since its launch in 2023 notched a game-changing 226.7% gain on Nvidia stock alone in the period that spanned from November 2023 to December 2024.\n\nThe stock was then dropped from our AI’s list in December and went on to move sideways for a full quarter, shedding -1.9% since.\n\nDuring that period, our AI flagged other buys instead, which helped our users notch a massive 96.7% since launch, nearly doubling their money in less than two years and outpacing the broader by 57.96%.\n\nSome of these other picks that rallied while Nvidia stalled are:\n\nMicrochip Technology (NASDAQ: ): 27.62%\n\nWalt Disney Company (NYSE: ): 23.73%\n\nMKS Instruments (NASDAQ: ): 22.79%\n\nAxcelis Technologies (NASDAQ: ): 21.50%\n\nJust to name a few...\n\nGlobal investors also got their fair share of gains during the period, with names such as:\n\nThyssenkrupp (OTC: ) (Germany): 149.7%\n\nIndra Sistemas (BME: ) SA (OTC: ): 112.18%\n\nIveco (BIT: ) (Italy): 96.47%\n\nNow, with Nvidia earnings set for release tonight, our AI’s answer to whether this is the right time to buy the stock is not yet, for Nvidia is not part of our latest list of stock picks for May.\n\nDoes this mean that the stock will not do well in its earnings?\n\nWell, not necesarily. What it really implies is that, according to a compilation of more than 150 investment-grade models, our AI found 15 other better bets for the month based on their fundamentals and chose them instead, signaling a better risk-return proposition for these stocks.\n\nSubscribe here to see the full list of stocks now for less than $10 through this link.\n\n*Already a Pro member? Then, jump straight to the picks here.\n\nWith the list for June on its way in just a few days, a good report on the fundamental side could also turn our AI model’s favor to the stock again.\n\nPro members get these picks first, with notifications on the first trading day of each month.\n\nBut how does our AI model actually work?\n\nAt the start of each month, our AI refreshes each strategy with up to 20 stock picks. These selections are based on a blend of more than 150 well-established financial models.\n\nSome stocks are added, others stay on, and a few are dropped, reflecting how the AI evaluates their medium-term growth potential.\n\nPerformance is then tracked using equal weighting across all the stocks in the strategy. You don’t have to mirror that weighting exactly, but it gives a clear picture of how effective the model is at identifying opportunity across the board.\n\nAt the end of the day, stock picking is still a game of probabilities. But the key isn’t just finding winners—it’s knowing when to move on from the ones that no longer stack up.\n\nSince launch, the model has done just that—delivering more than a few standout success stories along the way.\n\nIn fact, our backtests suggest that investors who follow the strategies over the long run will get even better results. See below:\n\nSource: ProPicks\n\nThis means a $100K principal in our strategy would have turned into an eye-popping $2,168,000 by now.\n\nAnd with the next monthly update for June right around the corner, now would be the perfect time to subscribe to InvestingPro and give yourself the upper hand before it’s too late.",
         "https://www.investing.com/news/stock-market-news/is-it-time-to-buysell-nvidia-ahead-of-earnings-heres-what-our-ai-model-says-4066634"
        ],
        [
         "1",
         "2025-05-28",
         "01:51",
         "Bitcoin price today: steady at $109k amid legislative support at 2025 conference By Investing.com",
         "Investing.com-- held steady on Wednesday, remaining supported slightly below its recent record high, as investors closely monitored developments from the ongoing Bitcoin 2025 conference in Las Vegas.\n\nThe world’s largest cryptocurrency was largely unchanged at $109,030.20 as of 01:41 ET (05:41 GMT).\n\nThe token surged to a record high of nearly $112,000 on Thursday last week, but gave some of the gains amid profit-booking and whale trades at peak levels.\n\nPrices were supported near record highs amid regulatory cheer and optimism over increased institutional adoption.\n\nBitcoin 2025 Conference signals strategic support\n\nThe cryptocurrency hovered near its recent record high, buoyed by significant policy announcements and legislative endorsements at the Bitcoin 2025 Conference, which started a day earlier.\n\nAt the conference, Bo Hines, the White House Digital Assets Advisor, emphasized the administration’s commitment to Bitcoin, referring to it as \"digital gold.\" Hines stated that the U.S. government has no intention of selling its Bitcoin holdings and aims to accumulate more through strategic reserves.\n\nSenator Cynthia Lummis also made headlines by announcing that President Donald Trump supports the BITCOIN Act, a bill proposing the acquisition of up to 1 million BTC over five years.\n\nThe legislation, set to be introduced to the Senate floor next week, seeks to formalize the establishment of a Strategic Bitcoin Reserve, initially funded by Bitcoin seized in federal cases.\n\nThese developments come in the wake of President Trump’s March 6 executive order, which established the Strategic Bitcoin Reserve and the U.S. Digital Asset Stockpile.\n\nThe Bitcoin 2025 conference has attracted significant attention, with industry leaders and policymakers discussing the future of digital assets.\n\nThe event’s high-profile announcements have contributed to Bitcoin’s price stability, as investors anticipate increased institutional adoption and government support for the cryptocurrency.\n\nThis year’s edition is expected to be the largest to date, drawing over 30,000 attendees, featuring more than 400 speakers, and involving 5,000 participating companies.\n\nCrypto price today: Most altcoins subdued in line with Bitcoin\n\nMost altcoins also saw marginal moves, tracking the tepid performance in the biggest cryptocurrency.\n\nWorld no.2 crypto rose 2.6% to $2,637.52.\n\nWorld no. 3 crypto edged 0.4% higher to $2.3060.\n\nwas up 0.7% lower, while and were largely muted.\n\nAmong meme tokens, edged down 0.2%, while gained 0.5%.",
         "https://www.investing.com/news/cryptocurrency-news/bitcoin-price-today-steady-at-109k-amid-legislative-support-at-2025-conference-4066526"
        ],
        [
         "2",
         "2025-05-28",
         "00:18",
         "Nvidia Asian suppliers advance ahead of Q1 earnings By Investing.com",
         "Investing.com-- Shares of Nvidia’s Asian suppliers rose on Wednesday, as investors positioned for strong first-quarter earnings from the artificial intelligence major, which also acts as a bellwether for the tech industry.\n\nChipmakers and chip-adjacent stocks were the top gainers, with South Korea’s Samsung Electronics Co Ltd (KS: ) and SK Hynix Inc (KS: )- who supply Nvidia (NASDAQ: ) with memory chips- up 3.2% and 2.8%, respectively.\n\nJapanese semiconductor testing equipment maker Advantest Corp. (TYO: ) added 1.4%, while Taiwan’s TSMC (TW: ) (NYSE: ) rose 0.5%. Hon Hai Precision Industry Co Ltd (TW: ) (Foxconn), which assembles Nvidia’s chipsets, moved in a flat-to-low range.\n\nGains in Nvidia’s suppliers tracked an over 3% jump in the firm’s shares on Tuesday, as it and broader tech stocks courted increased bids on improving risk appetite.\n\nNvidia is forecast to log earnings per share of $0.893 on revenue of $43.12 billion for the three months to April 31, both up substantially from last year, Investing.com data showed.\n\nThe company is expected to have benefited greatly from sustained demand as Wall Street’s so-called AI hyperscalers continued to pour billions into data centers and cloud infrastructure.\n\nFocus will be squarely on Nvidia’s outlook, especially as the company grapples with stricter U.S. controls on sales to China. A shift towards AI inference from training, which is less data intensive, as well as increased interest in less demanding AI models, also stand to dampen future chip demand.\n\nNvidia’s shares have tended to underperform after the company’s earnings over the past three quarters, with its revenue or outlook usually missing some lofty expectations. This underperformance has also spilled over into shares of Nvidia’s suppliers in the past, with markets usually volatile in the run-up and aftermath of Nvidia’s earnings.\n\nBroader Asian tech stocks advanced on Wednesday, tracking overnight gains in their U.S. peers as markets awaited Nvidia’s earnings. Easing U.S. Treasury yields, after a sharp run-up in recent weeks, also aided tech.",
         "https://www.investing.com/news/stock-market-news/nvidia-asian-suppliers-advance-ahead-of-q1-earnings-4066467"
        ],
        [
         "3",
         "2025-05-27",
         "22:52",
         "Asia stocks rise tracking Wall St gains; Tech upbeat before Nvidia earnings By Investing.com",
         "Investing.com-- Most Asian stocks rose on Wednesday tracking a strong overnight session on Wall Street, as investors cheered President Donald Trump’s postponement of steep trade tariffs against Europe.\n\nTechnology stocks led gains for the day, buoyed by stellar earnings from China’s Xiaomi (OTC: ) (HK: ), and as investors piled into the sector before earnings from artificial intelligence major NVIDIA Corporation (NASDAQ: ), which are due later today.\n\nGains in Asian markets came tracking a sharp overnight jump in Wall Street, as investors also cheered some signs of stability in the bond market. U.S. stock index futures were flat in regional trade, with steady around 5,934.0 points after the surged over 2%.\n\nSome regional markets also lagged, with Australian shares rising marginally after a strong consumer inflation print.\n\nChinese shares moved in a flat-to-low range as weak earnings from ecommerce giant PDD Holdings (NASDAQ: ) added to concerns over sustained deflation and weak consumer spending in the country.\n\nTech stocks advance with Nvidia earnings in focus\n\nJapan’s rose 0.6%, while South Korea’s rallied 1.8% to a nine-month high on outsized gains in technology stocks.\n\nJapan’s Advantest Corp. (TYO: )- an Nvidia supplier- rose 2.2%, while South Korea’s SK Hynix Inc (KS: ) and Samsung Electronics Co Ltd (KS: ), who both supply Nvidia with memory chips– rose 2.7% and 3.3%, respectively.\n\nTaiwan’s TSMC (TW: ) and Hon Hai Precision Industry Co Ltd (TW: ) (Foxconn) rose about 0.5% each.\n\nInvestors were seen piling into tech, especially in chipmakers and AI-tangential stocks, as they positioned for a strong earnings print from Nvidia.\n\nThe AI major is set to report earnings after the U.S. close on Wednesday, and is forecast to clock strong earnings and revenue growth, as it continued to benefit from outsized spending on AI infrastructure, especially by major U.S. companies.\n\nBut focus will be on Nvidia’s outlook on AI demand and China, especially as the company grapples with stricter U.S. restrictions on chip exports to Beijing.\n\nChina shares lag, deflation concerns outweigh strong Xiaomi earnings\n\nChina’s and indexes fell marginally, while Hong Kong’s shed 0.3%.\n\nConcerns over Chinese deflation and weak consumer spending came to fore this week following weak earnings from ecommerce major PDD. The company’s first-quarter profit nearly halved as local sales suffered from heightened competition and weak spending, while its international business, specifically budget marketplace Temu, was hit by heightened uncertainty over U.S. trade tariffs.\n\nPDD’s weak print comes just a week after ecommerce major Alibaba’s earnings underwhelmed.\n\nConcerns over deflation largely offset a strong showing from Xiaomi, which clocked a record first quarter profit. Xiaomi’s shares rose 1.6% in Hong Kong trade.\n\nBroader Asian markets mostly advanced, although gains were limited in several markets. Australia’s rose 0.2%, lagging its regional peers as mildly stronger than expected raised some doubts over when the Reserve Bank of Australia will cut interest rates next.\n\nSingapore’s index rose 0.4%, while Japan’s index rose 0.5%.\n\nfor India’s index fell 0.1%, pointing to a weaker open for the index as it struggled to make headway above 25,000 points.",
         "https://www.investing.com/news/stock-market-news/asia-stocks-rise-tracking-wall-st-gains-tech-upbeat-before-nvidia-earnings-4066438"
        ],
        [
         "4",
         "2025-05-27",
         "20:39",
         "Trump says Golden Dome to cost Canada $61 bln, but free if it gives up sovereignty By Investing.com",
         "Investing.com-- U.S. President Donald Trump said on Tuesday that it would cost Canada $61 billion to be part of his proposed “Golden Dome” missile defense system, but that it would be free if the country became the 51st U.S. state.\n\n“I told Canada, which very much wants to be part of our fabulous Golden Dome System, that it will cost $61 Billion Dollars if they remain a separate, but unequal, Nation, but will cost ZERO DOLLARS if they become our cherished 51st State,” Trump said in a post on Truth.social, claiming that Canada was “considering the offer.”\n\nTrump’s comment comes after Canadian Prime Minister Mark Carney last week expressed some interest in investing in the Golden Dome project, which is slated to cost about $175 billion.\n\nTrump’s comments on Canada’s sovereignty are the latest in the president’s claims that Canada could become the 51st U.S. state- a claim that has been categorically rejected by Canada.\n\nA spokesperson for Carney reiterated the country’s sovereignty, according to a comment carried by the Financial Times.\n\nCanada and the U.S. already have a defense agreement– the North American Aerospace Defense Command (NORAD), which includes measures to detect ballistic missile attacks.\n\nTrump’s proposed Golden Dome system plans to establish interceptors in space to protect the U.S. against advanced threats such as intercontinental ballistic missiles, hypersonic missiles, and long-range cruise missiles.\n\nTrump has vowed to complete the project by the end of his term.",
         "https://www.investing.com/news/economy-news/trump-says-golden-dome-to-cost-canada-61-bln-but-free-if-it-gives-up-sovereignty-4066382"
        ]
       ],
       "shape": {
        "columns": 5,
        "rows": 5
       }
      },
      "text/html": [
       "<div>\n",
       "<style scoped>\n",
       "    .dataframe tbody tr th:only-of-type {\n",
       "        vertical-align: middle;\n",
       "    }\n",
       "\n",
       "    .dataframe tbody tr th {\n",
       "        vertical-align: top;\n",
       "    }\n",
       "\n",
       "    .dataframe thead th {\n",
       "        text-align: right;\n",
       "    }\n",
       "</style>\n",
       "<table border=\"1\" class=\"dataframe\">\n",
       "  <thead>\n",
       "    <tr style=\"text-align: right;\">\n",
       "      <th></th>\n",
       "      <th>publish_date</th>\n",
       "      <th>publish_time</th>\n",
       "      <th>title</th>\n",
       "      <th>body_text</th>\n",
       "      <th>url</th>\n",
       "    </tr>\n",
       "  </thead>\n",
       "  <tbody>\n",
       "    <tr>\n",
       "      <th>0</th>\n",
       "      <td>2025-05-28</td>\n",
       "      <td>03:10</td>\n",
       "      <td>sell Nvidia ahead of earnings? Here’s what our...</td>\n",
       "      <td>Investing.com -- The moment the market has bee...</td>\n",
       "      <td>https://www.investing.com/news/stock-market-ne...</td>\n",
       "    </tr>\n",
       "    <tr>\n",
       "      <th>1</th>\n",
       "      <td>2025-05-28</td>\n",
       "      <td>01:51</td>\n",
       "      <td>Bitcoin price today: steady at $109k amid legi...</td>\n",
       "      <td>Investing.com-- held steady on Wednesday, rema...</td>\n",
       "      <td>https://www.investing.com/news/cryptocurrency-...</td>\n",
       "    </tr>\n",
       "    <tr>\n",
       "      <th>2</th>\n",
       "      <td>2025-05-28</td>\n",
       "      <td>00:18</td>\n",
       "      <td>Nvidia Asian suppliers advance ahead of Q1 ear...</td>\n",
       "      <td>Investing.com-- Shares of Nvidia’s Asian suppl...</td>\n",
       "      <td>https://www.investing.com/news/stock-market-ne...</td>\n",
       "    </tr>\n",
       "    <tr>\n",
       "      <th>3</th>\n",
       "      <td>2025-05-27</td>\n",
       "      <td>22:52</td>\n",
       "      <td>Asia stocks rise tracking Wall St gains; Tech ...</td>\n",
       "      <td>Investing.com-- Most Asian stocks rose on Wedn...</td>\n",
       "      <td>https://www.investing.com/news/stock-market-ne...</td>\n",
       "    </tr>\n",
       "    <tr>\n",
       "      <th>4</th>\n",
       "      <td>2025-05-27</td>\n",
       "      <td>20:39</td>\n",
       "      <td>Trump says Golden Dome to cost Canada $61 bln,...</td>\n",
       "      <td>Investing.com-- U.S. President Donald Trump sa...</td>\n",
       "      <td>https://www.investing.com/news/economy-news/tr...</td>\n",
       "    </tr>\n",
       "  </tbody>\n",
       "</table>\n",
       "</div>"
      ],
      "text/plain": [
       "  publish_date publish_time  \\\n",
       "0   2025-05-28        03:10   \n",
       "1   2025-05-28        01:51   \n",
       "2   2025-05-28        00:18   \n",
       "3   2025-05-27        22:52   \n",
       "4   2025-05-27        20:39   \n",
       "\n",
       "                                               title  \\\n",
       "0  sell Nvidia ahead of earnings? Here’s what our...   \n",
       "1  Bitcoin price today: steady at $109k amid legi...   \n",
       "2  Nvidia Asian suppliers advance ahead of Q1 ear...   \n",
       "3  Asia stocks rise tracking Wall St gains; Tech ...   \n",
       "4  Trump says Golden Dome to cost Canada $61 bln,...   \n",
       "\n",
       "                                           body_text  \\\n",
       "0  Investing.com -- The moment the market has bee...   \n",
       "1  Investing.com-- held steady on Wednesday, rema...   \n",
       "2  Investing.com-- Shares of Nvidia’s Asian suppl...   \n",
       "3  Investing.com-- Most Asian stocks rose on Wedn...   \n",
       "4  Investing.com-- U.S. President Donald Trump sa...   \n",
       "\n",
       "                                                 url  \n",
       "0  https://www.investing.com/news/stock-market-ne...  \n",
       "1  https://www.investing.com/news/cryptocurrency-...  \n",
       "2  https://www.investing.com/news/stock-market-ne...  \n",
       "3  https://www.investing.com/news/stock-market-ne...  \n",
       "4  https://www.investing.com/news/economy-news/tr...  "
      ]
     },
     "metadata": {},
     "output_type": "display_data"
    }
   ],
   "source": [
    "df = pd.read_csv(\"../../DataCollection/Data/Trending_News/2025-05-28_14-25-05.csv\")\n",
    "display(df.head())"
   ]
  },
  {
   "cell_type": "code",
   "execution_count": 14,
   "id": "1c6c45a4",
   "metadata": {},
   "outputs": [
    {
     "data": {
      "application/vnd.microsoft.datawrangler.viewer.v0+json": {
       "columns": [
        {
         "name": "index",
         "rawType": "object",
         "type": "string"
        },
        {
         "name": "0",
         "rawType": "int64",
         "type": "integer"
        }
       ],
       "ref": "d12a3828-8728-46cb-93da-a788cb91c53a",
       "rows": [
        [
         "publish_date",
         "0"
        ],
        [
         "publish_time",
         "0"
        ],
        [
         "title",
         "0"
        ],
        [
         "body_text",
         "0"
        ],
        [
         "url",
         "0"
        ]
       ],
       "shape": {
        "columns": 1,
        "rows": 5
       }
      },
      "text/plain": [
       "publish_date    0\n",
       "publish_time    0\n",
       "title           0\n",
       "body_text       0\n",
       "url             0\n",
       "dtype: int64"
      ]
     },
     "execution_count": 14,
     "metadata": {},
     "output_type": "execute_result"
    }
   ],
   "source": [
    "df.isnull().sum()"
   ]
  },
  {
   "cell_type": "code",
   "execution_count": 15,
   "id": "074d5e03",
   "metadata": {},
   "outputs": [],
   "source": [
    "df[\"title\"] = df[\"title\"].astype(str)\n",
    "df[\"body_text\"] = df[\"body_text\"].astype(str)"
   ]
  },
  {
   "cell_type": "code",
   "execution_count": 16,
   "id": "24dcc3ea",
   "metadata": {},
   "outputs": [
    {
     "name": "stdout",
     "output_type": "stream",
     "text": [
      "  publish_date publish_time  \\\n",
      "0   2025-05-28        03:10   \n",
      "1   2025-05-28        01:51   \n",
      "2   2025-05-28        00:18   \n",
      "3   2025-05-27        22:52   \n",
      "4   2025-05-27        20:39   \n",
      "\n",
      "                                               title  \\\n",
      "0  sell Nvidia ahead of earnings? Here’s what our...   \n",
      "1  Bitcoin price today: steady at $109k amid legi...   \n",
      "2  Nvidia Asian suppliers advance ahead of Q1 ear...   \n",
      "3  Asia stocks rise tracking Wall St gains; Tech ...   \n",
      "4  Trump says Golden Dome to cost Canada $61 bln,...   \n",
      "\n",
      "                                           body_text  \\\n",
      "0  Investing.com -- The moment the market has bee...   \n",
      "1  Investing.com-- held steady on Wednesday, rema...   \n",
      "2  Investing.com-- Shares of Nvidia’s Asian suppl...   \n",
      "3  Investing.com-- Most Asian stocks rose on Wedn...   \n",
      "4  Investing.com-- U.S. President Donald Trump sa...   \n",
      "\n",
      "                                                 url  \n",
      "0  https://www.investing.com/news/stock-market-ne...  \n",
      "1  https://www.investing.com/news/cryptocurrency-...  \n",
      "2  https://www.investing.com/news/stock-market-ne...  \n",
      "3  https://www.investing.com/news/stock-market-ne...  \n",
      "4  https://www.investing.com/news/economy-news/tr...  \n"
     ]
    }
   ],
   "source": [
    "print(df.head())"
   ]
  },
  {
   "cell_type": "code",
   "execution_count": 17,
   "id": "f6e35e45",
   "metadata": {},
   "outputs": [
    {
     "name": "stderr",
     "output_type": "stream",
     "text": [
      "Prompting:   0%|          | 0/20 [00:00<?, ?it/s]"
     ]
    },
    {
     "name": "stderr",
     "output_type": "stream",
     "text": [
      "Prompting: 100%|██████████| 20/20 [01:54<00:00,  5.72s/it]\n"
     ]
    }
   ],
   "source": [
    "predicted = []\n",
    "\n",
    "for index, row in tqdm(df.iterrows(), total=len(df), desc=\"Prompting\"): \n",
    "    current_stock = row.get(\"ticker\", \"news\")\n",
    "\n",
    "    filled_prompt = prompt.replace(\"[STOCK]\", current_stock)\n",
    "    filled_prompt = filled_prompt.replace(\"[TITLE]\", row[\"title\"])\n",
    "    filled_prompt = filled_prompt.replace(\"[BODY]\", row[\"body_text\"])\n",
    "\n",
    "    try:\n",
    "        response = generate_content_with_rate_limit(filled_prompt)\n",
    "        finalprediction = response.strip()\n",
    "        if not finalprediction:\n",
    "            print(f\"Row {index}: LLM returned an empty string.\")\n",
    "            predicted.append(\"LLM_EMPTY_RESPONSE\")\n",
    "        else:\n",
    "            predicted.append(finalprediction)\n",
    "    except ValueError as ve:\n",
    "        print(f\"Row {index}: ValueError - {ve}. Appending 'ERROR_VALUE_ERROR'.\")\n",
    "        predicted.append(\"ERROR_VALUE_ERROR\")\n",
    "        continue\n",
    "    except Exception as e:\n",
    "        if \"429 Too Many Requests\" in str(e) or \"quota\" in str(e).lower():\n",
    "            print(f\"Row {index}: Rate Limit Exceeded or Quota Error - {e}. Appending 'ERROR_RATE_LIMIT'.\")\n",
    "            predicted.append(\"ERROR_RATE_LIMIT\")\n",
    "        elif \"safety\" in str(e).lower() or \"blocked\" in str(e).lower():\n",
    "             print(f\"Row {index}: Content Safety/Blocked - {e}. Appending 'ERROR_SAFETY_BLOCKED'.\")\n",
    "             predicted.append(\"ERROR_SAFETY_BLOCKED\")\n",
    "        else:\n",
    "            print(f\"Row {index}: Unexpected Error - {e}. Appending 'ERROR_UNEXPECTED'.\")\n",
    "            predicted.append(\"ERROR_UNEXPECTED\")\n",
    "        continue"
   ]
  },
  {
   "cell_type": "code",
   "execution_count": 18,
   "id": "984e0e0f",
   "metadata": {},
   "outputs": [],
   "source": [
    "predicted = np.array(predicted)\n",
    "df[\"predicted\"] = predicted"
   ]
  },
  {
   "cell_type": "code",
   "execution_count": 19,
   "id": "90abd541",
   "metadata": {},
   "outputs": [
    {
     "name": "stdout",
     "output_type": "stream",
     "text": [
      "Nvidia Asian suppliers advance ahead of Q1 earnings By Investing.com \n",
      "\n",
      " **Sentiment:**\n",
      "Neutral\n",
      "\n",
      "**Summary:**\n",
      "Shares of Nvidia's Asian suppliers advanced ahead of the company's first-quarter earnings report, driven by investor anticipation of strong results. While suppliers like Samsung, SK Hynix, and TSMC saw gains, the article notes past instances of Nvidia's stock underperforming post-earnings and highlights potential future challenges like China controls and shifts in AI demand.\n",
      "\n",
      "**Reasoning for Sentiment:**\n",
      "The article reports on positive stock movements for suppliers but balances this with discussion of potential risks and past negative trends surrounding Nvidia's earnings reports, presenting a mixed picture rather than a purely positive or negative one.\n",
      "\n",
      "**Importance to Stock news:**\n",
      "5\n",
      "\n",
      "**Reasoning for Importance:**\n",
      "The news directly discusses market positioning ahead of Nvidia's Q1 earnings, expected results, past stock reactions to earnings, and potential future demand drivers/headwinds for the company, making it highly relevant to Nvidia's stock performance.\n"
     ]
    }
   ],
   "source": [
    "print(df[\"title\"][2],'\\n\\n',predicted[2])"
   ]
  },
  {
   "cell_type": "code",
   "execution_count": 20,
   "id": "d915ec16",
   "metadata": {},
   "outputs": [],
   "source": [
    "df[\"sentiment\"] = df[\"predicted\"].apply(lambda x: x.split(\"\\n\")[1].strip() if len(x.split(\"\\n\")) > 1 else None)\n",
    "df[\"importance\"] = df[\"predicted\"].apply(lambda x: x.split(\"\\n\")[10].strip() if len(x.split(\"\\n\")) > 10 else None)\n",
    "df[\"summary\"] = df[\"predicted\"].apply(lambda x: x.split(\"\\n\")[4].strip() if len(x.split(\"\\n\")) > 4 else None)"
   ]
  },
  {
   "cell_type": "code",
   "execution_count": 21,
   "id": "0097fc24",
   "metadata": {},
   "outputs": [
    {
     "data": {
      "application/vnd.microsoft.datawrangler.viewer.v0+json": {
       "columns": [
        {
         "name": "index",
         "rawType": "int64",
         "type": "integer"
        },
        {
         "name": "publish_date",
         "rawType": "object",
         "type": "string"
        },
        {
         "name": "title",
         "rawType": "object",
         "type": "string"
        },
        {
         "name": "sentiment",
         "rawType": "object",
         "type": "string"
        },
        {
         "name": "importance",
         "rawType": "object",
         "type": "string"
        },
        {
         "name": "summary",
         "rawType": "object",
         "type": "string"
        }
       ],
       "ref": "3fb45afa-e565-45ce-9012-0a8314da9c6f",
       "rows": [
        [
         "0",
         "2025-05-28",
         "sell Nvidia ahead of earnings? Here’s what our AI model says By Investing.com",
         "Neutral",
         "5",
         "The article discusses the anticipation surrounding Nvidia's upcoming fiscal Q126 earnings report, noting conflicting factors like China export curbs and relatively low expectations. It highlights Investing.com's proprietary AI model, which currently does not include Nvidia on its list of top picks for May, suggesting other stocks offer better risk-return propositions at this time, despite the AI's past success with NVDA."
        ],
        [
         "1",
         "2025-05-28",
         "Bitcoin price today: steady at $109k amid legislative support at 2025 conference By Investing.com",
         "Positive",
         "5",
         "Bitcoin's price is holding steady near its recent record high, supported by positive news from the Bitcoin 2025 conference. Key announcements include the White House's commitment to Bitcoin as \"digital gold\" and plans to accumulate holdings, along with President Trump's support for legislation proposing the acquisition of up to 1 million BTC for a strategic reserve. These developments are seen as bolstering price stability and optimism for future adoption."
        ],
        [
         "2",
         "2025-05-28",
         "Nvidia Asian suppliers advance ahead of Q1 earnings By Investing.com",
         "Neutral",
         "5",
         "Shares of Nvidia's Asian suppliers advanced ahead of the company's first-quarter earnings report, driven by investor anticipation of strong results. While suppliers like Samsung, SK Hynix, and TSMC saw gains, the article notes past instances of Nvidia's stock underperforming post-earnings and highlights potential future challenges like China controls and shifts in AI demand."
        ],
        [
         "3",
         "2025-05-27",
         "Asia stocks rise tracking Wall St gains; Tech upbeat before Nvidia earnings By Investing.com",
         "Positive",
         "5",
         "Most Asian stocks rose, tracking Wall Street gains and buoyed by positive factors like postponed US tariffs and strong Xiaomi earnings. Technology stocks, particularly Nvidia suppliers, led the advance as investors anticipated strong earnings from Nvidia later in the day, despite some regional weakness in China due to deflation concerns and weak PDD earnings."
        ],
        [
         "6",
         "2025-05-27",
         "US stock futures steady with Nvidia earnings in focus By Investing.com",
         "Positive",
         "5",
         "US stock futures rose slightly, driven by anticipation of Nvidia's upcoming Q1 earnings report and positive market factors like delayed EU trade tariffs and strong consumer confidence data. Nvidia's earnings are highly awaited as a bellwether for the tech sector, with analysts expecting strong results but focusing on the company's outlook and comments on China sales."
        ],
        [
         "7",
         "2025-05-27",
         "Nvidia suppliers ramp up AI server production after technical snag",
         "Positive",
         "5",
         "Nvidia's key suppliers have successfully resolved technical issues that were delaying shipments of the new \"Blackwell\" AI data center servers. This breakthrough allows production and shipments to commence, addressing a previous hurdle for Nvidia's sales initiatives."
        ],
        [
         "9",
         "2025-05-27",
         "JPM highlights top 6 European investment ideas for next 12–18 months By Investing.com",
         "Positive",
         "5",
         "JPMorgan has outlined its top six European investment ideas for the next 12-18 months, focusing on sectors expected to benefit from structural and policy changes. Key themes include defense spending, German infrastructure stimulus, financials (favoring insurance), chemicals, utilities/telecoms, and German small caps."
        ],
        [
         "10",
         "2025-05-27",
         "Next 300 points likely up for the S&P 500, says JPMorgan By Investing.com",
         "Positive",
         "5",
         "JPMorgan analysts predict the S&P 500's next move is likely higher by 300 points, viewing the recent market pullback as a temporary correction. Their bullish outlook is supported by stable macro data, positive earnings trends, and easing trade tensions."
        ],
        [
         "12",
         "2025-05-27",
         "New surveys show declining interest in EVs and the Tesla brand around the world By Investing.com",
         "Negative",
         "5",
         "New surveys from UBS and Stifel indicate a significant decline in consumer interest and brand preference for Tesla across major global markets, including the US, China, and Europe. Factors cited include market saturation, increased competition, and political polarization in the US."
        ],
        [
         "13",
         "2025-05-27",
         "StanChart sees Solana price rising over 50% by end of 2025 By Investing.com",
         "Positive",
         "5",
         "Standard Chartered has initiated coverage on Solana (SOL) with a year-end 2025 price target of $275, indicating over 50% upside from current levels. While noting potential near-term underperformance due to reliance on memecoin trading, the bank sees strong long-term potential in new sectors, projecting targets up to $500 by 2029."
        ],
        [
         "14",
         "2025-05-27",
         "Citi sees up to 8% downside for Stoxx 600 on Trump tariff risk By Investing.com",
         "Negative",
         "5",
         "Citi analysts warn that the Stoxx 600 index could face a 7-8% downside if potential 50% Trump tariffs on European goods are enacted. They note that European earnings estimates have already fallen due to geopolitical risks, and higher tariffs could lead to further deterioration in EPS growth."
        ],
        [
         "15",
         "2025-05-27",
         "What could be the impact of a 50% tariff on EU economy? By Investing.com",
         "Negative",
         "5",
         "The article reports on UBS's analysis warning that a potential 50% US tariff on EU imports could significantly reduce eurozone GDP growth in 2025 and 2026 and heighten the risk of a broader trade conflict. While a near-term boost from front-loading shipments is possible, the overall outlook is negative, threatening growth and potentially leading to inflationary pressures if the EU retaliates with its own measures."
        ],
        [
         "16",
         "2025-05-27",
         "Higher U.S. futures, new Nvidia chip, falling Tesla sales",
         "Positive",
         "5",
         "U.S. stock futures rose sharply after President Trump postponed tariffs on EU imports, easing trade war fears. The article also notes specific company news, including Nvidia's plan for a new China chip and a significant drop in Tesla's European sales."
        ],
        [
         "17",
         "2025-05-27",
         "Bitcoin price today: flat at $109.7k post record high; 2025 crypto summit eyed By Investing.com",
         "Neutral",
         "5",
         "Bitcoin is trading flat near its recent record high of $109.7k, with market focus shifting to the upcoming large Bitcoin 2025 conference expected to boost interest. The price is supported by positive regulatory news and growing institutional adoption, despite some recent profit-taking. The article also notes Trump Media's plan to raise $2.5 billion for a Bitcoin treasury, which caused its shares to drop."
        ],
        [
         "18",
         "2025-05-27",
         "Gold prices sink as Trump EU tariff delay spurs some risk, yields retreat By Investing.com",
         "Negative",
         "5",
         "Gold prices fell in Asian trade, extending recent declines, primarily due to improved risk appetite following President Trump's delay of EU tariffs and some stabilization in bond yields. Despite persistent dollar weakness limiting losses, the positive market reaction to the tariff delay pressured the safe-haven metal."
        ],
        [
         "19",
         "2025-05-26",
         "Stock market today: S&P 500 rallies on consumer confidence, Trump EU tariff delay By Investing.com",
         "Positive",
         "5",
         "The S&P 500 and other major U.S. stock indices rallied sharply on Tuesday. This market surge was primarily driven by a significant rebound in U.S. consumer confidence and President Trump's decision to postpone planned tariffs on the European Union."
        ]
       ],
       "shape": {
        "columns": 5,
        "rows": 16
       }
      },
      "text/html": [
       "<div>\n",
       "<style scoped>\n",
       "    .dataframe tbody tr th:only-of-type {\n",
       "        vertical-align: middle;\n",
       "    }\n",
       "\n",
       "    .dataframe tbody tr th {\n",
       "        vertical-align: top;\n",
       "    }\n",
       "\n",
       "    .dataframe thead th {\n",
       "        text-align: right;\n",
       "    }\n",
       "</style>\n",
       "<table border=\"1\" class=\"dataframe\">\n",
       "  <thead>\n",
       "    <tr style=\"text-align: right;\">\n",
       "      <th></th>\n",
       "      <th>publish_date</th>\n",
       "      <th>title</th>\n",
       "      <th>sentiment</th>\n",
       "      <th>importance</th>\n",
       "      <th>summary</th>\n",
       "    </tr>\n",
       "  </thead>\n",
       "  <tbody>\n",
       "    <tr>\n",
       "      <th>0</th>\n",
       "      <td>2025-05-28</td>\n",
       "      <td>sell Nvidia ahead of earnings? Here’s what our...</td>\n",
       "      <td>Neutral</td>\n",
       "      <td>5</td>\n",
       "      <td>The article discusses the anticipation surroun...</td>\n",
       "    </tr>\n",
       "    <tr>\n",
       "      <th>1</th>\n",
       "      <td>2025-05-28</td>\n",
       "      <td>Bitcoin price today: steady at $109k amid legi...</td>\n",
       "      <td>Positive</td>\n",
       "      <td>5</td>\n",
       "      <td>Bitcoin's price is holding steady near its rec...</td>\n",
       "    </tr>\n",
       "    <tr>\n",
       "      <th>2</th>\n",
       "      <td>2025-05-28</td>\n",
       "      <td>Nvidia Asian suppliers advance ahead of Q1 ear...</td>\n",
       "      <td>Neutral</td>\n",
       "      <td>5</td>\n",
       "      <td>Shares of Nvidia's Asian suppliers advanced ah...</td>\n",
       "    </tr>\n",
       "    <tr>\n",
       "      <th>3</th>\n",
       "      <td>2025-05-27</td>\n",
       "      <td>Asia stocks rise tracking Wall St gains; Tech ...</td>\n",
       "      <td>Positive</td>\n",
       "      <td>5</td>\n",
       "      <td>Most Asian stocks rose, tracking Wall Street g...</td>\n",
       "    </tr>\n",
       "    <tr>\n",
       "      <th>6</th>\n",
       "      <td>2025-05-27</td>\n",
       "      <td>US stock futures steady with Nvidia earnings i...</td>\n",
       "      <td>Positive</td>\n",
       "      <td>5</td>\n",
       "      <td>US stock futures rose slightly, driven by anti...</td>\n",
       "    </tr>\n",
       "    <tr>\n",
       "      <th>7</th>\n",
       "      <td>2025-05-27</td>\n",
       "      <td>Nvidia suppliers ramp up AI server production ...</td>\n",
       "      <td>Positive</td>\n",
       "      <td>5</td>\n",
       "      <td>Nvidia's key suppliers have successfully resol...</td>\n",
       "    </tr>\n",
       "    <tr>\n",
       "      <th>9</th>\n",
       "      <td>2025-05-27</td>\n",
       "      <td>JPM highlights top 6 European investment ideas...</td>\n",
       "      <td>Positive</td>\n",
       "      <td>5</td>\n",
       "      <td>JPMorgan has outlined its top six European inv...</td>\n",
       "    </tr>\n",
       "    <tr>\n",
       "      <th>10</th>\n",
       "      <td>2025-05-27</td>\n",
       "      <td>Next 300 points likely up for the S&amp;P 500, say...</td>\n",
       "      <td>Positive</td>\n",
       "      <td>5</td>\n",
       "      <td>JPMorgan analysts predict the S&amp;P 500's next m...</td>\n",
       "    </tr>\n",
       "    <tr>\n",
       "      <th>12</th>\n",
       "      <td>2025-05-27</td>\n",
       "      <td>New surveys show declining interest in EVs and...</td>\n",
       "      <td>Negative</td>\n",
       "      <td>5</td>\n",
       "      <td>New surveys from UBS and Stifel indicate a sig...</td>\n",
       "    </tr>\n",
       "    <tr>\n",
       "      <th>13</th>\n",
       "      <td>2025-05-27</td>\n",
       "      <td>StanChart sees Solana price rising over 50% by...</td>\n",
       "      <td>Positive</td>\n",
       "      <td>5</td>\n",
       "      <td>Standard Chartered has initiated coverage on S...</td>\n",
       "    </tr>\n",
       "    <tr>\n",
       "      <th>14</th>\n",
       "      <td>2025-05-27</td>\n",
       "      <td>Citi sees up to 8% downside for Stoxx 600 on T...</td>\n",
       "      <td>Negative</td>\n",
       "      <td>5</td>\n",
       "      <td>Citi analysts warn that the Stoxx 600 index co...</td>\n",
       "    </tr>\n",
       "    <tr>\n",
       "      <th>15</th>\n",
       "      <td>2025-05-27</td>\n",
       "      <td>What could be the impact of a 50% tariff on EU...</td>\n",
       "      <td>Negative</td>\n",
       "      <td>5</td>\n",
       "      <td>The article reports on UBS's analysis warning ...</td>\n",
       "    </tr>\n",
       "    <tr>\n",
       "      <th>16</th>\n",
       "      <td>2025-05-27</td>\n",
       "      <td>Higher U.S. futures, new Nvidia chip, falling ...</td>\n",
       "      <td>Positive</td>\n",
       "      <td>5</td>\n",
       "      <td>U.S. stock futures rose sharply after Presiden...</td>\n",
       "    </tr>\n",
       "    <tr>\n",
       "      <th>17</th>\n",
       "      <td>2025-05-27</td>\n",
       "      <td>Bitcoin price today: flat at $109.7k post reco...</td>\n",
       "      <td>Neutral</td>\n",
       "      <td>5</td>\n",
       "      <td>Bitcoin is trading flat near its recent record...</td>\n",
       "    </tr>\n",
       "    <tr>\n",
       "      <th>18</th>\n",
       "      <td>2025-05-27</td>\n",
       "      <td>Gold prices sink as Trump EU tariff delay spur...</td>\n",
       "      <td>Negative</td>\n",
       "      <td>5</td>\n",
       "      <td>Gold prices fell in Asian trade, extending rec...</td>\n",
       "    </tr>\n",
       "    <tr>\n",
       "      <th>19</th>\n",
       "      <td>2025-05-26</td>\n",
       "      <td>Stock market today: S&amp;P 500 rallies on consume...</td>\n",
       "      <td>Positive</td>\n",
       "      <td>5</td>\n",
       "      <td>The S&amp;P 500 and other major U.S. stock indices...</td>\n",
       "    </tr>\n",
       "  </tbody>\n",
       "</table>\n",
       "</div>"
      ],
      "text/plain": [
       "   publish_date                                              title sentiment  \\\n",
       "0    2025-05-28  sell Nvidia ahead of earnings? Here’s what our...   Neutral   \n",
       "1    2025-05-28  Bitcoin price today: steady at $109k amid legi...  Positive   \n",
       "2    2025-05-28  Nvidia Asian suppliers advance ahead of Q1 ear...   Neutral   \n",
       "3    2025-05-27  Asia stocks rise tracking Wall St gains; Tech ...  Positive   \n",
       "6    2025-05-27  US stock futures steady with Nvidia earnings i...  Positive   \n",
       "7    2025-05-27  Nvidia suppliers ramp up AI server production ...  Positive   \n",
       "9    2025-05-27  JPM highlights top 6 European investment ideas...  Positive   \n",
       "10   2025-05-27  Next 300 points likely up for the S&P 500, say...  Positive   \n",
       "12   2025-05-27  New surveys show declining interest in EVs and...  Negative   \n",
       "13   2025-05-27  StanChart sees Solana price rising over 50% by...  Positive   \n",
       "14   2025-05-27  Citi sees up to 8% downside for Stoxx 600 on T...  Negative   \n",
       "15   2025-05-27  What could be the impact of a 50% tariff on EU...  Negative   \n",
       "16   2025-05-27  Higher U.S. futures, new Nvidia chip, falling ...  Positive   \n",
       "17   2025-05-27  Bitcoin price today: flat at $109.7k post reco...   Neutral   \n",
       "18   2025-05-27  Gold prices sink as Trump EU tariff delay spur...  Negative   \n",
       "19   2025-05-26  Stock market today: S&P 500 rallies on consume...  Positive   \n",
       "\n",
       "   importance                                            summary  \n",
       "0           5  The article discusses the anticipation surroun...  \n",
       "1           5  Bitcoin's price is holding steady near its rec...  \n",
       "2           5  Shares of Nvidia's Asian suppliers advanced ah...  \n",
       "3           5  Most Asian stocks rose, tracking Wall Street g...  \n",
       "6           5  US stock futures rose slightly, driven by anti...  \n",
       "7           5  Nvidia's key suppliers have successfully resol...  \n",
       "9           5  JPMorgan has outlined its top six European inv...  \n",
       "10          5  JPMorgan analysts predict the S&P 500's next m...  \n",
       "12          5  New surveys from UBS and Stifel indicate a sig...  \n",
       "13          5  Standard Chartered has initiated coverage on S...  \n",
       "14          5  Citi analysts warn that the Stoxx 600 index co...  \n",
       "15          5  The article reports on UBS's analysis warning ...  \n",
       "16          5  U.S. stock futures rose sharply after Presiden...  \n",
       "17          5  Bitcoin is trading flat near its recent record...  \n",
       "18          5  Gold prices fell in Asian trade, extending rec...  \n",
       "19          5  The S&P 500 and other major U.S. stock indices...  "
      ]
     },
     "execution_count": 21,
     "metadata": {},
     "output_type": "execute_result"
    }
   ],
   "source": [
    "df[df[\"importance\"]== \"5\"][[\"publish_date\",\"title\", \"sentiment\",\"importance\", \"summary\"]]"
   ]
  },
  {
   "cell_type": "code",
   "execution_count": 22,
   "id": "d090b2b6",
   "metadata": {},
   "outputs": [
    {
     "data": {
      "application/vnd.microsoft.datawrangler.viewer.v0+json": {
       "columns": [
        {
         "name": "index",
         "rawType": "int64",
         "type": "integer"
        },
        {
         "name": "publish_date",
         "rawType": "object",
         "type": "string"
        },
        {
         "name": "publish_time",
         "rawType": "object",
         "type": "string"
        },
        {
         "name": "title",
         "rawType": "object",
         "type": "string"
        },
        {
         "name": "body_text",
         "rawType": "object",
         "type": "string"
        },
        {
         "name": "url",
         "rawType": "object",
         "type": "string"
        },
        {
         "name": "predicted",
         "rawType": "object",
         "type": "string"
        },
        {
         "name": "sentiment",
         "rawType": "object",
         "type": "string"
        },
        {
         "name": "importance",
         "rawType": "object",
         "type": "string"
        },
        {
         "name": "summary",
         "rawType": "object",
         "type": "string"
        }
       ],
       "ref": "99c111ad-e769-4fdd-9667-de652d6585c6",
       "rows": [],
       "shape": {
        "columns": 9,
        "rows": 0
       }
      },
      "text/html": [
       "<div>\n",
       "<style scoped>\n",
       "    .dataframe tbody tr th:only-of-type {\n",
       "        vertical-align: middle;\n",
       "    }\n",
       "\n",
       "    .dataframe tbody tr th {\n",
       "        vertical-align: top;\n",
       "    }\n",
       "\n",
       "    .dataframe thead th {\n",
       "        text-align: right;\n",
       "    }\n",
       "</style>\n",
       "<table border=\"1\" class=\"dataframe\">\n",
       "  <thead>\n",
       "    <tr style=\"text-align: right;\">\n",
       "      <th></th>\n",
       "      <th>publish_date</th>\n",
       "      <th>publish_time</th>\n",
       "      <th>title</th>\n",
       "      <th>body_text</th>\n",
       "      <th>url</th>\n",
       "      <th>predicted</th>\n",
       "      <th>sentiment</th>\n",
       "      <th>importance</th>\n",
       "      <th>summary</th>\n",
       "    </tr>\n",
       "  </thead>\n",
       "  <tbody>\n",
       "  </tbody>\n",
       "</table>\n",
       "</div>"
      ],
      "text/plain": [
       "Empty DataFrame\n",
       "Columns: [publish_date, publish_time, title, body_text, url, predicted, sentiment, importance, summary]\n",
       "Index: []"
      ]
     },
     "metadata": {},
     "output_type": "display_data"
    }
   ],
   "source": [
    "display(df[df['sentiment']==''])\n",
    "df = df[df['sentiment'] != '']"
   ]
  },
  {
   "cell_type": "code",
   "execution_count": 23,
   "id": "263225cc",
   "metadata": {},
   "outputs": [],
   "source": [
    "df = df[df['sentiment'].isin(['Positive', 'Negative', 'Neutral'])]\n",
    "df = df[df['importance'].isin(['1', '2', '3', '4', '5'])]"
   ]
  },
  {
   "cell_type": "code",
   "execution_count": 24,
   "id": "040c6042",
   "metadata": {},
   "outputs": [
    {
     "data": {
      "text/plain": [
       "<Axes: title={'center': 'Sentiment Distribution'}, xlabel='sentiment'>"
      ]
     },
     "execution_count": 24,
     "metadata": {},
     "output_type": "execute_result"
    },
    {
     "data": {
      "image/png": "[encoded data removed]",
      "text/plain": [
       "<Figure size 640x480 with 1 Axes>"
      ]
     },
     "metadata": {},
     "output_type": "display_data"
    }
   ],
   "source": [
    "df['sentiment'].value_counts().plot(kind='bar', title='Sentiment Distribution')"
   ]
  },
  {
   "cell_type": "code",
   "execution_count": 25,
   "id": "f6472de3",
   "metadata": {},
   "outputs": [
    {
     "data": {
      "text/plain": [
       "<Axes: title={'center': 'Importance Distribution'}, xlabel='importance'>"
      ]
     },
     "execution_count": 25,
     "metadata": {},
     "output_type": "execute_result"
    },
    {
     "data": {
      "image/png": "[encoded data removed]",
      "text/plain": [
       "<Figure size 640x480 with 1 Axes>"
      ]
     },
     "metadata": {},
     "output_type": "display_data"
    }
   ],
   "source": [
    "df['importance'].value_counts().sort_index().plot(kind='bar', title='Importance Distribution')"
   ]
  },
  {
   "cell_type": "code",
   "execution_count": 26,
   "id": "ec798206",
   "metadata": {},
   "outputs": [],
   "source": [
    "TICKER=current_stock"
   ]
  },
  {
   "cell_type": "code",
   "execution_count": 27,
   "id": "f0b00e4b",
   "metadata": {},
   "outputs": [],
   "source": [
    "df[df['sentiment']=='']\n",
    "df = df[df['sentiment'] != '']"
   ]
  },
  {
   "cell_type": "code",
   "execution_count": 28,
   "id": "35d26f9b",
   "metadata": {},
   "outputs": [],
   "source": [
    "def calculate_sentiment_score(df):\n",
    "    sentiment_scores = {\n",
    "        'Positive': 1,\n",
    "        'Negative': -1,\n",
    "        'Neutral': 0\n",
    "    }\n",
    "    \n",
    "    df['sentiment_score'] = df['sentiment'].map(sentiment_scores)\n",
    "    \n",
    "    df['weighted_score'] = df['sentiment_score'] * df['importance'].astype(int)\n",
    "    \n",
    "    total_importance = df['importance'].astype(int).sum()\n",
    "    \n",
    "    if total_importance == 0:\n",
    "        return 0\n",
    "    \n",
    "    sentiment_score = df['weighted_score'].sum() / total_importance\n",
    "    return sentiment_score"
   ]
  },
  {
   "cell_type": "code",
   "execution_count": 29,
   "id": "522496ee",
   "metadata": {},
   "outputs": [
    {
     "name": "stdout",
     "output_type": "stream",
     "text": [
      "Sentiment Score for news: 0.25\n"
     ]
    }
   ],
   "source": [
    "print(f\"Sentiment Score for {TICKER}: {calculate_sentiment_score(df).round(2)}\")"
   ]
  },
  {
   "cell_type": "code",
   "execution_count": 30,
   "id": "89ff0738",
   "metadata": {},
   "outputs": [],
   "source": [
    "import datetime\n",
    "\n",
    "df.drop(columns=['predicted','body_text'],inplace=True)\n",
    "now = datetime.datetime.now()\n",
    "date_time = now.strftime(\"%Y-%m-%d %H-%M-%S\").strip().replace(' ', '_')\n",
    "df.to_csv(f\"Output/Gemini/Gemini_{TICKER}_{date_time}.csv\", index=False)"
   ]
  }
 ],
 "metadata": {
  "kernelspec": {
   "display_name": "base",
   "language": "python",
   "name": "python3"
  },
  "language_info": {
   "codemirror_mode": {
    "name": "ipython",
    "version": 3
   },
   "file_extension": ".py",
   "mimetype": "text/x-python",
   "name": "python",
   "nbconvert_exporter": "python",
   "pygments_lexer": "ipython3",
   "version": "3.11.10"
  }
 },
 "nbformat": 4,
 "nbformat_minor": 5
}
