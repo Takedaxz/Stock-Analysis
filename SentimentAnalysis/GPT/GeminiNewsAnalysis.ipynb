{
 "cells": [
  {
   "cell_type": "markdown",
   "id": "d92e1317",
   "metadata": {},
   "source": [
    "# News Analysis with LLM (Gemini)"
   ]
  },
  {
   "cell_type": "code",
   "execution_count": 1,
   "id": "9d1767dc",
   "metadata": {},
   "outputs": [
    {
     "name": "stdout",
     "output_type": "stream",
     "text": [
      "GEMINI_API_KEY loaded successfully.\n"
     ]
    }
   ],
   "source": [
    "import os\n",
    "from dotenv import load_dotenv\n",
    "\n",
    "load_dotenv(\"secret.env\")\n",
    "\n",
    "api_key = os.getenv(\"GEMINI_API_KEY\")\n",
    "\n",
    "if api_key is None:\n",
    "    print(\"Error: GEMINI_API_KEY not found in .env file or environment variables.\")\n",
    "else:\n",
    "    print(\"GEMINI_API_KEY loaded successfully.\")"
   ]
  },
  {
   "cell_type": "code",
   "execution_count": 2,
   "id": "f8be51b8",
   "metadata": {},
   "outputs": [],
   "source": [
    "import google.generativeai as genai\n",
    "from tqdm import tqdm\n",
    "\n",
    "genai.configure(api_key=api_key)\n",
    "generation_config = genai.GenerationConfig(\n",
    "        temperature=0,\n",
    ")\n",
    "model = genai.GenerativeModel(\"gemini-2.5-flash-preview-04-17\", generation_config=generation_config)"
   ]
  },
  {
   "cell_type": "code",
   "execution_count": 3,
   "id": "116a4f4d",
   "metadata": {},
   "outputs": [],
   "source": [
    "from google.api_core import retry\n",
    "\n",
    "# Catch transient Gemini errors.\n",
    "def is_retryable(e) -> bool:\n",
    "    if retry.if_transient_error(e):\n",
    "        # Good practice, but probably won't fire with the google-genai SDK\n",
    "        return True\n",
    "    elif (isinstance(e, genai.errors.ClientError) and e.code == 429):\n",
    "        # Catch 429 quota exceeded errors\n",
    "        return True\n",
    "    elif (isinstance(e, genai.errors.ServerError) and e.code == 503):\n",
    "        # Catch 503 model overloaded errors\n",
    "        return True\n",
    "    else:\n",
    "        return False\n",
    "\n",
    "@retry.Retry(predicate=is_retryable)\n",
    "def generate_content_with_rate_limit(prompt):\n",
    "  return model.generate_content(prompt).text"
   ]
  },
  {
   "cell_type": "code",
   "execution_count": null,
   "id": "53969e87",
   "metadata": {},
   "outputs": [],
   "source": [
    "prompt = \"\"\"You are a financial news analyst specializing in stock market impact. Your task is to analyze the provided news article, summarize its core content concisely, determine its sentiment (positive, negative, or neutral), and assess its importance to the specified stock.\n",
    "\n",
    "Here is the news from stock [STOCK] title and body:\n",
    "---\n",
    "[TITLE]\n",
    "---\n",
    "[BODY]\n",
    "---\n",
    "\n",
    "Please provide your analysis in the following format (Don't forget to make space between the sections as shown):\n",
    "\n",
    "**Sentiment:**\n",
    "[Positive / Negative / Neutral]\n",
    "\n",
    "**Summary:**\n",
    "[Your concise summary of the article, typically 2-3 sentences.]\n",
    "\n",
    "**Reasoning for Sentiment:**\n",
    "[Brief explanation (1-2 sentences) of why you categorized the sentiment as such, referencing key points or tone from the article.]\n",
    "\n",
    "**Importance to Stock [STOCK]:**\n",
    "[1-5, where 1 is minimal importance and 5 is very high importance.Answer in 1-5 only, no explanation.] (Answer only in number 1-5)\n",
    "\n",
    "**Reasoning for Importance:**\n",
    "[Brief explanation (1-2 sentences) of why you assigned this importance score, referencing specific details from the article that would impact the stock.]\"\"\""
   ]
  },
  {
   "cell_type": "code",
   "execution_count": 5,
   "id": "92827cc3",
   "metadata": {},
   "outputs": [],
   "source": [
    "import pandas as pd\n",
    "import numpy as np"
   ]
  },
  {
   "cell_type": "code",
   "execution_count": null,
   "id": "0849d1b0",
   "metadata": {},
   "outputs": [
    {
     "data": {
      "text/html": [
       "<div>\n",
       "<style scoped>\n",
       "    .dataframe tbody tr th:only-of-type {\n",
       "        vertical-align: middle;\n",
       "    }\n",
       "\n",
       "    .dataframe tbody tr th {\n",
       "        vertical-align: top;\n",
       "    }\n",
       "\n",
       "    .dataframe thead th {\n",
       "        text-align: right;\n",
       "    }\n",
       "</style>\n",
       "<table border=\"1\" class=\"dataframe\">\n",
       "  <thead>\n",
       "    <tr style=\"text-align: right;\">\n",
       "      <th></th>\n",
       "      <th>publish_date</th>\n",
       "      <th>publish_time</th>\n",
       "      <th>title</th>\n",
       "      <th>body_text</th>\n",
       "      <th>url</th>\n",
       "    </tr>\n",
       "  </thead>\n",
       "  <tbody>\n",
       "    <tr>\n",
       "      <th>0</th>\n",
       "      <td>2025-05-27</td>\n",
       "      <td>10:33</td>\n",
       "      <td>US Consumer bounces back sharply in May By Inv...</td>\n",
       "      <td>Investing.com -- Consumer confidence rebounded...</td>\n",
       "      <td>https://www.investing.com/news/economy-news/us...</td>\n",
       "    </tr>\n",
       "    <tr>\n",
       "      <th>1</th>\n",
       "      <td>2025-05-27</td>\n",
       "      <td>10:29</td>\n",
       "      <td>Eli Lilly expands pain pipeline with acquisiti...</td>\n",
       "      <td>Investing.com -- Eli Lilly and Company (NYSE: ...</td>\n",
       "      <td>https://www.investing.com/news/stock-market-ne...</td>\n",
       "    </tr>\n",
       "    <tr>\n",
       "      <th>2</th>\n",
       "      <td>2025-05-27</td>\n",
       "      <td>09:41</td>\n",
       "      <td>Lynx: Risk priced in, Nvidia could surprise to...</td>\n",
       "      <td>Investing.com -- Nvidia stock could break out ...</td>\n",
       "      <td>https://www.investing.com/news/stock-market-ne...</td>\n",
       "    </tr>\n",
       "    <tr>\n",
       "      <th>3</th>\n",
       "      <td>2025-05-27</td>\n",
       "      <td>09:16</td>\n",
       "      <td>Trump Media &amp; Technology Group Announces $2.5B...</td>\n",
       "      <td>Trump Media and Technology Group Corp. (Nasdaq...</td>\n",
       "      <td>https://www.investing.com/news/cryptocurrency-...</td>\n",
       "    </tr>\n",
       "    <tr>\n",
       "      <th>4</th>\n",
       "      <td>2025-05-27</td>\n",
       "      <td>09:15</td>\n",
       "      <td>SoundHound shares jump as Piper Sandler starts...</td>\n",
       "      <td>Investing.com -- Piper Sandler has initiated c...</td>\n",
       "      <td>https://www.investing.com/news/stock-market-ne...</td>\n",
       "    </tr>\n",
       "  </tbody>\n",
       "</table>\n",
       "</div>"
      ],
      "text/plain": [
       "  publish_date publish_time  \\\n",
       "0   2025-05-27        10:33   \n",
       "1   2025-05-27        10:29   \n",
       "2   2025-05-27        09:41   \n",
       "3   2025-05-27        09:16   \n",
       "4   2025-05-27        09:15   \n",
       "\n",
       "                                               title  \\\n",
       "0  US Consumer bounces back sharply in May By Inv...   \n",
       "1  Eli Lilly expands pain pipeline with acquisiti...   \n",
       "2  Lynx: Risk priced in, Nvidia could surprise to...   \n",
       "3  Trump Media & Technology Group Announces $2.5B...   \n",
       "4  SoundHound shares jump as Piper Sandler starts...   \n",
       "\n",
       "                                           body_text  \\\n",
       "0  Investing.com -- Consumer confidence rebounded...   \n",
       "1  Investing.com -- Eli Lilly and Company (NYSE: ...   \n",
       "2  Investing.com -- Nvidia stock could break out ...   \n",
       "3  Trump Media and Technology Group Corp. (Nasdaq...   \n",
       "4  Investing.com -- Piper Sandler has initiated c...   \n",
       "\n",
       "                                                 url  \n",
       "0  https://www.investing.com/news/economy-news/us...  \n",
       "1  https://www.investing.com/news/stock-market-ne...  \n",
       "2  https://www.investing.com/news/stock-market-ne...  \n",
       "3  https://www.investing.com/news/cryptocurrency-...  \n",
       "4  https://www.investing.com/news/stock-market-ne...  "
      ]
     },
     "metadata": {},
     "output_type": "display_data"
    }
   ],
   "source": [
    "df = pd.read_csv(\"../../DataCollection/Data/Trending/2025-05-27_22-43-20.csv\")\n",
    "display(df.head())"
   ]
  },
  {
   "cell_type": "code",
   "execution_count": 7,
   "id": "1c6c45a4",
   "metadata": {},
   "outputs": [
    {
     "data": {
      "text/plain": [
       "publish_date    0\n",
       "publish_time    0\n",
       "title           0\n",
       "body_text       0\n",
       "url             0\n",
       "dtype: int64"
      ]
     },
     "execution_count": 7,
     "metadata": {},
     "output_type": "execute_result"
    }
   ],
   "source": [
    "df.isnull().sum()"
   ]
  },
  {
   "cell_type": "code",
   "execution_count": 8,
   "id": "074d5e03",
   "metadata": {},
   "outputs": [],
   "source": [
    "df[\"title\"] = df[\"title\"].astype(str)\n",
    "df[\"body_text\"] = df[\"body_text\"].astype(str)"
   ]
  },
  {
   "cell_type": "code",
   "execution_count": 9,
   "id": "24dcc3ea",
   "metadata": {},
   "outputs": [
    {
     "name": "stdout",
     "output_type": "stream",
     "text": [
      "  publish_date publish_time  \\\n",
      "0   2025-05-27        10:33   \n",
      "1   2025-05-27        10:29   \n",
      "2   2025-05-27        09:41   \n",
      "3   2025-05-27        09:16   \n",
      "4   2025-05-27        09:15   \n",
      "\n",
      "                                               title  \\\n",
      "0  US Consumer bounces back sharply in May By Inv...   \n",
      "1  Eli Lilly expands pain pipeline with acquisiti...   \n",
      "2  Lynx: Risk priced in, Nvidia could surprise to...   \n",
      "3  Trump Media & Technology Group Announces $2.5B...   \n",
      "4  SoundHound shares jump as Piper Sandler starts...   \n",
      "\n",
      "                                           body_text  \\\n",
      "0  Investing.com -- Consumer confidence rebounded...   \n",
      "1  Investing.com -- Eli Lilly and Company (NYSE: ...   \n",
      "2  Investing.com -- Nvidia stock could break out ...   \n",
      "3  Trump Media and Technology Group Corp. (Nasdaq...   \n",
      "4  Investing.com -- Piper Sandler has initiated c...   \n",
      "\n",
      "                                                 url  \n",
      "0  https://www.investing.com/news/economy-news/us...  \n",
      "1  https://www.investing.com/news/stock-market-ne...  \n",
      "2  https://www.investing.com/news/stock-market-ne...  \n",
      "3  https://www.investing.com/news/cryptocurrency-...  \n",
      "4  https://www.investing.com/news/stock-market-ne...  \n"
     ]
    }
   ],
   "source": [
    "print(df.head())"
   ]
  },
  {
   "cell_type": "code",
   "execution_count": null,
   "id": "f6e35e45",
   "metadata": {},
   "outputs": [
    {
     "name": "stderr",
     "output_type": "stream",
     "text": [
      "Prompting: 100%|██████████| 20/20 [01:59<00:00,  5.96s/it]\n"
     ]
    }
   ],
   "source": [
    "predicted = []\n",
    "\n",
    "for index, row in tqdm(df.iterrows(), total=len(df), desc=\"Prompting\"): \n",
    "    current_stock = row.get(\"ticker\", \"news\")\n",
    "\n",
    "    filled_prompt = prompt.replace(\"[STOCK]\", current_stock)\n",
    "    filled_prompt = filled_prompt.replace(\"[TITLE]\", row[\"title\"])\n",
    "    filled_prompt = filled_prompt.replace(\"[BODY]\", row[\"body_text\"])\n",
    "\n",
    "    try:\n",
    "        response = generate_content_with_rate_limit(filled_prompt)\n",
    "        finalprediction = response.strip()\n",
    "        if not finalprediction:\n",
    "            print(f\"Row {index}: LLM returned an empty string.\")\n",
    "            predicted.append(\"LLM_EMPTY_RESPONSE\")\n",
    "        else:\n",
    "            predicted.append(finalprediction)\n",
    "    except ValueError as ve:\n",
    "        print(f\"Row {index}: ValueError - {ve}. Appending 'ERROR_VALUE_ERROR'.\")\n",
    "        predicted.append(\"ERROR_VALUE_ERROR\")\n",
    "        continue\n",
    "    except Exception as e:\n",
    "        if \"429 Too Many Requests\" in str(e) or \"quota\" in str(e).lower():\n",
    "            print(f\"Row {index}: Rate Limit Exceeded or Quota Error - {e}. Appending 'ERROR_RATE_LIMIT'.\")\n",
    "            predicted.append(\"ERROR_RATE_LIMIT\")\n",
    "        elif \"safety\" in str(e).lower() or \"blocked\" in str(e).lower():\n",
    "             print(f\"Row {index}: Content Safety/Blocked - {e}. Appending 'ERROR_SAFETY_BLOCKED'.\")\n",
    "             predicted.append(\"ERROR_SAFETY_BLOCKED\")\n",
    "        else:\n",
    "            print(f\"Row {index}: Unexpected Error - {e}. Appending 'ERROR_UNEXPECTED'.\")\n",
    "            predicted.append(\"ERROR_UNEXPECTED\")\n",
    "        continue"
   ]
  },
  {
   "cell_type": "code",
   "execution_count": 11,
   "id": "984e0e0f",
   "metadata": {},
   "outputs": [],
   "source": [
    "predicted = np.array(predicted)\n",
    "df[\"predicted\"] = predicted"
   ]
  },
  {
   "cell_type": "code",
   "execution_count": 12,
   "id": "90abd541",
   "metadata": {},
   "outputs": [
    {
     "name": "stdout",
     "output_type": "stream",
     "text": [
      "Lynx: Risk priced in, Nvidia could surprise to the upside By Investing.com \n",
      "\n",
      " **Sentiment:**\n",
      "Positive\n",
      "\n",
      "**Summary:**\n",
      "Analyst firm Lynx Equity raised its price target for Nvidia and maintains a bullish stance, expecting the stock to break out to new highs after its upcoming earnings report. The firm believes previously highlighted risks are now priced in and sees potential for an upside surprise due to successful navigation of challenges, capacity expansion, new growth vectors like Edge AI, and mitigated tariff risks.\n",
      "\n",
      "**Reasoning for Sentiment:**\n",
      "The sentiment is positive because the article reports an analyst firm raising its price target, expressing a bullish outlook, and citing multiple positive factors like risk mitigation, capacity expansion, and new growth areas as reasons for expecting an upside surprise and new highs for the stock.\n",
      "\n",
      "**Importance to Stock All_news:**\n",
      "5\n",
      "\n",
      "**Reasoning for Importance:**\n",
      "This news is highly important as it represents a bullish analyst upgrade with a raised price target and positive outlook just before a key earnings report, directly influencing investor perception and potentially impacting the stock price.\n"
     ]
    }
   ],
   "source": [
    "print(df[\"title\"][2],'\\n\\n',predicted[2])"
   ]
  },
  {
   "cell_type": "code",
   "execution_count": 13,
   "id": "d915ec16",
   "metadata": {},
   "outputs": [],
   "source": [
    "df[\"sentiment\"] = df[\"predicted\"].apply(lambda x: x.split(\"\\n\")[1].strip() if len(x.split(\"\\n\")) > 1 else None)\n",
    "df[\"importance\"] = df[\"predicted\"].apply(lambda x: x.split(\"\\n\")[10].strip() if len(x.split(\"\\n\")) > 10 else None)\n",
    "df[\"summary\"] = df[\"predicted\"].apply(lambda x: x.split(\"\\n\")[4].strip() if len(x.split(\"\\n\")) > 4 else None)"
   ]
  },
  {
   "cell_type": "code",
   "execution_count": 14,
   "id": "0097fc24",
   "metadata": {},
   "outputs": [
    {
     "data": {
      "text/html": [
       "<div>\n",
       "<style scoped>\n",
       "    .dataframe tbody tr th:only-of-type {\n",
       "        vertical-align: middle;\n",
       "    }\n",
       "\n",
       "    .dataframe tbody tr th {\n",
       "        vertical-align: top;\n",
       "    }\n",
       "\n",
       "    .dataframe thead th {\n",
       "        text-align: right;\n",
       "    }\n",
       "</style>\n",
       "<table border=\"1\" class=\"dataframe\">\n",
       "  <thead>\n",
       "    <tr style=\"text-align: right;\">\n",
       "      <th></th>\n",
       "      <th>publish_date</th>\n",
       "      <th>title</th>\n",
       "      <th>sentiment</th>\n",
       "      <th>importance</th>\n",
       "      <th>summary</th>\n",
       "    </tr>\n",
       "  </thead>\n",
       "  <tbody>\n",
       "    <tr>\n",
       "      <th>0</th>\n",
       "      <td>2025-05-27</td>\n",
       "      <td>US Consumer bounces back sharply in May By Inv...</td>\n",
       "      <td>Positive</td>\n",
       "      <td>5</td>\n",
       "      <td>US consumer confidence rebounded sharply in Ma...</td>\n",
       "    </tr>\n",
       "    <tr>\n",
       "      <th>1</th>\n",
       "      <td>2025-05-27</td>\n",
       "      <td>Eli Lilly expands pain pipeline with acquisiti...</td>\n",
       "      <td>Positive</td>\n",
       "      <td>5</td>\n",
       "      <td>Eli Lilly is acquiring SiteOne Therapeutics fo...</td>\n",
       "    </tr>\n",
       "    <tr>\n",
       "      <th>2</th>\n",
       "      <td>2025-05-27</td>\n",
       "      <td>Lynx: Risk priced in, Nvidia could surprise to...</td>\n",
       "      <td>Positive</td>\n",
       "      <td>5</td>\n",
       "      <td>Analyst firm Lynx Equity raised its price targ...</td>\n",
       "    </tr>\n",
       "    <tr>\n",
       "      <th>3</th>\n",
       "      <td>2025-05-27</td>\n",
       "      <td>Trump Media &amp; Technology Group Announces $2.5B...</td>\n",
       "      <td>Positive</td>\n",
       "      <td>5</td>\n",
       "      <td>Trump Media &amp; Technology Group announced a pri...</td>\n",
       "    </tr>\n",
       "    <tr>\n",
       "      <th>4</th>\n",
       "      <td>2025-05-27</td>\n",
       "      <td>SoundHound shares jump as Piper Sandler starts...</td>\n",
       "      <td>Positive</td>\n",
       "      <td>5</td>\n",
       "      <td>Piper Sandler initiated coverage on SoundHound...</td>\n",
       "    </tr>\n",
       "    <tr>\n",
       "      <th>6</th>\n",
       "      <td>2025-05-27</td>\n",
       "      <td>Next 300 points likely up for the S&amp;P 500, say...</td>\n",
       "      <td>Positive</td>\n",
       "      <td>5</td>\n",
       "      <td>JPMorgan analysts are bullish on the S&amp;P 500, ...</td>\n",
       "    </tr>\n",
       "    <tr>\n",
       "      <th>8</th>\n",
       "      <td>2025-05-27</td>\n",
       "      <td>New surveys show declining interest in EVs and...</td>\n",
       "      <td>Negative</td>\n",
       "      <td>5</td>\n",
       "      <td>New surveys from UBS and Stifel indicate decli...</td>\n",
       "    </tr>\n",
       "    <tr>\n",
       "      <th>9</th>\n",
       "      <td>2025-05-27</td>\n",
       "      <td>Temu owner PDD Holdings shares fall sharply on...</td>\n",
       "      <td>Negative</td>\n",
       "      <td>5</td>\n",
       "      <td>PDD Holdings, owner of Temu, reported first-qu...</td>\n",
       "    </tr>\n",
       "    <tr>\n",
       "      <th>10</th>\n",
       "      <td>2025-05-27</td>\n",
       "      <td>Citi sees up to 8% downside for Stoxx 600 on T...</td>\n",
       "      <td>Negative</td>\n",
       "      <td>5</td>\n",
       "      <td>Citi analysts warn that European equities (Sto...</td>\n",
       "    </tr>\n",
       "    <tr>\n",
       "      <th>11</th>\n",
       "      <td>2025-05-27</td>\n",
       "      <td>What could be the impact of a 50% tariff on EU...</td>\n",
       "      <td>Negative</td>\n",
       "      <td>5</td>\n",
       "      <td>According to UBS, a potential 50% US tariff on...</td>\n",
       "    </tr>\n",
       "    <tr>\n",
       "      <th>12</th>\n",
       "      <td>2025-05-27</td>\n",
       "      <td>Higher U.S. futures, new Nvidia chip, falling ...</td>\n",
       "      <td>Neutral</td>\n",
       "      <td>5</td>\n",
       "      <td>The article reports on various market movement...</td>\n",
       "    </tr>\n",
       "    <tr>\n",
       "      <th>13</th>\n",
       "      <td>2025-05-27</td>\n",
       "      <td>By Investing.com</td>\n",
       "      <td>Neutral</td>\n",
       "      <td>5</td>\n",
       "      <td>Bitcoin is trading near record highs, supporte...</td>\n",
       "    </tr>\n",
       "    <tr>\n",
       "      <th>14</th>\n",
       "      <td>2025-05-27</td>\n",
       "      <td>Gold prices sink as Trump EU tariff delay spur...</td>\n",
       "      <td>Negative</td>\n",
       "      <td>5</td>\n",
       "      <td>Gold and other metal prices declined in Asian ...</td>\n",
       "    </tr>\n",
       "    <tr>\n",
       "      <th>15</th>\n",
       "      <td>2025-05-27</td>\n",
       "      <td>BYD shares slide further from record highs ami...</td>\n",
       "      <td>Negative</td>\n",
       "      <td>5</td>\n",
       "      <td>BYD's Hong Kong shares fell significantly due ...</td>\n",
       "    </tr>\n",
       "    <tr>\n",
       "      <th>16</th>\n",
       "      <td>2025-05-27</td>\n",
       "      <td>Tesla Europe sales nearly halve in April as co...</td>\n",
       "      <td>Negative</td>\n",
       "      <td>5</td>\n",
       "      <td>Tesla's new car registrations in Europe (EU, E...</td>\n",
       "    </tr>\n",
       "    <tr>\n",
       "      <th>17</th>\n",
       "      <td>2025-05-26</td>\n",
       "      <td>Asia stocks muted amid trade caution; Japan re...</td>\n",
       "      <td>Neutral</td>\n",
       "      <td>5</td>\n",
       "      <td>Asian stock markets were mostly muted or flat ...</td>\n",
       "    </tr>\n",
       "    <tr>\n",
       "      <th>18</th>\n",
       "      <td>2025-05-26</td>\n",
       "      <td>U.S. stocks surge after Trump delays EU tariff...</td>\n",
       "      <td>Positive</td>\n",
       "      <td>5</td>\n",
       "      <td>U.S. stocks surged following President Trump's...</td>\n",
       "    </tr>\n",
       "  </tbody>\n",
       "</table>\n",
       "</div>"
      ],
      "text/plain": [
       "   publish_date                                              title sentiment  \\\n",
       "0    2025-05-27  US Consumer bounces back sharply in May By Inv...  Positive   \n",
       "1    2025-05-27  Eli Lilly expands pain pipeline with acquisiti...  Positive   \n",
       "2    2025-05-27  Lynx: Risk priced in, Nvidia could surprise to...  Positive   \n",
       "3    2025-05-27  Trump Media & Technology Group Announces $2.5B...  Positive   \n",
       "4    2025-05-27  SoundHound shares jump as Piper Sandler starts...  Positive   \n",
       "6    2025-05-27  Next 300 points likely up for the S&P 500, say...  Positive   \n",
       "8    2025-05-27  New surveys show declining interest in EVs and...  Negative   \n",
       "9    2025-05-27  Temu owner PDD Holdings shares fall sharply on...  Negative   \n",
       "10   2025-05-27  Citi sees up to 8% downside for Stoxx 600 on T...  Negative   \n",
       "11   2025-05-27  What could be the impact of a 50% tariff on EU...  Negative   \n",
       "12   2025-05-27  Higher U.S. futures, new Nvidia chip, falling ...   Neutral   \n",
       "13   2025-05-27                                   By Investing.com   Neutral   \n",
       "14   2025-05-27  Gold prices sink as Trump EU tariff delay spur...  Negative   \n",
       "15   2025-05-27  BYD shares slide further from record highs ami...  Negative   \n",
       "16   2025-05-27  Tesla Europe sales nearly halve in April as co...  Negative   \n",
       "17   2025-05-26  Asia stocks muted amid trade caution; Japan re...   Neutral   \n",
       "18   2025-05-26  U.S. stocks surge after Trump delays EU tariff...  Positive   \n",
       "\n",
       "   importance                                            summary  \n",
       "0           5  US consumer confidence rebounded sharply in Ma...  \n",
       "1           5  Eli Lilly is acquiring SiteOne Therapeutics fo...  \n",
       "2           5  Analyst firm Lynx Equity raised its price targ...  \n",
       "3           5  Trump Media & Technology Group announced a pri...  \n",
       "4           5  Piper Sandler initiated coverage on SoundHound...  \n",
       "6           5  JPMorgan analysts are bullish on the S&P 500, ...  \n",
       "8           5  New surveys from UBS and Stifel indicate decli...  \n",
       "9           5  PDD Holdings, owner of Temu, reported first-qu...  \n",
       "10          5  Citi analysts warn that European equities (Sto...  \n",
       "11          5  According to UBS, a potential 50% US tariff on...  \n",
       "12          5  The article reports on various market movement...  \n",
       "13          5  Bitcoin is trading near record highs, supporte...  \n",
       "14          5  Gold and other metal prices declined in Asian ...  \n",
       "15          5  BYD's Hong Kong shares fell significantly due ...  \n",
       "16          5  Tesla's new car registrations in Europe (EU, E...  \n",
       "17          5  Asian stock markets were mostly muted or flat ...  \n",
       "18          5  U.S. stocks surged following President Trump's...  "
      ]
     },
     "execution_count": 14,
     "metadata": {},
     "output_type": "execute_result"
    }
   ],
   "source": [
    "df[df[\"importance\"]== \"5\"][[\"publish_date\",\"title\", \"sentiment\",\"importance\", \"summary\"]]"
   ]
  },
  {
   "cell_type": "code",
   "execution_count": 15,
   "id": "d090b2b6",
   "metadata": {},
   "outputs": [
    {
     "data": {
      "text/html": [
       "<div>\n",
       "<style scoped>\n",
       "    .dataframe tbody tr th:only-of-type {\n",
       "        vertical-align: middle;\n",
       "    }\n",
       "\n",
       "    .dataframe tbody tr th {\n",
       "        vertical-align: top;\n",
       "    }\n",
       "\n",
       "    .dataframe thead th {\n",
       "        text-align: right;\n",
       "    }\n",
       "</style>\n",
       "<table border=\"1\" class=\"dataframe\">\n",
       "  <thead>\n",
       "    <tr style=\"text-align: right;\">\n",
       "      <th></th>\n",
       "      <th>publish_date</th>\n",
       "      <th>publish_time</th>\n",
       "      <th>title</th>\n",
       "      <th>body_text</th>\n",
       "      <th>url</th>\n",
       "      <th>predicted</th>\n",
       "      <th>sentiment</th>\n",
       "      <th>importance</th>\n",
       "      <th>summary</th>\n",
       "    </tr>\n",
       "  </thead>\n",
       "  <tbody>\n",
       "  </tbody>\n",
       "</table>\n",
       "</div>"
      ],
      "text/plain": [
       "Empty DataFrame\n",
       "Columns: [publish_date, publish_time, title, body_text, url, predicted, sentiment, importance, summary]\n",
       "Index: []"
      ]
     },
     "metadata": {},
     "output_type": "display_data"
    }
   ],
   "source": [
    "display(df[df['sentiment']==''])\n",
    "df = df[df['sentiment'] != '']"
   ]
  },
  {
   "cell_type": "code",
   "execution_count": 16,
   "id": "263225cc",
   "metadata": {},
   "outputs": [],
   "source": [
    "df = df[df['sentiment'].isin(['Positive', 'Negative', 'Neutral'])]\n",
    "df = df[df['importance'].isin(['1', '2', '3', '4', '5'])]"
   ]
  },
  {
   "cell_type": "code",
   "execution_count": 17,
   "id": "040c6042",
   "metadata": {},
   "outputs": [
    {
     "data": {
      "text/plain": [
       "<Axes: title={'center': 'Sentiment Distribution'}, xlabel='sentiment'>"
      ]
     },
     "execution_count": 17,
     "metadata": {},
     "output_type": "execute_result"
    },
    {
     "data": {
      "image/png": "[encoded data removed]",
      "text/plain": [
       "<Figure size 640x480 with 1 Axes>"
      ]
     },
     "metadata": {},
     "output_type": "display_data"
    }
   ],
   "source": [
    "df['sentiment'].value_counts().plot(kind='bar', title='Sentiment Distribution')"
   ]
  },
  {
   "cell_type": "code",
   "execution_count": 18,
   "id": "f6472de3",
   "metadata": {},
   "outputs": [
    {
     "data": {
      "text/plain": [
       "<Axes: title={'center': 'Importance Distribution'}, xlabel='importance'>"
      ]
     },
     "execution_count": 18,
     "metadata": {},
     "output_type": "execute_result"
    },
    {
     "data": {
      "image/png": "[encoded data removed]",
      "text/plain": [
       "<Figure size 640x480 with 1 Axes>"
      ]
     },
     "metadata": {},
     "output_type": "display_data"
    }
   ],
   "source": [
    "df['importance'].value_counts().sort_index().plot(kind='bar', title='Importance Distribution')"
   ]
  },
  {
   "cell_type": "code",
   "execution_count": 19,
   "id": "ec798206",
   "metadata": {},
   "outputs": [],
   "source": [
    "TICKER=current_stock"
   ]
  },
  {
   "cell_type": "code",
   "execution_count": 20,
   "id": "f0b00e4b",
   "metadata": {},
   "outputs": [],
   "source": [
    "df[df['sentiment']=='']\n",
    "df = df[df['sentiment'] != '']"
   ]
  },
  {
   "cell_type": "code",
   "execution_count": 21,
   "id": "35d26f9b",
   "metadata": {},
   "outputs": [],
   "source": [
    "def calculate_sentiment_score(df):\n",
    "    sentiment_scores = {\n",
    "        'Positive': 1,\n",
    "        'Negative': -1,\n",
    "        'Neutral': 0\n",
    "    }\n",
    "    \n",
    "    df['sentiment_score'] = df['sentiment'].map(sentiment_scores)\n",
    "    \n",
    "    df['weighted_score'] = df['sentiment_score'] * df['importance'].astype(int)\n",
    "    \n",
    "    total_importance = df['importance'].astype(int).sum()\n",
    "    \n",
    "    if total_importance == 0:\n",
    "        return 0\n",
    "    \n",
    "    sentiment_score = df['weighted_score'].sum() / total_importance\n",
    "    return sentiment_score"
   ]
  },
  {
   "cell_type": "code",
   "execution_count": 22,
   "id": "522496ee",
   "metadata": {},
   "outputs": [
    {
     "name": "stdout",
     "output_type": "stream",
     "text": [
      "Sentiment Score for All_news: 0.05\n"
     ]
    }
   ],
   "source": [
    "print(f\"Sentiment Score for {TICKER}: {calculate_sentiment_score(df).round(2)}\")"
   ]
  },
  {
   "cell_type": "code",
   "execution_count": null,
   "id": "89ff0738",
   "metadata": {},
   "outputs": [],
   "source": [
    "import datetime\n",
    "\n",
    "df.drop(columns=['predicted','body_text'],inplace=True)\n",
    "now = datetime.datetime.now()\n",
    "date_time = now.strftime(\"%Y-%m-%d %H-%M-%S\").strip().replace(' ', '_')\n",
    "df.to_csv(f\"Output/Gemini/Gemini_{TICKER}_{date_time}.csv\", index=False)"
   ]
  }
 ],
 "metadata": {
  "kernelspec": {
   "display_name": "Python 3",
   "language": "python",
   "name": "python3"
  },
  "language_info": {
   "codemirror_mode": {
    "name": "ipython",
    "version": 3
   },
   "file_extension": ".py",
   "mimetype": "text/x-python",
   "name": "python",
   "nbconvert_exporter": "python",
   "pygments_lexer": "ipython3",
   "version": "3.11.9"
  }
 },
 "nbformat": 4,
 "nbformat_minor": 5
}
