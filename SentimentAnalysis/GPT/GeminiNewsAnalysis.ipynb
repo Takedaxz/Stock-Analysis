{
 "cells": [
  {
   "cell_type": "markdown",
   "id": "d92e1317",
   "metadata": {},
   "source": [
    "# News Analysis with LLM (Gemini)"
   ]
  },
  {
   "cell_type": "code",
   "execution_count": 1,
   "id": "9d1767dc",
   "metadata": {},
   "outputs": [
    {
     "name": "stdout",
     "output_type": "stream",
     "text": [
      "GEMINI_API_KEY loaded successfully.\n"
     ]
    }
   ],
   "source": [
    "import os\n",
    "from dotenv import load_dotenv\n",
    "\n",
    "load_dotenv(\"secret.env\")\n",
    "\n",
    "api_key = os.getenv(\"GEMINI_API_KEY\")\n",
    "\n",
    "if api_key is None:\n",
    "    print(\"Error: GEMINI_API_KEY not found in .env file or environment variables.\")\n",
    "else:\n",
    "    print(\"GEMINI_API_KEY loaded successfully.\")"
   ]
  },
  {
   "cell_type": "code",
   "execution_count": 2,
   "id": "f8be51b8",
   "metadata": {},
   "outputs": [],
   "source": [
    "import google.generativeai as genai\n",
    "from tqdm import tqdm\n",
    "\n",
    "genai.configure(api_key=api_key)\n",
    "generation_config = genai.GenerationConfig(\n",
    "        temperature=0,\n",
    ")\n",
    "model = genai.GenerativeModel(\"gemini-2.5-flash-preview-04-17\", generation_config=generation_config)"
   ]
  },
  {
   "cell_type": "code",
   "execution_count": 3,
   "id": "116a4f4d",
   "metadata": {},
   "outputs": [],
   "source": [
    "from google.api_core import retry\n",
    "\n",
    "# Catch transient Gemini errors.\n",
    "def is_retryable(e) -> bool:\n",
    "    if retry.if_transient_error(e):\n",
    "        # Good practice, but probably won't fire with the google-genai SDK\n",
    "        return True\n",
    "    elif (isinstance(e, genai.errors.ClientError) and e.code == 429):\n",
    "        # Catch 429 quota exceeded errors\n",
    "        return True\n",
    "    elif (isinstance(e, genai.errors.ServerError) and e.code == 503):\n",
    "        # Catch 503 model overloaded errors\n",
    "        return True\n",
    "    else:\n",
    "        return False\n",
    "\n",
    "@retry.Retry(predicate=is_retryable)\n",
    "def generate_content_with_rate_limit(prompt):\n",
    "  return model.generate_content(prompt).text"
   ]
  },
  {
   "cell_type": "code",
   "execution_count": 4,
   "id": "53969e87",
   "metadata": {},
   "outputs": [],
   "source": [
    "prompt = \"\"\"You are a financial news analyst specializing in stock market impact. Your task is to analyze the provided news article, summarize its core content concisely, determine its sentiment (positive, negative, or neutral), and assess its importance to the specified stock.\n",
    "\n",
    "Here is the news from stock [STOCK] title and body:\n",
    "---\n",
    "[TITLE]\n",
    "---\n",
    "[BODY]\n",
    "---\n",
    "\n",
    "Please provide your analysis in the following format:\n",
    "\n",
    "**Sentiment:**\n",
    "[Positive / Negative / Neutral]\n",
    "\n",
    "**Summary:**\n",
    "[Your concise summary of the article, typically 2-3 sentences.]\n",
    "\n",
    "**Reasoning for Sentiment:**\n",
    "[Brief explanation (1-2 sentences) of why you categorized the sentiment as such, referencing key points or tone from the article.]\n",
    "\n",
    "**Importance to Stock [STOCK]:**\n",
    "[1-5, where 1 is minimal importance and 5 is very high importance.Answer in 1-5 only, no explanation.]\n",
    "\n",
    "**Reasoning for Importance:**\n",
    "[Brief explanation (1-2 sentences) of why you assigned this importance score, referencing specific details from the article that would impact the stock.]\"\"\""
   ]
  },
  {
   "cell_type": "code",
   "execution_count": 5,
   "id": "92827cc3",
   "metadata": {},
   "outputs": [],
   "source": [
    "import pandas as pd\n",
    "import numpy as np"
   ]
  },
  {
   "cell_type": "code",
   "execution_count": 6,
   "id": "0849d1b0",
   "metadata": {},
   "outputs": [
    {
     "data": {
      "text/html": [
       "<div>\n",
       "<style scoped>\n",
       "    .dataframe tbody tr th:only-of-type {\n",
       "        vertical-align: middle;\n",
       "    }\n",
       "\n",
       "    .dataframe tbody tr th {\n",
       "        vertical-align: top;\n",
       "    }\n",
       "\n",
       "    .dataframe thead th {\n",
       "        text-align: right;\n",
       "    }\n",
       "</style>\n",
       "<table border=\"1\" class=\"dataframe\">\n",
       "  <thead>\n",
       "    <tr style=\"text-align: right;\">\n",
       "      <th></th>\n",
       "      <th>ticker</th>\n",
       "      <th>publish_date</th>\n",
       "      <th>publish_time</th>\n",
       "      <th>title</th>\n",
       "      <th>body_text</th>\n",
       "      <th>url</th>\n",
       "    </tr>\n",
       "  </thead>\n",
       "  <tbody>\n",
       "    <tr>\n",
       "      <th>0</th>\n",
       "      <td>SETI</td>\n",
       "      <td>2025-04-27</td>\n",
       "      <td>23:39</td>\n",
       "      <td>Asia stocks mixed amid US-China trade uncertai...</td>\n",
       "      <td>Investing.com-- Asian stock markets were mixed...</td>\n",
       "      <td>https://www.investing.com/news/stock-market-ne...</td>\n",
       "    </tr>\n",
       "    <tr>\n",
       "      <th>1</th>\n",
       "      <td>SETI</td>\n",
       "      <td>2025-04-24</td>\n",
       "      <td>18:42</td>\n",
       "      <td>US reinstates Thailand’s top aviation safety r...</td>\n",
       "      <td>By David Shepardson\\n\\nWASHINGTON (Reuters) - ...</td>\n",
       "      <td>https://www.investing.com/news/stock-market-ne...</td>\n",
       "    </tr>\n",
       "    <tr>\n",
       "      <th>2</th>\n",
       "      <td>SETI</td>\n",
       "      <td>2025-04-21</td>\n",
       "      <td>00:34</td>\n",
       "      <td>Asia stocks mixed: China ticks up as PBoC stay...</td>\n",
       "      <td>Investing.com-- Asian stocks were mixed in Mon...</td>\n",
       "      <td>https://www.investing.com/news/stock-market-ne...</td>\n",
       "    </tr>\n",
       "    <tr>\n",
       "      <th>3</th>\n",
       "      <td>SETI</td>\n",
       "      <td>2025-03-31</td>\n",
       "      <td>23:45</td>\n",
       "      <td>Asia stocks rise tracking Wall St ahead of Tru...</td>\n",
       "      <td>Investing.com-- Asian stocks rebounded on Tues...</td>\n",
       "      <td>https://www.investing.com/news/stock-market-ne...</td>\n",
       "    </tr>\n",
       "    <tr>\n",
       "      <th>4</th>\n",
       "      <td>SETI</td>\n",
       "      <td>2025-03-24</td>\n",
       "      <td>21:50</td>\n",
       "      <td>Southeast Asian stocks feel the heat from econ...</td>\n",
       "      <td>By Patturaja Murugaboopathy and Ankur Banerjee...</td>\n",
       "      <td>https://www.investing.com/news/stock-market-ne...</td>\n",
       "    </tr>\n",
       "  </tbody>\n",
       "</table>\n",
       "</div>"
      ],
      "text/plain": [
       "  ticker publish_date publish_time  \\\n",
       "0   SETI   2025-04-27        23:39   \n",
       "1   SETI   2025-04-24        18:42   \n",
       "2   SETI   2025-04-21        00:34   \n",
       "3   SETI   2025-03-31        23:45   \n",
       "4   SETI   2025-03-24        21:50   \n",
       "\n",
       "                                               title  \\\n",
       "0  Asia stocks mixed amid US-China trade uncertai...   \n",
       "1  US reinstates Thailand’s top aviation safety r...   \n",
       "2  Asia stocks mixed: China ticks up as PBoC stay...   \n",
       "3  Asia stocks rise tracking Wall St ahead of Tru...   \n",
       "4  Southeast Asian stocks feel the heat from econ...   \n",
       "\n",
       "                                           body_text  \\\n",
       "0  Investing.com-- Asian stock markets were mixed...   \n",
       "1  By David Shepardson\\n\\nWASHINGTON (Reuters) - ...   \n",
       "2  Investing.com-- Asian stocks were mixed in Mon...   \n",
       "3  Investing.com-- Asian stocks rebounded on Tues...   \n",
       "4  By Patturaja Murugaboopathy and Ankur Banerjee...   \n",
       "\n",
       "                                                 url  \n",
       "0  https://www.investing.com/news/stock-market-ne...  \n",
       "1  https://www.investing.com/news/stock-market-ne...  \n",
       "2  https://www.investing.com/news/stock-market-ne...  \n",
       "3  https://www.investing.com/news/stock-market-ne...  \n",
       "4  https://www.investing.com/news/stock-market-ne...  "
      ]
     },
     "metadata": {},
     "output_type": "display_data"
    }
   ],
   "source": [
    "df = pd.read_csv(\"../../DataCollection/Data/News/SETI_2025-05-27_12-55-53.csv\")\n",
    "display(df.head())"
   ]
  },
  {
   "cell_type": "code",
   "execution_count": 7,
   "id": "1c6c45a4",
   "metadata": {},
   "outputs": [
    {
     "data": {
      "text/plain": [
       "ticker          0\n",
       "publish_date    0\n",
       "publish_time    0\n",
       "title           0\n",
       "body_text       0\n",
       "url             0\n",
       "dtype: int64"
      ]
     },
     "execution_count": 7,
     "metadata": {},
     "output_type": "execute_result"
    }
   ],
   "source": [
    "df.isnull().sum()"
   ]
  },
  {
   "cell_type": "code",
   "execution_count": 8,
   "id": "074d5e03",
   "metadata": {},
   "outputs": [],
   "source": [
    "df[\"title\"] = df[\"title\"].astype(str)\n",
    "df[\"body_text\"] = df[\"body_text\"].astype(str)"
   ]
  },
  {
   "cell_type": "code",
   "execution_count": 9,
   "id": "24dcc3ea",
   "metadata": {},
   "outputs": [
    {
     "name": "stdout",
     "output_type": "stream",
     "text": [
      "  ticker publish_date publish_time  \\\n",
      "0   SETI   2025-04-27        23:39   \n",
      "1   SETI   2025-04-24        18:42   \n",
      "2   SETI   2025-04-21        00:34   \n",
      "3   SETI   2025-03-31        23:45   \n",
      "4   SETI   2025-03-24        21:50   \n",
      "\n",
      "                                               title  \\\n",
      "0  Asia stocks mixed amid US-China trade uncertai...   \n",
      "1  US reinstates Thailand’s top aviation safety r...   \n",
      "2  Asia stocks mixed: China ticks up as PBoC stay...   \n",
      "3  Asia stocks rise tracking Wall St ahead of Tru...   \n",
      "4  Southeast Asian stocks feel the heat from econ...   \n",
      "\n",
      "                                           body_text  \\\n",
      "0  Investing.com-- Asian stock markets were mixed...   \n",
      "1  By David Shepardson\\n\\nWASHINGTON (Reuters) - ...   \n",
      "2  Investing.com-- Asian stocks were mixed in Mon...   \n",
      "3  Investing.com-- Asian stocks rebounded on Tues...   \n",
      "4  By Patturaja Murugaboopathy and Ankur Banerjee...   \n",
      "\n",
      "                                                 url  \n",
      "0  https://www.investing.com/news/stock-market-ne...  \n",
      "1  https://www.investing.com/news/stock-market-ne...  \n",
      "2  https://www.investing.com/news/stock-market-ne...  \n",
      "3  https://www.investing.com/news/stock-market-ne...  \n",
      "4  https://www.investing.com/news/stock-market-ne...  \n"
     ]
    }
   ],
   "source": [
    "print(df.head())"
   ]
  },
  {
   "cell_type": "code",
   "execution_count": 10,
   "id": "f6e35e45",
   "metadata": {},
   "outputs": [
    {
     "name": "stderr",
     "output_type": "stream",
     "text": [
      "Prompting: 100%|██████████| 20/20 [01:56<00:00,  5.84s/it]\n"
     ]
    }
   ],
   "source": [
    "predicted = []\n",
    "\n",
    "for index, row in tqdm(df.iterrows(), total=len(df), desc=\"Prompting\"): \n",
    "    current_stock = row.get(\"ticker\", \"Unknown Stock\")\n",
    "\n",
    "    filled_prompt = prompt.replace(\"[STOCK]\", current_stock)\n",
    "    filled_prompt = filled_prompt.replace(\"[TITLE]\", row[\"title\"])\n",
    "    filled_prompt = filled_prompt.replace(\"[BODY]\", row[\"body_text\"])\n",
    "\n",
    "    try:\n",
    "        response = generate_content_with_rate_limit(filled_prompt)\n",
    "        finalprediction = response.strip()\n",
    "        if not finalprediction:\n",
    "            print(f\"Row {index}: LLM returned an empty string.\")\n",
    "            predicted.append(\"LLM_EMPTY_RESPONSE\")\n",
    "        else:\n",
    "            predicted.append(finalprediction)\n",
    "    except ValueError as ve:\n",
    "        print(f\"Row {index}: ValueError - {ve}. Appending 'ERROR_VALUE_ERROR'.\")\n",
    "        predicted.append(\"ERROR_VALUE_ERROR\")\n",
    "        continue\n",
    "    except Exception as e:\n",
    "        if \"429 Too Many Requests\" in str(e) or \"quota\" in str(e).lower():\n",
    "            print(f\"Row {index}: Rate Limit Exceeded or Quota Error - {e}. Appending 'ERROR_RATE_LIMIT'.\")\n",
    "            predicted.append(\"ERROR_RATE_LIMIT\")\n",
    "        elif \"safety\" in str(e).lower() or \"blocked\" in str(e).lower():\n",
    "             print(f\"Row {index}: Content Safety/Blocked - {e}. Appending 'ERROR_SAFETY_BLOCKED'.\")\n",
    "             predicted.append(\"ERROR_SAFETY_BLOCKED\")\n",
    "        else:\n",
    "            print(f\"Row {index}: Unexpected Error - {e}. Appending 'ERROR_UNEXPECTED'.\")\n",
    "            predicted.append(\"ERROR_UNEXPECTED\")\n",
    "        continue"
   ]
  },
  {
   "cell_type": "code",
   "execution_count": 11,
   "id": "984e0e0f",
   "metadata": {},
   "outputs": [],
   "source": [
    "predicted = np.array(predicted)\n",
    "df[\"predicted\"] = predicted"
   ]
  },
  {
   "cell_type": "code",
   "execution_count": 12,
   "id": "90abd541",
   "metadata": {},
   "outputs": [
    {
     "name": "stdout",
     "output_type": "stream",
     "text": [
      "Asia stocks mixed: China ticks up as PBoC stays pat; Japan drops after strong CPI By Investing.com \n",
      "\n",
      " **Sentiment:**\n",
      "Neutral\n",
      "\n",
      "**Summary:**\n",
      "Asian stock markets were mixed on Monday, with China rising slightly after its central bank kept loan prime rates unchanged, while Japan fell following stronger-than-expected inflation data. Trading volumes were subdued due to holidays in several countries, and investors remained cautious about global trade tensions.\n",
      "\n",
      "**Reasoning for Sentiment:**\n",
      "The article describes a \"mixed\" performance across Asian markets, detailing both gains in some regions (China, Singapore) and losses in others (Japan, Thailand), reflecting divergent trends rather than a uniform positive or negative outlook.\n",
      "\n",
      "**Importance to Stock SETI:**\n",
      "4\n",
      "\n",
      "**Reasoning for Importance:**\n",
      "The article directly reports on the performance of Thailand's stock market (SETI), stating that it fell by 0.4% on the day, providing specific and relevant data for the index. It also contextualizes this movement within the broader Asian market performance.\n"
     ]
    }
   ],
   "source": [
    "print(df[\"title\"][2],'\\n\\n',predicted[2])"
   ]
  },
  {
   "cell_type": "code",
   "execution_count": 13,
   "id": "d915ec16",
   "metadata": {},
   "outputs": [],
   "source": [
    "df[\"sentiment\"] = df[\"predicted\"].apply(lambda x: x.split(\"\\n\")[1].strip() if len(x.split(\"\\n\")) > 1 else None)\n",
    "df[\"importance\"] = df[\"predicted\"].apply(lambda x: x.split(\"\\n\")[10].strip() if len(x.split(\"\\n\")) > 10 else None)\n",
    "df[\"summary\"] = df[\"predicted\"].apply(lambda x: x.split(\"\\n\")[4].strip() if len(x.split(\"\\n\")) > 4 else None)"
   ]
  },
  {
   "cell_type": "code",
   "execution_count": 14,
   "id": "0097fc24",
   "metadata": {},
   "outputs": [
    {
     "data": {
      "text/html": [
       "<div>\n",
       "<style scoped>\n",
       "    .dataframe tbody tr th:only-of-type {\n",
       "        vertical-align: middle;\n",
       "    }\n",
       "\n",
       "    .dataframe tbody tr th {\n",
       "        vertical-align: top;\n",
       "    }\n",
       "\n",
       "    .dataframe thead th {\n",
       "        text-align: right;\n",
       "    }\n",
       "</style>\n",
       "<table border=\"1\" class=\"dataframe\">\n",
       "  <thead>\n",
       "    <tr style=\"text-align: right;\">\n",
       "      <th></th>\n",
       "      <th>publish_date</th>\n",
       "      <th>title</th>\n",
       "      <th>sentiment</th>\n",
       "      <th>importance</th>\n",
       "      <th>summary</th>\n",
       "    </tr>\n",
       "  </thead>\n",
       "  <tbody>\n",
       "    <tr>\n",
       "      <th>3</th>\n",
       "      <td>2025-03-31</td>\n",
       "      <td>Asia stocks rise tracking Wall St ahead of Tru...</td>\n",
       "      <td>Neutral</td>\n",
       "      <td>5</td>\n",
       "      <td>Asian stocks rose on Tuesday, tracking Wall St...</td>\n",
       "    </tr>\n",
       "    <tr>\n",
       "      <th>4</th>\n",
       "      <td>2025-03-24</td>\n",
       "      <td>Southeast Asian stocks feel the heat from econ...</td>\n",
       "      <td>Negative</td>\n",
       "      <td>5</td>\n",
       "      <td>Foreign investors are pulling money out of Sou...</td>\n",
       "    </tr>\n",
       "    <tr>\n",
       "      <th>6</th>\n",
       "      <td>2025-02-26</td>\n",
       "      <td>Thai central bank cuts policy rate amid slow g...</td>\n",
       "      <td>Positive</td>\n",
       "      <td>5</td>\n",
       "      <td>Thailand's central bank cut its benchmark inte...</td>\n",
       "    </tr>\n",
       "    <tr>\n",
       "      <th>7</th>\n",
       "      <td>2025-02-17</td>\n",
       "      <td>Thai Q4 GDP growth misses forecast, U.S. trade...</td>\n",
       "      <td>Negative</td>\n",
       "      <td>5</td>\n",
       "      <td>Thailand's Q4 GDP growth missed forecasts, and...</td>\n",
       "    </tr>\n",
       "    <tr>\n",
       "      <th>9</th>\n",
       "      <td>2025-02-10</td>\n",
       "      <td>Thailand to set up long-term equity fund to su...</td>\n",
       "      <td>Positive</td>\n",
       "      <td>5</td>\n",
       "      <td>Thailand's government plans to establish a new...</td>\n",
       "    </tr>\n",
       "    <tr>\n",
       "      <th>10</th>\n",
       "      <td>2025-02-06</td>\n",
       "      <td>Asia stocks mixed with gains in China shares, ...</td>\n",
       "      <td>Negative</td>\n",
       "      <td>5</td>\n",
       "      <td>Most Asian stock markets declined due to globa...</td>\n",
       "    </tr>\n",
       "    <tr>\n",
       "      <th>11</th>\n",
       "      <td>2025-02-03</td>\n",
       "      <td>Asia stocks rebound on Trump tariff delays; Ch...</td>\n",
       "      <td>Positive</td>\n",
       "      <td>5</td>\n",
       "      <td>Asian stocks rebounded significantly after the...</td>\n",
       "    </tr>\n",
       "    <tr>\n",
       "      <th>12</th>\n",
       "      <td>2025-02-02</td>\n",
       "      <td>Asia stocks plunge as Trump tariffs spark glob...</td>\n",
       "      <td>Negative</td>\n",
       "      <td>5</td>\n",
       "      <td>Asian stock markets experienced a significant ...</td>\n",
       "    </tr>\n",
       "    <tr>\n",
       "      <th>14</th>\n",
       "      <td>2025-01-14</td>\n",
       "      <td>Asia stocks inch up tracking Wall Street, spot...</td>\n",
       "      <td>Neutral</td>\n",
       "      <td>5</td>\n",
       "      <td>Asian stocks exhibited mixed performance, with...</td>\n",
       "    </tr>\n",
       "    <tr>\n",
       "      <th>16</th>\n",
       "      <td>2024-12-16</td>\n",
       "      <td>Asia stocks mixed ahead of major interest rate...</td>\n",
       "      <td>Neutral</td>\n",
       "      <td>5</td>\n",
       "      <td>Asian stock markets showed mixed performance a...</td>\n",
       "    </tr>\n",
       "    <tr>\n",
       "      <th>17</th>\n",
       "      <td>2024-12-11</td>\n",
       "      <td>Asia stocks rise as US inflation cements rate ...</td>\n",
       "      <td>Positive</td>\n",
       "      <td>5</td>\n",
       "      <td>Most Asian stock markets rose, tracking Wall S...</td>\n",
       "    </tr>\n",
       "    <tr>\n",
       "      <th>18</th>\n",
       "      <td>2024-12-03</td>\n",
       "      <td>Asia stocks decline as South Korea faces polit...</td>\n",
       "      <td>Negative</td>\n",
       "      <td>5</td>\n",
       "      <td>Most Asian stocks declined, led by a slump in ...</td>\n",
       "    </tr>\n",
       "    <tr>\n",
       "      <th>19</th>\n",
       "      <td>2024-12-02</td>\n",
       "      <td>Asia stocks rise tracking tech rally; China di...</td>\n",
       "      <td>Positive</td>\n",
       "      <td>5</td>\n",
       "      <td>Most Asian stock markets rose, led by gains in...</td>\n",
       "    </tr>\n",
       "  </tbody>\n",
       "</table>\n",
       "</div>"
      ],
      "text/plain": [
       "   publish_date                                              title sentiment  \\\n",
       "3    2025-03-31  Asia stocks rise tracking Wall St ahead of Tru...   Neutral   \n",
       "4    2025-03-24  Southeast Asian stocks feel the heat from econ...  Negative   \n",
       "6    2025-02-26  Thai central bank cuts policy rate amid slow g...  Positive   \n",
       "7    2025-02-17  Thai Q4 GDP growth misses forecast, U.S. trade...  Negative   \n",
       "9    2025-02-10  Thailand to set up long-term equity fund to su...  Positive   \n",
       "10   2025-02-06  Asia stocks mixed with gains in China shares, ...  Negative   \n",
       "11   2025-02-03  Asia stocks rebound on Trump tariff delays; Ch...  Positive   \n",
       "12   2025-02-02  Asia stocks plunge as Trump tariffs spark glob...  Negative   \n",
       "14   2025-01-14  Asia stocks inch up tracking Wall Street, spot...   Neutral   \n",
       "16   2024-12-16  Asia stocks mixed ahead of major interest rate...   Neutral   \n",
       "17   2024-12-11  Asia stocks rise as US inflation cements rate ...  Positive   \n",
       "18   2024-12-03  Asia stocks decline as South Korea faces polit...  Negative   \n",
       "19   2024-12-02  Asia stocks rise tracking tech rally; China di...  Positive   \n",
       "\n",
       "   importance                                            summary  \n",
       "3           5  Asian stocks rose on Tuesday, tracking Wall St...  \n",
       "4           5  Foreign investors are pulling money out of Sou...  \n",
       "6           5  Thailand's central bank cut its benchmark inte...  \n",
       "7           5  Thailand's Q4 GDP growth missed forecasts, and...  \n",
       "9           5  Thailand's government plans to establish a new...  \n",
       "10          5  Most Asian stock markets declined due to globa...  \n",
       "11          5  Asian stocks rebounded significantly after the...  \n",
       "12          5  Asian stock markets experienced a significant ...  \n",
       "14          5  Asian stocks exhibited mixed performance, with...  \n",
       "16          5  Asian stock markets showed mixed performance a...  \n",
       "17          5  Most Asian stock markets rose, tracking Wall S...  \n",
       "18          5  Most Asian stocks declined, led by a slump in ...  \n",
       "19          5  Most Asian stock markets rose, led by gains in...  "
      ]
     },
     "execution_count": 14,
     "metadata": {},
     "output_type": "execute_result"
    }
   ],
   "source": [
    "df[df[\"importance\"]== \"5\"][[\"publish_date\",\"title\", \"sentiment\",\"importance\", \"summary\"]]"
   ]
  },
  {
   "cell_type": "code",
   "execution_count": 15,
   "id": "d090b2b6",
   "metadata": {},
   "outputs": [
    {
     "data": {
      "text/html": [
       "<div>\n",
       "<style scoped>\n",
       "    .dataframe tbody tr th:only-of-type {\n",
       "        vertical-align: middle;\n",
       "    }\n",
       "\n",
       "    .dataframe tbody tr th {\n",
       "        vertical-align: top;\n",
       "    }\n",
       "\n",
       "    .dataframe thead th {\n",
       "        text-align: right;\n",
       "    }\n",
       "</style>\n",
       "<table border=\"1\" class=\"dataframe\">\n",
       "  <thead>\n",
       "    <tr style=\"text-align: right;\">\n",
       "      <th></th>\n",
       "      <th>ticker</th>\n",
       "      <th>publish_date</th>\n",
       "      <th>publish_time</th>\n",
       "      <th>title</th>\n",
       "      <th>body_text</th>\n",
       "      <th>url</th>\n",
       "      <th>predicted</th>\n",
       "      <th>sentiment</th>\n",
       "      <th>importance</th>\n",
       "      <th>summary</th>\n",
       "    </tr>\n",
       "  </thead>\n",
       "  <tbody>\n",
       "  </tbody>\n",
       "</table>\n",
       "</div>"
      ],
      "text/plain": [
       "Empty DataFrame\n",
       "Columns: [ticker, publish_date, publish_time, title, body_text, url, predicted, sentiment, importance, summary]\n",
       "Index: []"
      ]
     },
     "metadata": {},
     "output_type": "display_data"
    }
   ],
   "source": [
    "display(df[df['sentiment']==''])\n",
    "df = df[df['sentiment'] != '']"
   ]
  },
  {
   "cell_type": "code",
   "execution_count": 16,
   "id": "263225cc",
   "metadata": {},
   "outputs": [],
   "source": [
    "df = df[df['sentiment'].isin(['Positive', 'Negative', 'Neutral'])]\n",
    "df = df[df['importance'].isin(['1', '2', '3', '4', '5'])]"
   ]
  },
  {
   "cell_type": "code",
   "execution_count": 17,
   "id": "040c6042",
   "metadata": {},
   "outputs": [
    {
     "data": {
      "text/plain": [
       "<Axes: title={'center': 'Sentiment Distribution'}, xlabel='sentiment'>"
      ]
     },
     "execution_count": 17,
     "metadata": {},
     "output_type": "execute_result"
    },
    {
     "data": {
      "image/png": "[encoded data removed]",
      "text/plain": [
       "<Figure size 640x480 with 1 Axes>"
      ]
     },
     "metadata": {},
     "output_type": "display_data"
    }
   ],
   "source": [
    "df['sentiment'].value_counts().plot(kind='bar', title='Sentiment Distribution')"
   ]
  },
  {
   "cell_type": "code",
   "execution_count": 18,
   "id": "f6472de3",
   "metadata": {},
   "outputs": [
    {
     "data": {
      "text/plain": [
       "<Axes: title={'center': 'Importance Distribution'}, xlabel='importance'>"
      ]
     },
     "execution_count": 18,
     "metadata": {},
     "output_type": "execute_result"
    },
    {
     "data": {
      "image/png": "[encoded data removed]",
      "text/plain": [
       "<Figure size 640x480 with 1 Axes>"
      ]
     },
     "metadata": {},
     "output_type": "display_data"
    }
   ],
   "source": [
    "df['importance'].value_counts().sort_index().plot(kind='bar', title='Importance Distribution')"
   ]
  },
  {
   "cell_type": "code",
   "execution_count": 19,
   "id": "ec798206",
   "metadata": {},
   "outputs": [],
   "source": [
    "TICKER=df[\"ticker\"][0]"
   ]
  },
  {
   "cell_type": "code",
   "execution_count": 20,
   "id": "f0b00e4b",
   "metadata": {},
   "outputs": [],
   "source": [
    "df[df['sentiment']=='']\n",
    "df = df[df['sentiment'] != '']"
   ]
  },
  {
   "cell_type": "code",
   "execution_count": 21,
   "id": "35d26f9b",
   "metadata": {},
   "outputs": [],
   "source": [
    "def calculate_sentiment_score(df):\n",
    "    sentiment_scores = {\n",
    "        'Positive': 1,\n",
    "        'Negative': -1,\n",
    "        'Neutral': 0\n",
    "    }\n",
    "    \n",
    "    df['sentiment_score'] = df['sentiment'].map(sentiment_scores)\n",
    "    \n",
    "    df['weighted_score'] = df['sentiment_score'] * df['importance'].astype(int)\n",
    "    \n",
    "    total_importance = df['importance'].astype(int).sum()\n",
    "    \n",
    "    if total_importance == 0:\n",
    "        return 0\n",
    "    \n",
    "    sentiment_score = df['weighted_score'].sum() / total_importance\n",
    "    return sentiment_score"
   ]
  },
  {
   "cell_type": "code",
   "execution_count": 22,
   "id": "522496ee",
   "metadata": {},
   "outputs": [
    {
     "name": "stdout",
     "output_type": "stream",
     "text": [
      "Sentiment Score for SETI: 0.06\n"
     ]
    }
   ],
   "source": [
    "print(f\"Sentiment Score for {TICKER}: {calculate_sentiment_score(df).round(2)}\")"
   ]
  },
  {
   "cell_type": "code",
   "execution_count": 23,
   "id": "89ff0738",
   "metadata": {},
   "outputs": [],
   "source": [
    "import datetime\n",
    "\n",
    "df.drop(columns=['predicted','body_text'],inplace=True)\n",
    "now = datetime.datetime.now()\n",
    "date_time = now.strftime(\"%Y-%m-%d %H-%M-%S\").strip().replace(' ', '_')\n",
    "df.to_csv(f\"Output/Gemini_{TICKER}_{date_time}.csv\", index=False)"
   ]
  }
 ],
 "metadata": {
  "kernelspec": {
   "display_name": "Python 3",
   "language": "python",
   "name": "python3"
  },
  "language_info": {
   "codemirror_mode": {
    "name": "ipython",
    "version": 3
   },
   "file_extension": ".py",
   "mimetype": "text/x-python",
   "name": "python",
   "nbconvert_exporter": "python",
   "pygments_lexer": "ipython3",
   "version": "3.11.9"
  }
 },
 "nbformat": 4,
 "nbformat_minor": 5
}
