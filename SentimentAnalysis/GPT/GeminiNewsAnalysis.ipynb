{
 "cells": [
  {
   "cell_type": "markdown",
   "id": "d92e1317",
   "metadata": {},
   "source": [
    "# News Analysis with LLM (Gemini)"
   ]
  },
  {
   "cell_type": "code",
   "execution_count": 1,
   "id": "9d1767dc",
   "metadata": {},
   "outputs": [
    {
     "name": "stdout",
     "output_type": "stream",
     "text": [
      "GEMINI_API_KEY loaded successfully.\n"
     ]
    }
   ],
   "source": [
    "import os\n",
    "from dotenv import load_dotenv\n",
    "\n",
    "load_dotenv(\"secret.env\")\n",
    "\n",
    "api_key = os.getenv(\"GEMINI_API_KEY\")\n",
    "\n",
    "if api_key is None:\n",
    "    print(\"Error: GEMINI_API_KEY not found in .env file or environment variables.\")\n",
    "else:\n",
    "    print(\"GEMINI_API_KEY loaded successfully.\")"
   ]
  },
  {
   "cell_type": "code",
   "execution_count": 4,
   "id": "f8be51b8",
   "metadata": {},
   "outputs": [],
   "source": [
    "import google.generativeai as genai\n",
    "from tqdm import tqdm\n",
    "\n",
    "genai.configure(api_key=api_key)\n",
    "generation_config = genai.GenerationConfig(\n",
    "        temperature=0,\n",
    ")\n",
    "model = genai.GenerativeModel(\"gemini-2.5-flash-preview-04-17\", generation_config=generation_config)"
   ]
  },
  {
   "cell_type": "code",
   "execution_count": 5,
   "id": "116a4f4d",
   "metadata": {},
   "outputs": [],
   "source": [
    "from google.api_core import retry\n",
    "\n",
    "# Catch transient Gemini errors.\n",
    "def is_retryable(e) -> bool:\n",
    "    if retry.if_transient_error(e):\n",
    "        # Good practice, but probably won't fire with the google-genai SDK\n",
    "        return True\n",
    "    elif (isinstance(e, genai.errors.ClientError) and e.code == 429):\n",
    "        # Catch 429 quota exceeded errors\n",
    "        return True\n",
    "    elif (isinstance(e, genai.errors.ServerError) and e.code == 503):\n",
    "        # Catch 503 model overloaded errors\n",
    "        return True\n",
    "    else:\n",
    "        return False\n",
    "\n",
    "@retry.Retry(predicate=is_retryable)\n",
    "def generate_content_with_rate_limit(prompt):\n",
    "  return model.generate_content(prompt).text"
   ]
  },
  {
   "cell_type": "code",
   "execution_count": 6,
   "id": "53969e87",
   "metadata": {},
   "outputs": [],
   "source": [
    "prompt = \"\"\"You are a financial news analyst specializing in stock market impact. Your task is to analyze the provided news article, summarize its core content concisely, determine its sentiment (positive, negative, or neutral), and assess its importance to the specified stock.\n",
    "\n",
    "Here is the news from stock [STOCK] title and body:\n",
    "---\n",
    "[TITLE]\n",
    "---\n",
    "[BODY]\n",
    "---\n",
    "\n",
    "Please provide your analysis in the following format:\n",
    "\n",
    "**Sentiment:**\n",
    "[Positive / Negative / Neutral]\n",
    "\n",
    "**Summary:**\n",
    "[Your concise summary of the article, typically 2-3 sentences.]\n",
    "\n",
    "**Reasoning for Sentiment:**\n",
    "[Brief explanation (1-2 sentences) of why you categorized the sentiment as such, referencing key points or tone from the article.]\n",
    "\n",
    "**Importance to Stock [STOCK]:**\n",
    "[1-5, where 1 is minimal importance and 5 is very high importance.Answer in 1-5 only, no explanation.]\n",
    "\n",
    "**Reasoning for Importance:**\n",
    "[Brief explanation (1-2 sentences) of why you assigned this importance score, referencing specific details from the article that would impact the stock.]\"\"\""
   ]
  },
  {
   "cell_type": "code",
   "execution_count": 7,
   "id": "92827cc3",
   "metadata": {},
   "outputs": [],
   "source": [
    "import pandas as pd\n",
    "import numpy as np"
   ]
  },
  {
   "cell_type": "code",
   "execution_count": 61,
   "id": "0849d1b0",
   "metadata": {},
   "outputs": [
    {
     "data": {
      "text/html": [
       "<div>\n",
       "<style scoped>\n",
       "    .dataframe tbody tr th:only-of-type {\n",
       "        vertical-align: middle;\n",
       "    }\n",
       "\n",
       "    .dataframe tbody tr th {\n",
       "        vertical-align: top;\n",
       "    }\n",
       "\n",
       "    .dataframe thead th {\n",
       "        text-align: right;\n",
       "    }\n",
       "</style>\n",
       "<table border=\"1\" class=\"dataframe\">\n",
       "  <thead>\n",
       "    <tr style=\"text-align: right;\">\n",
       "      <th></th>\n",
       "      <th>ticker</th>\n",
       "      <th>publish_date</th>\n",
       "      <th>publish_time</th>\n",
       "      <th>title</th>\n",
       "      <th>body_text</th>\n",
       "      <th>url</th>\n",
       "    </tr>\n",
       "  </thead>\n",
       "  <tbody>\n",
       "    <tr>\n",
       "      <th>0</th>\n",
       "      <td>SPX</td>\n",
       "      <td>2025-05-26</td>\n",
       "      <td>07:12</td>\n",
       "      <td>JPMorgan Announces Cash Distributions for the ...</td>\n",
       "      <td>TORONTO, May 26, 2025 (GLOBE NEWSWIRE) -- J.P....</td>\n",
       "      <td>https://www.investing.com/news/press-releases/...</td>\n",
       "    </tr>\n",
       "    <tr>\n",
       "      <th>1</th>\n",
       "      <td>SPX</td>\n",
       "      <td>2025-05-26</td>\n",
       "      <td>06:25</td>\n",
       "      <td>Is this a turning point for markets? By Invest...</td>\n",
       "      <td>Investing.com -- Despite a turbulent start to ...</td>\n",
       "      <td>https://www.investing.com/news/stock-market-ne...</td>\n",
       "    </tr>\n",
       "    <tr>\n",
       "      <th>2</th>\n",
       "      <td>SPX</td>\n",
       "      <td>2025-05-26</td>\n",
       "      <td>02:31</td>\n",
       "      <td>Take Five: Chips and trouble in bond land By R...</td>\n",
       "      <td>(Reuters) -Chip behemoth Nvidia (NASDAQ: ) is ...</td>\n",
       "      <td>https://www.investing.com/news/economy-news/ta...</td>\n",
       "    </tr>\n",
       "    <tr>\n",
       "      <th>3</th>\n",
       "      <td>SPX</td>\n",
       "      <td>2025-05-25</td>\n",
       "      <td>22:40</td>\n",
       "      <td>Asia stocks mixed amid Trump tariff uncertaint...</td>\n",
       "      <td>Investing.com-- Most Asian markets were a mixe...</td>\n",
       "      <td>https://www.investing.com/news/stock-market-ne...</td>\n",
       "    </tr>\n",
       "    <tr>\n",
       "      <th>4</th>\n",
       "      <td>SPX</td>\n",
       "      <td>2025-05-25</td>\n",
       "      <td>20:41</td>\n",
       "      <td>US stock futures jump as Trump agrees to postp...</td>\n",
       "      <td>Investing.com-- U.S. stock index futures rose ...</td>\n",
       "      <td>https://www.investing.com/news/stock-market-ne...</td>\n",
       "    </tr>\n",
       "  </tbody>\n",
       "</table>\n",
       "</div>"
      ],
      "text/plain": [
       "  ticker publish_date publish_time  \\\n",
       "0    SPX   2025-05-26        07:12   \n",
       "1    SPX   2025-05-26        06:25   \n",
       "2    SPX   2025-05-26        02:31   \n",
       "3    SPX   2025-05-25        22:40   \n",
       "4    SPX   2025-05-25        20:41   \n",
       "\n",
       "                                               title  \\\n",
       "0  JPMorgan Announces Cash Distributions for the ...   \n",
       "1  Is this a turning point for markets? By Invest...   \n",
       "2  Take Five: Chips and trouble in bond land By R...   \n",
       "3  Asia stocks mixed amid Trump tariff uncertaint...   \n",
       "4  US stock futures jump as Trump agrees to postp...   \n",
       "\n",
       "                                           body_text  \\\n",
       "0  TORONTO, May 26, 2025 (GLOBE NEWSWIRE) -- J.P....   \n",
       "1  Investing.com -- Despite a turbulent start to ...   \n",
       "2  (Reuters) -Chip behemoth Nvidia (NASDAQ: ) is ...   \n",
       "3  Investing.com-- Most Asian markets were a mixe...   \n",
       "4  Investing.com-- U.S. stock index futures rose ...   \n",
       "\n",
       "                                                 url  \n",
       "0  https://www.investing.com/news/press-releases/...  \n",
       "1  https://www.investing.com/news/stock-market-ne...  \n",
       "2  https://www.investing.com/news/economy-news/ta...  \n",
       "3  https://www.investing.com/news/stock-market-ne...  \n",
       "4  https://www.investing.com/news/stock-market-ne...  "
      ]
     },
     "metadata": {},
     "output_type": "display_data"
    }
   ],
   "source": [
    "df = pd.read_csv(\"../../DataCollection/Data/News/SPX_2025-05-27_00-03-22.csv\")\n",
    "display(df.head())"
   ]
  },
  {
   "cell_type": "code",
   "execution_count": 27,
   "id": "1c6c45a4",
   "metadata": {},
   "outputs": [
    {
     "data": {
      "text/plain": [
       "ticker          0\n",
       "publish_date    0\n",
       "publish_time    0\n",
       "title           0\n",
       "body_text       0\n",
       "url             0\n",
       "dtype: int64"
      ]
     },
     "execution_count": 27,
     "metadata": {},
     "output_type": "execute_result"
    }
   ],
   "source": [
    "df.isnull().sum()"
   ]
  },
  {
   "cell_type": "code",
   "execution_count": 28,
   "id": "074d5e03",
   "metadata": {},
   "outputs": [],
   "source": [
    "df[\"title\"] = df[\"title\"].astype(str)\n",
    "df[\"body_text\"] = df[\"body_text\"].astype(str)"
   ]
  },
  {
   "cell_type": "code",
   "execution_count": 29,
   "id": "24dcc3ea",
   "metadata": {},
   "outputs": [
    {
     "name": "stdout",
     "output_type": "stream",
     "text": [
      "  ticker publish_date publish_time  \\\n",
      "0    SPX   2025-05-26        07:12   \n",
      "1    SPX   2025-05-26        06:25   \n",
      "2    SPX   2025-05-26        02:31   \n",
      "3    SPX   2025-05-25        22:40   \n",
      "4    SPX   2025-05-25        20:41   \n",
      "\n",
      "                                               title  \\\n",
      "0  JPMorgan Announces Cash Distributions for the ...   \n",
      "1  Is this a turning point for markets? By Invest...   \n",
      "2  Take Five: Chips and trouble in bond land By R...   \n",
      "3  Asia stocks mixed amid Trump tariff uncertaint...   \n",
      "4  US stock futures jump as Trump agrees to postp...   \n",
      "\n",
      "                                           body_text  \\\n",
      "0  TORONTO, May 26, 2025 (GLOBE NEWSWIRE) -- J.P....   \n",
      "1  Investing.com -- Despite a turbulent start to ...   \n",
      "2  (Reuters) -Chip behemoth Nvidia (NASDAQ: ) is ...   \n",
      "3  Investing.com-- Most Asian markets were a mixe...   \n",
      "4  Investing.com-- U.S. stock index futures rose ...   \n",
      "\n",
      "                                                 url  \n",
      "0  https://www.investing.com/news/press-releases/...  \n",
      "1  https://www.investing.com/news/stock-market-ne...  \n",
      "2  https://www.investing.com/news/economy-news/ta...  \n",
      "3  https://www.investing.com/news/stock-market-ne...  \n",
      "4  https://www.investing.com/news/stock-market-ne...  \n"
     ]
    }
   ],
   "source": [
    "print(df.head())"
   ]
  },
  {
   "cell_type": "code",
   "execution_count": 30,
   "id": "f6e35e45",
   "metadata": {},
   "outputs": [
    {
     "name": "stderr",
     "output_type": "stream",
     "text": [
      "Prompting: 100%|██████████| 20/20 [01:55<00:00,  5.77s/it]\n"
     ]
    }
   ],
   "source": [
    "predicted = []\n",
    "\n",
    "for index, row in tqdm(df.iterrows(), total=len(df), desc=\"Prompting\"): \n",
    "    current_stock = row.get(\"ticker\", \"Unknown Stock\")\n",
    "\n",
    "    filled_prompt = prompt.replace(\"[STOCK]\", current_stock)\n",
    "    filled_prompt = filled_prompt.replace(\"[TITLE]\", row[\"title\"])\n",
    "    filled_prompt = filled_prompt.replace(\"[BODY]\", row[\"body_text\"])\n",
    "\n",
    "    try:\n",
    "        response = generate_content_with_rate_limit(filled_prompt)\n",
    "        finalprediction = response.strip()\n",
    "        if not finalprediction:\n",
    "            print(f\"Row {index}: LLM returned an empty string.\")\n",
    "            predicted.append(\"LLM_EMPTY_RESPONSE\")\n",
    "        else:\n",
    "            predicted.append(finalprediction)\n",
    "    except ValueError as ve:\n",
    "        print(f\"Row {index}: ValueError - {ve}. Appending 'ERROR_VALUE_ERROR'.\")\n",
    "        predicted.append(\"ERROR_VALUE_ERROR\")\n",
    "        continue\n",
    "    except Exception as e:\n",
    "        if \"429 Too Many Requests\" in str(e) or \"quota\" in str(e).lower():\n",
    "            print(f\"Row {index}: Rate Limit Exceeded or Quota Error - {e}. Appending 'ERROR_RATE_LIMIT'.\")\n",
    "            predicted.append(\"ERROR_RATE_LIMIT\")\n",
    "        elif \"safety\" in str(e).lower() or \"blocked\" in str(e).lower():\n",
    "             print(f\"Row {index}: Content Safety/Blocked - {e}. Appending 'ERROR_SAFETY_BLOCKED'.\")\n",
    "             predicted.append(\"ERROR_SAFETY_BLOCKED\")\n",
    "        else:\n",
    "            print(f\"Row {index}: Unexpected Error - {e}. Appending 'ERROR_UNEXPECTED'.\")\n",
    "            predicted.append(\"ERROR_UNEXPECTED\")\n",
    "        continue"
   ]
  },
  {
   "cell_type": "code",
   "execution_count": 62,
   "id": "984e0e0f",
   "metadata": {},
   "outputs": [],
   "source": [
    "predicted = np.array(predicted)\n",
    "df[\"predicted\"] = predicted"
   ]
  },
  {
   "cell_type": "code",
   "execution_count": 63,
   "id": "90abd541",
   "metadata": {},
   "outputs": [
    {
     "name": "stdout",
     "output_type": "stream",
     "text": [
      "Take Five: Chips and trouble in bond land By Reuters \n",
      "\n",
      " **Sentiment:**\n",
      "Neutral\n",
      "\n",
      "**Summary:**\n",
      "The article previews key market events for the week, focusing on Nvidia's earnings report as a test for the recent stock market rebound and highlighting rising volatility and yields in long-term government bonds due to debt concerns. It also covers upcoming global inflation data and central bank meetings that will influence monetary policy expectations.\n",
      "\n",
      "**Reasoning for Sentiment:**\n",
      "The article presents a balanced preview of upcoming market drivers and potential pressure points, discussing both the recent market rebound and significant risks like bond market stress and inflation concerns, without taking a definitive bullish or bearish stance.\n",
      "\n",
      "**Importance to Stock SPX:**\n",
      "5\n",
      "\n",
      "**Reasoning for Importance:**\n",
      "The article discusses major factors directly impacting the S&P 500, including the earnings of a key index component (Nvidia), US bond market dynamics, US inflation data, and investor sentiment towards US equities.\n"
     ]
    }
   ],
   "source": [
    "print(df[\"title\"][2],'\\n\\n',predicted[2])"
   ]
  },
  {
   "cell_type": "code",
   "execution_count": 64,
   "id": "d915ec16",
   "metadata": {},
   "outputs": [],
   "source": [
    "df[\"sentiment\"] = df[\"predicted\"].apply(lambda x: x.split(\"\\n\")[1].strip() if len(x.split(\"\\n\")) > 1 else None)\n",
    "df[\"importance\"] = df[\"predicted\"].apply(lambda x: x.split(\"\\n\")[10].strip() if len(x.split(\"\\n\")) > 10 else None)\n",
    "df[\"summary\"] = df[\"predicted\"].apply(lambda x: x.split(\"\\n\")[4].strip() if len(x.split(\"\\n\")) > 4 else None)"
   ]
  },
  {
   "cell_type": "code",
   "execution_count": 65,
   "id": "0097fc24",
   "metadata": {},
   "outputs": [
    {
     "data": {
      "text/html": [
       "<div>\n",
       "<style scoped>\n",
       "    .dataframe tbody tr th:only-of-type {\n",
       "        vertical-align: middle;\n",
       "    }\n",
       "\n",
       "    .dataframe tbody tr th {\n",
       "        vertical-align: top;\n",
       "    }\n",
       "\n",
       "    .dataframe thead th {\n",
       "        text-align: right;\n",
       "    }\n",
       "</style>\n",
       "<table border=\"1\" class=\"dataframe\">\n",
       "  <thead>\n",
       "    <tr style=\"text-align: right;\">\n",
       "      <th></th>\n",
       "      <th>publish_date</th>\n",
       "      <th>title</th>\n",
       "      <th>sentiment</th>\n",
       "      <th>importance</th>\n",
       "      <th>summary</th>\n",
       "    </tr>\n",
       "  </thead>\n",
       "  <tbody>\n",
       "    <tr>\n",
       "      <th>1</th>\n",
       "      <td>2025-05-26</td>\n",
       "      <td>Is this a turning point for markets? By Invest...</td>\n",
       "      <td>Neutral</td>\n",
       "      <td>5</td>\n",
       "      <td>The article notes the market's resilience in e...</td>\n",
       "    </tr>\n",
       "    <tr>\n",
       "      <th>2</th>\n",
       "      <td>2025-05-26</td>\n",
       "      <td>Take Five: Chips and trouble in bond land By R...</td>\n",
       "      <td>Neutral</td>\n",
       "      <td>5</td>\n",
       "      <td>The article previews key market events for the...</td>\n",
       "    </tr>\n",
       "    <tr>\n",
       "      <th>3</th>\n",
       "      <td>2025-05-25</td>\n",
       "      <td>Asia stocks mixed amid Trump tariff uncertaint...</td>\n",
       "      <td>Neutral</td>\n",
       "      <td>5</td>\n",
       "      <td>Asian markets showed mixed reactions to U.S. P...</td>\n",
       "    </tr>\n",
       "    <tr>\n",
       "      <th>4</th>\n",
       "      <td>2025-05-25</td>\n",
       "      <td>US stock futures jump as Trump agrees to postp...</td>\n",
       "      <td>Positive</td>\n",
       "      <td>5</td>\n",
       "      <td>US stock index futures rose sharply after Pres...</td>\n",
       "    </tr>\n",
       "    <tr>\n",
       "      <th>6</th>\n",
       "      <td>2025-05-25</td>\n",
       "      <td>Nvidia earnings in focus as rising US yields, ...</td>\n",
       "      <td>Negative</td>\n",
       "      <td>5</td>\n",
       "      <td>The article highlights market concerns driven ...</td>\n",
       "    </tr>\n",
       "    <tr>\n",
       "      <th>7</th>\n",
       "      <td>2025-05-25</td>\n",
       "      <td>Is a U.S. government debt crisis imminent? By ...</td>\n",
       "      <td>Negative</td>\n",
       "      <td>5</td>\n",
       "      <td>The article highlights escalating concerns abo...</td>\n",
       "    </tr>\n",
       "    <tr>\n",
       "      <th>10</th>\n",
       "      <td>2025-05-23</td>\n",
       "      <td>Trading Day: Trump shatters tariff calm with n...</td>\n",
       "      <td>Negative</td>\n",
       "      <td>5</td>\n",
       "      <td>President Trump's new threats of tariffs on Eu...</td>\n",
       "    </tr>\n",
       "    <tr>\n",
       "      <th>11</th>\n",
       "      <td>2025-05-23</td>\n",
       "      <td>U.S. stocks lower at close of trade; Dow Jones...</td>\n",
       "      <td>Negative</td>\n",
       "      <td>5</td>\n",
       "      <td>U.S. stocks closed lower on Friday, with all m...</td>\n",
       "    </tr>\n",
       "    <tr>\n",
       "      <th>13</th>\n",
       "      <td>2025-05-23</td>\n",
       "      <td>TSX closes mixed amid more Trump trade turmoil...</td>\n",
       "      <td>Negative</td>\n",
       "      <td>5</td>\n",
       "      <td>Canada's main stock index closed mixed/slightl...</td>\n",
       "    </tr>\n",
       "    <tr>\n",
       "      <th>15</th>\n",
       "      <td>2025-05-23</td>\n",
       "      <td>Nvidia earnings in focus as rising US yields, ...</td>\n",
       "      <td>Negative</td>\n",
       "      <td>5</td>\n",
       "      <td>The article highlights market concerns over ri...</td>\n",
       "    </tr>\n",
       "    <tr>\n",
       "      <th>16</th>\n",
       "      <td>2025-05-23</td>\n",
       "      <td>Wall St falls as Trump tariff threats spark ma...</td>\n",
       "      <td>Negative</td>\n",
       "      <td>5</td>\n",
       "      <td>U.S. stocks, including the S&amp;P 500, fell on Fr...</td>\n",
       "    </tr>\n",
       "    <tr>\n",
       "      <th>17</th>\n",
       "      <td>2025-05-22</td>\n",
       "      <td>Dollar, stocks fall as Trump targets Europe an...</td>\n",
       "      <td>Negative</td>\n",
       "      <td>5</td>\n",
       "      <td>Major stock indexes, including the S&amp;P 500, an...</td>\n",
       "    </tr>\n",
       "    <tr>\n",
       "      <th>18</th>\n",
       "      <td>2025-05-22</td>\n",
       "      <td>Stock market today: S&amp;P 500 ends week lower as...</td>\n",
       "      <td>Negative</td>\n",
       "      <td>5</td>\n",
       "      <td>The S&amp;P 500 ended the week lower, pressured by...</td>\n",
       "    </tr>\n",
       "    <tr>\n",
       "      <th>19</th>\n",
       "      <td>2025-05-21</td>\n",
       "      <td>Trump aims to use tariffs to boost manufacturi...</td>\n",
       "      <td>Negative</td>\n",
       "      <td>5</td>\n",
       "      <td>The article discusses President Trump's object...</td>\n",
       "    </tr>\n",
       "  </tbody>\n",
       "</table>\n",
       "</div>"
      ],
      "text/plain": [
       "   publish_date                                              title sentiment  \\\n",
       "1    2025-05-26  Is this a turning point for markets? By Invest...   Neutral   \n",
       "2    2025-05-26  Take Five: Chips and trouble in bond land By R...   Neutral   \n",
       "3    2025-05-25  Asia stocks mixed amid Trump tariff uncertaint...   Neutral   \n",
       "4    2025-05-25  US stock futures jump as Trump agrees to postp...  Positive   \n",
       "6    2025-05-25  Nvidia earnings in focus as rising US yields, ...  Negative   \n",
       "7    2025-05-25  Is a U.S. government debt crisis imminent? By ...  Negative   \n",
       "10   2025-05-23  Trading Day: Trump shatters tariff calm with n...  Negative   \n",
       "11   2025-05-23  U.S. stocks lower at close of trade; Dow Jones...  Negative   \n",
       "13   2025-05-23  TSX closes mixed amid more Trump trade turmoil...  Negative   \n",
       "15   2025-05-23  Nvidia earnings in focus as rising US yields, ...  Negative   \n",
       "16   2025-05-23  Wall St falls as Trump tariff threats spark ma...  Negative   \n",
       "17   2025-05-22  Dollar, stocks fall as Trump targets Europe an...  Negative   \n",
       "18   2025-05-22  Stock market today: S&P 500 ends week lower as...  Negative   \n",
       "19   2025-05-21  Trump aims to use tariffs to boost manufacturi...  Negative   \n",
       "\n",
       "   importance                                            summary  \n",
       "1           5  The article notes the market's resilience in e...  \n",
       "2           5  The article previews key market events for the...  \n",
       "3           5  Asian markets showed mixed reactions to U.S. P...  \n",
       "4           5  US stock index futures rose sharply after Pres...  \n",
       "6           5  The article highlights market concerns driven ...  \n",
       "7           5  The article highlights escalating concerns abo...  \n",
       "10          5  President Trump's new threats of tariffs on Eu...  \n",
       "11          5  U.S. stocks closed lower on Friday, with all m...  \n",
       "13          5  Canada's main stock index closed mixed/slightl...  \n",
       "15          5  The article highlights market concerns over ri...  \n",
       "16          5  U.S. stocks, including the S&P 500, fell on Fr...  \n",
       "17          5  Major stock indexes, including the S&P 500, an...  \n",
       "18          5  The S&P 500 ended the week lower, pressured by...  \n",
       "19          5  The article discusses President Trump's object...  "
      ]
     },
     "execution_count": 65,
     "metadata": {},
     "output_type": "execute_result"
    }
   ],
   "source": [
    "df[df[\"importance\"]== \"5\"][[\"publish_date\",\"title\", \"sentiment\",\"importance\", \"summary\"]]"
   ]
  },
  {
   "cell_type": "code",
   "execution_count": 66,
   "id": "d090b2b6",
   "metadata": {},
   "outputs": [
    {
     "data": {
      "text/html": [
       "<div>\n",
       "<style scoped>\n",
       "    .dataframe tbody tr th:only-of-type {\n",
       "        vertical-align: middle;\n",
       "    }\n",
       "\n",
       "    .dataframe tbody tr th {\n",
       "        vertical-align: top;\n",
       "    }\n",
       "\n",
       "    .dataframe thead th {\n",
       "        text-align: right;\n",
       "    }\n",
       "</style>\n",
       "<table border=\"1\" class=\"dataframe\">\n",
       "  <thead>\n",
       "    <tr style=\"text-align: right;\">\n",
       "      <th></th>\n",
       "      <th>ticker</th>\n",
       "      <th>publish_date</th>\n",
       "      <th>publish_time</th>\n",
       "      <th>title</th>\n",
       "      <th>body_text</th>\n",
       "      <th>url</th>\n",
       "      <th>predicted</th>\n",
       "      <th>sentiment</th>\n",
       "      <th>importance</th>\n",
       "      <th>summary</th>\n",
       "    </tr>\n",
       "  </thead>\n",
       "  <tbody>\n",
       "  </tbody>\n",
       "</table>\n",
       "</div>"
      ],
      "text/plain": [
       "Empty DataFrame\n",
       "Columns: [ticker, publish_date, publish_time, title, body_text, url, predicted, sentiment, importance, summary]\n",
       "Index: []"
      ]
     },
     "metadata": {},
     "output_type": "display_data"
    }
   ],
   "source": [
    "display(df[df['sentiment']==''])\n",
    "df = df[df['sentiment'] != '']"
   ]
  },
  {
   "cell_type": "code",
   "execution_count": null,
   "id": "263225cc",
   "metadata": {},
   "outputs": [],
   "source": [
    "df = df[df['sentiment'].isin(['Positive', 'Negative', 'Neutral'])]\n",
    "df = df[df['importance'].isin(['1', '2', '3', '4', '5'])]"
   ]
  },
  {
   "cell_type": "code",
   "execution_count": 68,
   "id": "040c6042",
   "metadata": {},
   "outputs": [
    {
     "data": {
      "text/plain": [
       "<Axes: title={'center': 'Sentiment Distribution'}, xlabel='sentiment'>"
      ]
     },
     "execution_count": 68,
     "metadata": {},
     "output_type": "execute_result"
    },
    {
     "data": {
      "image/png": "[encoded data removed]",
      "text/plain": [
       "<Figure size 640x480 with 1 Axes>"
      ]
     },
     "metadata": {},
     "output_type": "display_data"
    }
   ],
   "source": [
    "df['sentiment'].value_counts().plot(kind='bar', title='Sentiment Distribution')"
   ]
  },
  {
   "cell_type": "code",
   "execution_count": 69,
   "id": "f6472de3",
   "metadata": {},
   "outputs": [
    {
     "data": {
      "text/plain": [
       "<Axes: title={'center': 'Importance Distribution'}, xlabel='importance'>"
      ]
     },
     "execution_count": 69,
     "metadata": {},
     "output_type": "execute_result"
    },
    {
     "data": {
      "image/png": "[encoded data removed]",
      "text/plain": [
       "<Figure size 640x480 with 1 Axes>"
      ]
     },
     "metadata": {},
     "output_type": "display_data"
    }
   ],
   "source": [
    "df['importance'].value_counts().sort_index().plot(kind='bar', title='Importance Distribution')"
   ]
  },
  {
   "cell_type": "code",
   "execution_count": 70,
   "id": "ec798206",
   "metadata": {},
   "outputs": [],
   "source": [
    "TICKER=df[\"ticker\"][0]"
   ]
  },
  {
   "cell_type": "code",
   "execution_count": 71,
   "id": "f0b00e4b",
   "metadata": {},
   "outputs": [],
   "source": [
    "df[df['sentiment']=='']\n",
    "df = df[df['sentiment'] != '']"
   ]
  },
  {
   "cell_type": "code",
   "execution_count": 72,
   "id": "35d26f9b",
   "metadata": {},
   "outputs": [],
   "source": [
    "def calculate_sentiment_score(df):\n",
    "    sentiment_scores = {\n",
    "        'Positive': 1,\n",
    "        'Negative': -1,\n",
    "        'Neutral': 0\n",
    "    }\n",
    "    \n",
    "    df['sentiment_score'] = df['sentiment'].map(sentiment_scores)\n",
    "    \n",
    "    df['weighted_score'] = df['sentiment_score'] * df['importance'].astype(int)\n",
    "    \n",
    "    total_importance = df['importance'].astype(int).sum()\n",
    "    \n",
    "    if total_importance == 0:\n",
    "        return 0\n",
    "    \n",
    "    sentiment_score = df['weighted_score'].sum() / total_importance\n",
    "    return sentiment_score"
   ]
  },
  {
   "cell_type": "code",
   "execution_count": 73,
   "id": "522496ee",
   "metadata": {},
   "outputs": [
    {
     "name": "stdout",
     "output_type": "stream",
     "text": [
      "Sentiment Score for SPX: -0.55\n"
     ]
    }
   ],
   "source": [
    "print(f\"Sentiment Score for {TICKER}: {calculate_sentiment_score(df).round(2)}\")"
   ]
  },
  {
   "cell_type": "code",
   "execution_count": 74,
   "id": "89ff0738",
   "metadata": {},
   "outputs": [],
   "source": [
    "import datetime\n",
    "\n",
    "df.drop(columns=['predicted','body_text'],inplace=True)\n",
    "now = datetime.datetime.now()\n",
    "date_time = now.strftime(\"%Y-%m-%d %H-%M-%S\").strip().replace(' ', '_')\n",
    "df.to_csv(f\"Output/Gemini_{TICKER}_{date_time}.csv\", index=False)"
   ]
  }
 ],
 "metadata": {
  "kernelspec": {
   "display_name": "Python 3",
   "language": "python",
   "name": "python3"
  },
  "language_info": {
   "codemirror_mode": {
    "name": "ipython",
    "version": 3
   },
   "file_extension": ".py",
   "mimetype": "text/x-python",
   "name": "python",
   "nbconvert_exporter": "python",
   "pygments_lexer": "ipython3",
   "version": "3.11.9"
  }
 },
 "nbformat": 4,
 "nbformat_minor": 5
}
