{
 "cells": [
  {
   "cell_type": "markdown",
   "id": "d92e1317",
   "metadata": {},
   "source": [
    "# News Analysis with LLM (Gemini)"
   ]
  },
  {
   "cell_type": "code",
   "execution_count": 1,
   "id": "9d1767dc",
   "metadata": {},
   "outputs": [
    {
     "name": "stdout",
     "output_type": "stream",
     "text": [
      "GEMINI_API_KEY loaded successfully.\n"
     ]
    }
   ],
   "source": [
    "import os\n",
    "from dotenv import load_dotenv\n",
    "\n",
    "load_dotenv(\"secret.env\")\n",
    "\n",
    "api_key = os.getenv(\"GEMINI_API_KEY\")\n",
    "\n",
    "if api_key is None:\n",
    "    print(\"Error: GEMINI_API_KEY not found in .env file or environment variables.\")\n",
    "else:\n",
    "    print(\"GEMINI_API_KEY loaded successfully.\")"
   ]
  },
  {
   "cell_type": "code",
   "execution_count": 2,
   "id": "f8be51b8",
   "metadata": {},
   "outputs": [],
   "source": [
    "import google.generativeai as genai\n",
    "from tqdm import tqdm\n",
    "\n",
    "genai.configure(api_key=api_key)\n",
    "generation_config = genai.GenerationConfig(\n",
    "        temperature=0,\n",
    ")\n",
    "model = genai.GenerativeModel(\"gemini-2.5-flash-preview-04-17\", generation_config=generation_config)"
   ]
  },
  {
   "cell_type": "code",
   "execution_count": 3,
   "id": "116a4f4d",
   "metadata": {},
   "outputs": [],
   "source": [
    "from google.api_core import retry\n",
    "\n",
    "# Catch transient Gemini errors.\n",
    "def is_retryable(e) -> bool:\n",
    "    if retry.if_transient_error(e):\n",
    "        # Good practice, but probably won't fire with the google-genai SDK\n",
    "        return True\n",
    "    elif (isinstance(e, genai.errors.ClientError) and e.code == 429):\n",
    "        # Catch 429 quota exceeded errors\n",
    "        return True\n",
    "    elif (isinstance(e, genai.errors.ServerError) and e.code == 503):\n",
    "        # Catch 503 model overloaded errors\n",
    "        return True\n",
    "    else:\n",
    "        return False\n",
    "\n",
    "@retry.Retry(predicate=is_retryable)\n",
    "def generate_content_with_rate_limit(prompt):\n",
    "  return model.generate_content(prompt).text"
   ]
  },
  {
   "cell_type": "code",
   "execution_count": 4,
   "id": "53969e87",
   "metadata": {},
   "outputs": [],
   "source": [
    "prompt = \"\"\"You are a financial news analyst specializing in stock market impact. Your task is to analyze the provided news article, summarize its core content concisely, determine its sentiment (positive, negative, or neutral), and assess its importance to the specified stock.\n",
    "\n",
    "Here is the news from stock [STOCK] title and body:\n",
    "---\n",
    "[TITLE]\n",
    "---\n",
    "[BODY]\n",
    "---\n",
    "\n",
    "Please provide your analysis in the following format (Don't forget to make space between the sections as shown):\n",
    "\n",
    "**Sentiment:**\n",
    "[Positive / Negative / Neutral]\n",
    "\n",
    "**Summary:**\n",
    "[Your concise summary of the article, typically 2-3 sentences.]\n",
    "\n",
    "**Reasoning for Sentiment:**\n",
    "[Brief explanation (1-2 sentences) of why you categorized the sentiment as such, referencing key points or tone from the article.]\n",
    "\n",
    "**Importance to Stock [STOCK]:**\n",
    "[1-5, where 1 is minimal importance and 5 is very high importance.Answer in 1-5 only, no explanation.] (Answer only in number 1-5)\n",
    "\n",
    "**Reasoning for Importance:**\n",
    "[Brief explanation (1-2 sentences) of why you assigned this importance score, referencing specific details from the article that would impact the stock.]\"\"\""
   ]
  },
  {
   "cell_type": "code",
   "execution_count": 5,
   "id": "92827cc3",
   "metadata": {},
   "outputs": [],
   "source": [
    "import pandas as pd\n",
    "import numpy as np"
   ]
  },
  {
   "cell_type": "code",
   "execution_count": 6,
   "id": "0849d1b0",
   "metadata": {},
   "outputs": [
    {
     "data": {
      "text/html": [
       "<div>\n",
       "<style scoped>\n",
       "    .dataframe tbody tr th:only-of-type {\n",
       "        vertical-align: middle;\n",
       "    }\n",
       "\n",
       "    .dataframe tbody tr th {\n",
       "        vertical-align: top;\n",
       "    }\n",
       "\n",
       "    .dataframe thead th {\n",
       "        text-align: right;\n",
       "    }\n",
       "</style>\n",
       "<table border=\"1\" class=\"dataframe\">\n",
       "  <thead>\n",
       "    <tr style=\"text-align: right;\">\n",
       "      <th></th>\n",
       "      <th>publish_date</th>\n",
       "      <th>publish_time</th>\n",
       "      <th>title</th>\n",
       "      <th>body_text</th>\n",
       "      <th>url</th>\n",
       "    </tr>\n",
       "  </thead>\n",
       "  <tbody>\n",
       "    <tr>\n",
       "      <th>0</th>\n",
       "      <td>2025-05-27</td>\n",
       "      <td>13:31</td>\n",
       "      <td>Merck Declares $0.81 Quarterly Dividend; 4.2% ...</td>\n",
       "      <td>Risk Disclosure: Trading in financial instrume...</td>\n",
       "      <td>https://www.investing.com/news/assorted/merck-...</td>\n",
       "    </tr>\n",
       "    <tr>\n",
       "      <th>1</th>\n",
       "      <td>2025-05-27</td>\n",
       "      <td>12:38</td>\n",
       "      <td>Qualcomm-backed study finds Apple’s in-house m...</td>\n",
       "      <td>Investing.com -- Qualcomm Incorporated (NASDAQ...</td>\n",
       "      <td>https://www.investing.com/news/stock-market-ne...</td>\n",
       "    </tr>\n",
       "    <tr>\n",
       "      <th>2</th>\n",
       "      <td>2025-05-27</td>\n",
       "      <td>10:33</td>\n",
       "      <td>US Consumer bounces back sharply in May By Inv...</td>\n",
       "      <td>Investing.com -- Consumer confidence rebounded...</td>\n",
       "      <td>https://www.investing.com/news/economy-news/us...</td>\n",
       "    </tr>\n",
       "    <tr>\n",
       "      <th>3</th>\n",
       "      <td>2025-05-27</td>\n",
       "      <td>09:41</td>\n",
       "      <td>Lynx: Risk priced in, Nvidia could surprise to...</td>\n",
       "      <td>Investing.com -- Nvidia stock could break out ...</td>\n",
       "      <td>https://www.investing.com/news/stock-market-ne...</td>\n",
       "    </tr>\n",
       "    <tr>\n",
       "      <th>4</th>\n",
       "      <td>2025-05-27</td>\n",
       "      <td>09:15</td>\n",
       "      <td>SoundHound shares jump as Piper Sandler starts...</td>\n",
       "      <td>Investing.com -- Piper Sandler has initiated c...</td>\n",
       "      <td>https://www.investing.com/news/stock-market-ne...</td>\n",
       "    </tr>\n",
       "  </tbody>\n",
       "</table>\n",
       "</div>"
      ],
      "text/plain": [
       "  publish_date publish_time  \\\n",
       "0   2025-05-27        13:31   \n",
       "1   2025-05-27        12:38   \n",
       "2   2025-05-27        10:33   \n",
       "3   2025-05-27        09:41   \n",
       "4   2025-05-27        09:15   \n",
       "\n",
       "                                               title  \\\n",
       "0  Merck Declares $0.81 Quarterly Dividend; 4.2% ...   \n",
       "1  Qualcomm-backed study finds Apple’s in-house m...   \n",
       "2  US Consumer bounces back sharply in May By Inv...   \n",
       "3  Lynx: Risk priced in, Nvidia could surprise to...   \n",
       "4  SoundHound shares jump as Piper Sandler starts...   \n",
       "\n",
       "                                           body_text  \\\n",
       "0  Risk Disclosure: Trading in financial instrume...   \n",
       "1  Investing.com -- Qualcomm Incorporated (NASDAQ...   \n",
       "2  Investing.com -- Consumer confidence rebounded...   \n",
       "3  Investing.com -- Nvidia stock could break out ...   \n",
       "4  Investing.com -- Piper Sandler has initiated c...   \n",
       "\n",
       "                                                 url  \n",
       "0  https://www.investing.com/news/assorted/merck-...  \n",
       "1  https://www.investing.com/news/stock-market-ne...  \n",
       "2  https://www.investing.com/news/economy-news/us...  \n",
       "3  https://www.investing.com/news/stock-market-ne...  \n",
       "4  https://www.investing.com/news/stock-market-ne...  "
      ]
     },
     "metadata": {},
     "output_type": "display_data"
    }
   ],
   "source": [
    "df = pd.read_csv(\"../../DataCollection/Data/Trending_News/2025-05-28_01-09-03.csv\")\n",
    "display(df.head())"
   ]
  },
  {
   "cell_type": "code",
   "execution_count": 7,
   "id": "1c6c45a4",
   "metadata": {},
   "outputs": [
    {
     "data": {
      "text/plain": [
       "publish_date    0\n",
       "publish_time    0\n",
       "title           0\n",
       "body_text       0\n",
       "url             0\n",
       "dtype: int64"
      ]
     },
     "execution_count": 7,
     "metadata": {},
     "output_type": "execute_result"
    }
   ],
   "source": [
    "df.isnull().sum()"
   ]
  },
  {
   "cell_type": "code",
   "execution_count": 8,
   "id": "074d5e03",
   "metadata": {},
   "outputs": [],
   "source": [
    "df[\"title\"] = df[\"title\"].astype(str)\n",
    "df[\"body_text\"] = df[\"body_text\"].astype(str)"
   ]
  },
  {
   "cell_type": "code",
   "execution_count": 9,
   "id": "24dcc3ea",
   "metadata": {},
   "outputs": [
    {
     "name": "stdout",
     "output_type": "stream",
     "text": [
      "  publish_date publish_time  \\\n",
      "0   2025-05-27        13:31   \n",
      "1   2025-05-27        12:38   \n",
      "2   2025-05-27        10:33   \n",
      "3   2025-05-27        09:41   \n",
      "4   2025-05-27        09:15   \n",
      "\n",
      "                                               title  \\\n",
      "0  Merck Declares $0.81 Quarterly Dividend; 4.2% ...   \n",
      "1  Qualcomm-backed study finds Apple’s in-house m...   \n",
      "2  US Consumer bounces back sharply in May By Inv...   \n",
      "3  Lynx: Risk priced in, Nvidia could surprise to...   \n",
      "4  SoundHound shares jump as Piper Sandler starts...   \n",
      "\n",
      "                                           body_text  \\\n",
      "0  Risk Disclosure: Trading in financial instrume...   \n",
      "1  Investing.com -- Qualcomm Incorporated (NASDAQ...   \n",
      "2  Investing.com -- Consumer confidence rebounded...   \n",
      "3  Investing.com -- Nvidia stock could break out ...   \n",
      "4  Investing.com -- Piper Sandler has initiated c...   \n",
      "\n",
      "                                                 url  \n",
      "0  https://www.investing.com/news/assorted/merck-...  \n",
      "1  https://www.investing.com/news/stock-market-ne...  \n",
      "2  https://www.investing.com/news/economy-news/us...  \n",
      "3  https://www.investing.com/news/stock-market-ne...  \n",
      "4  https://www.investing.com/news/stock-market-ne...  \n"
     ]
    }
   ],
   "source": [
    "print(df.head())"
   ]
  },
  {
   "cell_type": "code",
   "execution_count": 10,
   "id": "f6e35e45",
   "metadata": {},
   "outputs": [
    {
     "name": "stderr",
     "output_type": "stream",
     "text": [
      "Prompting:   0%|          | 0/20 [00:00<?, ?it/s]"
     ]
    },
    {
     "name": "stderr",
     "output_type": "stream",
     "text": [
      "Prompting: 100%|██████████| 20/20 [01:46<00:00,  5.35s/it]\n"
     ]
    }
   ],
   "source": [
    "predicted = []\n",
    "\n",
    "for index, row in tqdm(df.iterrows(), total=len(df), desc=\"Prompting\"): \n",
    "    current_stock = row.get(\"ticker\", \"news\")\n",
    "\n",
    "    filled_prompt = prompt.replace(\"[STOCK]\", current_stock)\n",
    "    filled_prompt = filled_prompt.replace(\"[TITLE]\", row[\"title\"])\n",
    "    filled_prompt = filled_prompt.replace(\"[BODY]\", row[\"body_text\"])\n",
    "\n",
    "    try:\n",
    "        response = generate_content_with_rate_limit(filled_prompt)\n",
    "        finalprediction = response.strip()\n",
    "        if not finalprediction:\n",
    "            print(f\"Row {index}: LLM returned an empty string.\")\n",
    "            predicted.append(\"LLM_EMPTY_RESPONSE\")\n",
    "        else:\n",
    "            predicted.append(finalprediction)\n",
    "    except ValueError as ve:\n",
    "        print(f\"Row {index}: ValueError - {ve}. Appending 'ERROR_VALUE_ERROR'.\")\n",
    "        predicted.append(\"ERROR_VALUE_ERROR\")\n",
    "        continue\n",
    "    except Exception as e:\n",
    "        if \"429 Too Many Requests\" in str(e) or \"quota\" in str(e).lower():\n",
    "            print(f\"Row {index}: Rate Limit Exceeded or Quota Error - {e}. Appending 'ERROR_RATE_LIMIT'.\")\n",
    "            predicted.append(\"ERROR_RATE_LIMIT\")\n",
    "        elif \"safety\" in str(e).lower() or \"blocked\" in str(e).lower():\n",
    "             print(f\"Row {index}: Content Safety/Blocked - {e}. Appending 'ERROR_SAFETY_BLOCKED'.\")\n",
    "             predicted.append(\"ERROR_SAFETY_BLOCKED\")\n",
    "        else:\n",
    "            print(f\"Row {index}: Unexpected Error - {e}. Appending 'ERROR_UNEXPECTED'.\")\n",
    "            predicted.append(\"ERROR_UNEXPECTED\")\n",
    "        continue"
   ]
  },
  {
   "cell_type": "code",
   "execution_count": 11,
   "id": "984e0e0f",
   "metadata": {},
   "outputs": [],
   "source": [
    "predicted = np.array(predicted)\n",
    "df[\"predicted\"] = predicted"
   ]
  },
  {
   "cell_type": "code",
   "execution_count": 12,
   "id": "90abd541",
   "metadata": {},
   "outputs": [
    {
     "name": "stdout",
     "output_type": "stream",
     "text": [
      "US Consumer bounces back sharply in May By Investing.com \n",
      "\n",
      " **Sentiment:**\n",
      "Positive\n",
      "\n",
      "**Summary:**\n",
      "US consumer confidence rebounded sharply in May, ending a five-month streak of declines and significantly exceeding forecasts. The improvement was broad-based across demographics and included increased optimism about jobs, income, business conditions, and purchasing plans.\n",
      "\n",
      "**Reasoning for Sentiment:**\n",
      "The article emphasizes a strong \"bounce back\" in confidence, a significant jump in the index, and improved consumer expectations and purchasing plans, all of which are positive indicators for economic health and consumer spending.\n",
      "\n",
      "**Importance to Stock news:**\n",
      "5\n",
      "\n",
      "**Reasoning for Importance:**\n",
      "Consumer confidence is a key economic indicator that reflects the health of consumer spending, a major driver of the US economy and corporate profits, making this sharp rebound highly relevant for the stock market outlook.\n"
     ]
    }
   ],
   "source": [
    "print(df[\"title\"][2],'\\n\\n',predicted[2])"
   ]
  },
  {
   "cell_type": "code",
   "execution_count": 13,
   "id": "d915ec16",
   "metadata": {},
   "outputs": [],
   "source": [
    "df[\"sentiment\"] = df[\"predicted\"].apply(lambda x: x.split(\"\\n\")[1].strip() if len(x.split(\"\\n\")) > 1 else None)\n",
    "df[\"importance\"] = df[\"predicted\"].apply(lambda x: x.split(\"\\n\")[10].strip() if len(x.split(\"\\n\")) > 10 else None)\n",
    "df[\"summary\"] = df[\"predicted\"].apply(lambda x: x.split(\"\\n\")[4].strip() if len(x.split(\"\\n\")) > 4 else None)"
   ]
  },
  {
   "cell_type": "code",
   "execution_count": 14,
   "id": "0097fc24",
   "metadata": {},
   "outputs": [
    {
     "data": {
      "text/html": [
       "<div>\n",
       "<style scoped>\n",
       "    .dataframe tbody tr th:only-of-type {\n",
       "        vertical-align: middle;\n",
       "    }\n",
       "\n",
       "    .dataframe tbody tr th {\n",
       "        vertical-align: top;\n",
       "    }\n",
       "\n",
       "    .dataframe thead th {\n",
       "        text-align: right;\n",
       "    }\n",
       "</style>\n",
       "<table border=\"1\" class=\"dataframe\">\n",
       "  <thead>\n",
       "    <tr style=\"text-align: right;\">\n",
       "      <th></th>\n",
       "      <th>publish_date</th>\n",
       "      <th>title</th>\n",
       "      <th>sentiment</th>\n",
       "      <th>importance</th>\n",
       "      <th>summary</th>\n",
       "    </tr>\n",
       "  </thead>\n",
       "  <tbody>\n",
       "    <tr>\n",
       "      <th>1</th>\n",
       "      <td>2025-05-27</td>\n",
       "      <td>Qualcomm-backed study finds Apple’s in-house m...</td>\n",
       "      <td>Positive</td>\n",
       "      <td>5</td>\n",
       "      <td>A Qualcomm-funded study found that Qualcomm's ...</td>\n",
       "    </tr>\n",
       "    <tr>\n",
       "      <th>2</th>\n",
       "      <td>2025-05-27</td>\n",
       "      <td>US Consumer bounces back sharply in May By Inv...</td>\n",
       "      <td>Positive</td>\n",
       "      <td>5</td>\n",
       "      <td>US consumer confidence rebounded sharply in Ma...</td>\n",
       "    </tr>\n",
       "    <tr>\n",
       "      <th>3</th>\n",
       "      <td>2025-05-27</td>\n",
       "      <td>Lynx: Risk priced in, Nvidia could surprise to...</td>\n",
       "      <td>Positive</td>\n",
       "      <td>5</td>\n",
       "      <td>Lynx Equity has raised its price target for Nv...</td>\n",
       "    </tr>\n",
       "    <tr>\n",
       "      <th>4</th>\n",
       "      <td>2025-05-27</td>\n",
       "      <td>SoundHound shares jump as Piper Sandler starts...</td>\n",
       "      <td>Positive</td>\n",
       "      <td>5</td>\n",
       "      <td>Piper Sandler has initiated coverage on SoundH...</td>\n",
       "    </tr>\n",
       "    <tr>\n",
       "      <th>6</th>\n",
       "      <td>2025-05-27</td>\n",
       "      <td>JPM highlights top 6 European investment ideas...</td>\n",
       "      <td>Positive</td>\n",
       "      <td>5</td>\n",
       "      <td>JPMorgan has outlined its top six European inv...</td>\n",
       "    </tr>\n",
       "    <tr>\n",
       "      <th>7</th>\n",
       "      <td>2025-05-27</td>\n",
       "      <td>Next 300 points likely up for the S&amp;P 500, say...</td>\n",
       "      <td>Positive</td>\n",
       "      <td>5</td>\n",
       "      <td>JPMorgan analysts predict the S&amp;P 500's next m...</td>\n",
       "    </tr>\n",
       "    <tr>\n",
       "      <th>8</th>\n",
       "      <td>2025-05-27</td>\n",
       "      <td>New surveys show declining interest in EVs and...</td>\n",
       "      <td>Negative</td>\n",
       "      <td>5</td>\n",
       "      <td>New surveys from UBS and Stifel indicate a sig...</td>\n",
       "    </tr>\n",
       "    <tr>\n",
       "      <th>9</th>\n",
       "      <td>2025-05-27</td>\n",
       "      <td>StanChart sees Solana price rising over 50% by...</td>\n",
       "      <td>Positive</td>\n",
       "      <td>5</td>\n",
       "      <td>Standard Chartered has initiated coverage on S...</td>\n",
       "    </tr>\n",
       "    <tr>\n",
       "      <th>10</th>\n",
       "      <td>2025-05-27</td>\n",
       "      <td>Temu owner PDD Holdings shares fall sharply on...</td>\n",
       "      <td>Negative</td>\n",
       "      <td>5</td>\n",
       "      <td>PDD Holdings, owner of Temu, reported first-qu...</td>\n",
       "    </tr>\n",
       "    <tr>\n",
       "      <th>11</th>\n",
       "      <td>2025-05-27</td>\n",
       "      <td>Citi sees up to 8% downside for Stoxx 600 on T...</td>\n",
       "      <td>Negative</td>\n",
       "      <td>5</td>\n",
       "      <td>Citi analysts warn that the Stoxx 600 index co...</td>\n",
       "    </tr>\n",
       "    <tr>\n",
       "      <th>12</th>\n",
       "      <td>2025-05-27</td>\n",
       "      <td>What could be the impact of a 50% tariff on EU...</td>\n",
       "      <td>Negative</td>\n",
       "      <td>5</td>\n",
       "      <td>The article reports on UBS's analysis warning ...</td>\n",
       "    </tr>\n",
       "    <tr>\n",
       "      <th>13</th>\n",
       "      <td>2025-05-27</td>\n",
       "      <td>Higher U.S. futures, new Nvidia chip, falling ...</td>\n",
       "      <td>Positive</td>\n",
       "      <td>5</td>\n",
       "      <td>U.S. stock futures rose sharply after Presiden...</td>\n",
       "    </tr>\n",
       "    <tr>\n",
       "      <th>14</th>\n",
       "      <td>2025-05-27</td>\n",
       "      <td>Bitcoin price today: flat at $109.7k post reco...</td>\n",
       "      <td>Neutral</td>\n",
       "      <td>5</td>\n",
       "      <td>Bitcoin is trading flat near its recent record...</td>\n",
       "    </tr>\n",
       "    <tr>\n",
       "      <th>15</th>\n",
       "      <td>2025-05-27</td>\n",
       "      <td>Gold prices sink as Trump EU tariff delay spur...</td>\n",
       "      <td>Negative</td>\n",
       "      <td>5</td>\n",
       "      <td>Gold prices fell in Asian trade, extending rec...</td>\n",
       "    </tr>\n",
       "    <tr>\n",
       "      <th>16</th>\n",
       "      <td>2025-05-27</td>\n",
       "      <td>BYD shares slide further from record highs ami...</td>\n",
       "      <td>Negative</td>\n",
       "      <td>5</td>\n",
       "      <td>BYD's Hong Kong shares declined further from r...</td>\n",
       "    </tr>\n",
       "    <tr>\n",
       "      <th>17</th>\n",
       "      <td>2025-05-27</td>\n",
       "      <td>Tesla Europe sales nearly halve in April as co...</td>\n",
       "      <td>Negative</td>\n",
       "      <td>5</td>\n",
       "      <td>Tesla's European sales in April nearly halved ...</td>\n",
       "    </tr>\n",
       "    <tr>\n",
       "      <th>18</th>\n",
       "      <td>2025-05-26</td>\n",
       "      <td>Asia stocks muted amid trade caution; Japan re...</td>\n",
       "      <td>Neutral</td>\n",
       "      <td>5</td>\n",
       "      <td>Most Asian stock markets traded in a muted or ...</td>\n",
       "    </tr>\n",
       "    <tr>\n",
       "      <th>19</th>\n",
       "      <td>2025-05-26</td>\n",
       "      <td>S&amp;P 500 surges as consumer confidence rebounds...</td>\n",
       "      <td>Positive</td>\n",
       "      <td>5</td>\n",
       "      <td>U.S. stocks surged on Tuesday, driven by a str...</td>\n",
       "    </tr>\n",
       "  </tbody>\n",
       "</table>\n",
       "</div>"
      ],
      "text/plain": [
       "   publish_date                                              title sentiment  \\\n",
       "1    2025-05-27  Qualcomm-backed study finds Apple’s in-house m...  Positive   \n",
       "2    2025-05-27  US Consumer bounces back sharply in May By Inv...  Positive   \n",
       "3    2025-05-27  Lynx: Risk priced in, Nvidia could surprise to...  Positive   \n",
       "4    2025-05-27  SoundHound shares jump as Piper Sandler starts...  Positive   \n",
       "6    2025-05-27  JPM highlights top 6 European investment ideas...  Positive   \n",
       "7    2025-05-27  Next 300 points likely up for the S&P 500, say...  Positive   \n",
       "8    2025-05-27  New surveys show declining interest in EVs and...  Negative   \n",
       "9    2025-05-27  StanChart sees Solana price rising over 50% by...  Positive   \n",
       "10   2025-05-27  Temu owner PDD Holdings shares fall sharply on...  Negative   \n",
       "11   2025-05-27  Citi sees up to 8% downside for Stoxx 600 on T...  Negative   \n",
       "12   2025-05-27  What could be the impact of a 50% tariff on EU...  Negative   \n",
       "13   2025-05-27  Higher U.S. futures, new Nvidia chip, falling ...  Positive   \n",
       "14   2025-05-27  Bitcoin price today: flat at $109.7k post reco...   Neutral   \n",
       "15   2025-05-27  Gold prices sink as Trump EU tariff delay spur...  Negative   \n",
       "16   2025-05-27  BYD shares slide further from record highs ami...  Negative   \n",
       "17   2025-05-27  Tesla Europe sales nearly halve in April as co...  Negative   \n",
       "18   2025-05-26  Asia stocks muted amid trade caution; Japan re...   Neutral   \n",
       "19   2025-05-26  S&P 500 surges as consumer confidence rebounds...  Positive   \n",
       "\n",
       "   importance                                            summary  \n",
       "1           5  A Qualcomm-funded study found that Qualcomm's ...  \n",
       "2           5  US consumer confidence rebounded sharply in Ma...  \n",
       "3           5  Lynx Equity has raised its price target for Nv...  \n",
       "4           5  Piper Sandler has initiated coverage on SoundH...  \n",
       "6           5  JPMorgan has outlined its top six European inv...  \n",
       "7           5  JPMorgan analysts predict the S&P 500's next m...  \n",
       "8           5  New surveys from UBS and Stifel indicate a sig...  \n",
       "9           5  Standard Chartered has initiated coverage on S...  \n",
       "10          5  PDD Holdings, owner of Temu, reported first-qu...  \n",
       "11          5  Citi analysts warn that the Stoxx 600 index co...  \n",
       "12          5  The article reports on UBS's analysis warning ...  \n",
       "13          5  U.S. stock futures rose sharply after Presiden...  \n",
       "14          5  Bitcoin is trading flat near its recent record...  \n",
       "15          5  Gold prices fell in Asian trade, extending rec...  \n",
       "16          5  BYD's Hong Kong shares declined further from r...  \n",
       "17          5  Tesla's European sales in April nearly halved ...  \n",
       "18          5  Most Asian stock markets traded in a muted or ...  \n",
       "19          5  U.S. stocks surged on Tuesday, driven by a str...  "
      ]
     },
     "execution_count": 14,
     "metadata": {},
     "output_type": "execute_result"
    }
   ],
   "source": [
    "df[df[\"importance\"]== \"5\"][[\"publish_date\",\"title\", \"sentiment\",\"importance\", \"summary\"]]"
   ]
  },
  {
   "cell_type": "code",
   "execution_count": 15,
   "id": "d090b2b6",
   "metadata": {},
   "outputs": [
    {
     "data": {
      "text/html": [
       "<div>\n",
       "<style scoped>\n",
       "    .dataframe tbody tr th:only-of-type {\n",
       "        vertical-align: middle;\n",
       "    }\n",
       "\n",
       "    .dataframe tbody tr th {\n",
       "        vertical-align: top;\n",
       "    }\n",
       "\n",
       "    .dataframe thead th {\n",
       "        text-align: right;\n",
       "    }\n",
       "</style>\n",
       "<table border=\"1\" class=\"dataframe\">\n",
       "  <thead>\n",
       "    <tr style=\"text-align: right;\">\n",
       "      <th></th>\n",
       "      <th>publish_date</th>\n",
       "      <th>publish_time</th>\n",
       "      <th>title</th>\n",
       "      <th>body_text</th>\n",
       "      <th>url</th>\n",
       "      <th>predicted</th>\n",
       "      <th>sentiment</th>\n",
       "      <th>importance</th>\n",
       "      <th>summary</th>\n",
       "    </tr>\n",
       "  </thead>\n",
       "  <tbody>\n",
       "  </tbody>\n",
       "</table>\n",
       "</div>"
      ],
      "text/plain": [
       "Empty DataFrame\n",
       "Columns: [publish_date, publish_time, title, body_text, url, predicted, sentiment, importance, summary]\n",
       "Index: []"
      ]
     },
     "metadata": {},
     "output_type": "display_data"
    }
   ],
   "source": [
    "display(df[df['sentiment']==''])\n",
    "df = df[df['sentiment'] != '']"
   ]
  },
  {
   "cell_type": "code",
   "execution_count": 16,
   "id": "263225cc",
   "metadata": {},
   "outputs": [],
   "source": [
    "df = df[df['sentiment'].isin(['Positive', 'Negative', 'Neutral'])]\n",
    "df = df[df['importance'].isin(['1', '2', '3', '4', '5'])]"
   ]
  },
  {
   "cell_type": "code",
   "execution_count": 17,
   "id": "040c6042",
   "metadata": {},
   "outputs": [
    {
     "data": {
      "text/plain": [
       "<Axes: title={'center': 'Sentiment Distribution'}, xlabel='sentiment'>"
      ]
     },
     "execution_count": 17,
     "metadata": {},
     "output_type": "execute_result"
    },
    {
     "data": {
      "image/png": "[encoded data removed]",
      "text/plain": [
       "<Figure size 640x480 with 1 Axes>"
      ]
     },
     "metadata": {},
     "output_type": "display_data"
    }
   ],
   "source": [
    "df['sentiment'].value_counts().plot(kind='bar', title='Sentiment Distribution')"
   ]
  },
  {
   "cell_type": "code",
   "execution_count": 18,
   "id": "f6472de3",
   "metadata": {},
   "outputs": [
    {
     "data": {
      "text/plain": [
       "<Axes: title={'center': 'Importance Distribution'}, xlabel='importance'>"
      ]
     },
     "execution_count": 18,
     "metadata": {},
     "output_type": "execute_result"
    },
    {
     "data": {
      "image/png": "[encoded data removed]",
      "text/plain": [
       "<Figure size 640x480 with 1 Axes>"
      ]
     },
     "metadata": {},
     "output_type": "display_data"
    }
   ],
   "source": [
    "df['importance'].value_counts().sort_index().plot(kind='bar', title='Importance Distribution')"
   ]
  },
  {
   "cell_type": "code",
   "execution_count": 19,
   "id": "ec798206",
   "metadata": {},
   "outputs": [],
   "source": [
    "TICKER=current_stock"
   ]
  },
  {
   "cell_type": "code",
   "execution_count": 20,
   "id": "f0b00e4b",
   "metadata": {},
   "outputs": [],
   "source": [
    "df[df['sentiment']=='']\n",
    "df = df[df['sentiment'] != '']"
   ]
  },
  {
   "cell_type": "code",
   "execution_count": 21,
   "id": "35d26f9b",
   "metadata": {},
   "outputs": [],
   "source": [
    "def calculate_sentiment_score(df):\n",
    "    sentiment_scores = {\n",
    "        'Positive': 1,\n",
    "        'Negative': -1,\n",
    "        'Neutral': 0\n",
    "    }\n",
    "    \n",
    "    df['sentiment_score'] = df['sentiment'].map(sentiment_scores)\n",
    "    \n",
    "    df['weighted_score'] = df['sentiment_score'] * df['importance'].astype(int)\n",
    "    \n",
    "    total_importance = df['importance'].astype(int).sum()\n",
    "    \n",
    "    if total_importance == 0:\n",
    "        return 0\n",
    "    \n",
    "    sentiment_score = df['weighted_score'].sum() / total_importance\n",
    "    return sentiment_score"
   ]
  },
  {
   "cell_type": "code",
   "execution_count": 22,
   "id": "522496ee",
   "metadata": {},
   "outputs": [
    {
     "name": "stdout",
     "output_type": "stream",
     "text": [
      "Sentiment Score for news: 0.1\n"
     ]
    }
   ],
   "source": [
    "print(f\"Sentiment Score for {TICKER}: {calculate_sentiment_score(df).round(2)}\")"
   ]
  },
  {
   "cell_type": "code",
   "execution_count": 23,
   "id": "89ff0738",
   "metadata": {},
   "outputs": [],
   "source": [
    "import datetime\n",
    "\n",
    "df.drop(columns=['predicted','body_text'],inplace=True)\n",
    "now = datetime.datetime.now()\n",
    "date_time = now.strftime(\"%Y-%m-%d %H-%M-%S\").strip().replace(' ', '_')\n",
    "df.to_csv(f\"Output/Gemini/Gemini_{TICKER}_{date_time}.csv\", index=False)"
   ]
  }
 ],
 "metadata": {
  "kernelspec": {
   "display_name": "Python 3",
   "language": "python",
   "name": "python3"
  },
  "language_info": {
   "codemirror_mode": {
    "name": "ipython",
    "version": 3
   },
   "file_extension": ".py",
   "mimetype": "text/x-python",
   "name": "python",
   "nbconvert_exporter": "python",
   "pygments_lexer": "ipython3",
   "version": "3.11.9"
  }
 },
 "nbformat": 4,
 "nbformat_minor": 5
}
