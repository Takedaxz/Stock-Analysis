{
 "cells": [
  {
   "cell_type": "markdown",
   "id": "d92e1317",
   "metadata": {},
   "source": [
    "# News Analysis with LLM (Gemini)"
   ]
  },
  {
   "cell_type": "code",
   "execution_count": 1,
   "id": "9d1767dc",
   "metadata": {},
   "outputs": [
    {
     "name": "stdout",
     "output_type": "stream",
     "text": [
      "GEMINI_API_KEY loaded successfully.\n"
     ]
    }
   ],
   "source": [
    "import os\n",
    "from dotenv import load_dotenv\n",
    "\n",
    "load_dotenv(\"secret.env\")\n",
    "\n",
    "api_key = os.getenv(\"GEMINI_API_KEY\")\n",
    "\n",
    "if api_key is None:\n",
    "    print(\"Error: GEMINI_API_KEY not found in .env file or environment variables.\")\n",
    "else:\n",
    "    print(\"GEMINI_API_KEY loaded successfully.\")"
   ]
  },
  {
   "cell_type": "code",
   "execution_count": 2,
   "id": "f8be51b8",
   "metadata": {},
   "outputs": [],
   "source": [
    "import google.generativeai as genai\n",
    "from tqdm import tqdm\n",
    "\n",
    "genai.configure(api_key=api_key)\n",
    "generation_config = genai.GenerationConfig(\n",
    "        temperature=0,\n",
    ")\n",
    "model = genai.GenerativeModel(\"gemini-2.5-flash-preview-04-17\", generation_config=generation_config)"
   ]
  },
  {
   "cell_type": "code",
   "execution_count": 3,
   "id": "116a4f4d",
   "metadata": {},
   "outputs": [],
   "source": [
    "from google.api_core import retry\n",
    "\n",
    "# Catch transient Gemini errors.\n",
    "def is_retryable(e) -> bool:\n",
    "    if retry.if_transient_error(e):\n",
    "        # Good practice, but probably won't fire with the google-genai SDK\n",
    "        return True\n",
    "    elif (isinstance(e, genai.errors.ClientError) and e.code == 429):\n",
    "        # Catch 429 quota exceeded errors\n",
    "        return True\n",
    "    elif (isinstance(e, genai.errors.ServerError) and e.code == 503):\n",
    "        # Catch 503 model overloaded errors\n",
    "        return True\n",
    "    else:\n",
    "        return False\n",
    "\n",
    "@retry.Retry(predicate=is_retryable)\n",
    "def generate_content_with_rate_limit(prompt):\n",
    "  return model.generate_content(prompt).text"
   ]
  },
  {
   "cell_type": "code",
   "execution_count": 4,
   "id": "53969e87",
   "metadata": {},
   "outputs": [],
   "source": [
    "prompt = \"\"\"You are a financial news analyst specializing in stock market impact. Your task is to analyze the provided news article, summarize its core content concisely, determine its sentiment (positive, negative, or neutral), and assess its importance to the specified stock.\n",
    "\n",
    "Here is the news from stock [STOCK] title and body:\n",
    "---\n",
    "[TITLE]\n",
    "---\n",
    "[BODY]\n",
    "---\n",
    "\n",
    "Please provide your analysis in the following format (Don't forget to make space between the sections as shown):\n",
    "\n",
    "**Sentiment:**\n",
    "[Positive / Negative / Neutral]\n",
    "\n",
    "**Summary:**\n",
    "[Your concise summary of the article, typically 2-3 sentences.]\n",
    "\n",
    "**Reasoning for Sentiment:**\n",
    "[Brief explanation (1-2 sentences) of why you categorized the sentiment as such, referencing key points or tone from the article.]\n",
    "\n",
    "**Importance to Stock [STOCK]:**\n",
    "[1-5, where 1 is minimal importance and 5 is very high importance.Answer in 1-5 only, no explanation.] (Answer only in number 1-5)\n",
    "\n",
    "**Reasoning for Importance:**\n",
    "[Brief explanation (1-2 sentences) of why you assigned this importance score, referencing specific details from the article that would impact the stock.]\"\"\""
   ]
  },
  {
   "cell_type": "code",
   "execution_count": 5,
   "id": "92827cc3",
   "metadata": {},
   "outputs": [],
   "source": [
    "import pandas as pd\n",
    "import numpy as np"
   ]
  },
  {
   "cell_type": "code",
   "execution_count": 6,
   "id": "0849d1b0",
   "metadata": {},
   "outputs": [
    {
     "data": {
      "application/vnd.microsoft.datawrangler.viewer.v0+json": {
       "columns": [
        {
         "name": "index",
         "rawType": "int64",
         "type": "integer"
        },
        {
         "name": "publish_date",
         "rawType": "object",
         "type": "string"
        },
        {
         "name": "publish_time",
         "rawType": "object",
         "type": "string"
        },
        {
         "name": "title",
         "rawType": "object",
         "type": "string"
        },
        {
         "name": "body_text",
         "rawType": "object",
         "type": "string"
        },
        {
         "name": "url",
         "rawType": "object",
         "type": "string"
        }
       ],
       "ref": "c97d3026-418d-4f80-b186-1f70d03813bf",
       "rows": [
        [
         "0",
         "2025-05-27",
         "20:39",
         "Trump says Golden Dome to cost Canada $61 bln, but free if it gives up sovereignty By Investing.com",
         "Investing.com-- U.S. President Donald Trump said on Tuesday that it would cost Canada $61 billion to be part of his proposed “Golden Dome” missile defense system, but that it would be free if the country became the 51st U.S. state.\n\n“I told Canada, which very much wants to be part of our fabulous Golden Dome System, that it will cost $61 Billion Dollars if they remain a separate, but unequal, Nation, but will cost ZERO DOLLARS if they become our cherished 51st State,” Trump said in a post on Truth.social, claiming that Canada was “considering the offer.”\n\nTrump’s comment comes after Canadian Prime Minister Mark Carney last week expressed some interest in investing in the Golden Dome project, which is slated to cost about $175 billion.\n\nTrump’s comments on Canada’s sovereignty are the latest in the president’s claims that Canada could become the 51st U.S. state- a claim that has been categorically rejected by Canada.\n\nA spokesperson for Carney reiterated the country’s sovereignty, according to a comment carried by the Financial Times.\n\nCanada and the U.S. already have a defense agreement– the North American Aerospace Defense Command (NORAD), which includes measures to detect ballistic missile attacks.\n\nTrump’s proposed Golden Dome system plans to establish interceptors in space to protect the U.S. against advanced threats such as intercontinental ballistic missiles, hypersonic missiles, and long-range cruise missiles.\n\nTrump has vowed to complete the project by the end of his term.",
         "https://www.investing.com/news/economy-news/trump-says-golden-dome-to-cost-canada-61-bln-but-free-if-it-gives-up-sovereignty-4066382"
        ],
        [
         "1",
         "2025-05-27",
         "20:35",
         "Elon Musk must face lawsuit over his role in DOGE under Trump, judge says By Investing.com",
         "Investing.com-- A federal judge said on Tuesday that a lawsuit brought by 14 U.S. states challenging the legality of Elon Musk’s role in the Department of Government Efficiency (DOGE) under President Donald Trump may proceed.\n\nThe suit alleges that Tesla (NASDAQ: ) CEO Musk, classified as a “special Government employee,” functioned as a de facto principal officer of DOGE, an agency created by executive order without congressional authorization, and wielded sweeping authority over federal spending, personnel, and regulations.\n\nThe plaintiffs claimed Musk and DOGE unilaterally dismantled agencies, terminated federal contracts, and accessed sensitive systems in violation of the Constitution’s Appointments Clause, the judge stated in a court filing.\n\nIn a 42-page opinion, Judge Tanya S. Chutkan denied the defendants’ motion to dismiss the case against Musk and DOGE, allowing the states’ ultra vires claims to move forward. The court found the DOGE entity lacked a statutory or constitutional basis and that Musk’s alleged conduct exceeded lawful bounds.\n\nHowever, the court dismissed claims against Trump in his official capacity, citing established precedent barring courts from enjoining the president’s discretionary duties.",
         "https://www.investing.com/news/economy-news/elon-musk-must-face-lawsuit-over-his-role-in-doge-under-trump-judge-says-4066381"
        ],
        [
         "2",
         "2025-05-27",
         "20:26",
         "Circle Internet IPO multiple times oversubscribed- Bloomberg By Investing.com",
         "Investing.com-- Circle Internet is seeing strong demand for its initial public offering, Bloomberg reported on Tuesday, as the stablecoin issuer benefited from improving sentiment around crypto on hopes of friendlier U.S. legislation.\n\nCircle is seeking to raise about $624 million at a valuation of about $6.71 billion, a Securities and Exchange Commission filing on Tuesday showed. The company is offering 9.6 million class A shares, while selling shareholders are offering 14.4 million shares, priced at $24 to $26. .\n\nThe company has received orders for multiple times the shares available, Bloomberg reported, citing a person familiar with the matter.\n\nCircle’s IPO represents the company’s second attempt to publicly list, after a $9 billion blank-check deal with a special purpose acquisition vehicle fell through in 2022.\n\nBut the company returns to public markets amid improving sentiment towards crypto, especially amid persistent vows of friendlier policy from President Donald Trump.\n\nCircle’s IPO also comes as a stablecoin bill– the GENIUS act– progresses towards passage through Congress. The bill is aimed at establishing a regulatory framework for stablecoins in the United States.\n\n, the world’s largest cryptocurrency, hit a record high last week on optimism over friendlier regulation. This also boosted sentiment towards crypto.\n\nCircle is the issuer of the stablecoin , which has a market capital of over $60 billion and is the second-largest stablecoin after .\n\nStablecoins are cryptocurrencies pegged to a fiat currency, usually the dollar, and are an integral part of transacting through crypto.",
         "https://www.investing.com/news/stock-market-news/circle-internet-ipo-multiple-times-oversubscribed-bloomberg-4066377"
        ],
        [
         "3",
         "2025-05-27",
         "20:07",
         "US stock futures steady with Nvidia earnings in focus By Investing.com",
         "Investing.com-- U.S. stock index futures rose slightly on Tuesday evening with focus squarely on earnings from artificial intelligence major Nvidia, with sentiment upbeat on some trade tariff deescalation and positive consumer data.\n\nFutures steadied after a stellar session on Wall Street, as investors cheered President Donald Trump’s delaying of steep trade tariffs against the European Union, while stronger-than-expected consumer confidence data pointed to resilience in the economy.\n\nTechnology stocks also courted heavy buying before Nvidia’s earnings, which are likely to act as a bellwether for the sector. Analysts expect another strong quarter from the chipmaker.\n\nrose 0.1% to 5,939.75 points, while rose 0.1% to 21,476.75 points by 19:14 ET (23:14 GMT) rose 0.1% to 42,465.0 points.\n\nNvidia Q1 earnings awaited for more AI cues; shares surge\n\nNVIDIA Corporation (NASDAQ: ) is set to report its first-quarter earnings after the bell on Wednesday, with analysts expecting a strong print.\n\nShares of the AI major surged 3.2% on Tuesday and were flat in after-hours trade.\n\nNvidia is forecast to post earnings per share of $0.893 on revenue of $43.12 billion for the three months to April 31, both up substantially from last year, Investing.com data showed.\n\nThe chipmaker is expected to have benefited from outsized domestic demand, especially as its biggest customers– Wall Street’s so-called AI hyperscalers– continued spending billions on building more data center capacity.\n\nBut focus will be on Nvidia’s outlook, which is likely to set the tone for the tech industry going forward in 2025. Investors will also be watching for comments on Nvidia’s China sales, as the company grapples with more U.S. export controls and increased competition in the country.\n\nCEO Jensen Huang recently criticized the U.S. export restrictions, calling them a \"failure,\" and also forecast China becoming a $50 billion market in the coming years.\n\nWall St rises on Trump tariff delay, strong consumer sentiment\n\nWall Street clocked strong gains on Tuesday, after Trump’s delaying of 50% tariffs against the EU boosted risk appetite. Trump’s move– which is another instance of the president flip-flopping on his tariff plans– spurred bets that he will not deliver on his agenda of imposing steep reciprocal trade tariffs in July.\n\nSentiment was also boosted by substantially stronger than expected data for May, which rebounded after five months of declines.\n\nThe rebound also comes following a deescalation in trade tensions between the U.S. and China, and as Trump’s administration attempts to reach trade deals with several major economies.\n\nThe rose 2.1% to 5,921.54 points, while the surged 2.5% to 19,199.16 points on Tuesday. The rose 1.8% to 42,343.65 points.",
         "https://www.investing.com/news/stock-market-news/us-stock-futures-steady-with-nvidia-earnings-in-focus-4066366"
        ],
        [
         "4",
         "2025-05-27",
         "19:51",
         "Japan offers to buy US chips as part of tariff negotiations, Asahi reports By Investing.com",
         "Investing.com-- Japan has proposed purchasing billions of dollars’ worth of U.S. semiconductor products as part of ongoing tariff negotiations with Washington, the Asahi Shimbun reported on Wednesday, citing government sources.\n\nThe purchases, potentially totaling hundreds of billions to 1 trillion yen, would be supported by Japanese government subsidies to domestic firms acquiring chips from companies such as NVIDIA (NASDAQ: ), the report said.\n\nTokyo aims to use the offer as a “negotiating card” to address the U.S. trade deficit with Japan, which currently stands at approximately 10 trillion yen, the Asahi said.\n\nNvidia, which commands about 80% of the data center semiconductor market, is a key supplier in the proposal, according to the report.\n\nThe plan also includes support for bolstering the U.S.-Japan semiconductor supply chain through domestic production of wafers and chemicals, critical for chip manufacturing. Both countries view these efforts as vital for economic security amid geopolitical tensions and risks tied to overreliance on Taiwanese foundries, the report added.",
         "https://www.investing.com/news/stock-market-news/japan-offers-to-buy-us-chips-as-part-of-tariff-negotiations-asahi-reports-4066353"
        ]
       ],
       "shape": {
        "columns": 5,
        "rows": 5
       }
      },
      "text/html": [
       "<div>\n",
       "<style scoped>\n",
       "    .dataframe tbody tr th:only-of-type {\n",
       "        vertical-align: middle;\n",
       "    }\n",
       "\n",
       "    .dataframe tbody tr th {\n",
       "        vertical-align: top;\n",
       "    }\n",
       "\n",
       "    .dataframe thead th {\n",
       "        text-align: right;\n",
       "    }\n",
       "</style>\n",
       "<table border=\"1\" class=\"dataframe\">\n",
       "  <thead>\n",
       "    <tr style=\"text-align: right;\">\n",
       "      <th></th>\n",
       "      <th>publish_date</th>\n",
       "      <th>publish_time</th>\n",
       "      <th>title</th>\n",
       "      <th>body_text</th>\n",
       "      <th>url</th>\n",
       "    </tr>\n",
       "  </thead>\n",
       "  <tbody>\n",
       "    <tr>\n",
       "      <th>0</th>\n",
       "      <td>2025-05-27</td>\n",
       "      <td>20:39</td>\n",
       "      <td>Trump says Golden Dome to cost Canada $61 bln,...</td>\n",
       "      <td>Investing.com-- U.S. President Donald Trump sa...</td>\n",
       "      <td>https://www.investing.com/news/economy-news/tr...</td>\n",
       "    </tr>\n",
       "    <tr>\n",
       "      <th>1</th>\n",
       "      <td>2025-05-27</td>\n",
       "      <td>20:35</td>\n",
       "      <td>Elon Musk must face lawsuit over his role in D...</td>\n",
       "      <td>Investing.com-- A federal judge said on Tuesda...</td>\n",
       "      <td>https://www.investing.com/news/economy-news/el...</td>\n",
       "    </tr>\n",
       "    <tr>\n",
       "      <th>2</th>\n",
       "      <td>2025-05-27</td>\n",
       "      <td>20:26</td>\n",
       "      <td>Circle Internet IPO multiple times oversubscri...</td>\n",
       "      <td>Investing.com-- Circle Internet is seeing stro...</td>\n",
       "      <td>https://www.investing.com/news/stock-market-ne...</td>\n",
       "    </tr>\n",
       "    <tr>\n",
       "      <th>3</th>\n",
       "      <td>2025-05-27</td>\n",
       "      <td>20:07</td>\n",
       "      <td>US stock futures steady with Nvidia earnings i...</td>\n",
       "      <td>Investing.com-- U.S. stock index futures rose ...</td>\n",
       "      <td>https://www.investing.com/news/stock-market-ne...</td>\n",
       "    </tr>\n",
       "    <tr>\n",
       "      <th>4</th>\n",
       "      <td>2025-05-27</td>\n",
       "      <td>19:51</td>\n",
       "      <td>Japan offers to buy US chips as part of tariff...</td>\n",
       "      <td>Investing.com-- Japan has proposed purchasing ...</td>\n",
       "      <td>https://www.investing.com/news/stock-market-ne...</td>\n",
       "    </tr>\n",
       "  </tbody>\n",
       "</table>\n",
       "</div>"
      ],
      "text/plain": [
       "  publish_date publish_time  \\\n",
       "0   2025-05-27        20:39   \n",
       "1   2025-05-27        20:35   \n",
       "2   2025-05-27        20:26   \n",
       "3   2025-05-27        20:07   \n",
       "4   2025-05-27        19:51   \n",
       "\n",
       "                                               title  \\\n",
       "0  Trump says Golden Dome to cost Canada $61 bln,...   \n",
       "1  Elon Musk must face lawsuit over his role in D...   \n",
       "2  Circle Internet IPO multiple times oversubscri...   \n",
       "3  US stock futures steady with Nvidia earnings i...   \n",
       "4  Japan offers to buy US chips as part of tariff...   \n",
       "\n",
       "                                           body_text  \\\n",
       "0  Investing.com-- U.S. President Donald Trump sa...   \n",
       "1  Investing.com-- A federal judge said on Tuesda...   \n",
       "2  Investing.com-- Circle Internet is seeing stro...   \n",
       "3  Investing.com-- U.S. stock index futures rose ...   \n",
       "4  Investing.com-- Japan has proposed purchasing ...   \n",
       "\n",
       "                                                 url  \n",
       "0  https://www.investing.com/news/economy-news/tr...  \n",
       "1  https://www.investing.com/news/economy-news/el...  \n",
       "2  https://www.investing.com/news/stock-market-ne...  \n",
       "3  https://www.investing.com/news/stock-market-ne...  \n",
       "4  https://www.investing.com/news/stock-market-ne...  "
      ]
     },
     "metadata": {},
     "output_type": "display_data"
    }
   ],
   "source": [
    "df = pd.read_csv(\"../../DataCollection/Data/Trending_News/2025-05-28_09-50-53.csv\")\n",
    "display(df.head())"
   ]
  },
  {
   "cell_type": "code",
   "execution_count": 7,
   "id": "1c6c45a4",
   "metadata": {},
   "outputs": [
    {
     "data": {
      "application/vnd.microsoft.datawrangler.viewer.v0+json": {
       "columns": [
        {
         "name": "index",
         "rawType": "object",
         "type": "string"
        },
        {
         "name": "0",
         "rawType": "int64",
         "type": "integer"
        }
       ],
       "ref": "671e0d12-8be1-4aa0-8480-6c6bb6724bbe",
       "rows": [
        [
         "publish_date",
         "0"
        ],
        [
         "publish_time",
         "0"
        ],
        [
         "title",
         "0"
        ],
        [
         "body_text",
         "0"
        ],
        [
         "url",
         "0"
        ]
       ],
       "shape": {
        "columns": 1,
        "rows": 5
       }
      },
      "text/plain": [
       "publish_date    0\n",
       "publish_time    0\n",
       "title           0\n",
       "body_text       0\n",
       "url             0\n",
       "dtype: int64"
      ]
     },
     "execution_count": 7,
     "metadata": {},
     "output_type": "execute_result"
    }
   ],
   "source": [
    "df.isnull().sum()"
   ]
  },
  {
   "cell_type": "code",
   "execution_count": 8,
   "id": "074d5e03",
   "metadata": {},
   "outputs": [],
   "source": [
    "df[\"title\"] = df[\"title\"].astype(str)\n",
    "df[\"body_text\"] = df[\"body_text\"].astype(str)"
   ]
  },
  {
   "cell_type": "code",
   "execution_count": 9,
   "id": "24dcc3ea",
   "metadata": {},
   "outputs": [
    {
     "name": "stdout",
     "output_type": "stream",
     "text": [
      "  publish_date publish_time  \\\n",
      "0   2025-05-27        20:39   \n",
      "1   2025-05-27        20:35   \n",
      "2   2025-05-27        20:26   \n",
      "3   2025-05-27        20:07   \n",
      "4   2025-05-27        19:51   \n",
      "\n",
      "                                               title  \\\n",
      "0  Trump says Golden Dome to cost Canada $61 bln,...   \n",
      "1  Elon Musk must face lawsuit over his role in D...   \n",
      "2  Circle Internet IPO multiple times oversubscri...   \n",
      "3  US stock futures steady with Nvidia earnings i...   \n",
      "4  Japan offers to buy US chips as part of tariff...   \n",
      "\n",
      "                                           body_text  \\\n",
      "0  Investing.com-- U.S. President Donald Trump sa...   \n",
      "1  Investing.com-- A federal judge said on Tuesda...   \n",
      "2  Investing.com-- Circle Internet is seeing stro...   \n",
      "3  Investing.com-- U.S. stock index futures rose ...   \n",
      "4  Investing.com-- Japan has proposed purchasing ...   \n",
      "\n",
      "                                                 url  \n",
      "0  https://www.investing.com/news/economy-news/tr...  \n",
      "1  https://www.investing.com/news/economy-news/el...  \n",
      "2  https://www.investing.com/news/stock-market-ne...  \n",
      "3  https://www.investing.com/news/stock-market-ne...  \n",
      "4  https://www.investing.com/news/stock-market-ne...  \n"
     ]
    }
   ],
   "source": [
    "print(df.head())"
   ]
  },
  {
   "cell_type": "code",
   "execution_count": 10,
   "id": "f6e35e45",
   "metadata": {},
   "outputs": [
    {
     "name": "stderr",
     "output_type": "stream",
     "text": [
      "Prompting: 100%|██████████| 20/20 [01:49<00:00,  5.48s/it]\n"
     ]
    }
   ],
   "source": [
    "predicted = []\n",
    "\n",
    "for index, row in tqdm(df.iterrows(), total=len(df), desc=\"Prompting\"): \n",
    "    current_stock = row.get(\"ticker\", \"news\")\n",
    "\n",
    "    filled_prompt = prompt.replace(\"[STOCK]\", current_stock)\n",
    "    filled_prompt = filled_prompt.replace(\"[TITLE]\", row[\"title\"])\n",
    "    filled_prompt = filled_prompt.replace(\"[BODY]\", row[\"body_text\"])\n",
    "\n",
    "    try:\n",
    "        response = generate_content_with_rate_limit(filled_prompt)\n",
    "        finalprediction = response.strip()\n",
    "        if not finalprediction:\n",
    "            print(f\"Row {index}: LLM returned an empty string.\")\n",
    "            predicted.append(\"LLM_EMPTY_RESPONSE\")\n",
    "        else:\n",
    "            predicted.append(finalprediction)\n",
    "    except ValueError as ve:\n",
    "        print(f\"Row {index}: ValueError - {ve}. Appending 'ERROR_VALUE_ERROR'.\")\n",
    "        predicted.append(\"ERROR_VALUE_ERROR\")\n",
    "        continue\n",
    "    except Exception as e:\n",
    "        if \"429 Too Many Requests\" in str(e) or \"quota\" in str(e).lower():\n",
    "            print(f\"Row {index}: Rate Limit Exceeded or Quota Error - {e}. Appending 'ERROR_RATE_LIMIT'.\")\n",
    "            predicted.append(\"ERROR_RATE_LIMIT\")\n",
    "        elif \"safety\" in str(e).lower() or \"blocked\" in str(e).lower():\n",
    "             print(f\"Row {index}: Content Safety/Blocked - {e}. Appending 'ERROR_SAFETY_BLOCKED'.\")\n",
    "             predicted.append(\"ERROR_SAFETY_BLOCKED\")\n",
    "        else:\n",
    "            print(f\"Row {index}: Unexpected Error - {e}. Appending 'ERROR_UNEXPECTED'.\")\n",
    "            predicted.append(\"ERROR_UNEXPECTED\")\n",
    "        continue"
   ]
  },
  {
   "cell_type": "code",
   "execution_count": 11,
   "id": "984e0e0f",
   "metadata": {},
   "outputs": [],
   "source": [
    "predicted = np.array(predicted)\n",
    "df[\"predicted\"] = predicted"
   ]
  },
  {
   "cell_type": "code",
   "execution_count": 12,
   "id": "90abd541",
   "metadata": {},
   "outputs": [
    {
     "name": "stdout",
     "output_type": "stream",
     "text": [
      "Circle Internet IPO multiple times oversubscribed- Bloomberg By Investing.com \n",
      "\n",
      " **Sentiment:**\n",
      "Positive\n",
      "\n",
      "**Summary:**\n",
      "Circle Internet's initial public offering is reportedly multiple times oversubscribed, indicating strong investor demand. This strong interest is occurring amidst improving sentiment in the crypto market, partly driven by hopes for more favorable U.S. regulation and progress on a stablecoin bill.\n",
      "\n",
      "**Reasoning for Sentiment:**\n",
      "The primary reason for the positive sentiment is the news that the IPO is \"multiple times oversubscribed,\" which signifies high investor confidence and demand for Circle's shares. The article also highlights the positive backdrop of improving crypto sentiment and potential regulatory clarity.\n",
      "\n",
      "**Importance to Stock news:**\n",
      "5\n",
      "\n",
      "**Reasoning for Importance:**\n",
      "An oversubscribed IPO is a critical milestone for a company going public, indicating strong market reception and potentially influencing the final pricing. For Circle, a major player in the stablecoin market, this event is highly important as it marks its successful entry into public markets and reflects investor confidence in its business and the broader crypto sector.\n"
     ]
    }
   ],
   "source": [
    "print(df[\"title\"][2],'\\n\\n',predicted[2])"
   ]
  },
  {
   "cell_type": "code",
   "execution_count": 13,
   "id": "d915ec16",
   "metadata": {},
   "outputs": [],
   "source": [
    "df[\"sentiment\"] = df[\"predicted\"].apply(lambda x: x.split(\"\\n\")[1].strip() if len(x.split(\"\\n\")) > 1 else None)\n",
    "df[\"importance\"] = df[\"predicted\"].apply(lambda x: x.split(\"\\n\")[10].strip() if len(x.split(\"\\n\")) > 10 else None)\n",
    "df[\"summary\"] = df[\"predicted\"].apply(lambda x: x.split(\"\\n\")[4].strip() if len(x.split(\"\\n\")) > 4 else None)"
   ]
  },
  {
   "cell_type": "code",
   "execution_count": 14,
   "id": "0097fc24",
   "metadata": {},
   "outputs": [
    {
     "data": {
      "application/vnd.microsoft.datawrangler.viewer.v0+json": {
       "columns": [
        {
         "name": "index",
         "rawType": "int64",
         "type": "integer"
        },
        {
         "name": "publish_date",
         "rawType": "object",
         "type": "string"
        },
        {
         "name": "title",
         "rawType": "object",
         "type": "string"
        },
        {
         "name": "sentiment",
         "rawType": "object",
         "type": "string"
        },
        {
         "name": "importance",
         "rawType": "object",
         "type": "string"
        },
        {
         "name": "summary",
         "rawType": "object",
         "type": "string"
        }
       ],
       "ref": "31548d0b-d010-4477-910b-79fac8f4f1f6",
       "rows": [
        [
         "2",
         "2025-05-27",
         "Circle Internet IPO multiple times oversubscribed- Bloomberg By Investing.com",
         "Positive",
         "5",
         "Circle Internet's initial public offering is reportedly multiple times oversubscribed, indicating strong investor demand. This strong interest is occurring amidst improving sentiment in the crypto market, partly driven by hopes for more favorable U.S. regulation and progress on a stablecoin bill."
        ],
        [
         "3",
         "2025-05-27",
         "US stock futures steady with Nvidia earnings in focus By Investing.com",
         "Positive",
         "5",
         "US stock futures edged slightly higher, with market focus primarily on the upcoming earnings report from AI leader Nvidia, expected to be strong and act as a tech sector bellwether. This follows a strong previous session on Wall Street, driven by positive sentiment from President Trump delaying EU tariffs and better-than-expected consumer confidence data."
        ],
        [
         "4",
         "2025-05-27",
         "Japan offers to buy US chips as part of tariff negotiations, Asahi reports By Investing.com",
         "Positive",
         "5",
         "Japan has proposed purchasing billions of dollars in US semiconductor products, including from NVIDIA, potentially with government subsidies, as part of trade negotiations. The plan aims to reduce the US trade deficit and strengthen the US-Japan semiconductor supply chain."
        ],
        [
         "5",
         "2025-05-27",
         "Trump says working on taking Fannie Mae, Freddie Mac public By Investing.com",
         "Positive",
         "5",
         "President Trump announced he is actively working on taking mortgage giants Fannie Mae and Freddie Mac public, while assuring that the U.S. government will retain implicit guarantees and oversight. He indicated the companies are performing well and the timing seems right for a listing, though the specific terms are not yet clear."
        ],
        [
         "6",
         "2025-05-27",
         "Nvidia suppliers ramp up AI server production after technical snag",
         "Positive",
         "5",
         "Nvidia's key suppliers have successfully resolved technical issues that were delaying shipments of the new \"Blackwell\" AI data center servers. This breakthrough allows production and shipments to commence, addressing a previous hurdle for Nvidia's sales initiatives."
        ],
        [
         "8",
         "2025-05-27",
         "JPM highlights top 6 European investment ideas for next 12–18 months By Investing.com",
         "Positive",
         "5",
         "JPMorgan has outlined its top six European investment ideas for the next 12-18 months, focusing on sectors expected to benefit from structural and policy changes. Key themes include defense spending, German infrastructure stimulus, financials (favoring insurance), chemicals, utilities/telecoms, and German small caps."
        ],
        [
         "9",
         "2025-05-27",
         "Next 300 points likely up for the S&P 500, says JPMorgan By Investing.com",
         "Positive",
         "5",
         "JPMorgan analysts predict the S&P 500's next move is likely higher by 300 points, viewing the recent market pullback as a temporary correction. Their bullish outlook is supported by stable macro data, positive earnings trends, and easing trade tensions."
        ],
        [
         "11",
         "2025-05-27",
         "New surveys show declining interest in EVs and the Tesla brand around the world By Investing.com",
         "Negative",
         "5",
         "New surveys from UBS and Stifel indicate a significant decline in consumer interest and brand preference for Tesla across major global markets, including the US, China, and Europe. Factors cited include market saturation, increased competition, and political polarization in the US."
        ],
        [
         "12",
         "2025-05-27",
         "StanChart sees Solana price rising over 50% by end of 2025 By Investing.com",
         "Positive",
         "5",
         "Standard Chartered has initiated coverage on Solana (SOL) with a year-end 2025 price target of $275, indicating over 50% upside from current levels. While noting potential near-term underperformance due to reliance on memecoin trading, the bank sees strong long-term potential in new sectors, projecting targets up to $500 by 2029."
        ],
        [
         "13",
         "2025-05-27",
         "Citi sees up to 8% downside for Stoxx 600 on Trump tariff risk By Investing.com",
         "Negative",
         "5",
         "Citi analysts warn that the Stoxx 600 index could face a 7-8% downside if potential 50% Trump tariffs on European goods are enacted. They note that European earnings estimates have already fallen due to geopolitical risks, and higher tariffs could lead to further deterioration in EPS growth."
        ],
        [
         "14",
         "2025-05-27",
         "What could be the impact of a 50% tariff on EU economy? By Investing.com",
         "Negative",
         "5",
         "The article reports on UBS's analysis warning that a potential 50% US tariff on EU imports could significantly reduce eurozone GDP growth in 2025 and 2026 and heighten the risk of a broader trade conflict. While a near-term boost from front-loading shipments is possible, the overall outlook is negative, threatening growth and potentially leading to inflationary pressures if the EU retaliates with its own measures."
        ],
        [
         "15",
         "2025-05-27",
         "Higher U.S. futures, new Nvidia chip, falling Tesla sales",
         "Positive",
         "5",
         "U.S. stock futures rose sharply after President Trump postponed tariffs on EU imports, easing trade war fears. The article also notes specific company news, including Nvidia's plan for a new China chip and a significant drop in Tesla's European sales."
        ],
        [
         "16",
         "2025-05-27",
         "Bitcoin price today: flat at $109.7k post record high; 2025 crypto summit eyed By Investing.com",
         "Neutral",
         "5",
         "Bitcoin is trading flat near its recent record high of $109.7k, with market focus shifting to the upcoming large Bitcoin 2025 conference expected to boost interest. The price is supported by positive regulatory news and growing institutional adoption, despite some recent profit-taking. The article also notes Trump Media's plan to raise $2.5 billion for a Bitcoin treasury, which caused its shares to drop."
        ],
        [
         "17",
         "2025-05-27",
         "Gold prices sink as Trump EU tariff delay spurs some risk, yields retreat By Investing.com",
         "Negative",
         "5",
         "Gold prices fell in Asian trade, extending recent declines, primarily due to improved risk appetite following President Trump's delay of EU tariffs and some stabilization in bond yields. Despite persistent dollar weakness limiting losses, the positive market reaction to the tariff delay pressured the safe-haven metal."
        ],
        [
         "18",
         "2025-05-26",
         "Asia stocks muted amid trade caution; Japan recovers on yen weakness By Investing.com",
         "Neutral",
         "5",
         "Most Asian stock markets traded in a muted or flat-to-low range due to investor caution over potential U.S. trade tariffs. Japan's market recovered from early losses, supported by a weaker yen and improved risk sentiment following a delay in EU tariffs, while concerns over potential smartphone tariffs weighed on some Asian tech stocks."
        ],
        [
         "19",
         "2025-05-26",
         "Stock market today: S&P 500 rallies on consumer confidence, Trump EU tariff delay By Investing.com",
         "Positive",
         "5",
         "The S&P 500 and other major U.S. stock indices rallied sharply on Tuesday. This market surge was primarily driven by a significant rebound in U.S. consumer confidence and President Trump's decision to postpone planned tariffs on the European Union."
        ]
       ],
       "shape": {
        "columns": 5,
        "rows": 16
       }
      },
      "text/html": [
       "<div>\n",
       "<style scoped>\n",
       "    .dataframe tbody tr th:only-of-type {\n",
       "        vertical-align: middle;\n",
       "    }\n",
       "\n",
       "    .dataframe tbody tr th {\n",
       "        vertical-align: top;\n",
       "    }\n",
       "\n",
       "    .dataframe thead th {\n",
       "        text-align: right;\n",
       "    }\n",
       "</style>\n",
       "<table border=\"1\" class=\"dataframe\">\n",
       "  <thead>\n",
       "    <tr style=\"text-align: right;\">\n",
       "      <th></th>\n",
       "      <th>publish_date</th>\n",
       "      <th>title</th>\n",
       "      <th>sentiment</th>\n",
       "      <th>importance</th>\n",
       "      <th>summary</th>\n",
       "    </tr>\n",
       "  </thead>\n",
       "  <tbody>\n",
       "    <tr>\n",
       "      <th>2</th>\n",
       "      <td>2025-05-27</td>\n",
       "      <td>Circle Internet IPO multiple times oversubscri...</td>\n",
       "      <td>Positive</td>\n",
       "      <td>5</td>\n",
       "      <td>Circle Internet's initial public offering is r...</td>\n",
       "    </tr>\n",
       "    <tr>\n",
       "      <th>3</th>\n",
       "      <td>2025-05-27</td>\n",
       "      <td>US stock futures steady with Nvidia earnings i...</td>\n",
       "      <td>Positive</td>\n",
       "      <td>5</td>\n",
       "      <td>US stock futures edged slightly higher, with m...</td>\n",
       "    </tr>\n",
       "    <tr>\n",
       "      <th>4</th>\n",
       "      <td>2025-05-27</td>\n",
       "      <td>Japan offers to buy US chips as part of tariff...</td>\n",
       "      <td>Positive</td>\n",
       "      <td>5</td>\n",
       "      <td>Japan has proposed purchasing billions of doll...</td>\n",
       "    </tr>\n",
       "    <tr>\n",
       "      <th>5</th>\n",
       "      <td>2025-05-27</td>\n",
       "      <td>Trump says working on taking Fannie Mae, Fredd...</td>\n",
       "      <td>Positive</td>\n",
       "      <td>5</td>\n",
       "      <td>President Trump announced he is actively worki...</td>\n",
       "    </tr>\n",
       "    <tr>\n",
       "      <th>6</th>\n",
       "      <td>2025-05-27</td>\n",
       "      <td>Nvidia suppliers ramp up AI server production ...</td>\n",
       "      <td>Positive</td>\n",
       "      <td>5</td>\n",
       "      <td>Nvidia's key suppliers have successfully resol...</td>\n",
       "    </tr>\n",
       "    <tr>\n",
       "      <th>8</th>\n",
       "      <td>2025-05-27</td>\n",
       "      <td>JPM highlights top 6 European investment ideas...</td>\n",
       "      <td>Positive</td>\n",
       "      <td>5</td>\n",
       "      <td>JPMorgan has outlined its top six European inv...</td>\n",
       "    </tr>\n",
       "    <tr>\n",
       "      <th>9</th>\n",
       "      <td>2025-05-27</td>\n",
       "      <td>Next 300 points likely up for the S&amp;P 500, say...</td>\n",
       "      <td>Positive</td>\n",
       "      <td>5</td>\n",
       "      <td>JPMorgan analysts predict the S&amp;P 500's next m...</td>\n",
       "    </tr>\n",
       "    <tr>\n",
       "      <th>11</th>\n",
       "      <td>2025-05-27</td>\n",
       "      <td>New surveys show declining interest in EVs and...</td>\n",
       "      <td>Negative</td>\n",
       "      <td>5</td>\n",
       "      <td>New surveys from UBS and Stifel indicate a sig...</td>\n",
       "    </tr>\n",
       "    <tr>\n",
       "      <th>12</th>\n",
       "      <td>2025-05-27</td>\n",
       "      <td>StanChart sees Solana price rising over 50% by...</td>\n",
       "      <td>Positive</td>\n",
       "      <td>5</td>\n",
       "      <td>Standard Chartered has initiated coverage on S...</td>\n",
       "    </tr>\n",
       "    <tr>\n",
       "      <th>13</th>\n",
       "      <td>2025-05-27</td>\n",
       "      <td>Citi sees up to 8% downside for Stoxx 600 on T...</td>\n",
       "      <td>Negative</td>\n",
       "      <td>5</td>\n",
       "      <td>Citi analysts warn that the Stoxx 600 index co...</td>\n",
       "    </tr>\n",
       "    <tr>\n",
       "      <th>14</th>\n",
       "      <td>2025-05-27</td>\n",
       "      <td>What could be the impact of a 50% tariff on EU...</td>\n",
       "      <td>Negative</td>\n",
       "      <td>5</td>\n",
       "      <td>The article reports on UBS's analysis warning ...</td>\n",
       "    </tr>\n",
       "    <tr>\n",
       "      <th>15</th>\n",
       "      <td>2025-05-27</td>\n",
       "      <td>Higher U.S. futures, new Nvidia chip, falling ...</td>\n",
       "      <td>Positive</td>\n",
       "      <td>5</td>\n",
       "      <td>U.S. stock futures rose sharply after Presiden...</td>\n",
       "    </tr>\n",
       "    <tr>\n",
       "      <th>16</th>\n",
       "      <td>2025-05-27</td>\n",
       "      <td>Bitcoin price today: flat at $109.7k post reco...</td>\n",
       "      <td>Neutral</td>\n",
       "      <td>5</td>\n",
       "      <td>Bitcoin is trading flat near its recent record...</td>\n",
       "    </tr>\n",
       "    <tr>\n",
       "      <th>17</th>\n",
       "      <td>2025-05-27</td>\n",
       "      <td>Gold prices sink as Trump EU tariff delay spur...</td>\n",
       "      <td>Negative</td>\n",
       "      <td>5</td>\n",
       "      <td>Gold prices fell in Asian trade, extending rec...</td>\n",
       "    </tr>\n",
       "    <tr>\n",
       "      <th>18</th>\n",
       "      <td>2025-05-26</td>\n",
       "      <td>Asia stocks muted amid trade caution; Japan re...</td>\n",
       "      <td>Neutral</td>\n",
       "      <td>5</td>\n",
       "      <td>Most Asian stock markets traded in a muted or ...</td>\n",
       "    </tr>\n",
       "    <tr>\n",
       "      <th>19</th>\n",
       "      <td>2025-05-26</td>\n",
       "      <td>Stock market today: S&amp;P 500 rallies on consume...</td>\n",
       "      <td>Positive</td>\n",
       "      <td>5</td>\n",
       "      <td>The S&amp;P 500 and other major U.S. stock indices...</td>\n",
       "    </tr>\n",
       "  </tbody>\n",
       "</table>\n",
       "</div>"
      ],
      "text/plain": [
       "   publish_date                                              title sentiment  \\\n",
       "2    2025-05-27  Circle Internet IPO multiple times oversubscri...  Positive   \n",
       "3    2025-05-27  US stock futures steady with Nvidia earnings i...  Positive   \n",
       "4    2025-05-27  Japan offers to buy US chips as part of tariff...  Positive   \n",
       "5    2025-05-27  Trump says working on taking Fannie Mae, Fredd...  Positive   \n",
       "6    2025-05-27  Nvidia suppliers ramp up AI server production ...  Positive   \n",
       "8    2025-05-27  JPM highlights top 6 European investment ideas...  Positive   \n",
       "9    2025-05-27  Next 300 points likely up for the S&P 500, say...  Positive   \n",
       "11   2025-05-27  New surveys show declining interest in EVs and...  Negative   \n",
       "12   2025-05-27  StanChart sees Solana price rising over 50% by...  Positive   \n",
       "13   2025-05-27  Citi sees up to 8% downside for Stoxx 600 on T...  Negative   \n",
       "14   2025-05-27  What could be the impact of a 50% tariff on EU...  Negative   \n",
       "15   2025-05-27  Higher U.S. futures, new Nvidia chip, falling ...  Positive   \n",
       "16   2025-05-27  Bitcoin price today: flat at $109.7k post reco...   Neutral   \n",
       "17   2025-05-27  Gold prices sink as Trump EU tariff delay spur...  Negative   \n",
       "18   2025-05-26  Asia stocks muted amid trade caution; Japan re...   Neutral   \n",
       "19   2025-05-26  Stock market today: S&P 500 rallies on consume...  Positive   \n",
       "\n",
       "   importance                                            summary  \n",
       "2           5  Circle Internet's initial public offering is r...  \n",
       "3           5  US stock futures edged slightly higher, with m...  \n",
       "4           5  Japan has proposed purchasing billions of doll...  \n",
       "5           5  President Trump announced he is actively worki...  \n",
       "6           5  Nvidia's key suppliers have successfully resol...  \n",
       "8           5  JPMorgan has outlined its top six European inv...  \n",
       "9           5  JPMorgan analysts predict the S&P 500's next m...  \n",
       "11          5  New surveys from UBS and Stifel indicate a sig...  \n",
       "12          5  Standard Chartered has initiated coverage on S...  \n",
       "13          5  Citi analysts warn that the Stoxx 600 index co...  \n",
       "14          5  The article reports on UBS's analysis warning ...  \n",
       "15          5  U.S. stock futures rose sharply after Presiden...  \n",
       "16          5  Bitcoin is trading flat near its recent record...  \n",
       "17          5  Gold prices fell in Asian trade, extending rec...  \n",
       "18          5  Most Asian stock markets traded in a muted or ...  \n",
       "19          5  The S&P 500 and other major U.S. stock indices...  "
      ]
     },
     "execution_count": 14,
     "metadata": {},
     "output_type": "execute_result"
    }
   ],
   "source": [
    "df[df[\"importance\"]== \"5\"][[\"publish_date\",\"title\", \"sentiment\",\"importance\", \"summary\"]]"
   ]
  },
  {
   "cell_type": "code",
   "execution_count": 15,
   "id": "d090b2b6",
   "metadata": {},
   "outputs": [
    {
     "data": {
      "application/vnd.microsoft.datawrangler.viewer.v0+json": {
       "columns": [
        {
         "name": "index",
         "rawType": "int64",
         "type": "integer"
        },
        {
         "name": "publish_date",
         "rawType": "object",
         "type": "string"
        },
        {
         "name": "publish_time",
         "rawType": "object",
         "type": "string"
        },
        {
         "name": "title",
         "rawType": "object",
         "type": "string"
        },
        {
         "name": "body_text",
         "rawType": "object",
         "type": "string"
        },
        {
         "name": "url",
         "rawType": "object",
         "type": "string"
        },
        {
         "name": "predicted",
         "rawType": "object",
         "type": "string"
        },
        {
         "name": "sentiment",
         "rawType": "object",
         "type": "string"
        },
        {
         "name": "importance",
         "rawType": "object",
         "type": "string"
        },
        {
         "name": "summary",
         "rawType": "object",
         "type": "string"
        }
       ],
       "ref": "f27f0e5d-5d8a-4560-a0cb-f71da6c5470e",
       "rows": [],
       "shape": {
        "columns": 9,
        "rows": 0
       }
      },
      "text/html": [
       "<div>\n",
       "<style scoped>\n",
       "    .dataframe tbody tr th:only-of-type {\n",
       "        vertical-align: middle;\n",
       "    }\n",
       "\n",
       "    .dataframe tbody tr th {\n",
       "        vertical-align: top;\n",
       "    }\n",
       "\n",
       "    .dataframe thead th {\n",
       "        text-align: right;\n",
       "    }\n",
       "</style>\n",
       "<table border=\"1\" class=\"dataframe\">\n",
       "  <thead>\n",
       "    <tr style=\"text-align: right;\">\n",
       "      <th></th>\n",
       "      <th>publish_date</th>\n",
       "      <th>publish_time</th>\n",
       "      <th>title</th>\n",
       "      <th>body_text</th>\n",
       "      <th>url</th>\n",
       "      <th>predicted</th>\n",
       "      <th>sentiment</th>\n",
       "      <th>importance</th>\n",
       "      <th>summary</th>\n",
       "    </tr>\n",
       "  </thead>\n",
       "  <tbody>\n",
       "  </tbody>\n",
       "</table>\n",
       "</div>"
      ],
      "text/plain": [
       "Empty DataFrame\n",
       "Columns: [publish_date, publish_time, title, body_text, url, predicted, sentiment, importance, summary]\n",
       "Index: []"
      ]
     },
     "metadata": {},
     "output_type": "display_data"
    }
   ],
   "source": [
    "display(df[df['sentiment']==''])\n",
    "df = df[df['sentiment'] != '']"
   ]
  },
  {
   "cell_type": "code",
   "execution_count": 16,
   "id": "263225cc",
   "metadata": {},
   "outputs": [],
   "source": [
    "df = df[df['sentiment'].isin(['Positive', 'Negative', 'Neutral'])]\n",
    "df = df[df['importance'].isin(['1', '2', '3', '4', '5'])]"
   ]
  },
  {
   "cell_type": "code",
   "execution_count": 17,
   "id": "040c6042",
   "metadata": {},
   "outputs": [
    {
     "data": {
      "text/plain": [
       "<Axes: title={'center': 'Sentiment Distribution'}, xlabel='sentiment'>"
      ]
     },
     "execution_count": 17,
     "metadata": {},
     "output_type": "execute_result"
    },
    {
     "data": {
      "image/png": "[encoded data removed]",
      "text/plain": [
       "<Figure size 640x480 with 1 Axes>"
      ]
     },
     "metadata": {},
     "output_type": "display_data"
    }
   ],
   "source": [
    "df['sentiment'].value_counts().plot(kind='bar', title='Sentiment Distribution')"
   ]
  },
  {
   "cell_type": "code",
   "execution_count": 18,
   "id": "f6472de3",
   "metadata": {},
   "outputs": [
    {
     "data": {
      "text/plain": [
       "<Axes: title={'center': 'Importance Distribution'}, xlabel='importance'>"
      ]
     },
     "execution_count": 18,
     "metadata": {},
     "output_type": "execute_result"
    },
    {
     "data": {
      "image/png": "[encoded data removed]",
      "text/plain": [
       "<Figure size 640x480 with 1 Axes>"
      ]
     },
     "metadata": {},
     "output_type": "display_data"
    }
   ],
   "source": [
    "df['importance'].value_counts().sort_index().plot(kind='bar', title='Importance Distribution')"
   ]
  },
  {
   "cell_type": "code",
   "execution_count": 19,
   "id": "ec798206",
   "metadata": {},
   "outputs": [],
   "source": [
    "TICKER=current_stock"
   ]
  },
  {
   "cell_type": "code",
   "execution_count": 20,
   "id": "f0b00e4b",
   "metadata": {},
   "outputs": [],
   "source": [
    "df[df['sentiment']=='']\n",
    "df = df[df['sentiment'] != '']"
   ]
  },
  {
   "cell_type": "code",
   "execution_count": 21,
   "id": "35d26f9b",
   "metadata": {},
   "outputs": [],
   "source": [
    "def calculate_sentiment_score(df):\n",
    "    sentiment_scores = {\n",
    "        'Positive': 1,\n",
    "        'Negative': -1,\n",
    "        'Neutral': 0\n",
    "    }\n",
    "    \n",
    "    df['sentiment_score'] = df['sentiment'].map(sentiment_scores)\n",
    "    \n",
    "    df['weighted_score'] = df['sentiment_score'] * df['importance'].astype(int)\n",
    "    \n",
    "    total_importance = df['importance'].astype(int).sum()\n",
    "    \n",
    "    if total_importance == 0:\n",
    "        return 0\n",
    "    \n",
    "    sentiment_score = df['weighted_score'].sum() / total_importance\n",
    "    return sentiment_score"
   ]
  },
  {
   "cell_type": "code",
   "execution_count": 22,
   "id": "522496ee",
   "metadata": {},
   "outputs": [
    {
     "name": "stdout",
     "output_type": "stream",
     "text": [
      "Sentiment Score for news: 0.31\n"
     ]
    }
   ],
   "source": [
    "print(f\"Sentiment Score for {TICKER}: {calculate_sentiment_score(df).round(2)}\")"
   ]
  },
  {
   "cell_type": "code",
   "execution_count": 23,
   "id": "89ff0738",
   "metadata": {},
   "outputs": [],
   "source": [
    "import datetime\n",
    "\n",
    "df.drop(columns=['predicted','body_text'],inplace=True)\n",
    "now = datetime.datetime.now()\n",
    "date_time = now.strftime(\"%Y-%m-%d %H-%M-%S\").strip().replace(' ', '_')\n",
    "df.to_csv(f\"Output/Gemini/Gemini_{TICKER}_{date_time}.csv\", index=False)"
   ]
  }
 ],
 "metadata": {
  "kernelspec": {
   "display_name": "base",
   "language": "python",
   "name": "python3"
  },
  "language_info": {
   "codemirror_mode": {
    "name": "ipython",
    "version": 3
   },
   "file_extension": ".py",
   "mimetype": "text/x-python",
   "name": "python",
   "nbconvert_exporter": "python",
   "pygments_lexer": "ipython3",
   "version": "3.11.10"
  }
 },
 "nbformat": 4,
 "nbformat_minor": 5
}
