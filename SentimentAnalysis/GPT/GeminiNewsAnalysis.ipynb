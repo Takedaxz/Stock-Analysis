{
 "cells": [
  {
   "cell_type": "markdown",
   "id": "d92e1317",
   "metadata": {},
   "source": [
    "# News Analysis with LLM (Gemini)"
   ]
  },
  {
   "cell_type": "code",
   "execution_count": 1,
   "id": "9d1767dc",
   "metadata": {},
   "outputs": [
    {
     "name": "stdout",
     "output_type": "stream",
     "text": [
      "GEMINI_API_KEY loaded successfully.\n"
     ]
    }
   ],
   "source": [
    "import os\n",
    "from dotenv import load_dotenv\n",
    "\n",
    "load_dotenv(\"secret.env\")\n",
    "\n",
    "api_key = os.getenv(\"GEMINI_API_KEY\")\n",
    "\n",
    "if api_key is None:\n",
    "    print(\"Error: GEMINI_API_KEY not found in .env file or environment variables.\")\n",
    "else:\n",
    "    print(\"GEMINI_API_KEY loaded successfully.\")"
   ]
  },
  {
   "cell_type": "code",
   "execution_count": 2,
   "id": "f8be51b8",
   "metadata": {},
   "outputs": [],
   "source": [
    "import google.generativeai as genai\n",
    "from tqdm import tqdm\n",
    "\n",
    "genai.configure(api_key=api_key)\n",
    "generation_config = genai.GenerationConfig(\n",
    "        temperature=0,\n",
    ")\n",
    "model = genai.GenerativeModel(\"gemini-2.5-flash-preview-04-17\", generation_config=generation_config)"
   ]
  },
  {
   "cell_type": "code",
   "execution_count": 3,
   "id": "116a4f4d",
   "metadata": {},
   "outputs": [],
   "source": [
    "from google.api_core import retry\n",
    "\n",
    "# Catch transient Gemini errors.\n",
    "def is_retryable(e) -> bool:\n",
    "    if retry.if_transient_error(e):\n",
    "        # Good practice, but probably won't fire with the google-genai SDK\n",
    "        return True\n",
    "    elif (isinstance(e, genai.errors.ClientError) and e.code == 429):\n",
    "        # Catch 429 quota exceeded errors\n",
    "        return True\n",
    "    elif (isinstance(e, genai.errors.ServerError) and e.code == 503):\n",
    "        # Catch 503 model overloaded errors\n",
    "        return True\n",
    "    else:\n",
    "        return False\n",
    "\n",
    "@retry.Retry(predicate=is_retryable)\n",
    "def generate_content_with_rate_limit(prompt):\n",
    "  return model.generate_content(prompt).text"
   ]
  },
  {
   "cell_type": "code",
   "execution_count": 4,
   "id": "53969e87",
   "metadata": {},
   "outputs": [],
   "source": [
    "prompt = \"\"\"You are a financial news analyst specializing in stock market impact. Your task is to analyze the provided news article, summarize its core content concisely, determine its sentiment (positive, negative, or neutral), and assess its importance to the specified stock.\n",
    "\n",
    "Here is the news from stock [STOCK] title and body:\n",
    "---\n",
    "[TITLE]\n",
    "---\n",
    "[BODY]\n",
    "---\n",
    "\n",
    "Please provide your analysis in the following format (Don't forget to make space between the sections as shown):\n",
    "\n",
    "**Sentiment:**\n",
    "[Positive / Negative / Neutral]\n",
    "\n",
    "**Summary:**\n",
    "[Your concise summary of the article, typically 2-3 sentences.]\n",
    "\n",
    "**Reasoning for Sentiment:**\n",
    "[Brief explanation (1-2 sentences) of why you categorized the sentiment as such, referencing key points or tone from the article.]\n",
    "\n",
    "**Importance to Stock [STOCK]:**\n",
    "[1-5, where 1 is minimal importance and 5 is very high importance.Answer in 1-5 only, no explanation.] (Answer only in number 1-5)\n",
    "\n",
    "**Reasoning for Importance:**\n",
    "[Brief explanation (1-2 sentences) of why you assigned this importance score, referencing specific details from the article that would impact the stock.]\"\"\""
   ]
  },
  {
   "cell_type": "code",
   "execution_count": 5,
   "id": "92827cc3",
   "metadata": {},
   "outputs": [],
   "source": [
    "import pandas as pd\n",
    "import numpy as np"
   ]
  },
  {
   "cell_type": "code",
   "execution_count": 6,
   "id": "0849d1b0",
   "metadata": {},
   "outputs": [
    {
     "data": {
      "text/html": [
       "<div>\n",
       "<style scoped>\n",
       "    .dataframe tbody tr th:only-of-type {\n",
       "        vertical-align: middle;\n",
       "    }\n",
       "\n",
       "    .dataframe tbody tr th {\n",
       "        vertical-align: top;\n",
       "    }\n",
       "\n",
       "    .dataframe thead th {\n",
       "        text-align: right;\n",
       "    }\n",
       "</style>\n",
       "<table border=\"1\" class=\"dataframe\">\n",
       "  <thead>\n",
       "    <tr style=\"text-align: right;\">\n",
       "      <th></th>\n",
       "      <th>publish_date</th>\n",
       "      <th>publish_time</th>\n",
       "      <th>title</th>\n",
       "      <th>body_text</th>\n",
       "      <th>url</th>\n",
       "    </tr>\n",
       "  </thead>\n",
       "  <tbody>\n",
       "    <tr>\n",
       "      <th>0</th>\n",
       "      <td>2025-05-28</td>\n",
       "      <td>10:26</td>\n",
       "      <td>TSX up slightly ahead of NVIDIA earnings By In...</td>\n",
       "      <td>Investing.com -- Canada’s main stock index was...</td>\n",
       "      <td>https://www.investing.com/news/stock-market-ne...</td>\n",
       "    </tr>\n",
       "    <tr>\n",
       "      <th>1</th>\n",
       "      <td>2025-05-28</td>\n",
       "      <td>09:58</td>\n",
       "      <td>This is what matters most for today’s Nvidia e...</td>\n",
       "      <td>Investing.com -- As Nvidia (NASDAQ: ) gears up...</td>\n",
       "      <td>https://www.investing.com/news/stock-market-ne...</td>\n",
       "    </tr>\n",
       "    <tr>\n",
       "      <th>2</th>\n",
       "      <td>2025-05-28</td>\n",
       "      <td>09:36</td>\n",
       "      <td>Goldman Sachs makes the strategic case for gol...</td>\n",
       "      <td>Investing.com -- Goldman Sachs made the case f...</td>\n",
       "      <td>https://www.investing.com/news/commodities-new...</td>\n",
       "    </tr>\n",
       "    <tr>\n",
       "      <th>3</th>\n",
       "      <td>2025-05-28</td>\n",
       "      <td>09:22</td>\n",
       "      <td>Tempus AI stock sinks following Spruce Point s...</td>\n",
       "      <td>Investing.com -- Shares of Tempus AI (NASDAQ: ...</td>\n",
       "      <td>https://www.investing.com/news/stock-market-ne...</td>\n",
       "    </tr>\n",
       "    <tr>\n",
       "      <th>4</th>\n",
       "      <td>2025-05-28</td>\n",
       "      <td>09:17</td>\n",
       "      <td>GameStop pulls the trigger, discloses $513 mil...</td>\n",
       "      <td>Investing.com -- GameStop Corp (NYSE: ) shares...</td>\n",
       "      <td>https://www.investing.com/news/stock-market-ne...</td>\n",
       "    </tr>\n",
       "  </tbody>\n",
       "</table>\n",
       "</div>"
      ],
      "text/plain": [
       "  publish_date publish_time  \\\n",
       "0   2025-05-28        10:26   \n",
       "1   2025-05-28        09:58   \n",
       "2   2025-05-28        09:36   \n",
       "3   2025-05-28        09:22   \n",
       "4   2025-05-28        09:17   \n",
       "\n",
       "                                               title  \\\n",
       "0  TSX up slightly ahead of NVIDIA earnings By In...   \n",
       "1  This is what matters most for today’s Nvidia e...   \n",
       "2  Goldman Sachs makes the strategic case for gol...   \n",
       "3  Tempus AI stock sinks following Spruce Point s...   \n",
       "4  GameStop pulls the trigger, discloses $513 mil...   \n",
       "\n",
       "                                           body_text  \\\n",
       "0  Investing.com -- Canada’s main stock index was...   \n",
       "1  Investing.com -- As Nvidia (NASDAQ: ) gears up...   \n",
       "2  Investing.com -- Goldman Sachs made the case f...   \n",
       "3  Investing.com -- Shares of Tempus AI (NASDAQ: ...   \n",
       "4  Investing.com -- GameStop Corp (NYSE: ) shares...   \n",
       "\n",
       "                                                 url  \n",
       "0  https://www.investing.com/news/stock-market-ne...  \n",
       "1  https://www.investing.com/news/stock-market-ne...  \n",
       "2  https://www.investing.com/news/commodities-new...  \n",
       "3  https://www.investing.com/news/stock-market-ne...  \n",
       "4  https://www.investing.com/news/stock-market-ne...  "
      ]
     },
     "metadata": {},
     "output_type": "display_data"
    }
   ],
   "source": [
    "df = pd.read_csv(\"../../DataCollection/Data/Trending_News/2025-05-28_22-31-36.csv\")\n",
    "display(df.head())"
   ]
  },
  {
   "cell_type": "code",
   "execution_count": 7,
   "id": "1c6c45a4",
   "metadata": {},
   "outputs": [
    {
     "data": {
      "text/plain": [
       "publish_date    0\n",
       "publish_time    0\n",
       "title           0\n",
       "body_text       0\n",
       "url             0\n",
       "dtype: int64"
      ]
     },
     "execution_count": 7,
     "metadata": {},
     "output_type": "execute_result"
    }
   ],
   "source": [
    "df.isnull().sum()"
   ]
  },
  {
   "cell_type": "code",
   "execution_count": 8,
   "id": "074d5e03",
   "metadata": {},
   "outputs": [],
   "source": [
    "df[\"title\"] = df[\"title\"].astype(str)\n",
    "df[\"body_text\"] = df[\"body_text\"].astype(str)"
   ]
  },
  {
   "cell_type": "code",
   "execution_count": 9,
   "id": "24dcc3ea",
   "metadata": {},
   "outputs": [
    {
     "name": "stdout",
     "output_type": "stream",
     "text": [
      "  publish_date publish_time  \\\n",
      "0   2025-05-28        10:26   \n",
      "1   2025-05-28        09:58   \n",
      "2   2025-05-28        09:36   \n",
      "3   2025-05-28        09:22   \n",
      "4   2025-05-28        09:17   \n",
      "\n",
      "                                               title  \\\n",
      "0  TSX up slightly ahead of NVIDIA earnings By In...   \n",
      "1  This is what matters most for today’s Nvidia e...   \n",
      "2  Goldman Sachs makes the strategic case for gol...   \n",
      "3  Tempus AI stock sinks following Spruce Point s...   \n",
      "4  GameStop pulls the trigger, discloses $513 mil...   \n",
      "\n",
      "                                           body_text  \\\n",
      "0  Investing.com -- Canada’s main stock index was...   \n",
      "1  Investing.com -- As Nvidia (NASDAQ: ) gears up...   \n",
      "2  Investing.com -- Goldman Sachs made the case f...   \n",
      "3  Investing.com -- Shares of Tempus AI (NASDAQ: ...   \n",
      "4  Investing.com -- GameStop Corp (NYSE: ) shares...   \n",
      "\n",
      "                                                 url  \n",
      "0  https://www.investing.com/news/stock-market-ne...  \n",
      "1  https://www.investing.com/news/stock-market-ne...  \n",
      "2  https://www.investing.com/news/commodities-new...  \n",
      "3  https://www.investing.com/news/stock-market-ne...  \n",
      "4  https://www.investing.com/news/stock-market-ne...  \n"
     ]
    }
   ],
   "source": [
    "print(df.head())"
   ]
  },
  {
   "cell_type": "code",
   "execution_count": 10,
   "id": "f6e35e45",
   "metadata": {},
   "outputs": [
    {
     "name": "stderr",
     "output_type": "stream",
     "text": [
      "Prompting:   0%|          | 0/20 [00:00<?, ?it/s]"
     ]
    },
    {
     "name": "stderr",
     "output_type": "stream",
     "text": [
      "Prompting: 100%|██████████| 20/20 [01:52<00:00,  5.64s/it]\n"
     ]
    }
   ],
   "source": [
    "predicted = []\n",
    "\n",
    "for index, row in tqdm(df.iterrows(), total=len(df), desc=\"Prompting\"): \n",
    "    current_stock = row.get(\"ticker\", \"news\")\n",
    "\n",
    "    filled_prompt = prompt.replace(\"[STOCK]\", current_stock)\n",
    "    filled_prompt = filled_prompt.replace(\"[TITLE]\", row[\"title\"])\n",
    "    filled_prompt = filled_prompt.replace(\"[BODY]\", row[\"body_text\"])\n",
    "\n",
    "    try:\n",
    "        response = generate_content_with_rate_limit(filled_prompt)\n",
    "        finalprediction = response.strip()\n",
    "        if not finalprediction:\n",
    "            print(f\"Row {index}: LLM returned an empty string.\")\n",
    "            predicted.append(\"LLM_EMPTY_RESPONSE\")\n",
    "        else:\n",
    "            predicted.append(finalprediction)\n",
    "    except ValueError as ve:\n",
    "        print(f\"Row {index}: ValueError - {ve}. Appending 'ERROR_VALUE_ERROR'.\")\n",
    "        predicted.append(\"ERROR_VALUE_ERROR\")\n",
    "        continue\n",
    "    except Exception as e:\n",
    "        if \"429 Too Many Requests\" in str(e) or \"quota\" in str(e).lower():\n",
    "            print(f\"Row {index}: Rate Limit Exceeded or Quota Error - {e}. Appending 'ERROR_RATE_LIMIT'.\")\n",
    "            predicted.append(\"ERROR_RATE_LIMIT\")\n",
    "        elif \"safety\" in str(e).lower() or \"blocked\" in str(e).lower():\n",
    "             print(f\"Row {index}: Content Safety/Blocked - {e}. Appending 'ERROR_SAFETY_BLOCKED'.\")\n",
    "             predicted.append(\"ERROR_SAFETY_BLOCKED\")\n",
    "        else:\n",
    "            print(f\"Row {index}: Unexpected Error - {e}. Appending 'ERROR_UNEXPECTED'.\")\n",
    "            predicted.append(\"ERROR_UNEXPECTED\")\n",
    "        continue"
   ]
  },
  {
   "cell_type": "code",
   "execution_count": 11,
   "id": "984e0e0f",
   "metadata": {},
   "outputs": [],
   "source": [
    "predicted = np.array(predicted)\n",
    "df[\"predicted\"] = predicted"
   ]
  },
  {
   "cell_type": "code",
   "execution_count": 12,
   "id": "90abd541",
   "metadata": {},
   "outputs": [
    {
     "name": "stdout",
     "output_type": "stream",
     "text": [
      "Goldman Sachs makes the strategic case for gold and oil in long-run portfolios By Investing.com \n",
      "\n",
      " **Sentiment:**\n",
      "Neutral\n",
      "\n",
      "**Summary:**\n",
      "Goldman Sachs recommends long-term investors strategically allocate more to gold and less to oil over a five-year horizon, viewing them as hedges against inflation and systemic risks. They cite risks to US institutional credibility and central bank demand for overweighting gold, while near-term supply dynamics support underweighting oil, though long-term supply risks warrant a limited allocation.\n",
      "\n",
      "**Reasoning for Sentiment:**\n",
      "The article objectively reports on Goldman Sachs' analysis and portfolio recommendations for gold and oil. It presents their reasoning and findings without expressing any editorial opinion or bias, making it purely informational.\n",
      "\n",
      "**Importance to Stock news:**\n",
      "3\n",
      "\n",
      "**Reasoning for Importance:**\n",
      "The article is moderately important as it reports on portfolio allocation recommendations from a major investment bank, which can influence investor strategy. However, it focuses on commodities (gold and oil) as hedges rather than specific stock market sectors or companies, limiting its direct impact on general stock news.\n"
     ]
    }
   ],
   "source": [
    "print(df[\"title\"][2],'\\n\\n',predicted[2])"
   ]
  },
  {
   "cell_type": "code",
   "execution_count": 13,
   "id": "d915ec16",
   "metadata": {},
   "outputs": [],
   "source": [
    "df[\"sentiment\"] = df[\"predicted\"].apply(lambda x: x.split(\"\\n\")[1].strip() if len(x.split(\"\\n\")) > 1 else None)\n",
    "df[\"importance\"] = df[\"predicted\"].apply(lambda x: x.split(\"\\n\")[10].strip() if len(x.split(\"\\n\")) > 10 else None)\n",
    "df[\"summary\"] = df[\"predicted\"].apply(lambda x: x.split(\"\\n\")[4].strip() if len(x.split(\"\\n\")) > 4 else None)"
   ]
  },
  {
   "cell_type": "code",
   "execution_count": 14,
   "id": "0097fc24",
   "metadata": {},
   "outputs": [
    {
     "data": {
      "text/html": [
       "<div>\n",
       "<style scoped>\n",
       "    .dataframe tbody tr th:only-of-type {\n",
       "        vertical-align: middle;\n",
       "    }\n",
       "\n",
       "    .dataframe tbody tr th {\n",
       "        vertical-align: top;\n",
       "    }\n",
       "\n",
       "    .dataframe thead th {\n",
       "        text-align: right;\n",
       "    }\n",
       "</style>\n",
       "<table border=\"1\" class=\"dataframe\">\n",
       "  <thead>\n",
       "    <tr style=\"text-align: right;\">\n",
       "      <th></th>\n",
       "      <th>publish_date</th>\n",
       "      <th>title</th>\n",
       "      <th>sentiment</th>\n",
       "      <th>importance</th>\n",
       "      <th>summary</th>\n",
       "    </tr>\n",
       "  </thead>\n",
       "  <tbody>\n",
       "    <tr>\n",
       "      <th>0</th>\n",
       "      <td>2025-05-28</td>\n",
       "      <td>TSX up slightly ahead of NVIDIA earnings By In...</td>\n",
       "      <td>Neutral</td>\n",
       "      <td>5</td>\n",
       "      <td>The Canadian TSX index saw a slight gain, whil...</td>\n",
       "    </tr>\n",
       "    <tr>\n",
       "      <th>1</th>\n",
       "      <td>2025-05-28</td>\n",
       "      <td>This is what matters most for today’s Nvidia e...</td>\n",
       "      <td>Neutral</td>\n",
       "      <td>5</td>\n",
       "      <td>Mizuho analysts indicate that investors are pr...</td>\n",
       "    </tr>\n",
       "    <tr>\n",
       "      <th>3</th>\n",
       "      <td>2025-05-28</td>\n",
       "      <td>Tempus AI stock sinks following Spruce Point s...</td>\n",
       "      <td>Negative</td>\n",
       "      <td>5</td>\n",
       "      <td>Tempus AI stock fell 4% after a short-seller r...</td>\n",
       "    </tr>\n",
       "    <tr>\n",
       "      <th>4</th>\n",
       "      <td>2025-05-28</td>\n",
       "      <td>GameStop pulls the trigger, discloses $513 mil...</td>\n",
       "      <td>Positive</td>\n",
       "      <td>5</td>\n",
       "      <td>GameStop has invested $513 million in Bitcoin,...</td>\n",
       "    </tr>\n",
       "    <tr>\n",
       "      <th>6</th>\n",
       "      <td>2025-05-28</td>\n",
       "      <td>Wells Fargo: Time to trim U.S. small caps afte...</td>\n",
       "      <td>Negative</td>\n",
       "      <td>5</td>\n",
       "      <td>Wells Fargo analysts recommend investors reduc...</td>\n",
       "    </tr>\n",
       "    <tr>\n",
       "      <th>7</th>\n",
       "      <td>2025-05-28</td>\n",
       "      <td>Barclays sees upside in stocks as re-risking s...</td>\n",
       "      <td>Positive</td>\n",
       "      <td>5</td>\n",
       "      <td>Barclays maintains a positive outlook for equi...</td>\n",
       "    </tr>\n",
       "    <tr>\n",
       "      <th>8</th>\n",
       "      <td>2025-05-28</td>\n",
       "      <td>Nvidia earnings, new Stellantis CEO, Japanese ...</td>\n",
       "      <td>Neutral</td>\n",
       "      <td>5</td>\n",
       "      <td>The article provides a market overview focusin...</td>\n",
       "    </tr>\n",
       "    <tr>\n",
       "      <th>9</th>\n",
       "      <td>2025-05-28</td>\n",
       "      <td>sell Nvidia ahead of earnings? Here’s what our...</td>\n",
       "      <td>Neutral</td>\n",
       "      <td>5</td>\n",
       "      <td>The article discusses the anticipation surroun...</td>\n",
       "    </tr>\n",
       "    <tr>\n",
       "      <th>10</th>\n",
       "      <td>2025-05-28</td>\n",
       "      <td>Bitcoin price today: slips to $108.5k but stay...</td>\n",
       "      <td>Positive</td>\n",
       "      <td>5</td>\n",
       "      <td>Bitcoin experienced a slight price dip to $108...</td>\n",
       "    </tr>\n",
       "    <tr>\n",
       "      <th>11</th>\n",
       "      <td>2025-05-27</td>\n",
       "      <td>Asia stocks rise tracking Wall St gains; Tech ...</td>\n",
       "      <td>Positive</td>\n",
       "      <td>5</td>\n",
       "      <td>Most Asian stocks rose, tracking Wall Street g...</td>\n",
       "    </tr>\n",
       "    <tr>\n",
       "      <th>14</th>\n",
       "      <td>2025-05-27</td>\n",
       "      <td>U.S. stocks steady ahead of Fed minutes, keenl...</td>\n",
       "      <td>Neutral</td>\n",
       "      <td>5</td>\n",
       "      <td>U.S. stocks traded steadily as investors await...</td>\n",
       "    </tr>\n",
       "    <tr>\n",
       "      <th>15</th>\n",
       "      <td>2025-05-27</td>\n",
       "      <td>JPM highlights top 6 European investment ideas...</td>\n",
       "      <td>Positive</td>\n",
       "      <td>5</td>\n",
       "      <td>JPMorgan has outlined its top six European inv...</td>\n",
       "    </tr>\n",
       "    <tr>\n",
       "      <th>17</th>\n",
       "      <td>2025-05-27</td>\n",
       "      <td>StanChart sees Solana price rising over 50% by...</td>\n",
       "      <td>Positive</td>\n",
       "      <td>5</td>\n",
       "      <td>Standard Chartered has initiated coverage on S...</td>\n",
       "    </tr>\n",
       "    <tr>\n",
       "      <th>18</th>\n",
       "      <td>2025-05-27</td>\n",
       "      <td>Citi sees up to 8% downside for Stoxx 600 on T...</td>\n",
       "      <td>Negative</td>\n",
       "      <td>5</td>\n",
       "      <td>Citi analysts warn that the Stoxx 600 index co...</td>\n",
       "    </tr>\n",
       "    <tr>\n",
       "      <th>19</th>\n",
       "      <td>2025-05-26</td>\n",
       "      <td>Stock market today: S&amp;P 500 rallies on consume...</td>\n",
       "      <td>Positive</td>\n",
       "      <td>5</td>\n",
       "      <td>The S&amp;P 500 and other major U.S. stock indices...</td>\n",
       "    </tr>\n",
       "  </tbody>\n",
       "</table>\n",
       "</div>"
      ],
      "text/plain": [
       "   publish_date                                              title sentiment  \\\n",
       "0    2025-05-28  TSX up slightly ahead of NVIDIA earnings By In...   Neutral   \n",
       "1    2025-05-28  This is what matters most for today’s Nvidia e...   Neutral   \n",
       "3    2025-05-28  Tempus AI stock sinks following Spruce Point s...  Negative   \n",
       "4    2025-05-28  GameStop pulls the trigger, discloses $513 mil...  Positive   \n",
       "6    2025-05-28  Wells Fargo: Time to trim U.S. small caps afte...  Negative   \n",
       "7    2025-05-28  Barclays sees upside in stocks as re-risking s...  Positive   \n",
       "8    2025-05-28  Nvidia earnings, new Stellantis CEO, Japanese ...   Neutral   \n",
       "9    2025-05-28  sell Nvidia ahead of earnings? Here’s what our...   Neutral   \n",
       "10   2025-05-28  Bitcoin price today: slips to $108.5k but stay...  Positive   \n",
       "11   2025-05-27  Asia stocks rise tracking Wall St gains; Tech ...  Positive   \n",
       "14   2025-05-27  U.S. stocks steady ahead of Fed minutes, keenl...   Neutral   \n",
       "15   2025-05-27  JPM highlights top 6 European investment ideas...  Positive   \n",
       "17   2025-05-27  StanChart sees Solana price rising over 50% by...  Positive   \n",
       "18   2025-05-27  Citi sees up to 8% downside for Stoxx 600 on T...  Negative   \n",
       "19   2025-05-26  Stock market today: S&P 500 rallies on consume...  Positive   \n",
       "\n",
       "   importance                                            summary  \n",
       "0           5  The Canadian TSX index saw a slight gain, whil...  \n",
       "1           5  Mizuho analysts indicate that investors are pr...  \n",
       "3           5  Tempus AI stock fell 4% after a short-seller r...  \n",
       "4           5  GameStop has invested $513 million in Bitcoin,...  \n",
       "6           5  Wells Fargo analysts recommend investors reduc...  \n",
       "7           5  Barclays maintains a positive outlook for equi...  \n",
       "8           5  The article provides a market overview focusin...  \n",
       "9           5  The article discusses the anticipation surroun...  \n",
       "10          5  Bitcoin experienced a slight price dip to $108...  \n",
       "11          5  Most Asian stocks rose, tracking Wall Street g...  \n",
       "14          5  U.S. stocks traded steadily as investors await...  \n",
       "15          5  JPMorgan has outlined its top six European inv...  \n",
       "17          5  Standard Chartered has initiated coverage on S...  \n",
       "18          5  Citi analysts warn that the Stoxx 600 index co...  \n",
       "19          5  The S&P 500 and other major U.S. stock indices...  "
      ]
     },
     "execution_count": 14,
     "metadata": {},
     "output_type": "execute_result"
    }
   ],
   "source": [
    "df[df[\"importance\"]== \"5\"][[\"publish_date\",\"title\", \"sentiment\",\"importance\", \"summary\"]]"
   ]
  },
  {
   "cell_type": "code",
   "execution_count": 15,
   "id": "d090b2b6",
   "metadata": {},
   "outputs": [
    {
     "data": {
      "text/html": [
       "<div>\n",
       "<style scoped>\n",
       "    .dataframe tbody tr th:only-of-type {\n",
       "        vertical-align: middle;\n",
       "    }\n",
       "\n",
       "    .dataframe tbody tr th {\n",
       "        vertical-align: top;\n",
       "    }\n",
       "\n",
       "    .dataframe thead th {\n",
       "        text-align: right;\n",
       "    }\n",
       "</style>\n",
       "<table border=\"1\" class=\"dataframe\">\n",
       "  <thead>\n",
       "    <tr style=\"text-align: right;\">\n",
       "      <th></th>\n",
       "      <th>publish_date</th>\n",
       "      <th>publish_time</th>\n",
       "      <th>title</th>\n",
       "      <th>body_text</th>\n",
       "      <th>url</th>\n",
       "      <th>predicted</th>\n",
       "      <th>sentiment</th>\n",
       "      <th>importance</th>\n",
       "      <th>summary</th>\n",
       "    </tr>\n",
       "  </thead>\n",
       "  <tbody>\n",
       "  </tbody>\n",
       "</table>\n",
       "</div>"
      ],
      "text/plain": [
       "Empty DataFrame\n",
       "Columns: [publish_date, publish_time, title, body_text, url, predicted, sentiment, importance, summary]\n",
       "Index: []"
      ]
     },
     "metadata": {},
     "output_type": "display_data"
    }
   ],
   "source": [
    "display(df[df['sentiment']==''])\n",
    "df = df[df['sentiment'] != '']"
   ]
  },
  {
   "cell_type": "code",
   "execution_count": 16,
   "id": "263225cc",
   "metadata": {},
   "outputs": [],
   "source": [
    "df = df[df['sentiment'].isin(['Positive', 'Negative', 'Neutral'])]\n",
    "df = df[df['importance'].isin(['1', '2', '3', '4', '5'])]"
   ]
  },
  {
   "cell_type": "code",
   "execution_count": 17,
   "id": "040c6042",
   "metadata": {},
   "outputs": [
    {
     "data": {
      "text/plain": [
       "<Axes: title={'center': 'Sentiment Distribution'}, xlabel='sentiment'>"
      ]
     },
     "execution_count": 17,
     "metadata": {},
     "output_type": "execute_result"
    },
    {
     "data": {
      "image/png": "[encoded data removed]",
      "text/plain": [
       "<Figure size 640x480 with 1 Axes>"
      ]
     },
     "metadata": {},
     "output_type": "display_data"
    }
   ],
   "source": [
    "df['sentiment'].value_counts().plot(kind='bar', title='Sentiment Distribution')"
   ]
  },
  {
   "cell_type": "code",
   "execution_count": 18,
   "id": "f6472de3",
   "metadata": {},
   "outputs": [
    {
     "data": {
      "text/plain": [
       "<Axes: title={'center': 'Importance Distribution'}, xlabel='importance'>"
      ]
     },
     "execution_count": 18,
     "metadata": {},
     "output_type": "execute_result"
    },
    {
     "data": {
      "image/png": "[encoded data removed]",
      "text/plain": [
       "<Figure size 640x480 with 1 Axes>"
      ]
     },
     "metadata": {},
     "output_type": "display_data"
    }
   ],
   "source": [
    "df['importance'].value_counts().sort_index().plot(kind='bar', title='Importance Distribution')"
   ]
  },
  {
   "cell_type": "code",
   "execution_count": 19,
   "id": "ec798206",
   "metadata": {},
   "outputs": [],
   "source": [
    "TICKER=current_stock"
   ]
  },
  {
   "cell_type": "code",
   "execution_count": 20,
   "id": "f0b00e4b",
   "metadata": {},
   "outputs": [],
   "source": [
    "df[df['sentiment']=='']\n",
    "df = df[df['sentiment'] != '']"
   ]
  },
  {
   "cell_type": "code",
   "execution_count": 21,
   "id": "35d26f9b",
   "metadata": {},
   "outputs": [],
   "source": [
    "def calculate_sentiment_score(df):\n",
    "    sentiment_scores = {\n",
    "        'Positive': 1,\n",
    "        'Negative': -1,\n",
    "        'Neutral': 0\n",
    "    }\n",
    "    \n",
    "    df['sentiment_score'] = df['sentiment'].map(sentiment_scores)\n",
    "    \n",
    "    df['weighted_score'] = df['sentiment_score'] * df['importance'].astype(int)\n",
    "    \n",
    "    total_importance = df['importance'].astype(int).sum()\n",
    "    \n",
    "    if total_importance == 0:\n",
    "        return 0\n",
    "    \n",
    "    sentiment_score = df['weighted_score'].sum() / total_importance\n",
    "    return sentiment_score"
   ]
  },
  {
   "cell_type": "code",
   "execution_count": 22,
   "id": "522496ee",
   "metadata": {},
   "outputs": [
    {
     "name": "stdout",
     "output_type": "stream",
     "text": [
      "Sentiment Score for news: 0.29\n"
     ]
    }
   ],
   "source": [
    "print(f\"Sentiment Score for {TICKER}: {calculate_sentiment_score(df).round(2)}\")"
   ]
  },
  {
   "cell_type": "code",
   "execution_count": 23,
   "id": "89ff0738",
   "metadata": {},
   "outputs": [],
   "source": [
    "import datetime\n",
    "\n",
    "df.drop(columns=['predicted','body_text'],inplace=True)\n",
    "now = datetime.datetime.now()\n",
    "date_time = now.strftime(\"%Y-%m-%d %H-%M-%S\").strip().replace(' ', '_')\n",
    "df.to_csv(f\"Output/Gemini/Gemini_{TICKER}_{date_time}.csv\", index=False)"
   ]
  }
 ],
 "metadata": {
  "kernelspec": {
   "display_name": "Python 3",
   "language": "python",
   "name": "python3"
  },
  "language_info": {
   "codemirror_mode": {
    "name": "ipython",
    "version": 3
   },
   "file_extension": ".py",
   "mimetype": "text/x-python",
   "name": "python",
   "nbconvert_exporter": "python",
   "pygments_lexer": "ipython3",
   "version": "3.11.9"
  }
 },
 "nbformat": 4,
 "nbformat_minor": 5
}
