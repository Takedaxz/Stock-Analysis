{
 "cells": [
  {
   "cell_type": "code",
   "execution_count": 1,
   "id": "504d9a21",
   "metadata": {},
   "outputs": [],
   "source": [
    "import pandas as pd\n",
    "import numpy as np\n",
    "import datetime"
   ]
  },
  {
   "cell_type": "markdown",
   "id": "08f54654",
   "metadata": {},
   "source": [
    "#### OPENROUTER API\n",
    "- provide only 50 req/day"
   ]
  },
  {
   "cell_type": "code",
   "execution_count": 2,
   "id": "9365baf4",
   "metadata": {},
   "outputs": [
    {
     "name": "stdout",
     "output_type": "stream",
     "text": [
      "OPENROUTER_AI_API_KEY loaded successfully.\n"
     ]
    }
   ],
   "source": [
    "import os\n",
    "from dotenv import load_dotenv\n",
    "\n",
    "load_dotenv(\"secret.env\")\n",
    "\n",
    "api_key = os.getenv(\"OPENROUTER_AI_API_KEY\")\n",
    "\n",
    "if api_key is None:\n",
    "    print(\"Error: OPENROUTER_AI_API_KEY not found in .env file or environment variables.\")\n",
    "else:\n",
    "    print(\"OPENROUTER_AI_API_KEY loaded successfully.\")"
   ]
  },
  {
   "cell_type": "code",
   "execution_count": 3,
   "id": "827827c9",
   "metadata": {},
   "outputs": [
    {
     "name": "stdout",
     "output_type": "stream",
     "text": [
      "{\n",
      "  \"data\": {\n",
      "    \"label\": \"sk-or-v1-4eb...7b1\",\n",
      "    \"limit\": null,\n",
      "    \"usage\": 0.12919039,\n",
      "    \"is_provisioning_key\": false,\n",
      "    \"limit_remaining\": null,\n",
      "    \"is_free_tier\": true,\n",
      "    \"rate_limit\": {\n",
      "      \"requests\": 10,\n",
      "      \"interval\": \"10s\"\n",
      "    }\n",
      "  }\n",
      "}\n"
     ]
    }
   ],
   "source": [
    "import requests\n",
    "import json\n",
    "response = requests.get(\n",
    "  url=\"https://openrouter.ai/api/v1/auth/key\",\n",
    "  headers={\n",
    "    \"Authorization\": f\"Bearer {api_key}\"\n",
    "  }\n",
    ")\n",
    "print(json.dumps(response.json(), indent=2))"
   ]
  },
  {
   "cell_type": "code",
   "execution_count": 4,
   "id": "e842292d",
   "metadata": {},
   "outputs": [],
   "source": [
    "from openai import OpenAI\n",
    "\n",
    "client = OpenAI(\n",
    "  base_url=\"https://openrouter.ai/api/v1\",\n",
    "  api_key=api_key,\n",
    ")"
   ]
  },
  {
   "cell_type": "code",
   "execution_count": 5,
   "id": "29ab92f1",
   "metadata": {},
   "outputs": [],
   "source": [
    "prompt = \"\"\"You are a financial news analyst specializing in stock market impact. Your task is to analyze the provided news article, summarize its core content concisely, determine its sentiment (positive, negative, or neutral), and assess its importance to the specified stock.\n",
    "\n",
    "Here is the news from stock [STOCK] title and body:\n",
    "---\n",
    "[TITLE]\n",
    "---\n",
    "[BODY]\n",
    "---\n",
    "\n",
    "Please provide your analysis in the following format (Don't forget to make space between the sections as shown):\n",
    "\n",
    "**Sentiment:**\n",
    "[Positive / Negative / Neutral]\n",
    "\n",
    "**Summary:**\n",
    "[Your concise summary of the article, typically 2-3 sentences.]\n",
    "\n",
    "**Reasoning for Sentiment:**\n",
    "[Brief explanation (1-2 sentences) of why you categorized the sentiment as such, referencing key points or tone from the article.]\n",
    "\n",
    "**Importance to Stock [STOCK]:**\n",
    "[1-5, where 1 is minimal importance and 5 is very high importance.] (Answer only in number 1-5)\n",
    "\n",
    "**Reasoning for Importance:**\n",
    "[Brief explanation (1-2 sentences) of why you assigned this importance score, referencing specific details from the article that would impact the stock.]\"\"\""
   ]
  },
  {
   "cell_type": "code",
   "execution_count": null,
   "id": "0ade5869",
   "metadata": {},
   "outputs": [
    {
     "data": {
      "text/html": [
       "<div>\n",
       "<style scoped>\n",
       "    .dataframe tbody tr th:only-of-type {\n",
       "        vertical-align: middle;\n",
       "    }\n",
       "\n",
       "    .dataframe tbody tr th {\n",
       "        vertical-align: top;\n",
       "    }\n",
       "\n",
       "    .dataframe thead th {\n",
       "        text-align: right;\n",
       "    }\n",
       "</style>\n",
       "<table border=\"1\" class=\"dataframe\">\n",
       "  <thead>\n",
       "    <tr style=\"text-align: right;\">\n",
       "      <th></th>\n",
       "      <th>publish_date</th>\n",
       "      <th>publish_time</th>\n",
       "      <th>title</th>\n",
       "      <th>body_text</th>\n",
       "      <th>url</th>\n",
       "    </tr>\n",
       "  </thead>\n",
       "  <tbody>\n",
       "    <tr>\n",
       "      <th>0</th>\n",
       "      <td>2025-05-27</td>\n",
       "      <td>10:33</td>\n",
       "      <td>US Consumer bounces back sharply in May By Inv...</td>\n",
       "      <td>Investing.com -- Consumer confidence rebounded...</td>\n",
       "      <td>https://www.investing.com/news/economy-news/us...</td>\n",
       "    </tr>\n",
       "    <tr>\n",
       "      <th>1</th>\n",
       "      <td>2025-05-27</td>\n",
       "      <td>10:29</td>\n",
       "      <td>Eli Lilly expands pain pipeline with acquisiti...</td>\n",
       "      <td>Investing.com -- Eli Lilly and Company (NYSE: ...</td>\n",
       "      <td>https://www.investing.com/news/stock-market-ne...</td>\n",
       "    </tr>\n",
       "    <tr>\n",
       "      <th>2</th>\n",
       "      <td>2025-05-27</td>\n",
       "      <td>09:41</td>\n",
       "      <td>Lynx: Risk priced in, Nvidia could surprise to...</td>\n",
       "      <td>Investing.com -- Nvidia stock could break out ...</td>\n",
       "      <td>https://www.investing.com/news/stock-market-ne...</td>\n",
       "    </tr>\n",
       "    <tr>\n",
       "      <th>3</th>\n",
       "      <td>2025-05-27</td>\n",
       "      <td>09:16</td>\n",
       "      <td>Trump Media &amp; Technology Group Announces $2.5B...</td>\n",
       "      <td>Trump Media and Technology Group Corp. (Nasdaq...</td>\n",
       "      <td>https://www.investing.com/news/cryptocurrency-...</td>\n",
       "    </tr>\n",
       "    <tr>\n",
       "      <th>4</th>\n",
       "      <td>2025-05-27</td>\n",
       "      <td>09:15</td>\n",
       "      <td>SoundHound shares jump as Piper Sandler starts...</td>\n",
       "      <td>Investing.com -- Piper Sandler has initiated c...</td>\n",
       "      <td>https://www.investing.com/news/stock-market-ne...</td>\n",
       "    </tr>\n",
       "  </tbody>\n",
       "</table>\n",
       "</div>"
      ],
      "text/plain": [
       "  publish_date publish_time  \\\n",
       "0   2025-05-27        10:33   \n",
       "1   2025-05-27        10:29   \n",
       "2   2025-05-27        09:41   \n",
       "3   2025-05-27        09:16   \n",
       "4   2025-05-27        09:15   \n",
       "\n",
       "                                               title  \\\n",
       "0  US Consumer bounces back sharply in May By Inv...   \n",
       "1  Eli Lilly expands pain pipeline with acquisiti...   \n",
       "2  Lynx: Risk priced in, Nvidia could surprise to...   \n",
       "3  Trump Media & Technology Group Announces $2.5B...   \n",
       "4  SoundHound shares jump as Piper Sandler starts...   \n",
       "\n",
       "                                           body_text  \\\n",
       "0  Investing.com -- Consumer confidence rebounded...   \n",
       "1  Investing.com -- Eli Lilly and Company (NYSE: ...   \n",
       "2  Investing.com -- Nvidia stock could break out ...   \n",
       "3  Trump Media and Technology Group Corp. (Nasdaq...   \n",
       "4  Investing.com -- Piper Sandler has initiated c...   \n",
       "\n",
       "                                                 url  \n",
       "0  https://www.investing.com/news/economy-news/us...  \n",
       "1  https://www.investing.com/news/stock-market-ne...  \n",
       "2  https://www.investing.com/news/stock-market-ne...  \n",
       "3  https://www.investing.com/news/cryptocurrency-...  \n",
       "4  https://www.investing.com/news/stock-market-ne...  "
      ]
     },
     "metadata": {},
     "output_type": "display_data"
    }
   ],
   "source": [
    "df = pd.read_csv(\"../../DataCollection/Data/Trending/2025-05-27_22-43-20.csv\")\n",
    "display(df.head())"
   ]
  },
  {
   "cell_type": "code",
   "execution_count": 7,
   "id": "3e737b8f",
   "metadata": {},
   "outputs": [
    {
     "data": {
      "text/plain": [
       "publish_date    0\n",
       "publish_time    0\n",
       "title           0\n",
       "body_text       0\n",
       "url             0\n",
       "dtype: int64"
      ]
     },
     "execution_count": 7,
     "metadata": {},
     "output_type": "execute_result"
    }
   ],
   "source": [
    "df[\"title\"] = df[\"title\"].astype(str)\n",
    "df[\"body_text\"] = df[\"body_text\"].astype(str)\n",
    "df.isnull().sum()"
   ]
  },
  {
   "cell_type": "code",
   "execution_count": 8,
   "id": "5d8f1f44",
   "metadata": {},
   "outputs": [
    {
     "name": "stderr",
     "output_type": "stream",
     "text": [
      "Prompting:   0%|          | 0/20 [00:00<?, ?it/s]"
     ]
    },
    {
     "name": "stderr",
     "output_type": "stream",
     "text": [
      "Prompting: 100%|██████████| 20/20 [03:11<00:00,  9.57s/it]\n"
     ]
    }
   ],
   "source": [
    "from tqdm import tqdm\n",
    "predicted = []\n",
    "\n",
    "for index, row in tqdm(df.iterrows(), total=len(df), desc=\"Prompting\"): \n",
    "    \n",
    "    current_stock = row.get(\"ticker\", \"news\")\n",
    "\n",
    "    filled_prompt = prompt.replace(\"[STOCK]\", current_stock)\n",
    "    filled_prompt = filled_prompt.replace(\"[TITLE]\", row[\"title\"])\n",
    "    filled_prompt = filled_prompt.replace(\"[BODY]\", row[\"body_text\"])\n",
    "    \n",
    "    response = client.chat.completions.create(\n",
    "        extra_body={\n",
    "            \"provider\": {\n",
    "            \"sort\": \"throughput\"\n",
    "            }\n",
    "        },\n",
    "        model=\"deepseek/deepseek-chat-v3-0324:free\",\n",
    "        messages=[\n",
    "            {\"role\": \"system\", \"content\": \"You are a financial news analyst.\"},\n",
    "            {\"role\": \"user\", \"content\": filled_prompt}\n",
    "        ]\n",
    "    )\n",
    "    \n",
    "    predicted.append(response.choices[0].message.content)"
   ]
  },
  {
   "cell_type": "code",
   "execution_count": 9,
   "id": "a37d78e9",
   "metadata": {},
   "outputs": [],
   "source": [
    "predicted = np.array(predicted)\n",
    "df[\"predicted\"] = predicted"
   ]
  },
  {
   "cell_type": "code",
   "execution_count": 10,
   "id": "3897770f",
   "metadata": {},
   "outputs": [],
   "source": [
    "df[\"sentiment\"] = df[\"predicted\"].apply(lambda x: x.split(\"\\n\")[1].strip() if len(x.split(\"\\n\")) > 1 else None)\n",
    "df[\"importance\"] = df[\"predicted\"].apply(lambda x: x.split(\"\\n\")[10].strip() if len(x.split(\"\\n\")) > 10 else None)\n",
    "df[\"summary\"] = df[\"predicted\"].apply(lambda x: x.split(\"\\n\")[4].strip() if len(x.split(\"\\n\")) > 4 else None)"
   ]
  },
  {
   "cell_type": "code",
   "execution_count": 11,
   "id": "6ff78c43",
   "metadata": {},
   "outputs": [
    {
     "data": {
      "text/html": [
       "<div>\n",
       "<style scoped>\n",
       "    .dataframe tbody tr th:only-of-type {\n",
       "        vertical-align: middle;\n",
       "    }\n",
       "\n",
       "    .dataframe tbody tr th {\n",
       "        vertical-align: top;\n",
       "    }\n",
       "\n",
       "    .dataframe thead th {\n",
       "        text-align: right;\n",
       "    }\n",
       "</style>\n",
       "<table border=\"1\" class=\"dataframe\">\n",
       "  <thead>\n",
       "    <tr style=\"text-align: right;\">\n",
       "      <th></th>\n",
       "      <th>title</th>\n",
       "      <th>sentiment</th>\n",
       "      <th>importance</th>\n",
       "      <th>summary</th>\n",
       "    </tr>\n",
       "  </thead>\n",
       "  <tbody>\n",
       "    <tr>\n",
       "      <th>0</th>\n",
       "      <td>US Consumer bounces back sharply in May By Inv...</td>\n",
       "      <td>Positive</td>\n",
       "      <td>4</td>\n",
       "      <td>Consumer confidence rebounded sharply in May, ...</td>\n",
       "    </tr>\n",
       "    <tr>\n",
       "      <th>1</th>\n",
       "      <td>Eli Lilly expands pain pipeline with acquisiti...</td>\n",
       "      <td>Positive</td>\n",
       "      <td>4</td>\n",
       "      <td>Eli Lilly is acquiring SiteOne Therapeutics fo...</td>\n",
       "    </tr>\n",
       "    <tr>\n",
       "      <th>2</th>\n",
       "      <td>Lynx: Risk priced in, Nvidia could surprise to...</td>\n",
       "      <td>Positive</td>\n",
       "      <td>5</td>\n",
       "      <td>Lynx Equity raises Nvidia's price target to $1...</td>\n",
       "    </tr>\n",
       "    <tr>\n",
       "      <th>3</th>\n",
       "      <td>Trump Media &amp; Technology Group Announces $2.5B...</td>\n",
       "      <td>Positive</td>\n",
       "      <td>5</td>\n",
       "      <td>Trump Media &amp; Technology Group announced a $2....</td>\n",
       "    </tr>\n",
       "    <tr>\n",
       "      <th>4</th>\n",
       "      <td>SoundHound shares jump as Piper Sandler starts...</td>\n",
       "      <td>Positive</td>\n",
       "      <td>4</td>\n",
       "      <td>Piper Sandler initiated coverage on SoundHound...</td>\n",
       "    </tr>\n",
       "    <tr>\n",
       "      <th>5</th>\n",
       "      <td>25% tariff not enough to push Apple to reshore...</td>\n",
       "      <td>Negative</td>\n",
       "      <td>3</td>\n",
       "      <td>Morgan Stanley analysts argue that a 25% tarif...</td>\n",
       "    </tr>\n",
       "    <tr>\n",
       "      <th>6</th>\n",
       "      <td>Next 300 points likely up for the S&amp;P 500, say...</td>\n",
       "      <td>Positive</td>\n",
       "      <td>4</td>\n",
       "      <td>JPMorgan analysts predict a 300-point upside f...</td>\n",
       "    </tr>\n",
       "    <tr>\n",
       "      <th>7</th>\n",
       "      <td>JPMorgan shifts to bullish stance on crypto am...</td>\n",
       "      <td>Positive</td>\n",
       "      <td>4</td>\n",
       "      <td>JPMorgan has shifted to a bullish stance on di...</td>\n",
       "    </tr>\n",
       "    <tr>\n",
       "      <th>8</th>\n",
       "      <td>New surveys show declining interest in EVs and...</td>\n",
       "      <td>Negative</td>\n",
       "      <td>4</td>\n",
       "      <td>Recent surveys indicate declining consumer int...</td>\n",
       "    </tr>\n",
       "    <tr>\n",
       "      <th>9</th>\n",
       "      <td>Temu owner PDD Holdings shares fall sharply on...</td>\n",
       "      <td>Negative</td>\n",
       "      <td>5</td>\n",
       "      <td>PDD Holdings (owner of Temu) reported Q1 earni...</td>\n",
       "    </tr>\n",
       "    <tr>\n",
       "      <th>10</th>\n",
       "      <td>Citi sees up to 8% downside for Stoxx 600 on T...</td>\n",
       "      <td>Negative</td>\n",
       "      <td>4</td>\n",
       "      <td>Citi analysts warn that European equities, par...</td>\n",
       "    </tr>\n",
       "    <tr>\n",
       "      <th>11</th>\n",
       "      <td>What could be the impact of a 50% tariff on EU...</td>\n",
       "      <td>Negative</td>\n",
       "      <td>4</td>\n",
       "      <td>The article discusses the potential economic i...</td>\n",
       "    </tr>\n",
       "    <tr>\n",
       "      <th>12</th>\n",
       "      <td>Higher U.S. futures, new Nvidia chip, falling ...</td>\n",
       "      <td>Neutral</td>\n",
       "      <td>4</td>\n",
       "      <td>The article covers multiple market-moving even...</td>\n",
       "    </tr>\n",
       "    <tr>\n",
       "      <th>13</th>\n",
       "      <td>By Investing.com</td>\n",
       "      <td>Positive</td>\n",
       "      <td>4</td>\n",
       "      <td>Bitcoin edged higher near record levels amid r...</td>\n",
       "    </tr>\n",
       "    <tr>\n",
       "      <th>14</th>\n",
       "      <td>Gold prices sink as Trump EU tariff delay spur...</td>\n",
       "      <td>Negative</td>\n",
       "      <td>3</td>\n",
       "      <td>Gold prices declined in Asian trading due to i...</td>\n",
       "    </tr>\n",
       "    <tr>\n",
       "      <th>15</th>\n",
       "      <td>BYD shares slide further from record highs ami...</td>\n",
       "      <td>Negative</td>\n",
       "      <td>4</td>\n",
       "      <td>BYD's shares declined further from record high...</td>\n",
       "    </tr>\n",
       "    <tr>\n",
       "      <th>16</th>\n",
       "      <td>Tesla Europe sales nearly halve in April as co...</td>\n",
       "      <td>Negative</td>\n",
       "      <td>4</td>\n",
       "      <td>Tesla's European sales plummeted by 49% year-o...</td>\n",
       "    </tr>\n",
       "    <tr>\n",
       "      <th>17</th>\n",
       "      <td>Asia stocks muted amid trade caution; Japan re...</td>\n",
       "      <td>Neutral</td>\n",
       "      <td>4</td>\n",
       "      <td>Asian stocks were mostly flat or slightly lowe...</td>\n",
       "    </tr>\n",
       "    <tr>\n",
       "      <th>18</th>\n",
       "      <td>U.S. stocks surge after Trump delays EU tariff...</td>\n",
       "      <td>Positive</td>\n",
       "      <td>4</td>\n",
       "      <td>U.S. stocks surged following President Trump's...</td>\n",
       "    </tr>\n",
       "    <tr>\n",
       "      <th>19</th>\n",
       "      <td>Citi raises short-term gold price target to $3...</td>\n",
       "      <td>Positive</td>\n",
       "      <td>4</td>\n",
       "      <td>Citi has raised its short-term gold price targ...</td>\n",
       "    </tr>\n",
       "  </tbody>\n",
       "</table>\n",
       "</div>"
      ],
      "text/plain": [
       "                                                title sentiment importance  \\\n",
       "0   US Consumer bounces back sharply in May By Inv...  Positive          4   \n",
       "1   Eli Lilly expands pain pipeline with acquisiti...  Positive          4   \n",
       "2   Lynx: Risk priced in, Nvidia could surprise to...  Positive          5   \n",
       "3   Trump Media & Technology Group Announces $2.5B...  Positive          5   \n",
       "4   SoundHound shares jump as Piper Sandler starts...  Positive          4   \n",
       "5   25% tariff not enough to push Apple to reshore...  Negative          3   \n",
       "6   Next 300 points likely up for the S&P 500, say...  Positive          4   \n",
       "7   JPMorgan shifts to bullish stance on crypto am...  Positive          4   \n",
       "8   New surveys show declining interest in EVs and...  Negative          4   \n",
       "9   Temu owner PDD Holdings shares fall sharply on...  Negative          5   \n",
       "10  Citi sees up to 8% downside for Stoxx 600 on T...  Negative          4   \n",
       "11  What could be the impact of a 50% tariff on EU...  Negative          4   \n",
       "12  Higher U.S. futures, new Nvidia chip, falling ...   Neutral          4   \n",
       "13                                   By Investing.com  Positive          4   \n",
       "14  Gold prices sink as Trump EU tariff delay spur...  Negative          3   \n",
       "15  BYD shares slide further from record highs ami...  Negative          4   \n",
       "16  Tesla Europe sales nearly halve in April as co...  Negative          4   \n",
       "17  Asia stocks muted amid trade caution; Japan re...   Neutral          4   \n",
       "18  U.S. stocks surge after Trump delays EU tariff...  Positive          4   \n",
       "19  Citi raises short-term gold price target to $3...  Positive          4   \n",
       "\n",
       "                                              summary  \n",
       "0   Consumer confidence rebounded sharply in May, ...  \n",
       "1   Eli Lilly is acquiring SiteOne Therapeutics fo...  \n",
       "2   Lynx Equity raises Nvidia's price target to $1...  \n",
       "3   Trump Media & Technology Group announced a $2....  \n",
       "4   Piper Sandler initiated coverage on SoundHound...  \n",
       "5   Morgan Stanley analysts argue that a 25% tarif...  \n",
       "6   JPMorgan analysts predict a 300-point upside f...  \n",
       "7   JPMorgan has shifted to a bullish stance on di...  \n",
       "8   Recent surveys indicate declining consumer int...  \n",
       "9   PDD Holdings (owner of Temu) reported Q1 earni...  \n",
       "10  Citi analysts warn that European equities, par...  \n",
       "11  The article discusses the potential economic i...  \n",
       "12  The article covers multiple market-moving even...  \n",
       "13  Bitcoin edged higher near record levels amid r...  \n",
       "14  Gold prices declined in Asian trading due to i...  \n",
       "15  BYD's shares declined further from record high...  \n",
       "16  Tesla's European sales plummeted by 49% year-o...  \n",
       "17  Asian stocks were mostly flat or slightly lowe...  \n",
       "18  U.S. stocks surged following President Trump's...  \n",
       "19  Citi has raised its short-term gold price targ...  "
      ]
     },
     "execution_count": 11,
     "metadata": {},
     "output_type": "execute_result"
    }
   ],
   "source": [
    "df[[\"title\", \"sentiment\", \"importance\", \"summary\"]]"
   ]
  },
  {
   "cell_type": "code",
   "execution_count": 12,
   "id": "0cc21ff9",
   "metadata": {},
   "outputs": [],
   "source": [
    "df = df[df['sentiment'].isin(['Positive', 'Negative', 'Neutral'])]\n",
    "df = df[df['importance'].isin(['1', '2', '3', '4', '5'])]"
   ]
  },
  {
   "cell_type": "code",
   "execution_count": 13,
   "id": "f1e590be",
   "metadata": {},
   "outputs": [
    {
     "data": {
      "text/plain": [
       "<Axes: title={'center': 'Sentiment Distribution'}, xlabel='sentiment'>"
      ]
     },
     "execution_count": 13,
     "metadata": {},
     "output_type": "execute_result"
    },
    {
     "data": {
      "image/png": "[encoded data removed]",
      "text/plain": [
       "<Figure size 640x480 with 1 Axes>"
      ]
     },
     "metadata": {},
     "output_type": "display_data"
    }
   ],
   "source": [
    "df['sentiment'].value_counts().plot(kind='bar', title='Sentiment Distribution')"
   ]
  },
  {
   "cell_type": "code",
   "execution_count": 14,
   "id": "3da44f02",
   "metadata": {},
   "outputs": [
    {
     "data": {
      "text/plain": [
       "<Axes: title={'center': 'Importance Distribution'}, xlabel='importance'>"
      ]
     },
     "execution_count": 14,
     "metadata": {},
     "output_type": "execute_result"
    },
    {
     "data": {
      "image/png": "[encoded data removed]",
      "text/plain": [
       "<Figure size 640x480 with 1 Axes>"
      ]
     },
     "metadata": {},
     "output_type": "display_data"
    }
   ],
   "source": [
    "df['importance'].value_counts().sort_index().plot(kind='bar', title='Importance Distribution')"
   ]
  },
  {
   "cell_type": "code",
   "execution_count": 15,
   "id": "69495d45",
   "metadata": {},
   "outputs": [],
   "source": [
    "TICKER=current_stock"
   ]
  },
  {
   "cell_type": "code",
   "execution_count": 16,
   "id": "bc933172",
   "metadata": {},
   "outputs": [],
   "source": [
    "def calculate_sentiment_score(df):\n",
    "    sentiment_scores = {\n",
    "        'Positive': 1,\n",
    "        'Negative': -1,\n",
    "        'Neutral': 0\n",
    "    }\n",
    "    \n",
    "    df['sentiment_score'] = df['sentiment'].map(sentiment_scores)\n",
    "    \n",
    "    df['weighted_score'] = df['sentiment_score'] * df['importance'].astype(int)\n",
    "    \n",
    "    total_importance = df['importance'].astype(int).sum()\n",
    "    \n",
    "    if total_importance == 0:\n",
    "        return 0\n",
    "    \n",
    "    sentiment_score = df['weighted_score'].sum() / total_importance\n",
    "    return sentiment_score"
   ]
  },
  {
   "cell_type": "code",
   "execution_count": 17,
   "id": "912f53d4",
   "metadata": {},
   "outputs": [
    {
     "name": "stdout",
     "output_type": "stream",
     "text": [
      "Sentiment Score for news: 0.14\n"
     ]
    }
   ],
   "source": [
    "print(f\"Sentiment Score for {TICKER}: {calculate_sentiment_score(df).round(2)}\")"
   ]
  },
  {
   "cell_type": "code",
   "execution_count": 18,
   "id": "ddddab2b",
   "metadata": {},
   "outputs": [],
   "source": [
    "import datetime\n",
    "\n",
    "df.drop(columns=['predicted','body_text'],inplace=True)\n",
    "now = datetime.datetime.now()\n",
    "date_time = now.strftime(\"%Y-%m-%d %H-%M-%S\").strip().replace(' ', '_')\n",
    "df.to_csv(f\"Output/DeepSeek/DeepSeek_{TICKER}_{date_time}.csv\", index=False)"
   ]
  }
 ],
 "metadata": {
  "kernelspec": {
   "display_name": "Python 3",
   "language": "python",
   "name": "python3"
  },
  "language_info": {
   "codemirror_mode": {
    "name": "ipython",
    "version": 3
   },
   "file_extension": ".py",
   "mimetype": "text/x-python",
   "name": "python",
   "nbconvert_exporter": "python",
   "pygments_lexer": "ipython3",
   "version": "3.11.9"
  }
 },
 "nbformat": 4,
 "nbformat_minor": 5
}
