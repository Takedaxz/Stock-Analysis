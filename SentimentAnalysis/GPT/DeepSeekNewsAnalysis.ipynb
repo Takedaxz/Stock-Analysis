{
 "cells": [
  {
   "cell_type": "code",
   "execution_count": 1,
   "id": "504d9a21",
   "metadata": {},
   "outputs": [],
   "source": [
    "import pandas as pd\n",
    "import numpy as np\n",
    "import datetime"
   ]
  },
  {
   "cell_type": "markdown",
   "id": "08f54654",
   "metadata": {},
   "source": [
    "#### OPENROUTER API\n",
    "- provide only 50 req/day"
   ]
  },
  {
   "cell_type": "code",
   "execution_count": 2,
   "id": "9365baf4",
   "metadata": {},
   "outputs": [
    {
     "name": "stdout",
     "output_type": "stream",
     "text": [
      "OPENROUTER_AI_API_KEY loaded successfully.\n"
     ]
    }
   ],
   "source": [
    "import os\n",
    "from dotenv import load_dotenv\n",
    "\n",
    "load_dotenv(\"secret.env\")\n",
    "\n",
    "api_key = os.getenv(\"OPENROUTER_AI_API_KEY\")\n",
    "\n",
    "if api_key is None:\n",
    "    print(\"Error: OPENROUTER_AI_API_KEY not found in .env file or environment variables.\")\n",
    "else:\n",
    "    print(\"OPENROUTER_AI_API_KEY loaded successfully.\")"
   ]
  },
  {
   "cell_type": "code",
   "execution_count": 3,
   "id": "827827c9",
   "metadata": {},
   "outputs": [
    {
     "name": "stdout",
     "output_type": "stream",
     "text": [
      "{\n",
      "  \"data\": {\n",
      "    \"label\": \"sk-or-v1-4eb...7b1\",\n",
      "    \"limit\": null,\n",
      "    \"usage\": 0.12919039,\n",
      "    \"is_provisioning_key\": false,\n",
      "    \"limit_remaining\": null,\n",
      "    \"is_free_tier\": true,\n",
      "    \"rate_limit\": {\n",
      "      \"requests\": 10,\n",
      "      \"interval\": \"10s\"\n",
      "    }\n",
      "  }\n",
      "}\n"
     ]
    }
   ],
   "source": [
    "import requests\n",
    "import json\n",
    "response = requests.get(\n",
    "  url=\"https://openrouter.ai/api/v1/auth/key\",\n",
    "  headers={\n",
    "    \"Authorization\": f\"Bearer {api_key}\"\n",
    "  }\n",
    ")\n",
    "print(json.dumps(response.json(), indent=2))"
   ]
  },
  {
   "cell_type": "code",
   "execution_count": 5,
   "id": "e842292d",
   "metadata": {},
   "outputs": [],
   "source": [
    "from openai import OpenAI\n",
    "\n",
    "client = OpenAI(\n",
    "  base_url=\"https://openrouter.ai/api/v1\",\n",
    "  api_key=api_key,\n",
    ")"
   ]
  },
  {
   "cell_type": "code",
   "execution_count": 6,
   "id": "29ab92f1",
   "metadata": {},
   "outputs": [],
   "source": [
    "prompt = \"\"\"You are a financial news analyst specializing in stock market impact. Your task is to analyze the provided news article, summarize its core content concisely, determine its sentiment (positive, negative, or neutral), and assess its importance to the specified stock.\n",
    "\n",
    "Here is the news from stock [STOCK] title and body:\n",
    "---\n",
    "[TITLE]\n",
    "---\n",
    "[BODY]\n",
    "---\n",
    "\n",
    "Please provide your analysis in the following format:\n",
    "\n",
    "**Sentiment:**\n",
    "[Positive / Negative / Neutral]\n",
    "\n",
    "**Summary:**\n",
    "[Your concise summary of the article, typically 2-3 sentences.]\n",
    "\n",
    "**Reasoning for Sentiment:**\n",
    "[Brief explanation (1-2 sentences) of why you categorized the sentiment as such, referencing key points or tone from the article.]\n",
    "\n",
    "**Importance to Stock [STOCK]:**\n",
    "[1-5, where 1 is minimal importance and 5 is very high importance.] (Answer only in number 1-5)\n",
    "\n",
    "**Reasoning for Importance:**\n",
    "[Brief explanation (1-2 sentences) of why you assigned this importance score, referencing specific details from the article that would impact the stock.]\"\"\""
   ]
  },
  {
   "cell_type": "code",
   "execution_count": 7,
   "id": "0ade5869",
   "metadata": {},
   "outputs": [
    {
     "data": {
      "text/html": [
       "<div>\n",
       "<style scoped>\n",
       "    .dataframe tbody tr th:only-of-type {\n",
       "        vertical-align: middle;\n",
       "    }\n",
       "\n",
       "    .dataframe tbody tr th {\n",
       "        vertical-align: top;\n",
       "    }\n",
       "\n",
       "    .dataframe thead th {\n",
       "        text-align: right;\n",
       "    }\n",
       "</style>\n",
       "<table border=\"1\" class=\"dataframe\">\n",
       "  <thead>\n",
       "    <tr style=\"text-align: right;\">\n",
       "      <th></th>\n",
       "      <th>ticker</th>\n",
       "      <th>publish_date</th>\n",
       "      <th>publish_time</th>\n",
       "      <th>title</th>\n",
       "      <th>body_text</th>\n",
       "      <th>url</th>\n",
       "    </tr>\n",
       "  </thead>\n",
       "  <tbody>\n",
       "    <tr>\n",
       "      <th>0</th>\n",
       "      <td>AMZN</td>\n",
       "      <td>2025-05-23</td>\n",
       "      <td>14:36</td>\n",
       "      <td>Amazon.com is sued over alleged sale of contam...</td>\n",
       "      <td>By Jonathan Stempel\\r\\n\\r\\n(Reuters) - Amazon....</td>\n",
       "      <td>https://www.investing.com/news/stock-market-ne...</td>\n",
       "    </tr>\n",
       "    <tr>\n",
       "      <th>1</th>\n",
       "      <td>AMZN</td>\n",
       "      <td>2025-05-23</td>\n",
       "      <td>14:14</td>\n",
       "      <td>Oracle to buy $40 billion of Nvidia chips for ...</td>\n",
       "      <td>(Reuters) -Oracle will spend around $40 billio...</td>\n",
       "      <td>https://www.investing.com/news/stock-market-ne...</td>\n",
       "    </tr>\n",
       "    <tr>\n",
       "      <th>2</th>\n",
       "      <td>AMZN</td>\n",
       "      <td>2025-05-23</td>\n",
       "      <td>09:19</td>\n",
       "      <td>Amazon not seeing notable impact from tariffs ...</td>\n",
       "      <td>Risk Disclosure: Trading in financial instrume...</td>\n",
       "      <td>https://www.investing.com/news/pro/amazon-not-...</td>\n",
       "    </tr>\n",
       "    <tr>\n",
       "      <th>3</th>\n",
       "      <td>AMZN</td>\n",
       "      <td>2025-05-23</td>\n",
       "      <td>09:04</td>\n",
       "      <td>Amazon Com Inc receives Investment Bank Analys...</td>\n",
       "      <td>Risk Disclosure: Trading in financial instrume...</td>\n",
       "      <td>https://www.investing.com/news/pro/da-davidson...</td>\n",
       "    </tr>\n",
       "    <tr>\n",
       "      <th>4</th>\n",
       "      <td>AMZN</td>\n",
       "      <td>2025-05-23</td>\n",
       "      <td>05:53</td>\n",
       "      <td>Wall St falls as Trump tariff threats spark ma...</td>\n",
       "      <td>By Chibuike Oguh\\r\\n\\r\\nNEW YORK (Reuters) -U....</td>\n",
       "      <td>https://www.investing.com/news/stock-market-ne...</td>\n",
       "    </tr>\n",
       "  </tbody>\n",
       "</table>\n",
       "</div>"
      ],
      "text/plain": [
       "  ticker publish_date publish_time  \\\n",
       "0   AMZN   2025-05-23        14:36   \n",
       "1   AMZN   2025-05-23        14:14   \n",
       "2   AMZN   2025-05-23        09:19   \n",
       "3   AMZN   2025-05-23        09:04   \n",
       "4   AMZN   2025-05-23        05:53   \n",
       "\n",
       "                                               title  \\\n",
       "0  Amazon.com is sued over alleged sale of contam...   \n",
       "1  Oracle to buy $40 billion of Nvidia chips for ...   \n",
       "2  Amazon not seeing notable impact from tariffs ...   \n",
       "3  Amazon Com Inc receives Investment Bank Analys...   \n",
       "4  Wall St falls as Trump tariff threats spark ma...   \n",
       "\n",
       "                                           body_text  \\\n",
       "0  By Jonathan Stempel\\r\\n\\r\\n(Reuters) - Amazon....   \n",
       "1  (Reuters) -Oracle will spend around $40 billio...   \n",
       "2  Risk Disclosure: Trading in financial instrume...   \n",
       "3  Risk Disclosure: Trading in financial instrume...   \n",
       "4  By Chibuike Oguh\\r\\n\\r\\nNEW YORK (Reuters) -U....   \n",
       "\n",
       "                                                 url  \n",
       "0  https://www.investing.com/news/stock-market-ne...  \n",
       "1  https://www.investing.com/news/stock-market-ne...  \n",
       "2  https://www.investing.com/news/pro/amazon-not-...  \n",
       "3  https://www.investing.com/news/pro/da-davidson...  \n",
       "4  https://www.investing.com/news/stock-market-ne...  "
      ]
     },
     "metadata": {},
     "output_type": "display_data"
    }
   ],
   "source": [
    "df = pd.read_csv(\"../../DataCollection/Data/News/AMZN_2025-05-26_13-36-10.csv\")\n",
    "display(df.head())"
   ]
  },
  {
   "cell_type": "code",
   "execution_count": 8,
   "id": "3e737b8f",
   "metadata": {},
   "outputs": [
    {
     "data": {
      "text/plain": [
       "ticker          0\n",
       "publish_date    0\n",
       "publish_time    0\n",
       "title           0\n",
       "body_text       0\n",
       "url             0\n",
       "dtype: int64"
      ]
     },
     "execution_count": 8,
     "metadata": {},
     "output_type": "execute_result"
    }
   ],
   "source": [
    "df[\"title\"] = df[\"title\"].astype(str)\n",
    "df[\"body_text\"] = df[\"body_text\"].astype(str)\n",
    "df.isnull().sum()"
   ]
  },
  {
   "cell_type": "code",
   "execution_count": 9,
   "id": "5d8f1f44",
   "metadata": {},
   "outputs": [
    {
     "name": "stderr",
     "output_type": "stream",
     "text": [
      "Prompting: 100%|██████████| 20/20 [02:18<00:00,  6.94s/it]\n"
     ]
    }
   ],
   "source": [
    "from tqdm import tqdm\n",
    "predicted = []\n",
    "\n",
    "for index, row in tqdm(df.iterrows(), total=len(df), desc=\"Prompting\"): \n",
    "    title = row[\"title\"]\n",
    "    body_text = row[\"body_text\"]\n",
    "    stock = row[\"ticker\"]\n",
    "    \n",
    "    prompt_with_data = prompt.replace(\"[TITLE]\", title).replace(\"[BODY]\", body_text).replace(\"[STOCK]\", stock)\n",
    "    \n",
    "    response = client.chat.completions.create(\n",
    "        extra_body={\n",
    "            \"provider\": {\n",
    "            \"sort\": \"throughput\"\n",
    "            }\n",
    "        },\n",
    "        model=\"deepseek/deepseek-chat-v3-0324:free\",\n",
    "        messages=[\n",
    "            {\"role\": \"system\", \"content\": \"You are a financial news analyst.\"},\n",
    "            {\"role\": \"user\", \"content\": prompt_with_data}\n",
    "        ]\n",
    "    )\n",
    "    \n",
    "    predicted.append(response.choices[0].message.content)"
   ]
  },
  {
   "cell_type": "code",
   "execution_count": 10,
   "id": "a37d78e9",
   "metadata": {},
   "outputs": [],
   "source": [
    "predicted = np.array(predicted)\n",
    "df[\"predicted\"] = predicted"
   ]
  },
  {
   "cell_type": "code",
   "execution_count": 11,
   "id": "3897770f",
   "metadata": {},
   "outputs": [],
   "source": [
    "df[\"sentiment\"] = df[\"predicted\"].apply(lambda x: x.split(\"\\n\")[1].strip() if len(x.split(\"\\n\")) > 1 else None)\n",
    "df[\"importance\"] = df[\"predicted\"].apply(lambda x: x.split(\"\\n\")[10].strip() if len(x.split(\"\\n\")) > 10 else None)\n",
    "df[\"summary\"] = df[\"predicted\"].apply(lambda x: x.split(\"\\n\")[4].strip() if len(x.split(\"\\n\")) > 4 else None)"
   ]
  },
  {
   "cell_type": "code",
   "execution_count": 12,
   "id": "6ff78c43",
   "metadata": {},
   "outputs": [
    {
     "data": {
      "text/html": [
       "<div>\n",
       "<style scoped>\n",
       "    .dataframe tbody tr th:only-of-type {\n",
       "        vertical-align: middle;\n",
       "    }\n",
       "\n",
       "    .dataframe tbody tr th {\n",
       "        vertical-align: top;\n",
       "    }\n",
       "\n",
       "    .dataframe thead th {\n",
       "        text-align: right;\n",
       "    }\n",
       "</style>\n",
       "<table border=\"1\" class=\"dataframe\">\n",
       "  <thead>\n",
       "    <tr style=\"text-align: right;\">\n",
       "      <th></th>\n",
       "      <th>title</th>\n",
       "      <th>sentiment</th>\n",
       "      <th>importance</th>\n",
       "      <th>summary</th>\n",
       "    </tr>\n",
       "  </thead>\n",
       "  <tbody>\n",
       "    <tr>\n",
       "      <th>0</th>\n",
       "      <td>Amazon.com is sued over alleged sale of contam...</td>\n",
       "      <td>Negative</td>\n",
       "      <td>3</td>\n",
       "      <td>Amazon.com is facing a lawsuit alleging the sa...</td>\n",
       "    </tr>\n",
       "    <tr>\n",
       "      <th>1</th>\n",
       "      <td>Oracle to buy $40 billion of Nvidia chips for ...</td>\n",
       "      <td>Positive</td>\n",
       "      <td>3</td>\n",
       "      <td>Oracle plans to spend $40 billion on Nvidia's ...</td>\n",
       "    </tr>\n",
       "    <tr>\n",
       "      <th>2</th>\n",
       "      <td>Amazon not seeing notable impact from tariffs ...</td>\n",
       "      <td>Positive</td>\n",
       "      <td>3</td>\n",
       "      <td>The article states that Amazon (AMZN) has not ...</td>\n",
       "    </tr>\n",
       "    <tr>\n",
       "      <th>3</th>\n",
       "      <td>Amazon Com Inc receives Investment Bank Analys...</td>\n",
       "      <td>Neutral</td>\n",
       "      <td>1</td>\n",
       "      <td>The article is a standard risk disclosure noti...</td>\n",
       "    </tr>\n",
       "    <tr>\n",
       "      <th>4</th>\n",
       "      <td>Wall St falls as Trump tariff threats spark ma...</td>\n",
       "      <td>Negative</td>\n",
       "      <td>4</td>\n",
       "      <td>U.S. stocks, including Amazon (AMZN), declined...</td>\n",
       "    </tr>\n",
       "    <tr>\n",
       "      <th>5</th>\n",
       "      <td>Workday Inc receives Investment Bank Analyst R...</td>\n",
       "      <td>Neutral</td>\n",
       "      <td>1</td>\n",
       "      <td>The article is a standard risk disclosure noti...</td>\n",
       "    </tr>\n",
       "    <tr>\n",
       "      <th>6</th>\n",
       "      <td>Nike receives Investment Bank Analyst Rating U...</td>\n",
       "      <td>Neutral</td>\n",
       "      <td>1</td>\n",
       "      <td>The article is a standard risk disclosure noti...</td>\n",
       "    </tr>\n",
       "    <tr>\n",
       "      <th>7</th>\n",
       "      <td>This CEO ’is making all the right moves to unl...</td>\n",
       "      <td>Positive</td>\n",
       "      <td>3</td>\n",
       "      <td>The article highlights the CEO of AMZN, statin...</td>\n",
       "    </tr>\n",
       "    <tr>\n",
       "      <th>8</th>\n",
       "      <td>Celebrities unite at exclusive Cannes gala to ...</td>\n",
       "      <td>Neutral</td>\n",
       "      <td>1</td>\n",
       "      <td>The article covers a high-profile amfAR charit...</td>\n",
       "    </tr>\n",
       "    <tr>\n",
       "      <th>9</th>\n",
       "      <td>Disney seeks to stop YouTube from hiring veter...</td>\n",
       "      <td>Negative</td>\n",
       "      <td>3</td>\n",
       "      <td>Disney is suing YouTube (Alphabet) to block th...</td>\n",
       "    </tr>\n",
       "    <tr>\n",
       "      <th>10</th>\n",
       "      <td>Ackman’s hedge fund Pershing Square bets on Am...</td>\n",
       "      <td>Positive</td>\n",
       "      <td>4</td>\n",
       "      <td>Billionaire investor Bill Ackman's hedge fund,...</td>\n",
       "    </tr>\n",
       "    <tr>\n",
       "      <th>11</th>\n",
       "      <td>U.S. stocks mixed at close of trade; Dow Jones...</td>\n",
       "      <td>Positive</td>\n",
       "      <td>2</td>\n",
       "      <td>U.S. stocks closed mixed, with Amazon.com Inc ...</td>\n",
       "    </tr>\n",
       "    <tr>\n",
       "      <th>12</th>\n",
       "      <td>Amazon stock rises following Pershing Square’s...</td>\n",
       "      <td>Positive</td>\n",
       "      <td>4</td>\n",
       "      <td>Amazon's stock rose 1.5% after Pershing Square...</td>\n",
       "    </tr>\n",
       "    <tr>\n",
       "      <th>13</th>\n",
       "      <td>Pershing Square Call Live Link By Investing.com</td>\n",
       "      <td>Neutral</td>\n",
       "      <td>1</td>\n",
       "      <td>The article is a standard risk disclaimer and ...</td>\n",
       "    </tr>\n",
       "    <tr>\n",
       "      <th>14</th>\n",
       "      <td>Amazon tests AI audio summaries for products, ...</td>\n",
       "      <td>Positive</td>\n",
       "      <td>3</td>\n",
       "      <td>Amazon is testing AI-powered audio summaries f...</td>\n",
       "    </tr>\n",
       "    <tr>\n",
       "      <th>15</th>\n",
       "      <td>Startup Anthropic says its new AI model can co...</td>\n",
       "      <td>Positive</td>\n",
       "      <td>3</td>\n",
       "      <td>Anthropic, backed by Amazon, unveiled its adva...</td>\n",
       "    </tr>\n",
       "    <tr>\n",
       "      <th>16</th>\n",
       "      <td>Google faces DOJ probe over Character.AI deal,...</td>\n",
       "      <td>Negative</td>\n",
       "      <td>3</td>\n",
       "      <td>The U.S. Justice Department is investigating A...</td>\n",
       "    </tr>\n",
       "    <tr>\n",
       "      <th>17</th>\n",
       "      <td>US climate pullback threatens planned debt-for...</td>\n",
       "      <td>Negative</td>\n",
       "      <td>2</td>\n",
       "      <td>The article discusses how potential U.S. clima...</td>\n",
       "    </tr>\n",
       "    <tr>\n",
       "      <th>18</th>\n",
       "      <td>Wall Street stocks end mostly flat in choppy t...</td>\n",
       "      <td>Neutral</td>\n",
       "      <td>3</td>\n",
       "      <td>U.S. stocks ended mostly flat in choppy tradin...</td>\n",
       "    </tr>\n",
       "    <tr>\n",
       "      <th>19</th>\n",
       "      <td>Stock market today: S&amp;P 500 ends flat as US de...</td>\n",
       "      <td>Neutral</td>\n",
       "      <td>3</td>\n",
       "      <td>The S&amp;P 500 ended flat amid concerns over U.S....</td>\n",
       "    </tr>\n",
       "  </tbody>\n",
       "</table>\n",
       "</div>"
      ],
      "text/plain": [
       "                                                title sentiment importance  \\\n",
       "0   Amazon.com is sued over alleged sale of contam...  Negative          3   \n",
       "1   Oracle to buy $40 billion of Nvidia chips for ...  Positive          3   \n",
       "2   Amazon not seeing notable impact from tariffs ...  Positive          3   \n",
       "3   Amazon Com Inc receives Investment Bank Analys...   Neutral          1   \n",
       "4   Wall St falls as Trump tariff threats spark ma...  Negative          4   \n",
       "5   Workday Inc receives Investment Bank Analyst R...   Neutral          1   \n",
       "6   Nike receives Investment Bank Analyst Rating U...   Neutral          1   \n",
       "7   This CEO ’is making all the right moves to unl...  Positive          3   \n",
       "8   Celebrities unite at exclusive Cannes gala to ...   Neutral          1   \n",
       "9   Disney seeks to stop YouTube from hiring veter...  Negative          3   \n",
       "10  Ackman’s hedge fund Pershing Square bets on Am...  Positive          4   \n",
       "11  U.S. stocks mixed at close of trade; Dow Jones...  Positive          2   \n",
       "12  Amazon stock rises following Pershing Square’s...  Positive          4   \n",
       "13    Pershing Square Call Live Link By Investing.com   Neutral          1   \n",
       "14  Amazon tests AI audio summaries for products, ...  Positive          3   \n",
       "15  Startup Anthropic says its new AI model can co...  Positive          3   \n",
       "16  Google faces DOJ probe over Character.AI deal,...  Negative          3   \n",
       "17  US climate pullback threatens planned debt-for...  Negative          2   \n",
       "18  Wall Street stocks end mostly flat in choppy t...   Neutral          3   \n",
       "19  Stock market today: S&P 500 ends flat as US de...   Neutral          3   \n",
       "\n",
       "                                              summary  \n",
       "0   Amazon.com is facing a lawsuit alleging the sa...  \n",
       "1   Oracle plans to spend $40 billion on Nvidia's ...  \n",
       "2   The article states that Amazon (AMZN) has not ...  \n",
       "3   The article is a standard risk disclosure noti...  \n",
       "4   U.S. stocks, including Amazon (AMZN), declined...  \n",
       "5   The article is a standard risk disclosure noti...  \n",
       "6   The article is a standard risk disclosure noti...  \n",
       "7   The article highlights the CEO of AMZN, statin...  \n",
       "8   The article covers a high-profile amfAR charit...  \n",
       "9   Disney is suing YouTube (Alphabet) to block th...  \n",
       "10  Billionaire investor Bill Ackman's hedge fund,...  \n",
       "11  U.S. stocks closed mixed, with Amazon.com Inc ...  \n",
       "12  Amazon's stock rose 1.5% after Pershing Square...  \n",
       "13  The article is a standard risk disclaimer and ...  \n",
       "14  Amazon is testing AI-powered audio summaries f...  \n",
       "15  Anthropic, backed by Amazon, unveiled its adva...  \n",
       "16  The U.S. Justice Department is investigating A...  \n",
       "17  The article discusses how potential U.S. clima...  \n",
       "18  U.S. stocks ended mostly flat in choppy tradin...  \n",
       "19  The S&P 500 ended flat amid concerns over U.S....  "
      ]
     },
     "execution_count": 12,
     "metadata": {},
     "output_type": "execute_result"
    }
   ],
   "source": [
    "df[[\"title\", \"sentiment\", \"importance\", \"summary\"]]"
   ]
  },
  {
   "cell_type": "code",
   "execution_count": 13,
   "id": "0cc21ff9",
   "metadata": {},
   "outputs": [],
   "source": [
    "df = df[df['sentiment'].isin(['Positive', 'Negative', 'Neutral'])]\n",
    "df = df[df['importance'].isin(['1', '2', '3', '4', '5'])]"
   ]
  },
  {
   "cell_type": "code",
   "execution_count": 14,
   "id": "f1e590be",
   "metadata": {},
   "outputs": [
    {
     "data": {
      "text/plain": [
       "<Axes: title={'center': 'Sentiment Distribution'}, xlabel='sentiment'>"
      ]
     },
     "execution_count": 14,
     "metadata": {},
     "output_type": "execute_result"
    },
    {
     "data": {
      "image/png": "[encoded data removed]",
      "text/plain": [
       "<Figure size 640x480 with 1 Axes>"
      ]
     },
     "metadata": {},
     "output_type": "display_data"
    }
   ],
   "source": [
    "df['sentiment'].value_counts().plot(kind='bar', title='Sentiment Distribution')"
   ]
  },
  {
   "cell_type": "code",
   "execution_count": 15,
   "id": "3da44f02",
   "metadata": {},
   "outputs": [
    {
     "data": {
      "text/plain": [
       "<Axes: title={'center': 'Importance Distribution'}, xlabel='importance'>"
      ]
     },
     "execution_count": 15,
     "metadata": {},
     "output_type": "execute_result"
    },
    {
     "data": {
      "image/png": "[encoded data removed]",
      "text/plain": [
       "<Figure size 640x480 with 1 Axes>"
      ]
     },
     "metadata": {},
     "output_type": "display_data"
    }
   ],
   "source": [
    "df['importance'].value_counts().sort_index().plot(kind='bar', title='Importance Distribution')"
   ]
  },
  {
   "cell_type": "code",
   "execution_count": 16,
   "id": "69495d45",
   "metadata": {},
   "outputs": [],
   "source": [
    "TICKER=df[\"ticker\"][0]"
   ]
  },
  {
   "cell_type": "code",
   "execution_count": 17,
   "id": "bc933172",
   "metadata": {},
   "outputs": [],
   "source": [
    "def calculate_sentiment_score(df):\n",
    "    sentiment_scores = {\n",
    "        'Positive': 1,\n",
    "        'Negative': -1,\n",
    "        'Neutral': 0\n",
    "    }\n",
    "    \n",
    "    df['sentiment_score'] = df['sentiment'].map(sentiment_scores)\n",
    "    \n",
    "    df['weighted_score'] = df['sentiment_score'] * df['importance'].astype(int)\n",
    "    \n",
    "    total_importance = df['importance'].astype(int).sum()\n",
    "    \n",
    "    if total_importance == 0:\n",
    "        return 0\n",
    "    \n",
    "    sentiment_score = df['weighted_score'].sum() / total_importance\n",
    "    return sentiment_score"
   ]
  },
  {
   "cell_type": "code",
   "execution_count": 18,
   "id": "912f53d4",
   "metadata": {},
   "outputs": [
    {
     "name": "stdout",
     "output_type": "stream",
     "text": [
      "Sentiment Score for AMZN: 0.2\n"
     ]
    }
   ],
   "source": [
    "print(f\"Sentiment Score for {TICKER}: {calculate_sentiment_score(df).round(2)}\")"
   ]
  },
  {
   "cell_type": "code",
   "execution_count": 19,
   "id": "ddddab2b",
   "metadata": {},
   "outputs": [],
   "source": [
    "import datetime\n",
    "\n",
    "df.drop(columns=['predicted','body_text'],inplace=True)\n",
    "now = datetime.datetime.now()\n",
    "date_time = now.strftime(\"%Y-%m-%d %H-%M-%S\").strip().replace(' ', '_')\n",
    "df.to_csv(f\"Output/DeepSeek_{TICKER}_{date_time}.csv\", index=False)"
   ]
  }
 ],
 "metadata": {
  "kernelspec": {
   "display_name": "Python 3",
   "language": "python",
   "name": "python3"
  },
  "language_info": {
   "codemirror_mode": {
    "name": "ipython",
    "version": 3
   },
   "file_extension": ".py",
   "mimetype": "text/x-python",
   "name": "python",
   "nbconvert_exporter": "python",
   "pygments_lexer": "ipython3",
   "version": "3.11.9"
  }
 },
 "nbformat": 4,
 "nbformat_minor": 5
}
