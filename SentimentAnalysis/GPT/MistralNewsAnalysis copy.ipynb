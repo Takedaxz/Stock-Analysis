{
 "cells": [
  {
   "cell_type": "code",
   "execution_count": 1,
   "id": "504d9a21",
   "metadata": {},
   "outputs": [],
   "source": [
    "import pandas as pd\n",
    "import numpy as np\n",
    "import datetime"
   ]
  },
  {
   "cell_type": "code",
   "execution_count": 2,
   "id": "9365baf4",
   "metadata": {},
   "outputs": [
    {
     "name": "stdout",
     "output_type": "stream",
     "text": [
      "MISTRAL_AI_API_KEY loaded successfully.\n"
     ]
    }
   ],
   "source": [
    "import os\n",
    "from dotenv import load_dotenv\n",
    "\n",
    "load_dotenv(\"secret.env\")\n",
    "\n",
    "api_key = os.getenv(\"MISTRAL_AI_API_KEY\")\n",
    "\n",
    "if api_key is None:\n",
    "    print(\"Error: MISTRAL_AI_API_KEY not found in .env file or environment variables.\")\n",
    "else:\n",
    "    print(\"MISTRAL_AI_API_KEY loaded successfully.\")"
   ]
  },
  {
   "cell_type": "code",
   "execution_count": 4,
   "id": "e3030208",
   "metadata": {},
   "outputs": [],
   "source": [
    "import os\n",
    "from mistralai import Mistral\n",
    "\n",
    "model = \"mistral-large-latest\"\n",
    "\n",
    "client = Mistral(api_key=api_key)"
   ]
  },
  {
   "cell_type": "code",
   "execution_count": 33,
   "id": "29ab92f1",
   "metadata": {},
   "outputs": [],
   "source": [
    "prompt = \"\"\"You are a financial news analyst specializing in stock market impact. Your task is to analyze the provided news article, summarize its core content concisely, determine its sentiment (positive, negative, or neutral), and assess its importance to the specified stock.\n",
    "\n",
    "Here is the news from stock [STOCK] title and body:\n",
    "---\n",
    "[TITLE]\n",
    "---\n",
    "[BODY]\n",
    "---\n",
    "\n",
    "Please provide your analysis in the following format:\n",
    "\n",
    "**Sentiment:**\n",
    "[Positive / Negative / Neutral]\n",
    "\n",
    "**Summary:**\n",
    "[Your concise summary of the article, typically 2-3 sentences.]\n",
    "\n",
    "**Reasoning for Sentiment:**\n",
    "[Brief explanation (1-2 sentences) of why you categorized the sentiment as such, referencing key points or tone from the article.]\n",
    "\n",
    "**Importance to Stock [STOCK]:**\n",
    "[1-5, where 1 is minimal importance and 5 is very high importance.] (Answer only in number 1-5)\n",
    "\n",
    "**Reasoning for Importance:**\n",
    "[Brief explanation (1-2 sentences) of why you assigned this importance score, referencing specific details from the article that would impact the stock.]\"\"\""
   ]
  },
  {
   "cell_type": "code",
   "execution_count": 50,
   "id": "0ade5869",
   "metadata": {},
   "outputs": [
    {
     "data": {
      "text/html": [
       "<div>\n",
       "<style scoped>\n",
       "    .dataframe tbody tr th:only-of-type {\n",
       "        vertical-align: middle;\n",
       "    }\n",
       "\n",
       "    .dataframe tbody tr th {\n",
       "        vertical-align: top;\n",
       "    }\n",
       "\n",
       "    .dataframe thead th {\n",
       "        text-align: right;\n",
       "    }\n",
       "</style>\n",
       "<table border=\"1\" class=\"dataframe\">\n",
       "  <thead>\n",
       "    <tr style=\"text-align: right;\">\n",
       "      <th></th>\n",
       "      <th>ticker</th>\n",
       "      <th>publish_date</th>\n",
       "      <th>publish_time</th>\n",
       "      <th>title</th>\n",
       "      <th>body_text</th>\n",
       "      <th>url</th>\n",
       "    </tr>\n",
       "  </thead>\n",
       "  <tbody>\n",
       "    <tr>\n",
       "      <th>0</th>\n",
       "      <td>AMZN</td>\n",
       "      <td>2025-05-23</td>\n",
       "      <td>14:36</td>\n",
       "      <td>Amazon.com is sued over alleged sale of contam...</td>\n",
       "      <td>By Jonathan Stempel\\r\\n\\r\\n(Reuters) - Amazon....</td>\n",
       "      <td>https://www.investing.com/news/stock-market-ne...</td>\n",
       "    </tr>\n",
       "    <tr>\n",
       "      <th>1</th>\n",
       "      <td>AMZN</td>\n",
       "      <td>2025-05-23</td>\n",
       "      <td>14:14</td>\n",
       "      <td>Oracle to buy $40 billion of Nvidia chips for ...</td>\n",
       "      <td>(Reuters) -Oracle will spend around $40 billio...</td>\n",
       "      <td>https://www.investing.com/news/stock-market-ne...</td>\n",
       "    </tr>\n",
       "    <tr>\n",
       "      <th>2</th>\n",
       "      <td>AMZN</td>\n",
       "      <td>2025-05-23</td>\n",
       "      <td>09:19</td>\n",
       "      <td>Amazon not seeing notable impact from tariffs ...</td>\n",
       "      <td>Risk Disclosure: Trading in financial instrume...</td>\n",
       "      <td>https://www.investing.com/news/pro/amazon-not-...</td>\n",
       "    </tr>\n",
       "    <tr>\n",
       "      <th>3</th>\n",
       "      <td>AMZN</td>\n",
       "      <td>2025-05-23</td>\n",
       "      <td>09:04</td>\n",
       "      <td>Amazon Com Inc receives Investment Bank Analys...</td>\n",
       "      <td>Risk Disclosure: Trading in financial instrume...</td>\n",
       "      <td>https://www.investing.com/news/pro/da-davidson...</td>\n",
       "    </tr>\n",
       "    <tr>\n",
       "      <th>4</th>\n",
       "      <td>AMZN</td>\n",
       "      <td>2025-05-23</td>\n",
       "      <td>05:53</td>\n",
       "      <td>Wall St falls as Trump tariff threats spark ma...</td>\n",
       "      <td>By Chibuike Oguh\\r\\n\\r\\nNEW YORK (Reuters) -U....</td>\n",
       "      <td>https://www.investing.com/news/stock-market-ne...</td>\n",
       "    </tr>\n",
       "  </tbody>\n",
       "</table>\n",
       "</div>"
      ],
      "text/plain": [
       "  ticker publish_date publish_time  \\\n",
       "0   AMZN   2025-05-23        14:36   \n",
       "1   AMZN   2025-05-23        14:14   \n",
       "2   AMZN   2025-05-23        09:19   \n",
       "3   AMZN   2025-05-23        09:04   \n",
       "4   AMZN   2025-05-23        05:53   \n",
       "\n",
       "                                               title  \\\n",
       "0  Amazon.com is sued over alleged sale of contam...   \n",
       "1  Oracle to buy $40 billion of Nvidia chips for ...   \n",
       "2  Amazon not seeing notable impact from tariffs ...   \n",
       "3  Amazon Com Inc receives Investment Bank Analys...   \n",
       "4  Wall St falls as Trump tariff threats spark ma...   \n",
       "\n",
       "                                           body_text  \\\n",
       "0  By Jonathan Stempel\\r\\n\\r\\n(Reuters) - Amazon....   \n",
       "1  (Reuters) -Oracle will spend around $40 billio...   \n",
       "2  Risk Disclosure: Trading in financial instrume...   \n",
       "3  Risk Disclosure: Trading in financial instrume...   \n",
       "4  By Chibuike Oguh\\r\\n\\r\\nNEW YORK (Reuters) -U....   \n",
       "\n",
       "                                                 url  \n",
       "0  https://www.investing.com/news/stock-market-ne...  \n",
       "1  https://www.investing.com/news/stock-market-ne...  \n",
       "2  https://www.investing.com/news/pro/amazon-not-...  \n",
       "3  https://www.investing.com/news/pro/da-davidson...  \n",
       "4  https://www.investing.com/news/stock-market-ne...  "
      ]
     },
     "metadata": {},
     "output_type": "display_data"
    }
   ],
   "source": [
    "df = pd.read_csv(\"../../DataCollection/Data/News/AMZN_2025-05-26_13-36-10.csv\")\n",
    "display(df.head())"
   ]
  },
  {
   "cell_type": "code",
   "execution_count": 35,
   "id": "3e737b8f",
   "metadata": {},
   "outputs": [
    {
     "data": {
      "text/plain": [
       "ticker          0\n",
       "publish_date    0\n",
       "publish_time    0\n",
       "title           0\n",
       "body_text       0\n",
       "url             0\n",
       "dtype: int64"
      ]
     },
     "execution_count": 35,
     "metadata": {},
     "output_type": "execute_result"
    }
   ],
   "source": [
    "df[\"title\"] = df[\"title\"].astype(str)\n",
    "df[\"body_text\"] = df[\"body_text\"].astype(str)\n",
    "df.isnull().sum()"
   ]
  },
  {
   "cell_type": "code",
   "execution_count": 36,
   "id": "5d8f1f44",
   "metadata": {},
   "outputs": [
    {
     "name": "stderr",
     "output_type": "stream",
     "text": [
      "Prompting:   0%|          | 0/20 [00:00<?, ?it/s]"
     ]
    },
    {
     "name": "stderr",
     "output_type": "stream",
     "text": [
      "Prompting: 100%|██████████| 20/20 [01:47<00:00,  5.36s/it]\n"
     ]
    }
   ],
   "source": [
    "from tqdm import tqdm\n",
    "predicted = []\n",
    "\n",
    "for index, row in tqdm(df.iterrows(), total=len(df), desc=\"Prompting\"): \n",
    "    title = row[\"title\"]\n",
    "    body_text = row[\"body_text\"]\n",
    "    stock = row[\"ticker\"]\n",
    "    \n",
    "    prompt_with_data = prompt.replace(\"[TITLE]\", title).replace(\"[BODY]\", body_text).replace(\"[STOCK]\", stock)\n",
    "    \n",
    "    \n",
    "    response = client.chat.complete(\n",
    "    model= model,\n",
    "    messages = [\n",
    "        {\n",
    "            \"role\": \"user\",\n",
    "            \"content\": prompt_with_data,\n",
    "        },\n",
    "    ]\n",
    "    )\n",
    "\n",
    "    predicted.append(response.choices[0].message.content)"
   ]
  },
  {
   "cell_type": "code",
   "execution_count": 51,
   "id": "a37d78e9",
   "metadata": {},
   "outputs": [],
   "source": [
    "predicted = np.array(predicted)\n",
    "df[\"predicted\"] = predicted"
   ]
  },
  {
   "cell_type": "code",
   "execution_count": 52,
   "id": "3897770f",
   "metadata": {},
   "outputs": [],
   "source": [
    "df[\"sentiment\"] = df[\"predicted\"].apply(lambda x: x.split(\"\\n\")[1].strip() if len(x.split(\"\\n\")) > 1 else None)\n",
    "df[\"importance\"] = df[\"predicted\"].apply(lambda x: x.split(\"\\n\")[10].strip() if len(x.split(\"\\n\")) > 10 else None)\n",
    "df[\"summary\"] = df[\"predicted\"].apply(lambda x: x.split(\"\\n\")[4].strip() if len(x.split(\"\\n\")) > 4 else None)"
   ]
  },
  {
   "cell_type": "code",
   "execution_count": 53,
   "id": "31a61977",
   "metadata": {},
   "outputs": [
    {
     "data": {
      "text/html": [
       "<div>\n",
       "<style scoped>\n",
       "    .dataframe tbody tr th:only-of-type {\n",
       "        vertical-align: middle;\n",
       "    }\n",
       "\n",
       "    .dataframe tbody tr th {\n",
       "        vertical-align: top;\n",
       "    }\n",
       "\n",
       "    .dataframe thead th {\n",
       "        text-align: right;\n",
       "    }\n",
       "</style>\n",
       "<table border=\"1\" class=\"dataframe\">\n",
       "  <thead>\n",
       "    <tr style=\"text-align: right;\">\n",
       "      <th></th>\n",
       "      <th>title</th>\n",
       "      <th>sentiment</th>\n",
       "      <th>importance</th>\n",
       "      <th>summary</th>\n",
       "    </tr>\n",
       "  </thead>\n",
       "  <tbody>\n",
       "    <tr>\n",
       "      <th>0</th>\n",
       "      <td>Amazon.com is sued over alleged sale of contam...</td>\n",
       "      <td>Negative</td>\n",
       "      <td>4</td>\n",
       "      <td>Amazon.com is facing a lawsuit for allegedly s...</td>\n",
       "    </tr>\n",
       "    <tr>\n",
       "      <th>1</th>\n",
       "      <td>Oracle to buy $40 billion of Nvidia chips for ...</td>\n",
       "      <td>Neutral</td>\n",
       "      <td>3</td>\n",
       "      <td>Oracle plans to buy $40 billion worth of Nvidi...</td>\n",
       "    </tr>\n",
       "    <tr>\n",
       "      <th>2</th>\n",
       "      <td>Amazon not seeing notable impact from tariffs ...</td>\n",
       "      <td>Positive</td>\n",
       "      <td>4</td>\n",
       "      <td>Amazon is not experiencing a significant impac...</td>\n",
       "    </tr>\n",
       "    <tr>\n",
       "      <th>3</th>\n",
       "      <td>Amazon Com Inc receives Investment Bank Analys...</td>\n",
       "      <td>Neutral</td>\n",
       "      <td>1</td>\n",
       "      <td>The article is a standard risk disclosure stat...</td>\n",
       "    </tr>\n",
       "    <tr>\n",
       "      <th>4</th>\n",
       "      <td>Wall St falls as Trump tariff threats spark ma...</td>\n",
       "      <td>Negative</td>\n",
       "      <td>4</td>\n",
       "      <td>U.S. stocks fell on Friday following President...</td>\n",
       "    </tr>\n",
       "  </tbody>\n",
       "</table>\n",
       "</div>"
      ],
      "text/plain": [
       "                                               title sentiment importance  \\\n",
       "0  Amazon.com is sued over alleged sale of contam...  Negative          4   \n",
       "1  Oracle to buy $40 billion of Nvidia chips for ...   Neutral          3   \n",
       "2  Amazon not seeing notable impact from tariffs ...  Positive          4   \n",
       "3  Amazon Com Inc receives Investment Bank Analys...   Neutral          1   \n",
       "4  Wall St falls as Trump tariff threats spark ma...  Negative          4   \n",
       "\n",
       "                                             summary  \n",
       "0  Amazon.com is facing a lawsuit for allegedly s...  \n",
       "1  Oracle plans to buy $40 billion worth of Nvidi...  \n",
       "2  Amazon is not experiencing a significant impac...  \n",
       "3  The article is a standard risk disclosure stat...  \n",
       "4  U.S. stocks fell on Friday following President...  "
      ]
     },
     "execution_count": 53,
     "metadata": {},
     "output_type": "execute_result"
    }
   ],
   "source": [
    "df[[\"title\", \"sentiment\", \"importance\", \"summary\"]].head()"
   ]
  },
  {
   "cell_type": "code",
   "execution_count": 54,
   "id": "f01ea1c9",
   "metadata": {},
   "outputs": [
    {
     "data": {
      "text/html": [
       "<div>\n",
       "<style scoped>\n",
       "    .dataframe tbody tr th:only-of-type {\n",
       "        vertical-align: middle;\n",
       "    }\n",
       "\n",
       "    .dataframe tbody tr th {\n",
       "        vertical-align: top;\n",
       "    }\n",
       "\n",
       "    .dataframe thead th {\n",
       "        text-align: right;\n",
       "    }\n",
       "</style>\n",
       "<table border=\"1\" class=\"dataframe\">\n",
       "  <thead>\n",
       "    <tr style=\"text-align: right;\">\n",
       "      <th></th>\n",
       "      <th>ticker</th>\n",
       "      <th>publish_date</th>\n",
       "      <th>publish_time</th>\n",
       "      <th>title</th>\n",
       "      <th>body_text</th>\n",
       "      <th>url</th>\n",
       "      <th>predicted</th>\n",
       "      <th>sentiment</th>\n",
       "      <th>importance</th>\n",
       "      <th>summary</th>\n",
       "    </tr>\n",
       "  </thead>\n",
       "  <tbody>\n",
       "  </tbody>\n",
       "</table>\n",
       "</div>"
      ],
      "text/plain": [
       "Empty DataFrame\n",
       "Columns: [ticker, publish_date, publish_time, title, body_text, url, predicted, sentiment, importance, summary]\n",
       "Index: []"
      ]
     },
     "metadata": {},
     "output_type": "display_data"
    }
   ],
   "source": [
    "display(df[df['sentiment']==''])\n",
    "df = df[df['sentiment'] != '']"
   ]
  },
  {
   "cell_type": "code",
   "execution_count": 55,
   "id": "9e206dff",
   "metadata": {},
   "outputs": [
    {
     "name": "stdout",
     "output_type": "stream",
     "text": [
      "**Sentiment:**\n",
      "Positive\n",
      "\n",
      "**Summary:**\n",
      "Amazon (AMZN) shares rose 1.5% after Bill Ackman's Pershing Square revealed a new stake in the company, citing the strategic value of Amazon's dual business model and the attractive entry point due to recent price dips. Pershing Square highlighted the strength of Amazon Web Services (AWS) and the retail segment's ubiquity, expressing confidence in Amazon's future performance.\n",
      "\n",
      "**Reasoning for Sentiment:**\n",
      "The sentiment is positive because the article discusses an increase in Amazon's stock price following a significant investment from a reputable firm, Pershing Square. The firm's endorsement and positive outlook on Amazon's future performance contribute to an optimistic tone.\n",
      "\n",
      "**Importance to Stock AMZN:**\n",
      "5\n",
      "\n",
      "**Reasoning for Importance:**\n",
      "The importance is very high because the news of a major investment from a prominent firm like Pershing Square can significantly boost investor confidence and drive further interest in AMZN stock. The strategic insights and positive projections for AWS and the retail segment reinforce the stock's attractiveness.\n"
     ]
    }
   ],
   "source": [
    "print(predicted[12])"
   ]
  },
  {
   "cell_type": "code",
   "execution_count": null,
   "id": "74813650",
   "metadata": {},
   "outputs": [],
   "source": [
    "df = df[df['sentiment'].isin(['Positive', 'Negative', 'Neutral'])]\n",
    "df = df[df['importance'].isin(['1', '2', '3', '4', '5'])]"
   ]
  },
  {
   "cell_type": "code",
   "execution_count": 57,
   "id": "f1e590be",
   "metadata": {},
   "outputs": [
    {
     "data": {
      "text/plain": [
       "<Axes: title={'center': 'Sentiment Distribution'}, xlabel='sentiment'>"
      ]
     },
     "execution_count": 57,
     "metadata": {},
     "output_type": "execute_result"
    },
    {
     "data": {
      "image/png": "[encoded data removed]",
      "text/plain": [
       "<Figure size 640x480 with 1 Axes>"
      ]
     },
     "metadata": {},
     "output_type": "display_data"
    }
   ],
   "source": [
    "df['sentiment'].value_counts().plot(kind='bar', title='Sentiment Distribution')"
   ]
  },
  {
   "cell_type": "code",
   "execution_count": 58,
   "id": "3da44f02",
   "metadata": {},
   "outputs": [
    {
     "data": {
      "text/plain": [
       "<Axes: title={'center': 'Importance Distribution'}, xlabel='importance'>"
      ]
     },
     "execution_count": 58,
     "metadata": {},
     "output_type": "execute_result"
    },
    {
     "data": {
      "image/png": "[encoded data removed]",
      "text/plain": [
       "<Figure size 640x480 with 1 Axes>"
      ]
     },
     "metadata": {},
     "output_type": "display_data"
    }
   ],
   "source": [
    "df['importance'].value_counts().sort_index().plot(kind='bar', title='Importance Distribution')"
   ]
  },
  {
   "cell_type": "code",
   "execution_count": 59,
   "id": "69495d45",
   "metadata": {},
   "outputs": [],
   "source": [
    "TICKER=df[\"ticker\"][0]"
   ]
  },
  {
   "cell_type": "code",
   "execution_count": 60,
   "id": "bc933172",
   "metadata": {},
   "outputs": [],
   "source": [
    "def calculate_sentiment_score(df):\n",
    "    sentiment_scores = {\n",
    "        'Positive': 1,\n",
    "        'Negative': -1,\n",
    "        'Neutral': 0\n",
    "    }\n",
    "    \n",
    "    df['sentiment_score'] = df['sentiment'].map(sentiment_scores)\n",
    "    \n",
    "    df['weighted_score'] = df['sentiment_score'] * df['importance'].astype(int)\n",
    "    \n",
    "    total_importance = df['importance'].astype(int).sum()\n",
    "    \n",
    "    if total_importance == 0:\n",
    "        return 0\n",
    "    \n",
    "    sentiment_score = df['weighted_score'].sum() / total_importance\n",
    "    return sentiment_score"
   ]
  },
  {
   "cell_type": "code",
   "execution_count": 61,
   "id": "912f53d4",
   "metadata": {},
   "outputs": [
    {
     "name": "stdout",
     "output_type": "stream",
     "text": [
      "Sentiment Score for AMZN: 0.21\n"
     ]
    }
   ],
   "source": [
    "print(f\"Sentiment Score for {TICKER}: {calculate_sentiment_score(df).round(2)}\")"
   ]
  },
  {
   "cell_type": "code",
   "execution_count": 62,
   "id": "7149a501",
   "metadata": {},
   "outputs": [],
   "source": [
    "df.drop(columns=['predicted','body_text'],inplace=True)"
   ]
  },
  {
   "cell_type": "code",
   "execution_count": 63,
   "id": "ddddab2b",
   "metadata": {},
   "outputs": [],
   "source": [
    "import datetime\n",
    "\n",
    "now = datetime.datetime.now()\n",
    "date_time = now.strftime(\"%Y-%m-%d %H-%M-%S\").strip().replace(' ', '_')\n",
    "df.to_csv(f\"Output/Mistral_{TICKER}_{date_time}.csv\", index=False)"
   ]
  }
 ],
 "metadata": {
  "kernelspec": {
   "display_name": "Python 3",
   "language": "python",
   "name": "python3"
  },
  "language_info": {
   "codemirror_mode": {
    "name": "ipython",
    "version": 3
   },
   "file_extension": ".py",
   "mimetype": "text/x-python",
   "name": "python",
   "nbconvert_exporter": "python",
   "pygments_lexer": "ipython3",
   "version": "3.11.9"
  }
 },
 "nbformat": 4,
 "nbformat_minor": 5
}
