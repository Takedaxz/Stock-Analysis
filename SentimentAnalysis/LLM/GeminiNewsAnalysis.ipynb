{
 "cells": [
  {
   "cell_type": "markdown",
   "id": "d92e1317",
   "metadata": {},
   "source": [
    "# News Analysis with LLM (Gemini)"
   ]
  },
  {
   "cell_type": "code",
   "execution_count": 85,
   "id": "9d1767dc",
   "metadata": {},
   "outputs": [
    {
     "name": "stdout",
     "output_type": "stream",
     "text": [
      "GEMINI_API_KEY loaded successfully.\n"
     ]
    }
   ],
   "source": [
    "import os\n",
    "from dotenv import load_dotenv\n",
    "\n",
    "load_dotenv(\"secret.env\")\n",
    "\n",
    "api_key = os.getenv(\"GEMINI_API_KEY\")\n",
    "\n",
    "if api_key is None:\n",
    "    print(\"Error: GEMINI_API_KEY not found in .env file or environment variables.\")\n",
    "else:\n",
    "    print(\"GEMINI_API_KEY loaded successfully.\")"
   ]
  },
  {
   "cell_type": "code",
   "execution_count": 86,
   "id": "f8be51b8",
   "metadata": {},
   "outputs": [],
   "source": [
    "import google.generativeai as genai\n",
    "from tqdm import tqdm\n",
    "\n",
    "genai.configure(api_key=api_key)\n",
    "generation_config = genai.GenerationConfig(\n",
    "        temperature=0,\n",
    ")\n",
    "model = genai.GenerativeModel(\"gemini-2.5-flash-preview-04-17\", generation_config=generation_config)"
   ]
  },
  {
   "cell_type": "code",
   "execution_count": 87,
   "id": "116a4f4d",
   "metadata": {},
   "outputs": [],
   "source": [
    "from google.api_core import retry\n",
    "\n",
    "# Catch transient Gemini errors.\n",
    "def is_retryable(e) -> bool:\n",
    "    if retry.if_transient_error(e):\n",
    "        # Good practice, but probably won't fire with the google-genai SDK\n",
    "        return True\n",
    "    elif (isinstance(e, genai.errors.ClientError) and e.code == 429):\n",
    "        # Catch 429 quota exceeded errors\n",
    "        return True\n",
    "    elif (isinstance(e, genai.errors.ServerError) and e.code == 503):\n",
    "        # Catch 503 model overloaded errors\n",
    "        return True\n",
    "    else:\n",
    "        return False\n",
    "\n",
    "@retry.Retry(predicate=is_retryable)\n",
    "def generate_content_with_rate_limit(prompt):\n",
    "  return model.generate_content(prompt).text"
   ]
  },
  {
   "cell_type": "code",
   "execution_count": 88,
   "id": "53969e87",
   "metadata": {},
   "outputs": [],
   "source": [
    "prompt = \"\"\"You are a financial news analyst specializing in stock market impact. Your task is to analyze the provided news article, summarize its core content concisely, determine its sentiment (positive, negative, or neutral), and assess its importance to the specified stock.\n",
    "\n",
    "Here is the news from stock [STOCK] title and body:\n",
    "---\n",
    "[TITLE]\n",
    "---\n",
    "[BODY]\n",
    "---\n",
    "\n",
    "Please provide your analysis in the following format:\n",
    "\n",
    "**Sentiment:**\n",
    "[Positive / Negative / Neutral]\n",
    "\n",
    "**Summary:**\n",
    "[Your concise summary of the article, typically 2-3 sentences.]\n",
    "\n",
    "**Reasoning for Sentiment:**\n",
    "[Brief explanation (1-2 sentences) of why you categorized the sentiment as such, referencing key points or tone from the article.]\n",
    "\n",
    "**Importance to Stock [STOCK]:**\n",
    "[1-5, where 1 is minimal importance and 5 is very high importance.]\n",
    "\n",
    "**Reasoning for Importance:**\n",
    "[Brief explanation (1-2 sentences) of why you assigned this importance score, referencing specific details from the article that would impact the stock.]\"\"\""
   ]
  },
  {
   "cell_type": "code",
   "execution_count": 89,
   "id": "92827cc3",
   "metadata": {},
   "outputs": [],
   "source": [
    "import pandas as pd\n",
    "import numpy as np"
   ]
  },
  {
   "cell_type": "code",
   "execution_count": 175,
   "id": "0849d1b0",
   "metadata": {},
   "outputs": [
    {
     "data": {
      "application/vnd.microsoft.datawrangler.viewer.v0+json": {
       "columns": [
        {
         "name": "index",
         "rawType": "int64",
         "type": "integer"
        },
        {
         "name": "ticker",
         "rawType": "object",
         "type": "string"
        },
        {
         "name": "publish_date",
         "rawType": "object",
         "type": "string"
        },
        {
         "name": "publish_time",
         "rawType": "object",
         "type": "string"
        },
        {
         "name": "title",
         "rawType": "object",
         "type": "string"
        },
        {
         "name": "body_text",
         "rawType": "object",
         "type": "string"
        },
        {
         "name": "url",
         "rawType": "object",
         "type": "string"
        }
       ],
       "ref": "618133c3-6759-4f5a-9b2f-32e91e95b50a",
       "rows": [
        [
         "0",
         "AMZN",
         "2025-05-23",
         "14:36",
         "Amazon.com is sued over alleged sale of contaminated rice By Reuters",
         "By Jonathan Stempel\n\n(Reuters) - Amazon.com was sued on Friday by consumers over its alleged sale of a wide variety of rice contaminated by arsenic and other \"heavy metals.\"\n\nThe proposed class action in Seattle federal court covers 18 types of rice sold through Amazon, including from familiar brands such as Ben’s Original and Amazon-owned Whole Foods’ 365.\n\n\"Amazon sold these rice products with alarmingly high levels of heavy metals to an intended consumer audience that includes children, with no warning whatsoever about the dangers of heavy metals,\" the complaint said.\n\nThe lawsuit followed a study last week by Healthy Babies, Bright Futures, a nonprofit that focuses on babies’ exposure to toxic chemicals.\n\nThat study found arsenic in all 145 rice samples purchased nationwide, with 28% exceeding a U.S. Food and Drug Administration limit for infant rice cereal.\n\nIt also found cadmium in all but one sample, and lead and mercury in more than one-third of tested samples.\n\nAmazon, based in Seattle, had no immediate comment.\n\nExposure to heavy metals has been associated with negative health effects such as nervous system problems, immune system suppression and kidney damage, and autism spectrum disorder and attention deficit hyperactivity disorder in young children.\n\nThe 18 rice products include two from Ben’s Original and three with the 365 label.\n\nPlaintiffs Ashley Wright and Merriman Blum said they would not have bought or would have paid less for Iberia Basmati 100% Aged Original rice, one of the products, if they knew the rice was contaminated or Amazon never tested it for heavy metals.\n\nFriday’s lawsuit seeks unspecified damages of at least $5 million for Amazon’s alleged violations of Washington state consumer protection laws.\n\nMakers of baby food and dark chocolate have also faced many consumer lawsuits over the alleged presence of heavy metals.\n\nThe case is Wright et al v Amazon.com Inc (NASDAQ: ), U.S. District Court, Western District of Washington, No. 25-00977.",
         "https://www.investing.com/news/stock-market-news/amazoncom-is-sued-over-alleged-sale-of-contaminated-rice-4062390"
        ],
        [
         "1",
         "AMZN",
         "2025-05-23",
         "14:14",
         "Oracle to buy $40 billion of Nvidia chips for OpenAI’s US data center, FT reports By Reuters",
         "(Reuters) -Oracle will spend around $40 billion on Nvidia (NASDAQ: )’s higher-performance chips to power OpenAI’s new U.S. data center, the Financial Times reported on Friday.\n\nThe data center, situated in Abilene, Texas, is part of the U.S. Stargate Project, led by top AI firms in the country, to boost America’s heft in the artificial intelligence industry amid heating global competition.\n\nThe cloud service provider will purchase around 400,000 of Nvidia’s most powerful GB200 chips and lease the computing power to OpenAI, the report said, citing several people familiar with the matter.\n\nOpenAI and Oracle (NYSE: ) did not immediately respond to Reuters’ requests for comment, while an Nvidia spokesperson declined to comment.\n\nThe data center is expected to be fully operational by mid-next year, and Oracle has agreed to lease the site for 15 years, the report said.\n\nJPMorgan has provided a bulk of the debt financing across two loans totaling $9.6 billion, while the site’s owners, Crusoe and U.S. investment firm Blue Owl Capital, have invested around $5 billion in cash, the FT report added.\n\nThe data center will help OpenAI reduce its dependence on its largest backer Microsoft (NASDAQ: ) as the ChatGPT maker’s demand for power has outstripped the supply Microsoft can provide.\n\nFor Oracle, the data center and Stargate present an opportunity for the firm to boost its cloud computing capabilities and catch up to market leaders Microsoft, Amazon (NASDAQ: ) and Google (NASDAQ: ).\n\nOpenAI, Oracle, and Nvidia are also involved in a Stargate project in the Middle East, where a new massive AI data center will be constructed in the United Arab Emirates, likely using over a hundred thousand Nvidia chips.\n\nThe first phase of the UAE data center will come online in 2026.",
         "https://www.investing.com/news/stock-market-news/oracle-to-buy-40-billion-of-nvidia-chips-for-openais-us-data-center-ft-reports-4062372"
        ],
        [
         "2",
         "AMZN",
         "2025-05-23",
         "09:19",
         "Amazon not seeing notable impact from tariffs yet, Q2 revenue tracking higher By Investing.com",
         "Risk Disclosure: Trading in financial instruments and/or cryptocurrencies involves high risks including the risk of losing some, or all, of your investment amount, and may not be suitable for all investors. Prices of cryptocurrencies are extremely volatile and may be affected by external factors such as financial, regulatory or political events. Trading on margin increases the financial risks.\n\nBefore deciding to trade in financial instrument or cryptocurrencies you should be fully informed of the risks and costs associated with trading the financial markets, carefully consider your investment objectives, level of experience, and risk appetite, and seek professional advice where needed.\n\nFusion Media would like to remind you that the data contained in this website is not necessarily real-time nor accurate. The data and prices on the website are not necessarily provided by any market or exchange, but may be provided by market makers, and so prices may not be accurate and may differ from the actual price at any given market, meaning prices are indicative and not appropriate for trading purposes. Fusion Media and any provider of the data contained in this website will not accept liability for any loss or damage as a result of your trading, or your reliance on the information contained within this website.\n\nIt is prohibited to use, store, reproduce, display, modify, transmit or distribute the data contained in this website without the explicit prior written permission of Fusion Media and/or the data provider. All intellectual property rights are reserved by the providers and/or the exchange providing the data contained in this website.\n\nFusion Media may be compensated by the advertisers that appear on the website, based on your interaction with the advertisements or advertisers.",
         "https://www.investing.com/news/pro/amazon-not-seeing-notable-impact-from-tariffs-yet-q2-revenue-tracking-higher-4061987"
        ],
        [
         "3",
         "AMZN",
         "2025-05-23",
         "09:04",
         "Amazon Com Inc receives Investment Bank Analyst Rating Update By Investing.com",
         "Risk Disclosure: Trading in financial instruments and/or cryptocurrencies involves high risks including the risk of losing some, or all, of your investment amount, and may not be suitable for all investors. Prices of cryptocurrencies are extremely volatile and may be affected by external factors such as financial, regulatory or political events. Trading on margin increases the financial risks.\n\nBefore deciding to trade in financial instrument or cryptocurrencies you should be fully informed of the risks and costs associated with trading the financial markets, carefully consider your investment objectives, level of experience, and risk appetite, and seek professional advice where needed.\n\nFusion Media would like to remind you that the data contained in this website is not necessarily real-time nor accurate. The data and prices on the website are not necessarily provided by any market or exchange, but may be provided by market makers, and so prices may not be accurate and may differ from the actual price at any given market, meaning prices are indicative and not appropriate for trading purposes. Fusion Media and any provider of the data contained in this website will not accept liability for any loss or damage as a result of your trading, or your reliance on the information contained within this website.\n\nIt is prohibited to use, store, reproduce, display, modify, transmit or distribute the data contained in this website without the explicit prior written permission of Fusion Media and/or the data provider. All intellectual property rights are reserved by the providers and/or the exchange providing the data contained in this website.\n\nFusion Media may be compensated by the advertisers that appear on the website, based on your interaction with the advertisements or advertisers.",
         "https://www.investing.com/news/pro/da-davidson-maintains-amazoncom-at-buy-with-a-price-target-of-23000-4061961"
        ],
        [
         "4",
         "AMZN",
         "2025-05-23",
         "05:53",
         "Wall St falls as Trump tariff threats spark market uncertainty By Reuters",
         "By Chibuike Oguh\n\nNEW YORK (Reuters) -U.S. stocks fell on Friday, notching a weekly loss, after President Donald Trump recommended 50% tariffs on European goods, reopening a new front in global trade tensions and unleashing a fresh wave of market uncertainty.\n\nAll three main Wall Street indexes pared early losses but each still ended lower and shed more than 2% for the week. Technology, communication services and consumer discretionary stocks were the biggest losers of the ’s 11 subsectors. Utilities, consumer staples and energy stocks gained.\n\nApple (NASDAQ: ) touched a two-week low and finished down 3% after Trump warned the iPhone-maker it could face potential 25% tariffs on phones sold to U.S. customers but not manufactured in the country.\n\nTreasury yields eased from multi-month highs, falling 4.4 basis points to 4.509% for the benchmark U.S. 10-year note.\n\n\"If I were to put a headline on today’s story, it would be ’Here We Go Again!’\" said James St. Aubin, chief investment officer at Ocean Park Asset Management in Santa Monica, California.\n\n\"This is Trump turning on the temperature on the tariff conversation with the EU and Apple. The markets were hoping that the worst was behind us when it comes to the tariff rhetoric. But in reality, there’s still some smoldering embers when it comes to the tariff talk,\" St. Aubin added.\n\nThe fell 256.02 points, or 0.61%, to 41,603.07, the S&P 500 lost 39.19 points, or 0.67%, to 5,802.82 and the lost 188.53 points, or 1.00%, to 18,737.21.\n\nFor the week, the Dow lost 2.47%, the S&P 500 fell 2.61%, and the Nasdaq shed 2.48%.\n\nU.S. Treasury Secretary Scott Bessent said Trump did not believe the EU’s trade offers were of sufficient quality. He also said he hoped the threat of fresh tariffs would \"light a fire under the EU\" in negotiations.\n\nMost megacap and growth stocks fell, including Amazon (NASDAQ: ), Nvidia (NASDAQ: ) and Meta Platforms (NASDAQ: ) - which all lost more than 1%. Tesla (NASDAQ: ) ended down 0.5%.\n\nThe , Wall Street’s \"fear gauge,\" hit a more than two-week high and finished up 10%. Semiconductor stocks dropped 1.5%.\n\nDeckers Outdoor (NYSE: ) slumped nearly 20% after the maker of UGG boots forecast first-quarter net sales below estimates and said it would not provide annual targets due to tariff-led macroeconomic uncertainty. Sportswear maker Nike (NYSE: ) dropped 2.1%.\n\nVolume on U.S. exchanges was 17.67 billion shares, compared with the 17.73 billion average for the full session over the last 20 trading days.",
         "https://www.investing.com/news/stock-market-news/us-stock-futures-flat-on-debt-worries-as-markets-mull-trumps-tax-bill-4061588"
        ]
       ],
       "shape": {
        "columns": 6,
        "rows": 5
       }
      },
      "text/html": [
       "<div>\n",
       "<style scoped>\n",
       "    .dataframe tbody tr th:only-of-type {\n",
       "        vertical-align: middle;\n",
       "    }\n",
       "\n",
       "    .dataframe tbody tr th {\n",
       "        vertical-align: top;\n",
       "    }\n",
       "\n",
       "    .dataframe thead th {\n",
       "        text-align: right;\n",
       "    }\n",
       "</style>\n",
       "<table border=\"1\" class=\"dataframe\">\n",
       "  <thead>\n",
       "    <tr style=\"text-align: right;\">\n",
       "      <th></th>\n",
       "      <th>ticker</th>\n",
       "      <th>publish_date</th>\n",
       "      <th>publish_time</th>\n",
       "      <th>title</th>\n",
       "      <th>body_text</th>\n",
       "      <th>url</th>\n",
       "    </tr>\n",
       "  </thead>\n",
       "  <tbody>\n",
       "    <tr>\n",
       "      <th>0</th>\n",
       "      <td>AMZN</td>\n",
       "      <td>2025-05-23</td>\n",
       "      <td>14:36</td>\n",
       "      <td>Amazon.com is sued over alleged sale of contam...</td>\n",
       "      <td>By Jonathan Stempel\\n\\n(Reuters) - Amazon.com ...</td>\n",
       "      <td>https://www.investing.com/news/stock-market-ne...</td>\n",
       "    </tr>\n",
       "    <tr>\n",
       "      <th>1</th>\n",
       "      <td>AMZN</td>\n",
       "      <td>2025-05-23</td>\n",
       "      <td>14:14</td>\n",
       "      <td>Oracle to buy $40 billion of Nvidia chips for ...</td>\n",
       "      <td>(Reuters) -Oracle will spend around $40 billio...</td>\n",
       "      <td>https://www.investing.com/news/stock-market-ne...</td>\n",
       "    </tr>\n",
       "    <tr>\n",
       "      <th>2</th>\n",
       "      <td>AMZN</td>\n",
       "      <td>2025-05-23</td>\n",
       "      <td>09:19</td>\n",
       "      <td>Amazon not seeing notable impact from tariffs ...</td>\n",
       "      <td>Risk Disclosure: Trading in financial instrume...</td>\n",
       "      <td>https://www.investing.com/news/pro/amazon-not-...</td>\n",
       "    </tr>\n",
       "    <tr>\n",
       "      <th>3</th>\n",
       "      <td>AMZN</td>\n",
       "      <td>2025-05-23</td>\n",
       "      <td>09:04</td>\n",
       "      <td>Amazon Com Inc receives Investment Bank Analys...</td>\n",
       "      <td>Risk Disclosure: Trading in financial instrume...</td>\n",
       "      <td>https://www.investing.com/news/pro/da-davidson...</td>\n",
       "    </tr>\n",
       "    <tr>\n",
       "      <th>4</th>\n",
       "      <td>AMZN</td>\n",
       "      <td>2025-05-23</td>\n",
       "      <td>05:53</td>\n",
       "      <td>Wall St falls as Trump tariff threats spark ma...</td>\n",
       "      <td>By Chibuike Oguh\\n\\nNEW YORK (Reuters) -U.S. s...</td>\n",
       "      <td>https://www.investing.com/news/stock-market-ne...</td>\n",
       "    </tr>\n",
       "  </tbody>\n",
       "</table>\n",
       "</div>"
      ],
      "text/plain": [
       "  ticker publish_date publish_time  \\\n",
       "0   AMZN   2025-05-23        14:36   \n",
       "1   AMZN   2025-05-23        14:14   \n",
       "2   AMZN   2025-05-23        09:19   \n",
       "3   AMZN   2025-05-23        09:04   \n",
       "4   AMZN   2025-05-23        05:53   \n",
       "\n",
       "                                               title  \\\n",
       "0  Amazon.com is sued over alleged sale of contam...   \n",
       "1  Oracle to buy $40 billion of Nvidia chips for ...   \n",
       "2  Amazon not seeing notable impact from tariffs ...   \n",
       "3  Amazon Com Inc receives Investment Bank Analys...   \n",
       "4  Wall St falls as Trump tariff threats spark ma...   \n",
       "\n",
       "                                           body_text  \\\n",
       "0  By Jonathan Stempel\\n\\n(Reuters) - Amazon.com ...   \n",
       "1  (Reuters) -Oracle will spend around $40 billio...   \n",
       "2  Risk Disclosure: Trading in financial instrume...   \n",
       "3  Risk Disclosure: Trading in financial instrume...   \n",
       "4  By Chibuike Oguh\\n\\nNEW YORK (Reuters) -U.S. s...   \n",
       "\n",
       "                                                 url  \n",
       "0  https://www.investing.com/news/stock-market-ne...  \n",
       "1  https://www.investing.com/news/stock-market-ne...  \n",
       "2  https://www.investing.com/news/pro/amazon-not-...  \n",
       "3  https://www.investing.com/news/pro/da-davidson...  \n",
       "4  https://www.investing.com/news/stock-market-ne...  "
      ]
     },
     "metadata": {},
     "output_type": "display_data"
    }
   ],
   "source": [
    "df = pd.read_csv(\"../../DataCollection/Data/News/AMZN_2025-05-26_13-36-10.csv\")\n",
    "display(df.head())"
   ]
  },
  {
   "cell_type": "code",
   "execution_count": 176,
   "id": "1c6c45a4",
   "metadata": {},
   "outputs": [
    {
     "data": {
      "application/vnd.microsoft.datawrangler.viewer.v0+json": {
       "columns": [
        {
         "name": "index",
         "rawType": "object",
         "type": "string"
        },
        {
         "name": "0",
         "rawType": "int64",
         "type": "integer"
        }
       ],
       "ref": "f28b24ee-6860-470a-9806-37c775ee7ffd",
       "rows": [
        [
         "ticker",
         "0"
        ],
        [
         "publish_date",
         "0"
        ],
        [
         "publish_time",
         "0"
        ],
        [
         "title",
         "0"
        ],
        [
         "body_text",
         "0"
        ],
        [
         "url",
         "0"
        ]
       ],
       "shape": {
        "columns": 1,
        "rows": 6
       }
      },
      "text/plain": [
       "ticker          0\n",
       "publish_date    0\n",
       "publish_time    0\n",
       "title           0\n",
       "body_text       0\n",
       "url             0\n",
       "dtype: int64"
      ]
     },
     "execution_count": 176,
     "metadata": {},
     "output_type": "execute_result"
    }
   ],
   "source": [
    "df.isnull().sum()"
   ]
  },
  {
   "cell_type": "code",
   "execution_count": 177,
   "id": "074d5e03",
   "metadata": {},
   "outputs": [],
   "source": [
    "df[\"title\"] = df[\"title\"].astype(str)\n",
    "df[\"body_text\"] = df[\"body_text\"].astype(str)"
   ]
  },
  {
   "cell_type": "code",
   "execution_count": 178,
   "id": "24dcc3ea",
   "metadata": {},
   "outputs": [
    {
     "name": "stdout",
     "output_type": "stream",
     "text": [
      "  ticker publish_date publish_time  \\\n",
      "0   AMZN   2025-05-23        14:36   \n",
      "1   AMZN   2025-05-23        14:14   \n",
      "2   AMZN   2025-05-23        09:19   \n",
      "3   AMZN   2025-05-23        09:04   \n",
      "4   AMZN   2025-05-23        05:53   \n",
      "\n",
      "                                               title  \\\n",
      "0  Amazon.com is sued over alleged sale of contam...   \n",
      "1  Oracle to buy $40 billion of Nvidia chips for ...   \n",
      "2  Amazon not seeing notable impact from tariffs ...   \n",
      "3  Amazon Com Inc receives Investment Bank Analys...   \n",
      "4  Wall St falls as Trump tariff threats spark ma...   \n",
      "\n",
      "                                           body_text  \\\n",
      "0  By Jonathan Stempel\\n\\n(Reuters) - Amazon.com ...   \n",
      "1  (Reuters) -Oracle will spend around $40 billio...   \n",
      "2  Risk Disclosure: Trading in financial instrume...   \n",
      "3  Risk Disclosure: Trading in financial instrume...   \n",
      "4  By Chibuike Oguh\\n\\nNEW YORK (Reuters) -U.S. s...   \n",
      "\n",
      "                                                 url  \n",
      "0  https://www.investing.com/news/stock-market-ne...  \n",
      "1  https://www.investing.com/news/stock-market-ne...  \n",
      "2  https://www.investing.com/news/pro/amazon-not-...  \n",
      "3  https://www.investing.com/news/pro/da-davidson...  \n",
      "4  https://www.investing.com/news/stock-market-ne...  \n"
     ]
    }
   ],
   "source": [
    "print(df.head())"
   ]
  },
  {
   "cell_type": "code",
   "execution_count": 179,
   "id": "f6e35e45",
   "metadata": {},
   "outputs": [
    {
     "name": "stderr",
     "output_type": "stream",
     "text": [
      "Prompting:   0%|          | 0/20 [00:00<?, ?it/s]"
     ]
    },
    {
     "name": "stderr",
     "output_type": "stream",
     "text": [
      "Prompting: 100%|██████████| 20/20 [01:53<00:00,  5.67s/it]\n"
     ]
    }
   ],
   "source": [
    "predicted = []\n",
    "\n",
    "for index, row in tqdm(df.iterrows(), total=len(df), desc=\"Prompting\"): \n",
    "    current_stock = row.get(\"ticker\", \"Unknown Stock\")\n",
    "\n",
    "    filled_prompt = prompt.replace(\"[STOCK]\", current_stock)\n",
    "    filled_prompt = filled_prompt.replace(\"[TITLE]\", row[\"title\"])\n",
    "    filled_prompt = filled_prompt.replace(\"[BODY]\", row[\"body_text\"])\n",
    "\n",
    "    try:\n",
    "        response = generate_content_with_rate_limit(filled_prompt)\n",
    "        finalprediction = response.strip()\n",
    "        if not finalprediction:\n",
    "            print(f\"Row {index}: LLM returned an empty string.\")\n",
    "            predicted.append(\"LLM_EMPTY_RESPONSE\")\n",
    "        else:\n",
    "            predicted.append(finalprediction)\n",
    "    except ValueError as ve:\n",
    "        print(f\"Row {index}: ValueError - {ve}. Appending 'ERROR_VALUE_ERROR'.\")\n",
    "        predicted.append(\"ERROR_VALUE_ERROR\")\n",
    "        continue\n",
    "    except Exception as e:\n",
    "        if \"429 Too Many Requests\" in str(e) or \"quota\" in str(e).lower():\n",
    "            print(f\"Row {index}: Rate Limit Exceeded or Quota Error - {e}. Appending 'ERROR_RATE_LIMIT'.\")\n",
    "            predicted.append(\"ERROR_RATE_LIMIT\")\n",
    "        elif \"safety\" in str(e).lower() or \"blocked\" in str(e).lower():\n",
    "             print(f\"Row {index}: Content Safety/Blocked - {e}. Appending 'ERROR_SAFETY_BLOCKED'.\")\n",
    "             predicted.append(\"ERROR_SAFETY_BLOCKED\")\n",
    "        else:\n",
    "            print(f\"Row {index}: Unexpected Error - {e}. Appending 'ERROR_UNEXPECTED'.\")\n",
    "            predicted.append(\"ERROR_UNEXPECTED\")\n",
    "        continue"
   ]
  },
  {
   "cell_type": "code",
   "execution_count": 180,
   "id": "984e0e0f",
   "metadata": {},
   "outputs": [],
   "source": [
    "predicted = np.array(predicted)\n",
    "df[\"predicted\"] = predicted"
   ]
  },
  {
   "cell_type": "code",
   "execution_count": 181,
   "id": "90abd541",
   "metadata": {},
   "outputs": [
    {
     "name": "stdout",
     "output_type": "stream",
     "text": [
      "Amazon not seeing notable impact from tariffs yet, Q2 revenue tracking higher By Investing.com \n",
      "\n",
      " **Sentiment:**\n",
      "Positive\n",
      "\n",
      "**Summary:**\n",
      "Amazon reports that it is not currently experiencing a significant negative impact from tariffs. Furthermore, the company's second-quarter revenue is reportedly tracking higher.\n",
      "\n",
      "**Reasoning for Sentiment:**\n",
      "The news indicates that a potential negative factor (tariffs) is not currently affecting Amazon's business notably, while a key performance indicator (revenue) is showing positive growth.\n",
      "\n",
      "**Importance to Stock AMZN:**\n",
      "5\n",
      "\n",
      "**Reasoning for Importance:**\n",
      "This information is highly important as it provides insight into Amazon's current financial performance (revenue tracking higher) and its resilience to significant external economic factors like tariffs, which directly impacts investor confidence and valuation.\n"
     ]
    }
   ],
   "source": [
    "print(df[\"title\"][2],'\\n\\n',predicted[2])"
   ]
  },
  {
   "cell_type": "code",
   "execution_count": 182,
   "id": "d915ec16",
   "metadata": {},
   "outputs": [],
   "source": [
    "df[\"sentiment\"] = df[\"predicted\"].apply(lambda x: x.split(\"\\n\")[1].strip())\n",
    "df[\"importance\"] = df[\"predicted\"].apply(lambda x: x.split(\"\\n\")[10].strip())\n",
    "df[\"summary\"] = df[\"predicted\"].apply(lambda x: x.split(\"\\n\")[4].strip())"
   ]
  },
  {
   "cell_type": "code",
   "execution_count": 183,
   "id": "0097fc24",
   "metadata": {},
   "outputs": [
    {
     "data": {
      "application/vnd.microsoft.datawrangler.viewer.v0+json": {
       "columns": [
        {
         "name": "index",
         "rawType": "int64",
         "type": "integer"
        },
        {
         "name": "publish_date",
         "rawType": "object",
         "type": "string"
        },
        {
         "name": "title",
         "rawType": "object",
         "type": "string"
        },
        {
         "name": "sentiment",
         "rawType": "object",
         "type": "string"
        },
        {
         "name": "importance",
         "rawType": "object",
         "type": "string"
        },
        {
         "name": "summary",
         "rawType": "object",
         "type": "string"
        }
       ],
       "ref": "31131344-d9cb-44e3-b85e-78213a74f11b",
       "rows": [
        [
         "4",
         "2025-05-23",
         "Wall St falls as Trump tariff threats spark market uncertainty By Reuters",
         "Negative",
         "4",
         "US stocks experienced a significant decline on Friday and for the week, primarily due to President Trump's renewed threats of 50% tariffs on European goods and potential tariffs on Apple products. This action reignited global trade tensions, increasing market uncertainty and leading to broad losses, particularly in technology, communication services, and consumer discretionary sectors."
        ],
        [
         "10",
         "2025-05-22",
         "Ackman’s hedge fund Pershing Square bets on Amazon, exits Canadian Pacific By Reuters",
         "Positive",
         "4",
         "Billionaire investor Bill Ackman's hedge fund, Pershing Square, made a substantial investment in Amazon shares last month. The fund cited confidence in Amazon's continued earnings growth, resilience to tariffs, and management's ability to expand profit margins as reasons for the purchase."
        ],
        [
         "11",
         "2025-05-22",
         "U.S. stocks mixed at close of trade; Dow Jones Industrial Average down 0.00% By Investing.com",
         "Positive",
         "4",
         "The article reports on the mixed close of the U.S. stock market, with the Dow flat, S&P 500 slightly down, and Nasdaq slightly up. It details the performance of various sectors and individual stocks, noting that Amazon (AMZN) was among the best performers on the day, gaining 0.99%."
        ],
        [
         "15",
         "2025-05-22",
         "Startup Anthropic says its new AI model can code for hours at a time By Reuters",
         "Positive",
         "4",
         "AI startup Anthropic, backed by Amazon, has launched its new top-tier AI model, Claude Opus 4, which demonstrates significantly improved autonomous coding capabilities, working for hours at a time. The company aims for greater economic and productivity impact through these advancements, also releasing a smaller model, Sonnet 4, and making its Claude Code tool generally available."
        ]
       ],
       "shape": {
        "columns": 5,
        "rows": 4
       }
      },
      "text/html": [
       "<div>\n",
       "<style scoped>\n",
       "    .dataframe tbody tr th:only-of-type {\n",
       "        vertical-align: middle;\n",
       "    }\n",
       "\n",
       "    .dataframe tbody tr th {\n",
       "        vertical-align: top;\n",
       "    }\n",
       "\n",
       "    .dataframe thead th {\n",
       "        text-align: right;\n",
       "    }\n",
       "</style>\n",
       "<table border=\"1\" class=\"dataframe\">\n",
       "  <thead>\n",
       "    <tr style=\"text-align: right;\">\n",
       "      <th></th>\n",
       "      <th>publish_date</th>\n",
       "      <th>title</th>\n",
       "      <th>sentiment</th>\n",
       "      <th>importance</th>\n",
       "      <th>summary</th>\n",
       "    </tr>\n",
       "  </thead>\n",
       "  <tbody>\n",
       "    <tr>\n",
       "      <th>4</th>\n",
       "      <td>2025-05-23</td>\n",
       "      <td>Wall St falls as Trump tariff threats spark ma...</td>\n",
       "      <td>Negative</td>\n",
       "      <td>4</td>\n",
       "      <td>US stocks experienced a significant decline on...</td>\n",
       "    </tr>\n",
       "    <tr>\n",
       "      <th>10</th>\n",
       "      <td>2025-05-22</td>\n",
       "      <td>Ackman’s hedge fund Pershing Square bets on Am...</td>\n",
       "      <td>Positive</td>\n",
       "      <td>4</td>\n",
       "      <td>Billionaire investor Bill Ackman's hedge fund,...</td>\n",
       "    </tr>\n",
       "    <tr>\n",
       "      <th>11</th>\n",
       "      <td>2025-05-22</td>\n",
       "      <td>U.S. stocks mixed at close of trade; Dow Jones...</td>\n",
       "      <td>Positive</td>\n",
       "      <td>4</td>\n",
       "      <td>The article reports on the mixed close of the ...</td>\n",
       "    </tr>\n",
       "    <tr>\n",
       "      <th>15</th>\n",
       "      <td>2025-05-22</td>\n",
       "      <td>Startup Anthropic says its new AI model can co...</td>\n",
       "      <td>Positive</td>\n",
       "      <td>4</td>\n",
       "      <td>AI startup Anthropic, backed by Amazon, has la...</td>\n",
       "    </tr>\n",
       "  </tbody>\n",
       "</table>\n",
       "</div>"
      ],
      "text/plain": [
       "   publish_date                                              title sentiment  \\\n",
       "4    2025-05-23  Wall St falls as Trump tariff threats spark ma...  Negative   \n",
       "10   2025-05-22  Ackman’s hedge fund Pershing Square bets on Am...  Positive   \n",
       "11   2025-05-22  U.S. stocks mixed at close of trade; Dow Jones...  Positive   \n",
       "15   2025-05-22  Startup Anthropic says its new AI model can co...  Positive   \n",
       "\n",
       "   importance                                            summary  \n",
       "4           4  US stocks experienced a significant decline on...  \n",
       "10          4  Billionaire investor Bill Ackman's hedge fund,...  \n",
       "11          4  The article reports on the mixed close of the ...  \n",
       "15          4  AI startup Anthropic, backed by Amazon, has la...  "
      ]
     },
     "execution_count": 183,
     "metadata": {},
     "output_type": "execute_result"
    }
   ],
   "source": [
    "df[df[\"importance\"]== \"4\"][[\"publish_date\",\"title\", \"sentiment\",\"importance\", \"summary\"]]"
   ]
  },
  {
   "cell_type": "code",
   "execution_count": 184,
   "id": "d090b2b6",
   "metadata": {},
   "outputs": [
    {
     "data": {
      "application/vnd.microsoft.datawrangler.viewer.v0+json": {
       "columns": [
        {
         "name": "index",
         "rawType": "int64",
         "type": "integer"
        },
        {
         "name": "ticker",
         "rawType": "object",
         "type": "string"
        },
        {
         "name": "publish_date",
         "rawType": "object",
         "type": "string"
        },
        {
         "name": "publish_time",
         "rawType": "object",
         "type": "string"
        },
        {
         "name": "title",
         "rawType": "object",
         "type": "string"
        },
        {
         "name": "body_text",
         "rawType": "object",
         "type": "string"
        },
        {
         "name": "url",
         "rawType": "object",
         "type": "string"
        },
        {
         "name": "predicted",
         "rawType": "object",
         "type": "string"
        },
        {
         "name": "sentiment",
         "rawType": "object",
         "type": "string"
        },
        {
         "name": "importance",
         "rawType": "object",
         "type": "string"
        },
        {
         "name": "summary",
         "rawType": "object",
         "type": "string"
        }
       ],
       "ref": "273698d1-e1f3-477d-9144-f8fdbc24dca8",
       "rows": [
        [
         "7",
         "AMZN",
         "2025-05-22",
         "20:00",
         "This CEO ’is making all the right moves to unlock meaningful upside’ By Investing.com",
         "Risk Disclosure: Trading in financial instruments and/or cryptocurrencies involves high risks including the risk of losing some, or all, of your investment amount, and may not be suitable for all investors. Prices of cryptocurrencies are extremely volatile and may be affected by external factors such as financial, regulatory or political events. Trading on margin increases the financial risks.\n\nBefore deciding to trade in financial instrument or cryptocurrencies you should be fully informed of the risks and costs associated with trading the financial markets, carefully consider your investment objectives, level of experience, and risk appetite, and seek professional advice where needed.\n\nFusion Media would like to remind you that the data contained in this website is not necessarily real-time nor accurate. The data and prices on the website are not necessarily provided by any market or exchange, but may be provided by market makers, and so prices may not be accurate and may differ from the actual price at any given market, meaning prices are indicative and not appropriate for trading purposes. Fusion Media and any provider of the data contained in this website will not accept liability for any loss or damage as a result of your trading, or your reliance on the information contained within this website.\n\nIt is prohibited to use, store, reproduce, display, modify, transmit or distribute the data contained in this website without the explicit prior written permission of Fusion Media and/or the data provider. All intellectual property rights are reserved by the providers and/or the exchange providing the data contained in this website.\n\nFusion Media may be compensated by the advertisers that appear on the website, based on your interaction with the advertisements or advertisers.",
         "https://www.investing.com/news/pro/this-ceo-is-making-all-the-right-moves-to-unlock-meaningful-upside-432SI-4061103",
         "Based on the provided text, which consists solely of risk disclosures and disclaimers from Investing.com, the actual content of the news article regarding the CEO and AMZN is missing. Therefore, I cannot analyze the article's sentiment, summarize its core content, or assess its importance to the stock AMZN.\n\n**Sentiment:**\n[Unable to determine due to missing article content]\n\n**Summary:**\n[Unable to determine due to missing article content]\n\n**Reasoning for Sentiment:**\n[Unable to determine due to missing article content]\n\n**Importance to Stock AMZN:**\n[Unable to determine due to missing article content]\n\n**Reasoning for Importance:**\n[Unable to determine due to missing article content]",
         "",
         "",
         ""
        ]
       ],
       "shape": {
        "columns": 10,
        "rows": 1
       }
      },
      "text/html": [
       "<div>\n",
       "<style scoped>\n",
       "    .dataframe tbody tr th:only-of-type {\n",
       "        vertical-align: middle;\n",
       "    }\n",
       "\n",
       "    .dataframe tbody tr th {\n",
       "        vertical-align: top;\n",
       "    }\n",
       "\n",
       "    .dataframe thead th {\n",
       "        text-align: right;\n",
       "    }\n",
       "</style>\n",
       "<table border=\"1\" class=\"dataframe\">\n",
       "  <thead>\n",
       "    <tr style=\"text-align: right;\">\n",
       "      <th></th>\n",
       "      <th>ticker</th>\n",
       "      <th>publish_date</th>\n",
       "      <th>publish_time</th>\n",
       "      <th>title</th>\n",
       "      <th>body_text</th>\n",
       "      <th>url</th>\n",
       "      <th>predicted</th>\n",
       "      <th>sentiment</th>\n",
       "      <th>importance</th>\n",
       "      <th>summary</th>\n",
       "    </tr>\n",
       "  </thead>\n",
       "  <tbody>\n",
       "    <tr>\n",
       "      <th>7</th>\n",
       "      <td>AMZN</td>\n",
       "      <td>2025-05-22</td>\n",
       "      <td>20:00</td>\n",
       "      <td>This CEO ’is making all the right moves to unl...</td>\n",
       "      <td>Risk Disclosure: Trading in financial instrume...</td>\n",
       "      <td>https://www.investing.com/news/pro/this-ceo-is...</td>\n",
       "      <td>Based on the provided text, which consists sol...</td>\n",
       "      <td></td>\n",
       "      <td></td>\n",
       "      <td></td>\n",
       "    </tr>\n",
       "  </tbody>\n",
       "</table>\n",
       "</div>"
      ],
      "text/plain": [
       "  ticker publish_date publish_time  \\\n",
       "7   AMZN   2025-05-22        20:00   \n",
       "\n",
       "                                               title  \\\n",
       "7  This CEO ’is making all the right moves to unl...   \n",
       "\n",
       "                                           body_text  \\\n",
       "7  Risk Disclosure: Trading in financial instrume...   \n",
       "\n",
       "                                                 url  \\\n",
       "7  https://www.investing.com/news/pro/this-ceo-is...   \n",
       "\n",
       "                                           predicted sentiment importance  \\\n",
       "7  Based on the provided text, which consists sol...                        \n",
       "\n",
       "  summary  \n",
       "7          "
      ]
     },
     "metadata": {},
     "output_type": "display_data"
    }
   ],
   "source": [
    "display(df[df['sentiment']==''])\n",
    "df = df[df['sentiment'] != '']"
   ]
  },
  {
   "cell_type": "code",
   "execution_count": 185,
   "id": "040c6042",
   "metadata": {},
   "outputs": [
    {
     "data": {
      "text/plain": [
       "<Axes: title={'center': 'Sentiment Distribution'}, xlabel='sentiment'>"
      ]
     },
     "execution_count": 185,
     "metadata": {},
     "output_type": "execute_result"
    },
    {
     "data": {
      "image/png": "[encoded data removed]",
      "text/plain": [
       "<Figure size 640x480 with 1 Axes>"
      ]
     },
     "metadata": {},
     "output_type": "display_data"
    }
   ],
   "source": [
    "df['sentiment'].value_counts().plot(kind='bar', title='Sentiment Distribution')"
   ]
  },
  {
   "cell_type": "code",
   "execution_count": 186,
   "id": "f6472de3",
   "metadata": {},
   "outputs": [
    {
     "data": {
      "text/plain": [
       "<Axes: title={'center': 'Importance Distribution'}, xlabel='importance'>"
      ]
     },
     "execution_count": 186,
     "metadata": {},
     "output_type": "execute_result"
    },
    {
     "data": {
      "image/png": "[encoded data removed]",
      "text/plain": [
       "<Figure size 640x480 with 1 Axes>"
      ]
     },
     "metadata": {},
     "output_type": "display_data"
    }
   ],
   "source": [
    "df['importance'].value_counts().sort_index().plot(kind='bar', title='Importance Distribution')"
   ]
  },
  {
   "cell_type": "code",
   "execution_count": 187,
   "id": "ec798206",
   "metadata": {},
   "outputs": [],
   "source": [
    "TICKER=df[\"ticker\"][0]"
   ]
  },
  {
   "cell_type": "code",
   "execution_count": 188,
   "id": "f0b00e4b",
   "metadata": {},
   "outputs": [],
   "source": [
    "df[df['sentiment']=='']\n",
    "df = df[df['sentiment'] != '']"
   ]
  },
  {
   "cell_type": "code",
   "execution_count": 189,
   "id": "35d26f9b",
   "metadata": {},
   "outputs": [],
   "source": [
    "def calculate_sentiment_score(df):\n",
    "    sentiment_scores = {\n",
    "        'Positive': 1,\n",
    "        'Negative': -1,\n",
    "        'Neutral': 0\n",
    "    }\n",
    "    \n",
    "    df['sentiment_score'] = df['sentiment'].map(sentiment_scores)\n",
    "    \n",
    "    df['weighted_score'] = df['sentiment_score'] * df['importance'].astype(int)\n",
    "    \n",
    "    total_importance = df['importance'].astype(int).sum()\n",
    "    \n",
    "    if total_importance == 0:\n",
    "        return 0\n",
    "    \n",
    "    sentiment_score = df['weighted_score'].sum() / total_importance\n",
    "    return sentiment_score"
   ]
  },
  {
   "cell_type": "code",
   "execution_count": 190,
   "id": "522496ee",
   "metadata": {},
   "outputs": [
    {
     "name": "stdout",
     "output_type": "stream",
     "text": [
      "Sentiment Score for AMZN: 0.34\n"
     ]
    }
   ],
   "source": [
    "print(f\"Sentiment Score for {TICKER}: {calculate_sentiment_score(df).round(2)}\")"
   ]
  },
  {
   "cell_type": "code",
   "execution_count": 191,
   "id": "89ff0738",
   "metadata": {},
   "outputs": [],
   "source": [
    "import datetime\n",
    "\n",
    "df.drop(columns=['predicted','body_text'],inplace=True)\n",
    "now = datetime.datetime.now()\n",
    "date_time = now.strftime(\"%Y-%m-%d %H-%M-%S\").strip().replace(' ', '_')\n",
    "df.to_csv(f\"Output/Gemini_{TICKER}_{date_time}.csv\", index=False)"
   ]
  }
 ],
 "metadata": {
  "kernelspec": {
   "display_name": "base",
   "language": "python",
   "name": "python3"
  },
  "language_info": {
   "codemirror_mode": {
    "name": "ipython",
    "version": 3
   },
   "file_extension": ".py",
   "mimetype": "text/x-python",
   "name": "python",
   "nbconvert_exporter": "python",
   "pygments_lexer": "ipython3",
   "version": "3.11.10"
  }
 },
 "nbformat": 4,
 "nbformat_minor": 5
}
