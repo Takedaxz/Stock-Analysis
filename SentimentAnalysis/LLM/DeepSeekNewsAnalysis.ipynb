{
 "cells": [
  {
   "cell_type": "code",
   "execution_count": 62,
   "id": "504d9a21",
   "metadata": {},
   "outputs": [],
   "source": [
    "import pandas as pd\n",
    "import numpy as np\n",
    "import datetime"
   ]
  },
  {
   "cell_type": "code",
   "execution_count": 63,
   "id": "9365baf4",
   "metadata": {},
   "outputs": [
    {
     "name": "stdout",
     "output_type": "stream",
     "text": [
      "OPENROUTER_AI_API_KEY loaded successfully.\n"
     ]
    }
   ],
   "source": [
    "import os\n",
    "from dotenv import load_dotenv\n",
    "\n",
    "load_dotenv(\"secret.env\")\n",
    "\n",
    "api_key = os.getenv(\"OPENROUTER_AI_API_KEY\")\n",
    "\n",
    "if api_key is None:\n",
    "    print(\"Error: OPENROUTER_AI_API_KEY not found in .env file or environment variables.\")\n",
    "else:\n",
    "    print(\"OPENROUTER_AI_API_KEY loaded successfully.\")"
   ]
  },
  {
   "cell_type": "code",
   "execution_count": 64,
   "id": "827827c9",
   "metadata": {},
   "outputs": [
    {
     "name": "stdout",
     "output_type": "stream",
     "text": [
      "{\n",
      "  \"data\": {\n",
      "    \"label\": \"sk-or-v1-4eb...7b1\",\n",
      "    \"limit\": null,\n",
      "    \"usage\": 0.12919039,\n",
      "    \"is_provisioning_key\": false,\n",
      "    \"limit_remaining\": null,\n",
      "    \"is_free_tier\": true,\n",
      "    \"rate_limit\": {\n",
      "      \"requests\": 10,\n",
      "      \"interval\": \"10s\"\n",
      "    }\n",
      "  }\n",
      "}\n"
     ]
    }
   ],
   "source": [
    "import requests\n",
    "import json\n",
    "response = requests.get(\n",
    "  url=\"https://openrouter.ai/api/v1/auth/key\",\n",
    "  headers={\n",
    "    \"Authorization\": f\"Bearer {api_key}\"\n",
    "  }\n",
    ")\n",
    "print(json.dumps(response.json(), indent=2))"
   ]
  },
  {
   "cell_type": "code",
   "execution_count": 65,
   "id": "e842292d",
   "metadata": {},
   "outputs": [],
   "source": [
    "from openai import OpenAI\n",
    "\n",
    "client = OpenAI(\n",
    "  base_url=\"https://openrouter.ai/api/v1\",\n",
    "  api_key=api_key,\n",
    ")"
   ]
  },
  {
   "cell_type": "code",
   "execution_count": 66,
   "id": "29ab92f1",
   "metadata": {},
   "outputs": [],
   "source": [
    "prompt = \"\"\"You are a financial news analyst specializing in stock market impact. Your task is to analyze the provided news article, summarize its core content concisely, determine its sentiment (positive, negative, or neutral), and assess its importance to the specified stock.\n",
    "\n",
    "Here is the news from stock [STOCK] title and body:\n",
    "---\n",
    "[TITLE]\n",
    "---\n",
    "[BODY]\n",
    "---\n",
    "\n",
    "Please provide your analysis in the following format:\n",
    "\n",
    "**Sentiment:**\n",
    "[Positive / Negative / Neutral]\n",
    "\n",
    "**Summary:**\n",
    "[Your concise summary of the article, typically 2-3 sentences.]\n",
    "\n",
    "**Reasoning for Sentiment:**\n",
    "[Brief explanation (1-2 sentences) of why you categorized the sentiment as such, referencing key points or tone from the article.]\n",
    "\n",
    "**Importance to Stock [STOCK]:**\n",
    "[1-5, where 1 is minimal importance and 5 is very high importance.] (Answer only in number 1-5)\n",
    "\n",
    "**Reasoning for Importance:**\n",
    "[Brief explanation (1-2 sentences) of why you assigned this importance score, referencing specific details from the article that would impact the stock.]\"\"\""
   ]
  },
  {
   "cell_type": "code",
   "execution_count": 67,
   "id": "0ade5869",
   "metadata": {},
   "outputs": [
    {
     "data": {
      "application/vnd.microsoft.datawrangler.viewer.v0+json": {
       "columns": [
        {
         "name": "index",
         "rawType": "int64",
         "type": "integer"
        },
        {
         "name": "ticker",
         "rawType": "object",
         "type": "string"
        },
        {
         "name": "publish_date",
         "rawType": "object",
         "type": "string"
        },
        {
         "name": "publish_time",
         "rawType": "object",
         "type": "string"
        },
        {
         "name": "title",
         "rawType": "object",
         "type": "string"
        },
        {
         "name": "body_text",
         "rawType": "object",
         "type": "string"
        },
        {
         "name": "url",
         "rawType": "object",
         "type": "string"
        }
       ],
       "ref": "9ab522b6-f43d-4fa3-b6ea-e96ab510ddf1",
       "rows": [
        [
         "0",
         "AMZN",
         "2025-05-23",
         "14:36",
         "Amazon.com is sued over alleged sale of contaminated rice By Reuters",
         "By Jonathan Stempel\n\n(Reuters) - Amazon.com was sued on Friday by consumers over its alleged sale of a wide variety of rice contaminated by arsenic and other \"heavy metals.\"\n\nThe proposed class action in Seattle federal court covers 18 types of rice sold through Amazon, including from familiar brands such as Ben’s Original and Amazon-owned Whole Foods’ 365.\n\n\"Amazon sold these rice products with alarmingly high levels of heavy metals to an intended consumer audience that includes children, with no warning whatsoever about the dangers of heavy metals,\" the complaint said.\n\nThe lawsuit followed a study last week by Healthy Babies, Bright Futures, a nonprofit that focuses on babies’ exposure to toxic chemicals.\n\nThat study found arsenic in all 145 rice samples purchased nationwide, with 28% exceeding a U.S. Food and Drug Administration limit for infant rice cereal.\n\nIt also found cadmium in all but one sample, and lead and mercury in more than one-third of tested samples.\n\nAmazon, based in Seattle, had no immediate comment.\n\nExposure to heavy metals has been associated with negative health effects such as nervous system problems, immune system suppression and kidney damage, and autism spectrum disorder and attention deficit hyperactivity disorder in young children.\n\nThe 18 rice products include two from Ben’s Original and three with the 365 label.\n\nPlaintiffs Ashley Wright and Merriman Blum said they would not have bought or would have paid less for Iberia Basmati 100% Aged Original rice, one of the products, if they knew the rice was contaminated or Amazon never tested it for heavy metals.\n\nFriday’s lawsuit seeks unspecified damages of at least $5 million for Amazon’s alleged violations of Washington state consumer protection laws.\n\nMakers of baby food and dark chocolate have also faced many consumer lawsuits over the alleged presence of heavy metals.\n\nThe case is Wright et al v Amazon.com Inc (NASDAQ: ), U.S. District Court, Western District of Washington, No. 25-00977.",
         "https://www.investing.com/news/stock-market-news/amazoncom-is-sued-over-alleged-sale-of-contaminated-rice-4062390"
        ],
        [
         "1",
         "AMZN",
         "2025-05-23",
         "14:14",
         "Oracle to buy $40 billion of Nvidia chips for OpenAI’s US data center, FT reports By Reuters",
         "(Reuters) -Oracle will spend around $40 billion on Nvidia (NASDAQ: )’s higher-performance chips to power OpenAI’s new U.S. data center, the Financial Times reported on Friday.\n\nThe data center, situated in Abilene, Texas, is part of the U.S. Stargate Project, led by top AI firms in the country, to boost America’s heft in the artificial intelligence industry amid heating global competition.\n\nThe cloud service provider will purchase around 400,000 of Nvidia’s most powerful GB200 chips and lease the computing power to OpenAI, the report said, citing several people familiar with the matter.\n\nOpenAI and Oracle (NYSE: ) did not immediately respond to Reuters’ requests for comment, while an Nvidia spokesperson declined to comment.\n\nThe data center is expected to be fully operational by mid-next year, and Oracle has agreed to lease the site for 15 years, the report said.\n\nJPMorgan has provided a bulk of the debt financing across two loans totaling $9.6 billion, while the site’s owners, Crusoe and U.S. investment firm Blue Owl Capital, have invested around $5 billion in cash, the FT report added.\n\nThe data center will help OpenAI reduce its dependence on its largest backer Microsoft (NASDAQ: ) as the ChatGPT maker’s demand for power has outstripped the supply Microsoft can provide.\n\nFor Oracle, the data center and Stargate present an opportunity for the firm to boost its cloud computing capabilities and catch up to market leaders Microsoft, Amazon (NASDAQ: ) and Google (NASDAQ: ).\n\nOpenAI, Oracle, and Nvidia are also involved in a Stargate project in the Middle East, where a new massive AI data center will be constructed in the United Arab Emirates, likely using over a hundred thousand Nvidia chips.\n\nThe first phase of the UAE data center will come online in 2026.",
         "https://www.investing.com/news/stock-market-news/oracle-to-buy-40-billion-of-nvidia-chips-for-openais-us-data-center-ft-reports-4062372"
        ],
        [
         "2",
         "AMZN",
         "2025-05-23",
         "09:19",
         "Amazon not seeing notable impact from tariffs yet, Q2 revenue tracking higher By Investing.com",
         "Risk Disclosure: Trading in financial instruments and/or cryptocurrencies involves high risks including the risk of losing some, or all, of your investment amount, and may not be suitable for all investors. Prices of cryptocurrencies are extremely volatile and may be affected by external factors such as financial, regulatory or political events. Trading on margin increases the financial risks.\n\nBefore deciding to trade in financial instrument or cryptocurrencies you should be fully informed of the risks and costs associated with trading the financial markets, carefully consider your investment objectives, level of experience, and risk appetite, and seek professional advice where needed.\n\nFusion Media would like to remind you that the data contained in this website is not necessarily real-time nor accurate. The data and prices on the website are not necessarily provided by any market or exchange, but may be provided by market makers, and so prices may not be accurate and may differ from the actual price at any given market, meaning prices are indicative and not appropriate for trading purposes. Fusion Media and any provider of the data contained in this website will not accept liability for any loss or damage as a result of your trading, or your reliance on the information contained within this website.\n\nIt is prohibited to use, store, reproduce, display, modify, transmit or distribute the data contained in this website without the explicit prior written permission of Fusion Media and/or the data provider. All intellectual property rights are reserved by the providers and/or the exchange providing the data contained in this website.\n\nFusion Media may be compensated by the advertisers that appear on the website, based on your interaction with the advertisements or advertisers.",
         "https://www.investing.com/news/pro/amazon-not-seeing-notable-impact-from-tariffs-yet-q2-revenue-tracking-higher-4061987"
        ],
        [
         "3",
         "AMZN",
         "2025-05-23",
         "09:04",
         "Amazon Com Inc receives Investment Bank Analyst Rating Update By Investing.com",
         "Risk Disclosure: Trading in financial instruments and/or cryptocurrencies involves high risks including the risk of losing some, or all, of your investment amount, and may not be suitable for all investors. Prices of cryptocurrencies are extremely volatile and may be affected by external factors such as financial, regulatory or political events. Trading on margin increases the financial risks.\n\nBefore deciding to trade in financial instrument or cryptocurrencies you should be fully informed of the risks and costs associated with trading the financial markets, carefully consider your investment objectives, level of experience, and risk appetite, and seek professional advice where needed.\n\nFusion Media would like to remind you that the data contained in this website is not necessarily real-time nor accurate. The data and prices on the website are not necessarily provided by any market or exchange, but may be provided by market makers, and so prices may not be accurate and may differ from the actual price at any given market, meaning prices are indicative and not appropriate for trading purposes. Fusion Media and any provider of the data contained in this website will not accept liability for any loss or damage as a result of your trading, or your reliance on the information contained within this website.\n\nIt is prohibited to use, store, reproduce, display, modify, transmit or distribute the data contained in this website without the explicit prior written permission of Fusion Media and/or the data provider. All intellectual property rights are reserved by the providers and/or the exchange providing the data contained in this website.\n\nFusion Media may be compensated by the advertisers that appear on the website, based on your interaction with the advertisements or advertisers.",
         "https://www.investing.com/news/pro/da-davidson-maintains-amazoncom-at-buy-with-a-price-target-of-23000-4061961"
        ],
        [
         "4",
         "AMZN",
         "2025-05-23",
         "05:53",
         "Wall St falls as Trump tariff threats spark market uncertainty By Reuters",
         "By Chibuike Oguh\n\nNEW YORK (Reuters) -U.S. stocks fell on Friday, notching a weekly loss, after President Donald Trump recommended 50% tariffs on European goods, reopening a new front in global trade tensions and unleashing a fresh wave of market uncertainty.\n\nAll three main Wall Street indexes pared early losses but each still ended lower and shed more than 2% for the week. Technology, communication services and consumer discretionary stocks were the biggest losers of the ’s 11 subsectors. Utilities, consumer staples and energy stocks gained.\n\nApple (NASDAQ: ) touched a two-week low and finished down 3% after Trump warned the iPhone-maker it could face potential 25% tariffs on phones sold to U.S. customers but not manufactured in the country.\n\nTreasury yields eased from multi-month highs, falling 4.4 basis points to 4.509% for the benchmark U.S. 10-year note.\n\n\"If I were to put a headline on today’s story, it would be ’Here We Go Again!’\" said James St. Aubin, chief investment officer at Ocean Park Asset Management in Santa Monica, California.\n\n\"This is Trump turning on the temperature on the tariff conversation with the EU and Apple. The markets were hoping that the worst was behind us when it comes to the tariff rhetoric. But in reality, there’s still some smoldering embers when it comes to the tariff talk,\" St. Aubin added.\n\nThe fell 256.02 points, or 0.61%, to 41,603.07, the S&P 500 lost 39.19 points, or 0.67%, to 5,802.82 and the lost 188.53 points, or 1.00%, to 18,737.21.\n\nFor the week, the Dow lost 2.47%, the S&P 500 fell 2.61%, and the Nasdaq shed 2.48%.\n\nU.S. Treasury Secretary Scott Bessent said Trump did not believe the EU’s trade offers were of sufficient quality. He also said he hoped the threat of fresh tariffs would \"light a fire under the EU\" in negotiations.\n\nMost megacap and growth stocks fell, including Amazon (NASDAQ: ), Nvidia (NASDAQ: ) and Meta Platforms (NASDAQ: ) - which all lost more than 1%. Tesla (NASDAQ: ) ended down 0.5%.\n\nThe , Wall Street’s \"fear gauge,\" hit a more than two-week high and finished up 10%. Semiconductor stocks dropped 1.5%.\n\nDeckers Outdoor (NYSE: ) slumped nearly 20% after the maker of UGG boots forecast first-quarter net sales below estimates and said it would not provide annual targets due to tariff-led macroeconomic uncertainty. Sportswear maker Nike (NYSE: ) dropped 2.1%.\n\nVolume on U.S. exchanges was 17.67 billion shares, compared with the 17.73 billion average for the full session over the last 20 trading days.",
         "https://www.investing.com/news/stock-market-news/us-stock-futures-flat-on-debt-worries-as-markets-mull-trumps-tax-bill-4061588"
        ]
       ],
       "shape": {
        "columns": 6,
        "rows": 5
       }
      },
      "text/html": [
       "<div>\n",
       "<style scoped>\n",
       "    .dataframe tbody tr th:only-of-type {\n",
       "        vertical-align: middle;\n",
       "    }\n",
       "\n",
       "    .dataframe tbody tr th {\n",
       "        vertical-align: top;\n",
       "    }\n",
       "\n",
       "    .dataframe thead th {\n",
       "        text-align: right;\n",
       "    }\n",
       "</style>\n",
       "<table border=\"1\" class=\"dataframe\">\n",
       "  <thead>\n",
       "    <tr style=\"text-align: right;\">\n",
       "      <th></th>\n",
       "      <th>ticker</th>\n",
       "      <th>publish_date</th>\n",
       "      <th>publish_time</th>\n",
       "      <th>title</th>\n",
       "      <th>body_text</th>\n",
       "      <th>url</th>\n",
       "    </tr>\n",
       "  </thead>\n",
       "  <tbody>\n",
       "    <tr>\n",
       "      <th>0</th>\n",
       "      <td>AMZN</td>\n",
       "      <td>2025-05-23</td>\n",
       "      <td>14:36</td>\n",
       "      <td>Amazon.com is sued over alleged sale of contam...</td>\n",
       "      <td>By Jonathan Stempel\\n\\n(Reuters) - Amazon.com ...</td>\n",
       "      <td>https://www.investing.com/news/stock-market-ne...</td>\n",
       "    </tr>\n",
       "    <tr>\n",
       "      <th>1</th>\n",
       "      <td>AMZN</td>\n",
       "      <td>2025-05-23</td>\n",
       "      <td>14:14</td>\n",
       "      <td>Oracle to buy $40 billion of Nvidia chips for ...</td>\n",
       "      <td>(Reuters) -Oracle will spend around $40 billio...</td>\n",
       "      <td>https://www.investing.com/news/stock-market-ne...</td>\n",
       "    </tr>\n",
       "    <tr>\n",
       "      <th>2</th>\n",
       "      <td>AMZN</td>\n",
       "      <td>2025-05-23</td>\n",
       "      <td>09:19</td>\n",
       "      <td>Amazon not seeing notable impact from tariffs ...</td>\n",
       "      <td>Risk Disclosure: Trading in financial instrume...</td>\n",
       "      <td>https://www.investing.com/news/pro/amazon-not-...</td>\n",
       "    </tr>\n",
       "    <tr>\n",
       "      <th>3</th>\n",
       "      <td>AMZN</td>\n",
       "      <td>2025-05-23</td>\n",
       "      <td>09:04</td>\n",
       "      <td>Amazon Com Inc receives Investment Bank Analys...</td>\n",
       "      <td>Risk Disclosure: Trading in financial instrume...</td>\n",
       "      <td>https://www.investing.com/news/pro/da-davidson...</td>\n",
       "    </tr>\n",
       "    <tr>\n",
       "      <th>4</th>\n",
       "      <td>AMZN</td>\n",
       "      <td>2025-05-23</td>\n",
       "      <td>05:53</td>\n",
       "      <td>Wall St falls as Trump tariff threats spark ma...</td>\n",
       "      <td>By Chibuike Oguh\\n\\nNEW YORK (Reuters) -U.S. s...</td>\n",
       "      <td>https://www.investing.com/news/stock-market-ne...</td>\n",
       "    </tr>\n",
       "  </tbody>\n",
       "</table>\n",
       "</div>"
      ],
      "text/plain": [
       "  ticker publish_date publish_time  \\\n",
       "0   AMZN   2025-05-23        14:36   \n",
       "1   AMZN   2025-05-23        14:14   \n",
       "2   AMZN   2025-05-23        09:19   \n",
       "3   AMZN   2025-05-23        09:04   \n",
       "4   AMZN   2025-05-23        05:53   \n",
       "\n",
       "                                               title  \\\n",
       "0  Amazon.com is sued over alleged sale of contam...   \n",
       "1  Oracle to buy $40 billion of Nvidia chips for ...   \n",
       "2  Amazon not seeing notable impact from tariffs ...   \n",
       "3  Amazon Com Inc receives Investment Bank Analys...   \n",
       "4  Wall St falls as Trump tariff threats spark ma...   \n",
       "\n",
       "                                           body_text  \\\n",
       "0  By Jonathan Stempel\\n\\n(Reuters) - Amazon.com ...   \n",
       "1  (Reuters) -Oracle will spend around $40 billio...   \n",
       "2  Risk Disclosure: Trading in financial instrume...   \n",
       "3  Risk Disclosure: Trading in financial instrume...   \n",
       "4  By Chibuike Oguh\\n\\nNEW YORK (Reuters) -U.S. s...   \n",
       "\n",
       "                                                 url  \n",
       "0  https://www.investing.com/news/stock-market-ne...  \n",
       "1  https://www.investing.com/news/stock-market-ne...  \n",
       "2  https://www.investing.com/news/pro/amazon-not-...  \n",
       "3  https://www.investing.com/news/pro/da-davidson...  \n",
       "4  https://www.investing.com/news/stock-market-ne...  "
      ]
     },
     "metadata": {},
     "output_type": "display_data"
    }
   ],
   "source": [
    "df = pd.read_csv(\"../../DataCollection/Data/News/AMZN_2025-05-26_13-36-10.csv\")\n",
    "display(df.head())"
   ]
  },
  {
   "cell_type": "code",
   "execution_count": 68,
   "id": "3e737b8f",
   "metadata": {},
   "outputs": [
    {
     "data": {
      "application/vnd.microsoft.datawrangler.viewer.v0+json": {
       "columns": [
        {
         "name": "index",
         "rawType": "object",
         "type": "string"
        },
        {
         "name": "0",
         "rawType": "int64",
         "type": "integer"
        }
       ],
       "ref": "e9ba3bd7-dd18-4ede-9e8f-f0ae30869539",
       "rows": [
        [
         "ticker",
         "0"
        ],
        [
         "publish_date",
         "0"
        ],
        [
         "publish_time",
         "0"
        ],
        [
         "title",
         "0"
        ],
        [
         "body_text",
         "0"
        ],
        [
         "url",
         "0"
        ]
       ],
       "shape": {
        "columns": 1,
        "rows": 6
       }
      },
      "text/plain": [
       "ticker          0\n",
       "publish_date    0\n",
       "publish_time    0\n",
       "title           0\n",
       "body_text       0\n",
       "url             0\n",
       "dtype: int64"
      ]
     },
     "execution_count": 68,
     "metadata": {},
     "output_type": "execute_result"
    }
   ],
   "source": [
    "df[\"title\"] = df[\"title\"].astype(str)\n",
    "df[\"body_text\"] = df[\"body_text\"].astype(str)\n",
    "df.isnull().sum()"
   ]
  },
  {
   "cell_type": "code",
   "execution_count": 69,
   "id": "5d8f1f44",
   "metadata": {},
   "outputs": [
    {
     "name": "stderr",
     "output_type": "stream",
     "text": [
      "Prompting:   0%|          | 0/20 [00:00<?, ?it/s]"
     ]
    },
    {
     "name": "stderr",
     "output_type": "stream",
     "text": [
      "Prompting:   0%|          | 0/20 [00:06<?, ?it/s]\n"
     ]
    },
    {
     "ename": "RateLimitError",
     "evalue": "Error code: 429 - {'error': {'message': 'Rate limit exceeded: free-models-per-day. Add 10 credits to unlock 1000 free model requests per day', 'code': 429, 'metadata': {'headers': {'X-RateLimit-Limit': '50', 'X-RateLimit-Remaining': '0', 'X-RateLimit-Reset': '1748304000000'}, 'provider_name': None}}, 'user_id': 'user_2xcd4AUf5nAJkkjOkK3zs5b3ejg'}",
     "output_type": "error",
     "traceback": [
      "\u001b[0;31m---------------------------------------------------------------------------\u001b[0m",
      "\u001b[0;31mRateLimitError\u001b[0m                            Traceback (most recent call last)",
      "Cell \u001b[0;32mIn[69], line 11\u001b[0m\n\u001b[1;32m      7\u001b[0m stock \u001b[38;5;241m=\u001b[39m row[\u001b[38;5;124m\"\u001b[39m\u001b[38;5;124mticker\u001b[39m\u001b[38;5;124m\"\u001b[39m]\n\u001b[1;32m      9\u001b[0m prompt_with_data \u001b[38;5;241m=\u001b[39m prompt\u001b[38;5;241m.\u001b[39mreplace(\u001b[38;5;124m\"\u001b[39m\u001b[38;5;124m[TITLE]\u001b[39m\u001b[38;5;124m\"\u001b[39m, title)\u001b[38;5;241m.\u001b[39mreplace(\u001b[38;5;124m\"\u001b[39m\u001b[38;5;124m[BODY]\u001b[39m\u001b[38;5;124m\"\u001b[39m, body_text)\u001b[38;5;241m.\u001b[39mreplace(\u001b[38;5;124m\"\u001b[39m\u001b[38;5;124m[STOCK]\u001b[39m\u001b[38;5;124m\"\u001b[39m, stock)\n\u001b[0;32m---> 11\u001b[0m response \u001b[38;5;241m=\u001b[39m client\u001b[38;5;241m.\u001b[39mchat\u001b[38;5;241m.\u001b[39mcompletions\u001b[38;5;241m.\u001b[39mcreate(\n\u001b[1;32m     12\u001b[0m     extra_body\u001b[38;5;241m=\u001b[39m{\n\u001b[1;32m     13\u001b[0m         \u001b[38;5;124m\"\u001b[39m\u001b[38;5;124mprovider\u001b[39m\u001b[38;5;124m\"\u001b[39m: {\n\u001b[1;32m     14\u001b[0m         \u001b[38;5;124m\"\u001b[39m\u001b[38;5;124msort\u001b[39m\u001b[38;5;124m\"\u001b[39m: \u001b[38;5;124m\"\u001b[39m\u001b[38;5;124mthroughput\u001b[39m\u001b[38;5;124m\"\u001b[39m\n\u001b[1;32m     15\u001b[0m         }\n\u001b[1;32m     16\u001b[0m     },\n\u001b[1;32m     17\u001b[0m     model\u001b[38;5;241m=\u001b[39m\u001b[38;5;124m\"\u001b[39m\u001b[38;5;124mdeepseek/deepseek-chat-v3-0324:free\u001b[39m\u001b[38;5;124m\"\u001b[39m,\n\u001b[1;32m     18\u001b[0m     messages\u001b[38;5;241m=\u001b[39m[\n\u001b[1;32m     19\u001b[0m         {\u001b[38;5;124m\"\u001b[39m\u001b[38;5;124mrole\u001b[39m\u001b[38;5;124m\"\u001b[39m: \u001b[38;5;124m\"\u001b[39m\u001b[38;5;124msystem\u001b[39m\u001b[38;5;124m\"\u001b[39m, \u001b[38;5;124m\"\u001b[39m\u001b[38;5;124mcontent\u001b[39m\u001b[38;5;124m\"\u001b[39m: \u001b[38;5;124m\"\u001b[39m\u001b[38;5;124mYou are a financial news analyst.\u001b[39m\u001b[38;5;124m\"\u001b[39m},\n\u001b[1;32m     20\u001b[0m         {\u001b[38;5;124m\"\u001b[39m\u001b[38;5;124mrole\u001b[39m\u001b[38;5;124m\"\u001b[39m: \u001b[38;5;124m\"\u001b[39m\u001b[38;5;124muser\u001b[39m\u001b[38;5;124m\"\u001b[39m, \u001b[38;5;124m\"\u001b[39m\u001b[38;5;124mcontent\u001b[39m\u001b[38;5;124m\"\u001b[39m: prompt_with_data}\n\u001b[1;32m     21\u001b[0m     ]\n\u001b[1;32m     22\u001b[0m )\n\u001b[1;32m     24\u001b[0m predicted\u001b[38;5;241m.\u001b[39mappend(response\u001b[38;5;241m.\u001b[39mchoices[\u001b[38;5;241m0\u001b[39m]\u001b[38;5;241m.\u001b[39mmessage\u001b[38;5;241m.\u001b[39mcontent)\n",
      "File \u001b[0;32m~/anaconda3/lib/python3.11/site-packages/openai/_utils/_utils.py:287\u001b[0m, in \u001b[0;36mrequired_args.<locals>.inner.<locals>.wrapper\u001b[0;34m(*args, **kwargs)\u001b[0m\n\u001b[1;32m    285\u001b[0m             msg \u001b[38;5;241m=\u001b[39m \u001b[38;5;124mf\u001b[39m\u001b[38;5;124m\"\u001b[39m\u001b[38;5;124mMissing required argument: \u001b[39m\u001b[38;5;132;01m{\u001b[39;00mquote(missing[\u001b[38;5;241m0\u001b[39m])\u001b[38;5;132;01m}\u001b[39;00m\u001b[38;5;124m\"\u001b[39m\n\u001b[1;32m    286\u001b[0m     \u001b[38;5;28;01mraise\u001b[39;00m \u001b[38;5;167;01mTypeError\u001b[39;00m(msg)\n\u001b[0;32m--> 287\u001b[0m \u001b[38;5;28;01mreturn\u001b[39;00m func(\u001b[38;5;241m*\u001b[39margs, \u001b[38;5;241m*\u001b[39m\u001b[38;5;241m*\u001b[39mkwargs)\n",
      "File \u001b[0;32m~/anaconda3/lib/python3.11/site-packages/openai/resources/chat/completions/completions.py:925\u001b[0m, in \u001b[0;36mCompletions.create\u001b[0;34m(self, messages, model, audio, frequency_penalty, function_call, functions, logit_bias, logprobs, max_completion_tokens, max_tokens, metadata, modalities, n, parallel_tool_calls, prediction, presence_penalty, reasoning_effort, response_format, seed, service_tier, stop, store, stream, stream_options, temperature, tool_choice, tools, top_logprobs, top_p, user, web_search_options, extra_headers, extra_query, extra_body, timeout)\u001b[0m\n\u001b[1;32m    882\u001b[0m \u001b[38;5;129m@required_args\u001b[39m([\u001b[38;5;124m\"\u001b[39m\u001b[38;5;124mmessages\u001b[39m\u001b[38;5;124m\"\u001b[39m, \u001b[38;5;124m\"\u001b[39m\u001b[38;5;124mmodel\u001b[39m\u001b[38;5;124m\"\u001b[39m], [\u001b[38;5;124m\"\u001b[39m\u001b[38;5;124mmessages\u001b[39m\u001b[38;5;124m\"\u001b[39m, \u001b[38;5;124m\"\u001b[39m\u001b[38;5;124mmodel\u001b[39m\u001b[38;5;124m\"\u001b[39m, \u001b[38;5;124m\"\u001b[39m\u001b[38;5;124mstream\u001b[39m\u001b[38;5;124m\"\u001b[39m])\n\u001b[1;32m    883\u001b[0m \u001b[38;5;28;01mdef\u001b[39;00m \u001b[38;5;21mcreate\u001b[39m(\n\u001b[1;32m    884\u001b[0m     \u001b[38;5;28mself\u001b[39m,\n\u001b[0;32m   (...)\u001b[0m\n\u001b[1;32m    922\u001b[0m     timeout: \u001b[38;5;28mfloat\u001b[39m \u001b[38;5;241m|\u001b[39m httpx\u001b[38;5;241m.\u001b[39mTimeout \u001b[38;5;241m|\u001b[39m \u001b[38;5;28;01mNone\u001b[39;00m \u001b[38;5;241m|\u001b[39m NotGiven \u001b[38;5;241m=\u001b[39m NOT_GIVEN,\n\u001b[1;32m    923\u001b[0m ) \u001b[38;5;241m-\u001b[39m\u001b[38;5;241m>\u001b[39m ChatCompletion \u001b[38;5;241m|\u001b[39m Stream[ChatCompletionChunk]:\n\u001b[1;32m    924\u001b[0m     validate_response_format(response_format)\n\u001b[0;32m--> 925\u001b[0m     \u001b[38;5;28;01mreturn\u001b[39;00m \u001b[38;5;28mself\u001b[39m\u001b[38;5;241m.\u001b[39m_post(\n\u001b[1;32m    926\u001b[0m         \u001b[38;5;124m\"\u001b[39m\u001b[38;5;124m/chat/completions\u001b[39m\u001b[38;5;124m\"\u001b[39m,\n\u001b[1;32m    927\u001b[0m         body\u001b[38;5;241m=\u001b[39mmaybe_transform(\n\u001b[1;32m    928\u001b[0m             {\n\u001b[1;32m    929\u001b[0m                 \u001b[38;5;124m\"\u001b[39m\u001b[38;5;124mmessages\u001b[39m\u001b[38;5;124m\"\u001b[39m: messages,\n\u001b[1;32m    930\u001b[0m                 \u001b[38;5;124m\"\u001b[39m\u001b[38;5;124mmodel\u001b[39m\u001b[38;5;124m\"\u001b[39m: model,\n\u001b[1;32m    931\u001b[0m                 \u001b[38;5;124m\"\u001b[39m\u001b[38;5;124maudio\u001b[39m\u001b[38;5;124m\"\u001b[39m: audio,\n\u001b[1;32m    932\u001b[0m                 \u001b[38;5;124m\"\u001b[39m\u001b[38;5;124mfrequency_penalty\u001b[39m\u001b[38;5;124m\"\u001b[39m: frequency_penalty,\n\u001b[1;32m    933\u001b[0m                 \u001b[38;5;124m\"\u001b[39m\u001b[38;5;124mfunction_call\u001b[39m\u001b[38;5;124m\"\u001b[39m: function_call,\n\u001b[1;32m    934\u001b[0m                 \u001b[38;5;124m\"\u001b[39m\u001b[38;5;124mfunctions\u001b[39m\u001b[38;5;124m\"\u001b[39m: functions,\n\u001b[1;32m    935\u001b[0m                 \u001b[38;5;124m\"\u001b[39m\u001b[38;5;124mlogit_bias\u001b[39m\u001b[38;5;124m\"\u001b[39m: logit_bias,\n\u001b[1;32m    936\u001b[0m                 \u001b[38;5;124m\"\u001b[39m\u001b[38;5;124mlogprobs\u001b[39m\u001b[38;5;124m\"\u001b[39m: logprobs,\n\u001b[1;32m    937\u001b[0m                 \u001b[38;5;124m\"\u001b[39m\u001b[38;5;124mmax_completion_tokens\u001b[39m\u001b[38;5;124m\"\u001b[39m: max_completion_tokens,\n\u001b[1;32m    938\u001b[0m                 \u001b[38;5;124m\"\u001b[39m\u001b[38;5;124mmax_tokens\u001b[39m\u001b[38;5;124m\"\u001b[39m: max_tokens,\n\u001b[1;32m    939\u001b[0m                 \u001b[38;5;124m\"\u001b[39m\u001b[38;5;124mmetadata\u001b[39m\u001b[38;5;124m\"\u001b[39m: metadata,\n\u001b[1;32m    940\u001b[0m                 \u001b[38;5;124m\"\u001b[39m\u001b[38;5;124mmodalities\u001b[39m\u001b[38;5;124m\"\u001b[39m: modalities,\n\u001b[1;32m    941\u001b[0m                 \u001b[38;5;124m\"\u001b[39m\u001b[38;5;124mn\u001b[39m\u001b[38;5;124m\"\u001b[39m: n,\n\u001b[1;32m    942\u001b[0m                 \u001b[38;5;124m\"\u001b[39m\u001b[38;5;124mparallel_tool_calls\u001b[39m\u001b[38;5;124m\"\u001b[39m: parallel_tool_calls,\n\u001b[1;32m    943\u001b[0m                 \u001b[38;5;124m\"\u001b[39m\u001b[38;5;124mprediction\u001b[39m\u001b[38;5;124m\"\u001b[39m: prediction,\n\u001b[1;32m    944\u001b[0m                 \u001b[38;5;124m\"\u001b[39m\u001b[38;5;124mpresence_penalty\u001b[39m\u001b[38;5;124m\"\u001b[39m: presence_penalty,\n\u001b[1;32m    945\u001b[0m                 \u001b[38;5;124m\"\u001b[39m\u001b[38;5;124mreasoning_effort\u001b[39m\u001b[38;5;124m\"\u001b[39m: reasoning_effort,\n\u001b[1;32m    946\u001b[0m                 \u001b[38;5;124m\"\u001b[39m\u001b[38;5;124mresponse_format\u001b[39m\u001b[38;5;124m\"\u001b[39m: response_format,\n\u001b[1;32m    947\u001b[0m                 \u001b[38;5;124m\"\u001b[39m\u001b[38;5;124mseed\u001b[39m\u001b[38;5;124m\"\u001b[39m: seed,\n\u001b[1;32m    948\u001b[0m                 \u001b[38;5;124m\"\u001b[39m\u001b[38;5;124mservice_tier\u001b[39m\u001b[38;5;124m\"\u001b[39m: service_tier,\n\u001b[1;32m    949\u001b[0m                 \u001b[38;5;124m\"\u001b[39m\u001b[38;5;124mstop\u001b[39m\u001b[38;5;124m\"\u001b[39m: stop,\n\u001b[1;32m    950\u001b[0m                 \u001b[38;5;124m\"\u001b[39m\u001b[38;5;124mstore\u001b[39m\u001b[38;5;124m\"\u001b[39m: store,\n\u001b[1;32m    951\u001b[0m                 \u001b[38;5;124m\"\u001b[39m\u001b[38;5;124mstream\u001b[39m\u001b[38;5;124m\"\u001b[39m: stream,\n\u001b[1;32m    952\u001b[0m                 \u001b[38;5;124m\"\u001b[39m\u001b[38;5;124mstream_options\u001b[39m\u001b[38;5;124m\"\u001b[39m: stream_options,\n\u001b[1;32m    953\u001b[0m                 \u001b[38;5;124m\"\u001b[39m\u001b[38;5;124mtemperature\u001b[39m\u001b[38;5;124m\"\u001b[39m: temperature,\n\u001b[1;32m    954\u001b[0m                 \u001b[38;5;124m\"\u001b[39m\u001b[38;5;124mtool_choice\u001b[39m\u001b[38;5;124m\"\u001b[39m: tool_choice,\n\u001b[1;32m    955\u001b[0m                 \u001b[38;5;124m\"\u001b[39m\u001b[38;5;124mtools\u001b[39m\u001b[38;5;124m\"\u001b[39m: tools,\n\u001b[1;32m    956\u001b[0m                 \u001b[38;5;124m\"\u001b[39m\u001b[38;5;124mtop_logprobs\u001b[39m\u001b[38;5;124m\"\u001b[39m: top_logprobs,\n\u001b[1;32m    957\u001b[0m                 \u001b[38;5;124m\"\u001b[39m\u001b[38;5;124mtop_p\u001b[39m\u001b[38;5;124m\"\u001b[39m: top_p,\n\u001b[1;32m    958\u001b[0m                 \u001b[38;5;124m\"\u001b[39m\u001b[38;5;124muser\u001b[39m\u001b[38;5;124m\"\u001b[39m: user,\n\u001b[1;32m    959\u001b[0m                 \u001b[38;5;124m\"\u001b[39m\u001b[38;5;124mweb_search_options\u001b[39m\u001b[38;5;124m\"\u001b[39m: web_search_options,\n\u001b[1;32m    960\u001b[0m             },\n\u001b[1;32m    961\u001b[0m             completion_create_params\u001b[38;5;241m.\u001b[39mCompletionCreateParamsStreaming\n\u001b[1;32m    962\u001b[0m             \u001b[38;5;28;01mif\u001b[39;00m stream\n\u001b[1;32m    963\u001b[0m             \u001b[38;5;28;01melse\u001b[39;00m completion_create_params\u001b[38;5;241m.\u001b[39mCompletionCreateParamsNonStreaming,\n\u001b[1;32m    964\u001b[0m         ),\n\u001b[1;32m    965\u001b[0m         options\u001b[38;5;241m=\u001b[39mmake_request_options(\n\u001b[1;32m    966\u001b[0m             extra_headers\u001b[38;5;241m=\u001b[39mextra_headers, extra_query\u001b[38;5;241m=\u001b[39mextra_query, extra_body\u001b[38;5;241m=\u001b[39mextra_body, timeout\u001b[38;5;241m=\u001b[39mtimeout\n\u001b[1;32m    967\u001b[0m         ),\n\u001b[1;32m    968\u001b[0m         cast_to\u001b[38;5;241m=\u001b[39mChatCompletion,\n\u001b[1;32m    969\u001b[0m         stream\u001b[38;5;241m=\u001b[39mstream \u001b[38;5;129;01mor\u001b[39;00m \u001b[38;5;28;01mFalse\u001b[39;00m,\n\u001b[1;32m    970\u001b[0m         stream_cls\u001b[38;5;241m=\u001b[39mStream[ChatCompletionChunk],\n\u001b[1;32m    971\u001b[0m     )\n",
      "File \u001b[0;32m~/anaconda3/lib/python3.11/site-packages/openai/_base_client.py:1239\u001b[0m, in \u001b[0;36mSyncAPIClient.post\u001b[0;34m(self, path, cast_to, body, options, files, stream, stream_cls)\u001b[0m\n\u001b[1;32m   1225\u001b[0m \u001b[38;5;28;01mdef\u001b[39;00m \u001b[38;5;21mpost\u001b[39m(\n\u001b[1;32m   1226\u001b[0m     \u001b[38;5;28mself\u001b[39m,\n\u001b[1;32m   1227\u001b[0m     path: \u001b[38;5;28mstr\u001b[39m,\n\u001b[0;32m   (...)\u001b[0m\n\u001b[1;32m   1234\u001b[0m     stream_cls: \u001b[38;5;28mtype\u001b[39m[_StreamT] \u001b[38;5;241m|\u001b[39m \u001b[38;5;28;01mNone\u001b[39;00m \u001b[38;5;241m=\u001b[39m \u001b[38;5;28;01mNone\u001b[39;00m,\n\u001b[1;32m   1235\u001b[0m ) \u001b[38;5;241m-\u001b[39m\u001b[38;5;241m>\u001b[39m ResponseT \u001b[38;5;241m|\u001b[39m _StreamT:\n\u001b[1;32m   1236\u001b[0m     opts \u001b[38;5;241m=\u001b[39m FinalRequestOptions\u001b[38;5;241m.\u001b[39mconstruct(\n\u001b[1;32m   1237\u001b[0m         method\u001b[38;5;241m=\u001b[39m\u001b[38;5;124m\"\u001b[39m\u001b[38;5;124mpost\u001b[39m\u001b[38;5;124m\"\u001b[39m, url\u001b[38;5;241m=\u001b[39mpath, json_data\u001b[38;5;241m=\u001b[39mbody, files\u001b[38;5;241m=\u001b[39mto_httpx_files(files), \u001b[38;5;241m*\u001b[39m\u001b[38;5;241m*\u001b[39moptions\n\u001b[1;32m   1238\u001b[0m     )\n\u001b[0;32m-> 1239\u001b[0m     \u001b[38;5;28;01mreturn\u001b[39;00m cast(ResponseT, \u001b[38;5;28mself\u001b[39m\u001b[38;5;241m.\u001b[39mrequest(cast_to, opts, stream\u001b[38;5;241m=\u001b[39mstream, stream_cls\u001b[38;5;241m=\u001b[39mstream_cls))\n",
      "File \u001b[0;32m~/anaconda3/lib/python3.11/site-packages/openai/_base_client.py:1034\u001b[0m, in \u001b[0;36mSyncAPIClient.request\u001b[0;34m(self, cast_to, options, stream, stream_cls)\u001b[0m\n\u001b[1;32m   1031\u001b[0m             err\u001b[38;5;241m.\u001b[39mresponse\u001b[38;5;241m.\u001b[39mread()\n\u001b[1;32m   1033\u001b[0m         log\u001b[38;5;241m.\u001b[39mdebug(\u001b[38;5;124m\"\u001b[39m\u001b[38;5;124mRe-raising status error\u001b[39m\u001b[38;5;124m\"\u001b[39m)\n\u001b[0;32m-> 1034\u001b[0m         \u001b[38;5;28;01mraise\u001b[39;00m \u001b[38;5;28mself\u001b[39m\u001b[38;5;241m.\u001b[39m_make_status_error_from_response(err\u001b[38;5;241m.\u001b[39mresponse) \u001b[38;5;28;01mfrom\u001b[39;00m \u001b[38;5;28;01mNone\u001b[39;00m\n\u001b[1;32m   1036\u001b[0m     \u001b[38;5;28;01mbreak\u001b[39;00m\n\u001b[1;32m   1038\u001b[0m \u001b[38;5;28;01massert\u001b[39;00m response \u001b[38;5;129;01mis\u001b[39;00m \u001b[38;5;129;01mnot\u001b[39;00m \u001b[38;5;28;01mNone\u001b[39;00m, \u001b[38;5;124m\"\u001b[39m\u001b[38;5;124mcould not resolve response (should never happen)\u001b[39m\u001b[38;5;124m\"\u001b[39m\n",
      "\u001b[0;31mRateLimitError\u001b[0m: Error code: 429 - {'error': {'message': 'Rate limit exceeded: free-models-per-day. Add 10 credits to unlock 1000 free model requests per day', 'code': 429, 'metadata': {'headers': {'X-RateLimit-Limit': '50', 'X-RateLimit-Remaining': '0', 'X-RateLimit-Reset': '1748304000000'}, 'provider_name': None}}, 'user_id': 'user_2xcd4AUf5nAJkkjOkK3zs5b3ejg'}"
     ]
    }
   ],
   "source": [
    "from tqdm import tqdm\n",
    "predicted = []\n",
    "\n",
    "for index, row in tqdm(df.iterrows(), total=len(df), desc=\"Prompting\"): \n",
    "    title = row[\"title\"]\n",
    "    body_text = row[\"body_text\"]\n",
    "    stock = row[\"ticker\"]\n",
    "    \n",
    "    prompt_with_data = prompt.replace(\"[TITLE]\", title).replace(\"[BODY]\", body_text).replace(\"[STOCK]\", stock)\n",
    "    \n",
    "    response = client.chat.completions.create(\n",
    "        extra_body={\n",
    "            \"provider\": {\n",
    "            \"sort\": \"throughput\"\n",
    "            }\n",
    "        },\n",
    "        model=\"deepseek/deepseek-chat-v3-0324:free\",\n",
    "        messages=[\n",
    "            {\"role\": \"system\", \"content\": \"You are a financial news analyst.\"},\n",
    "            {\"role\": \"user\", \"content\": prompt_with_data}\n",
    "        ]\n",
    "    )\n",
    "    \n",
    "    predicted.append(response.choices[0].message.content)"
   ]
  },
  {
   "cell_type": "code",
   "execution_count": null,
   "id": "a37d78e9",
   "metadata": {},
   "outputs": [],
   "source": [
    "predicted = np.array(predicted)\n",
    "df[\"predicted\"] = predicted"
   ]
  },
  {
   "cell_type": "code",
   "execution_count": null,
   "id": "24f38181",
   "metadata": {},
   "outputs": [
    {
     "data": {
      "text/plain": [
       "\"** Stock Analysis: AMZN\\n\\n**Sentiment:**\\n[Neutral]\\n\\n**Summary:**\\nThe article reports on a high-profile charity event in Cannes supporting HIV/AIDS research, attended by numerous celebrities, with concerns raised about U.S. funding cuts to global AIDS programs. The event, organized by amfAR, has raised significant funds for research since 1993.\\n\\n**Reasoning for Sentiment:**\\nThe article maintains a neutral tone, primarily reporting facts about the event and celebrity attendance, while mentioning concerns about funding cuts without taking a strong positive or negative stance.\\n\\n**Importance to stock AMZN:**\\n[1 - Minimal importance]\\n\\n**Reasoning for importance:**\\nThe article's connection to Amazon (AMZN) is extremely tangential, mentioning only that Jeff Bezos' fiancée attended the event. This has no material impact on Amazon's business operations or financial performance.\""
      ]
     },
     "execution_count": 48,
     "metadata": {},
     "output_type": "execute_result"
    }
   ],
   "source": [
    "predicted[8]"
   ]
  },
  {
   "cell_type": "code",
   "execution_count": null,
   "id": "06c79eba",
   "metadata": {},
   "outputs": [
    {
     "name": "stdout",
     "output_type": "stream",
     "text": [
      "[['**Sentiment:**  ', 'Negative  ', '', '**Summary:**  ', 'Amazon is facing a class-action lawsuit over allegations of selling rice products contaminated with heavy metals, including arsenic, cadmium, lead, and mercury. The lawsuit claims these products, sold under well-known brands like Ben’s Original and Whole Foods’ 365, pose health risks, particularly to children, without proper warnings.  ', '', '**Reasoning for Sentiment:**  ', 'The article highlights serious allegations of health risks associated with Amazon’s products, which could damage the company’s reputation and lead to financial penalties. The tone is critical, emphasizing the lack of warnings and potential harm to consumers.  ', '', '**Importance to stock AMZN:**  ', '3  ', '', '**Reasoning for Importance:**  ', 'While the lawsuit could lead to financial and reputational damage, Amazon’s diversified business model mitigates the impact. However, repeated legal issues or regulatory scrutiny could affect consumer trust and stock performance, making this moderately important.'], ['**Sentiment:**  ', 'Positive  ', '', '**Summary:**  ', \"Oracle will invest $40 billion in Nvidia's high-performance chips to power OpenAI's new U.S. data center, part of the Stargate project, aimed at boosting AI capabilities. The deal also helps OpenAI reduce reliance on Microsoft while expanding Oracle's cloud computing presence.  \", '', '**Reasoning for Sentiment:**  ', 'The article highlights significant investment in AI infrastructure, benefiting Nvidia and OpenAI, while positioning Oracle as a stronger competitor in cloud computing, which is a positive development for the sector.  ', '', '**Importance to Stock AMZN:**  ', '3  ', '', '**Reasoning for Importance:**  ', \"While the article mentions Amazon as a competitor in cloud computing, the direct impact on AMZN is moderate since the focus is on Oracle and Nvidia. However, increased competition in cloud services could indirectly affect Amazon's market position.\"], ['**Sentiment:**  ', 'Neutral  ', '', '**Summary:**  ', 'The article states that Amazon has not yet experienced significant impacts from tariffs, with Q2 revenue tracking higher. However, it includes extensive risk disclosures about trading and data accuracy, emphasizing the volatility and potential inaccuracies in financial data.  ', '', '**Reasoning for Sentiment:**  ', \"The sentiment is neutral because while the article mentions positive revenue trends for Amazon, it primarily focuses on general trading risks and data disclaimers, which do not directly affect Amazon's operational performance.  \", '', '**Importance to Stock AMZN:**  ', '2  ', '', '**Reasoning for Importance:**  ', \"The article's relevance to Amazon is limited as it mainly discusses broader market risks and data reliability rather than specific company developments. The mention of tariffs and revenue is a minor point compared to the extensive risk disclaimers.\"], ['**Sentiment:**  ', 'Neutral  ', '', '**Summary:**  ', 'The article is a standard disclaimer about the risks associated with trading financial instruments and cryptocurrencies, emphasizing the potential for significant losses and the volatile nature of such markets. It also clarifies that the data provided may not be real-time or accurate.  ', '', '**Reasoning for Sentiment:**  ', 'The content is purely informational and does not contain any specific news or updates about Amazon (AMZN) itself, nor does it express any positive or negative sentiment toward the company.  ', '', '**Importance to Stock AMZN:**  ', '1  ', '', '**Reasoning for Importance:**  ', 'The article does not mention AMZN directly or provide any material information that would impact the stock. It is a generic risk disclaimer unrelated to Amazon’s business or stock performance.'], ['**# 1.0.0 (2021-10-12)', '', '', '### Features', '', '* **init:** initial commit ([b0c0a1e](https://github.com/ngneat/elf/commit/b0c0a1e0a0a1a0a0c0c0a0a0a0a0a0a0a0a0a0a0))', ''], ['**Sentiment:**  ', 'Neutral  ', '', '**Summary:**  ', 'The article is a standard risk disclosure and disclaimer notice from Investing.com, highlighting the risks associated with trading financial instruments and cryptocurrencies. It does not contain any specific information about Workday Inc or its analyst rating update, nor does it mention Amazon (AMZN).  ', '', '**Reasoning for Sentiment:**  ', 'The content is purely informational and regulatory, with no substantive analysis or commentary on any company, making the sentiment neutral.  ', '', '**Importance to Stock AMZN:**  ', '1 (Minimal Importance)  ', '', '**Reasoning for Importance:**  ', 'The article is irrelevant to Amazon (AMZN) as it does not discuss the company, its performance, or any market conditions affecting it. The disclaimer is generic and applies broadly to all trading activities.'], ['**Sentiment:**  ', 'Neutral  ', '', '**Summary:**  ', 'The article is a standard risk disclosure and disclaimer notice from Investing.com, unrelated to Amazon (AMZN) or any specific stock update, and provides no substantive content about market movements or company performance.  ', '', '**Reasoning for Sentiment:**  ', 'The text contains no actionable information, analysis, or news about Amazon or the market, serving only as a generic legal warning.  ', '', '**Importance to Stock AMZN:**  ', '1 (Minimal Importance)  ', '', '**Reasoning for Importance:**  ', 'The content has no direct or indirect relevance to Amazon (AMZN) as it does not mention the company, its sector, or any market conditions affecting it.'], ['**Sentiment:**  ', 'Positive  ', '', '**Summary:**  ', \"The article highlights that Amazon's CEO is taking strategic actions that could significantly enhance the company's growth potential, as noted by Investing.com.  \", '', '**Reasoning for Sentiment:**  ', 'The headline explicitly praises the CEO\\'s moves as \"the right moves to unlock meaningful upside,\" indicating a bullish outlook on Amazon\\'s future performance.  ', '', '**Importance to Stock AMZN:**  ', '2  ', '', '**Reasoning for Importance:**  ', 'While the article is optimistic, it lacks concrete details about specific actions or metrics, making its immediate impact on the stock less significant. It serves more as a general sentiment booster rather than a material catalyst.'], ['** Stock Analysis: AMZN', '', '**Sentiment:**', '[Neutral]', '', '**Summary:**', 'The article reports on a high-profile charity event in Cannes supporting HIV/AIDS research, attended by numerous celebrities, with concerns raised about U.S. funding cuts to global AIDS programs. The event, organized by amfAR, has raised significant funds for research since 1993.', '', '**Reasoning for Sentiment:**', 'The article maintains a neutral tone, primarily reporting facts about the event and celebrity attendance, while mentioning concerns about funding cuts without taking a strong positive or negative stance.', '', '**Importance to stock AMZN:**', '[1 - Minimal importance]', '', '**Reasoning for importance:**', \"The article's connection to Amazon (AMZN) is extremely tangential, mentioning only that Jeff Bezos' fiancée attended the event. This has no material impact on Amazon's business operations or financial performance.\"], ['**Sentiment:**  ', 'Neutral  ', '', '**Summary:**  ', 'Disney is suing YouTube (Alphabet) to block the hiring of veteran executive Justin Connolly, alleging breach of contract and interference, as Connolly had a binding agreement with Disney until 2027. YouTube’s hiring of Connolly is part of its push into live sports and media, competing with Amazon and others in the streaming space.  ', '', '**Reasoning for Sentiment:**  ', 'The article is neutral as it primarily reports legal and competitive developments without clear positive or negative implications for Amazon (AMZN). The focus is on Disney and YouTube, with Amazon mentioned only as a competitor in sports streaming.  ', '', '**Importance to Stock AMZN:**  ', '2 (Low importance)  ', '', '**Reasoning for Importance:**  ', 'While the article mentions Amazon as a competitor in live sports streaming, the core legal dispute involves Disney and YouTube, with no direct impact on Amazon’s operations or stock. The broader context of streaming competition is relevant but not urgent for AMZN investors.'], ['**Sentiment:**  ', 'Positive  ', '', '**Summary:**  ', \"Bill Ackman's hedge fund, Pershing Square Capital Management, has invested in Amazon, expressing confidence in the company's ability to sustain earnings growth despite economic challenges. The fund also highlighted Amazon's strong leadership and potential for profit margin expansion, while divesting from other positions to fund the Amazon investment.  \", '', '**Reasoning for Sentiment:**  ', \"The article conveys a bullish outlook on Amazon, with Ackman and his team emphasizing the company's resilience, leadership, and growth potential, which suggests a positive sentiment.  \", '', '**Importance to stock AMZN:**  ', '4  ', '', '**Reasoning for Importance:**  ', \"Ackman's endorsement and investment in Amazon, along with the fund's detailed rationale for the move, could influence investor sentiment and market perception of Amazon's stock, making this news moderately significant. However, the impact may be tempered by the fact that this is one investor's view rather than a fundamental change in Amazon's business.\"], ['**Sentiment:**  ', 'Positive  ', '', '**Summary:**  ', 'U.S. stocks were mixed at close, with the NASDAQ gaining 0.28%. Amazon.com Inc (AMZN) was among the best performers on the Dow, rising 0.99% to $203.12, while broader market movements were neutral to slightly negative.  ', '', '**Reasoning for Sentiment:**  ', 'The sentiment is positive for AMZN as it was highlighted as one of the top performers in the Dow, with a near 1% gain, while the broader market showed mixed results.  ', '', '**Importance to Stock AMZN:**  ', '3  ', '', '**Reasoning for Importance:**  ', \"The article directly mentions AMZN's stock performance, which is relevant to investors, but the broader market context is neutral and not uniquely impactful to AMZN. The news is moderately important as it confirms short-term positive momentum.\"], ['**# 1.0.0 (2021-12-01)', '', '', '### Features', '', '* **init:** 初始化项目 ([1c0c0e1](https://github.com/liuweiqiang1/liuweiqiang1.github.io/commit/1c0c0e1a1a0a0a0c0a0c0a0a0a0a0a0a0a0a0a0))', ''], ['**Sentiment:**  ', 'Neutral  ', '', '**Summary:**  ', 'The article is a standard risk disclosure and disclaimer notice from Investing.com, emphasizing the risks associated with trading financial instruments and cryptocurrencies, and clarifying that the data provided may not be real-time or accurate.  ', '', '**Reasoning for Sentiment:**  ', 'The content is purely informational and cautionary, with no direct positive or negative implications for any specific stock, including AMZN.  ', '', '**Importance to Stock AMZN:**  ', '1 (Minimal importance)  ', '', '**Reasoning for Importance:**  ', \"The article does not mention AMZN or any relevant market-moving information; it is a generic disclaimer with no direct bearing on Amazon's stock performance.\"], ['**Sentiment:**  ', 'Positive  ', '', '**Summary:**  ', \"Amazon is testing AI-powered short-form audio summaries for product details, leveraging AI to analyze product information and customer reviews. The feature is currently available to a limited U.S. audience, with plans to expand, as part of Amazon's broader push into AI integration, including updates to Alexa and other AI-driven shopping tools.  \", '', '**Reasoning for Sentiment:**  ', \"The article highlights Amazon's proactive advancements in AI, which are likely to enhance user experience and operational efficiency, reflecting a positive sentiment toward the company's innovation efforts.  \", '', '**Importance to Stock AMZN:**  ', '3  ', '', '**Reasoning for Importance:**  ', \"While the feature is innovative and aligns with broader AI trends, its immediate financial impact on Amazon's stock is moderate, as it is still in the testing phase. However, continued AI integration could strengthen Amazon's competitive edge in e-commerce and tech.\"], ['**Sentiment:**  ', 'Positive  ', '', '**Summary:**  ', 'Anthropic, backed by Amazon, unveiled its advanced AI model Claude Opus 4, capable of autonomous coding for extended periods, alongside a cost-effective variant, Claude Sonnet 4. The announcement highlights advancements in AI autonomy and productivity, with direct applications for customers like Rakuten.  ', '', '**Reasoning for Sentiment:**  ', \"The article emphasizes technological progress and practical applications (e.g., coding for hours, gaming), paired with endorsements from Anthropic executives, reflecting a positive outlook on the AI's capabilities and potential economic impact.  \", '', '**Importance to Stock AMZN:**  ', '3  ', '', '**Reasoning for Importance:**  ', 'While Amazon’s backing of Anthropic and the AI’s advancements are notable, the news is part of a broader AI competition landscape (e.g., Google’s announcements). Direct near-term stock impact may be limited unless Amazon explicitly integrates or promotes these developments.'], ['**Sentiment:**  ', 'Negative  ', '', '**Summary:**  ', \"The U.S. DOJ is investigating Google for potential antitrust violations related to its agreement with AI startup Character.AI, including concerns over the deal's structure to avoid regulatory scrutiny. The probe adds to existing regulatory pressure on Google, which is already facing multiple antitrust cases.  \", '', '**Reasoning for Sentiment:**  ', 'The article highlights a new antitrust investigation into Google, which could lead to legal and financial repercussions, reinforcing a negative sentiment. The mention of past regulatory scrutiny on similar deals by other tech firms (e.g., Microsoft, Amazon) also underscores broader industry risks.  ', '', '**Importance to Stock AMZN:**  ', '3  ', '', '**Reasoning for Importance:**  ', 'While the investigation directly targets Google, it reflects heightened regulatory scrutiny on big tech, which could indirectly impact Amazon. The article notes Amazon’s past AI deals (e.g., Adept) faced similar scrutiny, suggesting potential future risks for Amazon’s AI-related agreements. However, the immediate impact on Amazon is limited as the focus is on Google.'], ['**Sentiment:**  ', 'Negative  ', '', '**Summary:**  ', \"The article discusses potential risks to 'debt-for-nature' swaps—deals that reduce national debt in exchange for conservation commitments—due to anticipated withdrawal of U.S. support under the Trump administration. Key deals in regions like Africa and Latin America, including those involving the Amazon rainforest, may unravel or require reworking, threatening conservation efforts.  \", '', '**Reasoning for Sentiment:**  ', 'The tone is negative as it highlights uncertainty and potential disruption to critical environmental financing mechanisms, with direct criticism of U.S. policy shifts and their cascading effects on global conservation projects.  ', '', '**Importance to Stock AMZN:**  ', '2  ', '', '**Reasoning for Importance:**  ', \"While the article mentions the Amazon rainforest (which could loosely tie to Amazon.com's sustainability initiatives or reputation), the direct impact on AMZN's stock is minimal. The focus is on geopolitical and environmental policy, not corporate operations or financials.\"], ['**Sentiment:**  ', 'Neutral  ', '', '**Summary:**  ', \"U.S. stocks ended mostly flat as Treasury yields eased following the House's passage of Trump's tax and spending bill. The market remains cautious due to concerns over U.S. deficits, tariffs, and interest rates, though megacap stocks like Amazon saw slight gains.  \", '', '**Reasoning for Sentiment:**  ', 'The article presents a mixed market reaction with no clear positive or negative trend, as gains in some sectors (e.g., tech) were offset by declines in others (e.g., utilities).  ', '', '**Importance to Stock AMZN:**  ', '3  ', '', '**Reasoning for Importance:**  ', \"While the broader market impact is moderate, Amazon's inclusion in the megacap growth stocks that gained slightly suggests some relevance. However, the article does not focus specifically on Amazon, limiting its direct importance.\"], ['**Sentiment:**  ', 'Neutral  ', '', '**Summary:**  ', \"The S&P 500 ended flat amid concerns over U.S. debt levels, with tech stocks like Alphabet and Snowflake showing resilience. The article also covers the House passing a tax bill, mixed economic data, and Amazon's (AMZN) partnership with Nike to sell products on its platform.  \", '', '**Reasoning for Sentiment:**  ', 'The article presents a mix of market-moving factors—tech resilience, debt concerns, and policy developments—without a clear bullish or bearish bias, leading to a neutral sentiment.  ', '', '**Importance to Stock AMZN:**  ', '3 (Moderate Importance)  ', '', '**Reasoning for Importance:**  ', \"The mention of Amazon's renewed partnership with Nike is a positive but relatively minor detail in the broader market context. Other macro factors (debt concerns, tech performance) indirectly affect AMZN but are not company-specific.\"]]\n"
     ]
    }
   ],
   "source": [
    "print([x.split('\\n') for x in predicted])"
   ]
  },
  {
   "cell_type": "code",
   "execution_count": null,
   "id": "41fdd2b2",
   "metadata": {},
   "outputs": [
    {
     "name": "stdout",
     "output_type": "stream",
     "text": [
      "Celebrities unite at exclusive Cannes gala to support AIDS research after Trump cuts By Reuters ** Stock Analysis: AMZN\n",
      "\n",
      "**Sentiment:**\n",
      "[Neutral]\n",
      "\n",
      "**Summary:**\n",
      "The article reports on a high-profile charity event in Cannes supporting HIV/AIDS research, attended by numerous celebrities, with concerns raised about U.S. funding cuts to global AIDS programs. The event, organized by amfAR, has raised significant funds for research since 1993.\n",
      "\n",
      "**Reasoning for Sentiment:**\n",
      "The article maintains a neutral tone, primarily reporting facts about the event and celebrity attendance, while mentioning concerns about funding cuts without taking a strong positive or negative stance.\n",
      "\n",
      "**Importance to stock AMZN:**\n",
      "[1 - Minimal importance]\n",
      "\n",
      "**Reasoning for importance:**\n",
      "The article's connection to Amazon (AMZN) is extremely tangential, mentioning only that Jeff Bezos' fiancée attended the event. This has no material impact on Amazon's business operations or financial performance.\n"
     ]
    }
   ],
   "source": [
    "print(df['title'][8],predicted[8])"
   ]
  },
  {
   "cell_type": "code",
   "execution_count": null,
   "id": "d6b8ec83",
   "metadata": {},
   "outputs": [],
   "source": [
    "list= df[\"predicted\"].apply(lambda x: x.split(\"\\n\"))"
   ]
  },
  {
   "cell_type": "code",
   "execution_count": null,
   "id": "6df59e34",
   "metadata": {},
   "outputs": [],
   "source": [
    "df[\"sentiment\"] = list.apply(lambda x: x[1] if len(x) > 1 else None)\n",
    "df[\"importance\"] = list.apply(lambda x: x[10] if len(x) > 10 else None)\n",
    "df[\"summary\"] = list.apply(lambda x: x[4] if len(x) > 4 else None)"
   ]
  },
  {
   "cell_type": "code",
   "execution_count": null,
   "id": "31a61977",
   "metadata": {},
   "outputs": [
    {
     "data": {
      "application/vnd.microsoft.datawrangler.viewer.v0+json": {
       "columns": [
        {
         "name": "index",
         "rawType": "int64",
         "type": "integer"
        },
        {
         "name": "title",
         "rawType": "object",
         "type": "string"
        },
        {
         "name": "sentiment",
         "rawType": "object",
         "type": "string"
        },
        {
         "name": "importance",
         "rawType": "object",
         "type": "unknown"
        },
        {
         "name": "summary",
         "rawType": "object",
         "type": "string"
        }
       ],
       "ref": "2fe03fc9-5b71-49c6-b71a-0ec7b211cfba",
       "rows": [
        [
         "0",
         "Amazon.com is sued over alleged sale of contaminated rice By Reuters",
         "Negative  ",
         "3  ",
         "Amazon is facing a class-action lawsuit over allegations of selling rice products contaminated with heavy metals, including arsenic, cadmium, lead, and mercury. The lawsuit claims these products, sold under well-known brands like Ben’s Original and Whole Foods’ 365, pose health risks, particularly to children, without proper warnings.  "
        ],
        [
         "1",
         "Oracle to buy $40 billion of Nvidia chips for OpenAI’s US data center, FT reports By Reuters",
         "Positive  ",
         "3  ",
         "Oracle will invest $40 billion in Nvidia's high-performance chips to power OpenAI's new U.S. data center, part of the Stargate project, aimed at boosting AI capabilities. The deal also helps OpenAI reduce reliance on Microsoft while expanding Oracle's cloud computing presence.  "
        ],
        [
         "2",
         "Amazon not seeing notable impact from tariffs yet, Q2 revenue tracking higher By Investing.com",
         "Neutral  ",
         "2  ",
         "The article states that Amazon has not yet experienced significant impacts from tariffs, with Q2 revenue tracking higher. However, it includes extensive risk disclosures about trading and data accuracy, emphasizing the volatility and potential inaccuracies in financial data.  "
        ],
        [
         "3",
         "Amazon Com Inc receives Investment Bank Analyst Rating Update By Investing.com",
         "Neutral  ",
         "1  ",
         "The article is a standard disclaimer about the risks associated with trading financial instruments and cryptocurrencies, emphasizing the potential for significant losses and the volatile nature of such markets. It also clarifies that the data provided may not be real-time or accurate.  "
        ],
        [
         "4",
         "Wall St falls as Trump tariff threats spark market uncertainty By Reuters",
         "",
         null,
         ""
        ],
        [
         "5",
         "Workday Inc receives Investment Bank Analyst Rating Update By Investing.com",
         "Neutral  ",
         "1 (Minimal Importance)  ",
         "The article is a standard risk disclosure and disclaimer notice from Investing.com, highlighting the risks associated with trading financial instruments and cryptocurrencies. It does not contain any specific information about Workday Inc or its analyst rating update, nor does it mention Amazon (AMZN).  "
        ],
        [
         "6",
         "Nike receives Investment Bank Analyst Rating Update By Investing.com",
         "Neutral  ",
         "1 (Minimal Importance)  ",
         "The article is a standard risk disclosure and disclaimer notice from Investing.com, unrelated to Amazon (AMZN) or any specific stock update, and provides no substantive content about market movements or company performance.  "
        ],
        [
         "7",
         "This CEO ’is making all the right moves to unlock meaningful upside’ By Investing.com",
         "Positive  ",
         "2  ",
         "The article highlights that Amazon's CEO is taking strategic actions that could significantly enhance the company's growth potential, as noted by Investing.com.  "
        ],
        [
         "8",
         "Celebrities unite at exclusive Cannes gala to support AIDS research after Trump cuts By Reuters",
         "",
         "",
         ""
        ],
        [
         "9",
         "Disney seeks to stop YouTube from hiring veteran to oversee sports and media By Reuters",
         "Neutral  ",
         "2 (Low importance)  ",
         "Disney is suing YouTube (Alphabet) to block the hiring of veteran executive Justin Connolly, alleging breach of contract and interference, as Connolly had a binding agreement with Disney until 2027. YouTube’s hiring of Connolly is part of its push into live sports and media, competing with Amazon and others in the streaming space.  "
        ],
        [
         "10",
         "Ackman’s hedge fund Pershing Square bets on Amazon, exits Canadian Pacific By Reuters",
         "Positive  ",
         "4  ",
         "Bill Ackman's hedge fund, Pershing Square Capital Management, has invested in Amazon, expressing confidence in the company's ability to sustain earnings growth despite economic challenges. The fund also highlighted Amazon's strong leadership and potential for profit margin expansion, while divesting from other positions to fund the Amazon investment.  "
        ],
        [
         "11",
         "U.S. stocks mixed at close of trade; Dow Jones Industrial Average down 0.00% By Investing.com",
         "Positive  ",
         "3  ",
         "U.S. stocks were mixed at close, with the NASDAQ gaining 0.28%. Amazon.com Inc (AMZN) was among the best performers on the Dow, rising 0.99% to $203.12, while broader market movements were neutral to slightly negative.  "
        ],
        [
         "12",
         "Amazon stock rises following Pershing Square’s stake reveal By Investing.com",
         "",
         null,
         ""
        ],
        [
         "13",
         "Pershing Square Call Live Link By Investing.com",
         "Neutral  ",
         "1 (Minimal importance)  ",
         "The article is a standard risk disclosure and disclaimer notice from Investing.com, emphasizing the risks associated with trading financial instruments and cryptocurrencies, and clarifying that the data provided may not be real-time or accurate.  "
        ],
        [
         "14",
         "Amazon tests AI audio summaries for products, expanding tech giant’s AI push (May 21) By Reuters",
         "Positive  ",
         "3  ",
         "Amazon is testing AI-powered short-form audio summaries for product details, leveraging AI to analyze product information and customer reviews. The feature is currently available to a limited U.S. audience, with plans to expand, as part of Amazon's broader push into AI integration, including updates to Alexa and other AI-driven shopping tools.  "
        ],
        [
         "15",
         "Startup Anthropic says its new AI model can code for hours at a time By Reuters",
         "Positive  ",
         "3  ",
         "Anthropic, backed by Amazon, unveiled its advanced AI model Claude Opus 4, capable of autonomous coding for extended periods, alongside a cost-effective variant, Claude Sonnet 4. The announcement highlights advancements in AI autonomy and productivity, with direct applications for customers like Rakuten.  "
        ],
        [
         "16",
         "Google faces DOJ probe over Character.AI deal, Bloomberg Law reports By Reuters",
         "Negative  ",
         "3  ",
         "The U.S. DOJ is investigating Google for potential antitrust violations related to its agreement with AI startup Character.AI, including concerns over the deal's structure to avoid regulatory scrutiny. The probe adds to existing regulatory pressure on Google, which is already facing multiple antitrust cases.  "
        ],
        [
         "17",
         "US climate pullback threatens planned debt-for-nature deals By Reuters",
         "Negative  ",
         "2  ",
         "The article discusses potential risks to 'debt-for-nature' swaps—deals that reduce national debt in exchange for conservation commitments—due to anticipated withdrawal of U.S. support under the Trump administration. Key deals in regions like Africa and Latin America, including those involving the Amazon rainforest, may unravel or require reworking, threatening conservation efforts.  "
        ],
        [
         "18",
         "Wall Street stocks end mostly flat in choppy trade as Treasury yields ease By Reuters",
         "Neutral  ",
         "3  ",
         "U.S. stocks ended mostly flat as Treasury yields eased following the House's passage of Trump's tax and spending bill. The market remains cautious due to concerns over U.S. deficits, tariffs, and interest rates, though megacap stocks like Amazon saw slight gains.  "
        ],
        [
         "19",
         "Stock market today: S&P 500 ends flat as US debt concerns weigh on sentiment By Investing.com",
         "Neutral  ",
         "3 (Moderate Importance)  ",
         "The S&P 500 ended flat amid concerns over U.S. debt levels, with tech stocks like Alphabet and Snowflake showing resilience. The article also covers the House passing a tax bill, mixed economic data, and Amazon's (AMZN) partnership with Nike to sell products on its platform.  "
        ]
       ],
       "shape": {
        "columns": 4,
        "rows": 20
       }
      },
      "text/html": [
       "<div>\n",
       "<style scoped>\n",
       "    .dataframe tbody tr th:only-of-type {\n",
       "        vertical-align: middle;\n",
       "    }\n",
       "\n",
       "    .dataframe tbody tr th {\n",
       "        vertical-align: top;\n",
       "    }\n",
       "\n",
       "    .dataframe thead th {\n",
       "        text-align: right;\n",
       "    }\n",
       "</style>\n",
       "<table border=\"1\" class=\"dataframe\">\n",
       "  <thead>\n",
       "    <tr style=\"text-align: right;\">\n",
       "      <th></th>\n",
       "      <th>title</th>\n",
       "      <th>sentiment</th>\n",
       "      <th>importance</th>\n",
       "      <th>summary</th>\n",
       "    </tr>\n",
       "  </thead>\n",
       "  <tbody>\n",
       "    <tr>\n",
       "      <th>0</th>\n",
       "      <td>Amazon.com is sued over alleged sale of contam...</td>\n",
       "      <td>Negative</td>\n",
       "      <td>3</td>\n",
       "      <td>Amazon is facing a class-action lawsuit over a...</td>\n",
       "    </tr>\n",
       "    <tr>\n",
       "      <th>1</th>\n",
       "      <td>Oracle to buy $40 billion of Nvidia chips for ...</td>\n",
       "      <td>Positive</td>\n",
       "      <td>3</td>\n",
       "      <td>Oracle will invest $40 billion in Nvidia's hig...</td>\n",
       "    </tr>\n",
       "    <tr>\n",
       "      <th>2</th>\n",
       "      <td>Amazon not seeing notable impact from tariffs ...</td>\n",
       "      <td>Neutral</td>\n",
       "      <td>2</td>\n",
       "      <td>The article states that Amazon has not yet exp...</td>\n",
       "    </tr>\n",
       "    <tr>\n",
       "      <th>3</th>\n",
       "      <td>Amazon Com Inc receives Investment Bank Analys...</td>\n",
       "      <td>Neutral</td>\n",
       "      <td>1</td>\n",
       "      <td>The article is a standard disclaimer about the...</td>\n",
       "    </tr>\n",
       "    <tr>\n",
       "      <th>4</th>\n",
       "      <td>Wall St falls as Trump tariff threats spark ma...</td>\n",
       "      <td></td>\n",
       "      <td>None</td>\n",
       "      <td></td>\n",
       "    </tr>\n",
       "    <tr>\n",
       "      <th>5</th>\n",
       "      <td>Workday Inc receives Investment Bank Analyst R...</td>\n",
       "      <td>Neutral</td>\n",
       "      <td>1 (Minimal Importance)</td>\n",
       "      <td>The article is a standard risk disclosure and ...</td>\n",
       "    </tr>\n",
       "    <tr>\n",
       "      <th>6</th>\n",
       "      <td>Nike receives Investment Bank Analyst Rating U...</td>\n",
       "      <td>Neutral</td>\n",
       "      <td>1 (Minimal Importance)</td>\n",
       "      <td>The article is a standard risk disclosure and ...</td>\n",
       "    </tr>\n",
       "    <tr>\n",
       "      <th>7</th>\n",
       "      <td>This CEO ’is making all the right moves to unl...</td>\n",
       "      <td>Positive</td>\n",
       "      <td>2</td>\n",
       "      <td>The article highlights that Amazon's CEO is ta...</td>\n",
       "    </tr>\n",
       "    <tr>\n",
       "      <th>8</th>\n",
       "      <td>Celebrities unite at exclusive Cannes gala to ...</td>\n",
       "      <td></td>\n",
       "      <td></td>\n",
       "      <td></td>\n",
       "    </tr>\n",
       "    <tr>\n",
       "      <th>9</th>\n",
       "      <td>Disney seeks to stop YouTube from hiring veter...</td>\n",
       "      <td>Neutral</td>\n",
       "      <td>2 (Low importance)</td>\n",
       "      <td>Disney is suing YouTube (Alphabet) to block th...</td>\n",
       "    </tr>\n",
       "    <tr>\n",
       "      <th>10</th>\n",
       "      <td>Ackman’s hedge fund Pershing Square bets on Am...</td>\n",
       "      <td>Positive</td>\n",
       "      <td>4</td>\n",
       "      <td>Bill Ackman's hedge fund, Pershing Square Capi...</td>\n",
       "    </tr>\n",
       "    <tr>\n",
       "      <th>11</th>\n",
       "      <td>U.S. stocks mixed at close of trade; Dow Jones...</td>\n",
       "      <td>Positive</td>\n",
       "      <td>3</td>\n",
       "      <td>U.S. stocks were mixed at close, with the NASD...</td>\n",
       "    </tr>\n",
       "    <tr>\n",
       "      <th>12</th>\n",
       "      <td>Amazon stock rises following Pershing Square’s...</td>\n",
       "      <td></td>\n",
       "      <td>None</td>\n",
       "      <td></td>\n",
       "    </tr>\n",
       "    <tr>\n",
       "      <th>13</th>\n",
       "      <td>Pershing Square Call Live Link By Investing.com</td>\n",
       "      <td>Neutral</td>\n",
       "      <td>1 (Minimal importance)</td>\n",
       "      <td>The article is a standard risk disclosure and ...</td>\n",
       "    </tr>\n",
       "    <tr>\n",
       "      <th>14</th>\n",
       "      <td>Amazon tests AI audio summaries for products, ...</td>\n",
       "      <td>Positive</td>\n",
       "      <td>3</td>\n",
       "      <td>Amazon is testing AI-powered short-form audio ...</td>\n",
       "    </tr>\n",
       "    <tr>\n",
       "      <th>15</th>\n",
       "      <td>Startup Anthropic says its new AI model can co...</td>\n",
       "      <td>Positive</td>\n",
       "      <td>3</td>\n",
       "      <td>Anthropic, backed by Amazon, unveiled its adva...</td>\n",
       "    </tr>\n",
       "    <tr>\n",
       "      <th>16</th>\n",
       "      <td>Google faces DOJ probe over Character.AI deal,...</td>\n",
       "      <td>Negative</td>\n",
       "      <td>3</td>\n",
       "      <td>The U.S. DOJ is investigating Google for poten...</td>\n",
       "    </tr>\n",
       "    <tr>\n",
       "      <th>17</th>\n",
       "      <td>US climate pullback threatens planned debt-for...</td>\n",
       "      <td>Negative</td>\n",
       "      <td>2</td>\n",
       "      <td>The article discusses potential risks to 'debt...</td>\n",
       "    </tr>\n",
       "    <tr>\n",
       "      <th>18</th>\n",
       "      <td>Wall Street stocks end mostly flat in choppy t...</td>\n",
       "      <td>Neutral</td>\n",
       "      <td>3</td>\n",
       "      <td>U.S. stocks ended mostly flat as Treasury yiel...</td>\n",
       "    </tr>\n",
       "    <tr>\n",
       "      <th>19</th>\n",
       "      <td>Stock market today: S&amp;P 500 ends flat as US de...</td>\n",
       "      <td>Neutral</td>\n",
       "      <td>3 (Moderate Importance)</td>\n",
       "      <td>The S&amp;P 500 ended flat amid concerns over U.S....</td>\n",
       "    </tr>\n",
       "  </tbody>\n",
       "</table>\n",
       "</div>"
      ],
      "text/plain": [
       "                                                title   sentiment  \\\n",
       "0   Amazon.com is sued over alleged sale of contam...  Negative     \n",
       "1   Oracle to buy $40 billion of Nvidia chips for ...  Positive     \n",
       "2   Amazon not seeing notable impact from tariffs ...   Neutral     \n",
       "3   Amazon Com Inc receives Investment Bank Analys...   Neutral     \n",
       "4   Wall St falls as Trump tariff threats spark ma...               \n",
       "5   Workday Inc receives Investment Bank Analyst R...   Neutral     \n",
       "6   Nike receives Investment Bank Analyst Rating U...   Neutral     \n",
       "7   This CEO ’is making all the right moves to unl...  Positive     \n",
       "8   Celebrities unite at exclusive Cannes gala to ...               \n",
       "9   Disney seeks to stop YouTube from hiring veter...   Neutral     \n",
       "10  Ackman’s hedge fund Pershing Square bets on Am...  Positive     \n",
       "11  U.S. stocks mixed at close of trade; Dow Jones...  Positive     \n",
       "12  Amazon stock rises following Pershing Square’s...               \n",
       "13    Pershing Square Call Live Link By Investing.com   Neutral     \n",
       "14  Amazon tests AI audio summaries for products, ...  Positive     \n",
       "15  Startup Anthropic says its new AI model can co...  Positive     \n",
       "16  Google faces DOJ probe over Character.AI deal,...  Negative     \n",
       "17  US climate pullback threatens planned debt-for...  Negative     \n",
       "18  Wall Street stocks end mostly flat in choppy t...   Neutral     \n",
       "19  Stock market today: S&P 500 ends flat as US de...   Neutral     \n",
       "\n",
       "                   importance  \\\n",
       "0                         3     \n",
       "1                         3     \n",
       "2                         2     \n",
       "3                         1     \n",
       "4                        None   \n",
       "5    1 (Minimal Importance)     \n",
       "6    1 (Minimal Importance)     \n",
       "7                         2     \n",
       "8                               \n",
       "9        2 (Low importance)     \n",
       "10                        4     \n",
       "11                        3     \n",
       "12                       None   \n",
       "13   1 (Minimal importance)     \n",
       "14                        3     \n",
       "15                        3     \n",
       "16                        3     \n",
       "17                        2     \n",
       "18                        3     \n",
       "19  3 (Moderate Importance)     \n",
       "\n",
       "                                              summary  \n",
       "0   Amazon is facing a class-action lawsuit over a...  \n",
       "1   Oracle will invest $40 billion in Nvidia's hig...  \n",
       "2   The article states that Amazon has not yet exp...  \n",
       "3   The article is a standard disclaimer about the...  \n",
       "4                                                      \n",
       "5   The article is a standard risk disclosure and ...  \n",
       "6   The article is a standard risk disclosure and ...  \n",
       "7   The article highlights that Amazon's CEO is ta...  \n",
       "8                                                      \n",
       "9   Disney is suing YouTube (Alphabet) to block th...  \n",
       "10  Bill Ackman's hedge fund, Pershing Square Capi...  \n",
       "11  U.S. stocks were mixed at close, with the NASD...  \n",
       "12                                                     \n",
       "13  The article is a standard risk disclosure and ...  \n",
       "14  Amazon is testing AI-powered short-form audio ...  \n",
       "15  Anthropic, backed by Amazon, unveiled its adva...  \n",
       "16  The U.S. DOJ is investigating Google for poten...  \n",
       "17  The article discusses potential risks to 'debt...  \n",
       "18  U.S. stocks ended mostly flat as Treasury yiel...  \n",
       "19  The S&P 500 ended flat amid concerns over U.S....  "
      ]
     },
     "execution_count": 39,
     "metadata": {},
     "output_type": "execute_result"
    }
   ],
   "source": [
    "df[[\"title\", \"sentiment\", \"importance\", \"summary\"]]"
   ]
  }
 ],
 "metadata": {
  "kernelspec": {
   "display_name": "base",
   "language": "python",
   "name": "python3"
  },
  "language_info": {
   "codemirror_mode": {
    "name": "ipython",
    "version": 3
   },
   "file_extension": ".py",
   "mimetype": "text/x-python",
   "name": "python",
   "nbconvert_exporter": "python",
   "pygments_lexer": "ipython3",
   "version": "3.11.10"
  }
 },
 "nbformat": 4,
 "nbformat_minor": 5
}
